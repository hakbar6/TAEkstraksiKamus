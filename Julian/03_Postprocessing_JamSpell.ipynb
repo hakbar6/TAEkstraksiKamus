{
  "nbformat": 4,
  "nbformat_minor": 0,
  "metadata": {
    "colab": {
      "provenance": []
    },
    "kernelspec": {
      "name": "python3",
      "display_name": "Python 3"
    },
    "language_info": {
      "name": "python"
    }
  },
  "cells": [
    {
      "cell_type": "code",
      "execution_count": null,
      "metadata": {
        "colab": {
          "base_uri": "https://localhost:8080/"
        },
        "id": "6GxMXqTaXBoj",
        "outputId": "8bb3b064-67ce-439b-d8f7-232282021144"
      },
      "outputs": [
        {
          "output_type": "stream",
          "name": "stdout",
          "text": [
            "Reading package lists... Done\n",
            "Building dependency tree       \n",
            "Reading state information... Done\n",
            "Suggested packages:\n",
            "  swig3.0-examples swig3.0-doc\n",
            "The following NEW packages will be installed:\n",
            "  swig3.0\n",
            "0 upgraded, 1 newly installed, 0 to remove and 34 not upgraded.\n",
            "Need to get 1,109 kB of archives.\n",
            "After this operation, 5,555 kB of additional disk space will be used.\n",
            "Get:1 http://archive.ubuntu.com/ubuntu focal/universe amd64 swig3.0 amd64 3.0.12-2.2ubuntu1 [1,109 kB]\n",
            "Fetched 1,109 kB in 0s (8,295 kB/s)\n",
            "debconf: unable to initialize frontend: Dialog\n",
            "debconf: (No usable dialog-like program is installed, so the dialog based frontend cannot be used. at /usr/share/perl5/Debconf/FrontEnd/Dialog.pm line 76, <> line 1.)\n",
            "debconf: falling back to frontend: Readline\n",
            "debconf: unable to initialize frontend: Readline\n",
            "debconf: (This frontend requires a controlling tty.)\n",
            "debconf: falling back to frontend: Teletype\n",
            "dpkg-preconfigure: unable to re-open stdin: \n",
            "Selecting previously unselected package swig3.0.\n",
            "(Reading database ... 122542 files and directories currently installed.)\n",
            "Preparing to unpack .../swig3.0_3.0.12-2.2ubuntu1_amd64.deb ...\n",
            "Unpacking swig3.0 (3.0.12-2.2ubuntu1) ...\n",
            "Setting up swig3.0 (3.0.12-2.2ubuntu1) ...\n",
            "Processing triggers for man-db (2.9.1-1) ...\n"
          ]
        }
      ],
      "source": [
        "!sudo apt-get install swig3.0"
      ]
    },
    {
      "cell_type": "code",
      "source": [
        "!sudo pip install jamspell"
      ],
      "metadata": {
        "colab": {
          "base_uri": "https://localhost:8080/"
        },
        "id": "oFbtC65VXEf0",
        "outputId": "3230ab0c-8ce3-4620-8fcc-e187a3310f41"
      },
      "execution_count": null,
      "outputs": [
        {
          "output_type": "stream",
          "name": "stdout",
          "text": [
            "Looking in indexes: https://pypi.org/simple, https://us-python.pkg.dev/colab-wheels/public/simple/\n",
            "Collecting jamspell\n",
            "  Downloading jamspell-0.0.12.tar.gz (174 kB)\n",
            "\u001b[2K     \u001b[90m━━━━━━━━━━━━━━━━━━━━━━━━━━━━━━━━━━━━━━━\u001b[0m \u001b[32m174.3/174.3 kB\u001b[0m \u001b[31m7.5 MB/s\u001b[0m eta \u001b[36m0:00:00\u001b[0m\n",
            "\u001b[?25h  Preparing metadata (setup.py) ... \u001b[?25l\u001b[?25hdone\n",
            "Building wheels for collected packages: jamspell\n",
            "  Building wheel for jamspell (setup.py) ... \u001b[?25l\u001b[?25hdone\n",
            "  Created wheel for jamspell: filename=jamspell-0.0.12-cp310-cp310-linux_x86_64.whl size=1903642 sha256=e77dd86b092ad073ae9617b52baa4cfe91b87d2f5d43388d74e1a0eced2cd490\n",
            "  Stored in directory: /root/.cache/pip/wheels/95/af/d3/fb57122fda2851ad5972ce80640001c568dcffdf16bc9ddb17\n",
            "Successfully built jamspell\n",
            "Installing collected packages: jamspell\n",
            "Successfully installed jamspell-0.0.12\n"
          ]
        }
      ]
    },
    {
      "cell_type": "code",
      "source": [
        "from google.colab import drive\n",
        "\n",
        "drive.mount('/content/gdrive/', force_remount=True)"
      ],
      "metadata": {
        "colab": {
          "base_uri": "https://localhost:8080/"
        },
        "id": "he1zpUa9NnjZ",
        "outputId": "343e80d8-c67e-49c7-a814-e239b5a544e6"
      },
      "execution_count": null,
      "outputs": [
        {
          "output_type": "stream",
          "name": "stdout",
          "text": [
            "Mounted at /content/gdrive/\n"
          ]
        }
      ]
    },
    {
      "cell_type": "code",
      "source": [
        "%cd gdrive/MyDrive/TA\\ Bareng\\ Bareng/Laporan\\ Mingguan\\ TA\\ Harakan\\ Julian\\ Fausta/Minggu\\ 15\\ (Final)/Ekstraksi/"
      ],
      "metadata": {
        "colab": {
          "base_uri": "https://localhost:8080/"
        },
        "id": "S0eQgr9LOEIT",
        "outputId": "efa16430-eae7-4857-f261-7925bafacae5"
      },
      "execution_count": null,
      "outputs": [
        {
          "output_type": "stream",
          "name": "stdout",
          "text": [
            "/content/gdrive/.shortcut-targets-by-id/1mVs_asXEy-dFb5kdY3WcjA5GRJ2ZyRQ_/TA Bareng Bareng/Laporan Mingguan TA Harakan Julian Fausta/Minggu 15 (Final)/Ekstraksi\n"
          ]
        }
      ]
    },
    {
      "cell_type": "code",
      "source": [
        "!ls"
      ],
      "metadata": {
        "id": "q6L_3FbU8SBi",
        "colab": {
          "base_uri": "https://localhost:8080/"
        },
        "outputId": "51b180a3-5559-4fda-8710-18b653f9b173"
      },
      "execution_count": null,
      "outputs": [
        {
          "output_type": "stream",
          "name": "stdout",
          "text": [
            "'0. Korpus Entri'\n",
            "'10. Morphology'\n",
            "'11. Parallel Corpus'\n",
            "'12. Parallel Corpus - Spelling Checker'\n",
            "'1. Preprocessing - Header & Footer'\n",
            "'2. Preprocessing - Generalisasi Polisemi'\n",
            "'3. Preprocessing - Replace Kata Singkatan'\n",
            "'4. Preprocessing - Remove Anomali Entri'\n",
            "'5. Kategorisasi Main Entry'\n",
            "'6. Pemecahan Definisi Lema'\n",
            "'7. Ekstraksi Informasi Sumber Daya NLP'\n",
            "'8. Cleaning Informasi Sumber Daya NLP'\n",
            "'9. Bilingual Lexicon'\n",
            "'X. Data Pendukung'\n",
            "'Y. Hasil Ekstraksi'\n"
          ]
        }
      ]
    },
    {
      "cell_type": "code",
      "source": [
        "import pandas as pd\n",
        "\n",
        "lookup_df = pd.read_csv('12. Parallel Corpus - Spelling Checker/LookupIsFromIndonesia.csv')\n",
        "print(lookup_df.shape)"
      ],
      "metadata": {
        "colab": {
          "base_uri": "https://localhost:8080/"
        },
        "id": "3djwor2sz1Vk",
        "outputId": "f96c4a09-6fd0-40e6-cb93-8a408ba1ac75"
      },
      "execution_count": null,
      "outputs": [
        {
          "output_type": "stream",
          "name": "stdout",
          "text": [
            "(43, 2)\n"
          ]
        }
      ]
    },
    {
      "cell_type": "code",
      "source": [
        "type(lookup_df['is_from_indonesia'][0])"
      ],
      "metadata": {
        "colab": {
          "base_uri": "https://localhost:8080/"
        },
        "id": "P4Cx7vLx0-Gx",
        "outputId": "3095b6c5-40a3-4c1e-e6ce-6b2b06e472a3"
      },
      "execution_count": null,
      "outputs": [
        {
          "output_type": "execute_result",
          "data": {
            "text/plain": [
              "numpy.int64"
            ]
          },
          "metadata": {},
          "execution_count": 7
        }
      ]
    },
    {
      "cell_type": "code",
      "source": [
        "import jamspell\n",
        "\n",
        "jsp = jamspell.TSpellCorrector()\n",
        "assert jsp.LoadLangModel('12. Parallel Corpus - Spelling Checker/model_subtitles.bin')"
      ],
      "metadata": {
        "id": "EihZgk8LXe7u"
      },
      "execution_count": null,
      "outputs": []
    },
    {
      "cell_type": "code",
      "source": [
        "def get_is_from_indonesia(input_path):\n",
        "    for index, row in lookup_df.iterrows():\n",
        "        if row['kamus'] in input_path:\n",
        "            return True, row['is_from_indonesia']\n",
        "    return False, -1"
      ],
      "metadata": {
        "id": "NuqZ0RI11NV-"
      },
      "execution_count": null,
      "outputs": []
    },
    {
      "cell_type": "code",
      "source": [
        "def sentence_to_list(sentence):\n",
        "    word_list = []\n",
        "    word = ''\n",
        "    for c in sentence.lower():\n",
        "        if c.isalpha():\n",
        "            word += c\n",
        "        else:\n",
        "            word_list.append(word)\n",
        "            word = ''\n",
        "    if word:\n",
        "        word_list.append(word)\n",
        "    return word_list"
      ],
      "metadata": {
        "id": "3U1bjVqeF5cX"
      },
      "execution_count": null,
      "outputs": []
    },
    {
      "cell_type": "code",
      "source": [
        "import pandas as pd\n",
        "\n",
        "changes_list = []\n",
        "# kamus_list = ['18', '54', '68', '71', '89']\n",
        "\n",
        "def postprocess(input_path, output_path):\n",
        "    # found = False\n",
        "    # for kamus in kamus_list:\n",
        "    #     if kamus in input_path:\n",
        "    #         found = True\n",
        "    # if not found:\n",
        "    #     return\n",
        "    print(input_path)\n",
        "    print(output_path)\n",
        "    df = pd.read_csv(input_path)\n",
        "    kalimat_asal_result_list = []\n",
        "    kalimat_tujuan_result_list = []\n",
        "    words_modified = 0\n",
        "    words_total = 0\n",
        "    sentences_modified = 0\n",
        "    sentences_total = 0\n",
        "    success, is_from_indonesia = get_is_from_indonesia(input_path)\n",
        "\n",
        "    if not success:\n",
        "        return\n",
        "\n",
        "    for index, row in df.iterrows():\n",
        "        kalimat_asal = str(row['kalimat_asal']).lower()\n",
        "        kalimat_tujuan = str(row['kalimat_tujuan']).lower()\n",
        "        list_kata_asal = sentence_to_list(kalimat_asal)\n",
        "        list_kata_tujuan = sentence_to_list(kalimat_tujuan)\n",
        "\n",
        "        kalimat_asal_result = kalimat_asal\n",
        "        kalimat_tujuan_result = kalimat_tujuan\n",
        "        list_kata_asal_result = list_kata_asal\n",
        "        list_kata_tujuan_result = list_kata_tujuan\n",
        "\n",
        "        if is_from_indonesia:\n",
        "            kalimat_asal_result = jsp.FixFragment(kalimat_asal)\n",
        "            list_kata_asal_result = sentence_to_list(kalimat_asal_result)\n",
        "            sentences_total += 1\n",
        "            if kalimat_asal != kalimat_asal_result:\n",
        "                sentences_modified += 1\n",
        "            words_total += len(list_kata_asal)\n",
        "            for i in range(len(list_kata_asal)):\n",
        "                if list_kata_asal[i] != list_kata_asal_result[i]:\n",
        "                    words_modified += 1\n",
        "                    changes_list.append((list_kata_asal[i], list_kata_asal_result[i]))\n",
        "        else:\n",
        "            kalimat_tujuan_result = jsp.FixFragment(kalimat_tujuan)\n",
        "            list_kata_tujuan_result = sentence_to_list(kalimat_tujuan_result)\n",
        "            sentences_total += 1\n",
        "            if kalimat_tujuan != kalimat_tujuan_result:\n",
        "                sentences_modified += 1\n",
        "            words_total += len(list_kata_tujuan)\n",
        "            for i in range(len(list_kata_tujuan)):\n",
        "                if list_kata_tujuan[i] != list_kata_tujuan_result[i]:\n",
        "                    words_modified += 1\n",
        "                    changes_list.append((list_kata_tujuan[i], list_kata_tujuan_result[i]))\n",
        "\n",
        "        kalimat_asal_result_list.append(kalimat_asal_result)\n",
        "        kalimat_tujuan_result_list.append(kalimat_tujuan)\n",
        "\n",
        "    result_df = pd.DataFrame(\n",
        "        list(zip(kalimat_asal_result_list, kalimat_tujuan_result_list)),\n",
        "        columns=['kalimat_asal', 'kalimat_tujuan'])\n",
        "\n",
        "    print('percentage words modified', 100.0 * words_modified / words_total)\n",
        "    print('percentage sentences modified', 100.0 * sentences_modified / sentences_total)\n",
        "    print(result_df.shape)\n",
        "    result_df.to_csv(output_path, index=False)"
      ],
      "metadata": {
        "id": "DS6WncU21u4n"
      },
      "execution_count": null,
      "outputs": []
    },
    {
      "cell_type": "code",
      "source": [
        "import os\n",
        "\n",
        "dir_path = '11. Parallel Corpus'\n",
        "\n",
        "for file in os.listdir(dir_path):\n",
        "    if file[-4:] == '.csv':\n",
        "        print(file)\n",
        "        input_path = dir_path + '/' + file\n",
        "        output_path = '12. Parallel Corpus - Spelling Checker/' + file\n",
        "        postprocess(input_path, output_path)"
      ],
      "metadata": {
        "id": "MvRm7Wyr1bMK",
        "colab": {
          "base_uri": "https://localhost:8080/"
        },
        "outputId": "be609292-e0f6-4ca1-dcac-06cde6046bbb"
      },
      "execution_count": null,
      "outputs": [
        {
          "output_type": "stream",
          "name": "stdout",
          "text": [
            "12_Parcor.csv\n",
            "11. Parallel Corpus/12_Parcor.csv\n",
            "12. Parallel Corpus - Spelling Checker/12_Parcor.csv\n",
            "percentage words modified 17.00272008980614\n",
            "percentage sentences modified 55.19250780437045\n",
            "(4805, 2)\n",
            "10_Parcor.csv\n",
            "11. Parallel Corpus/10_Parcor.csv\n",
            "12. Parallel Corpus - Spelling Checker/10_Parcor.csv\n",
            "percentage words modified 14.97458621139059\n",
            "percentage sentences modified 65.26822558459422\n",
            "(2908, 2)\n",
            "18_Parcor.csv\n",
            "11. Parallel Corpus/18_Parcor.csv\n",
            "12. Parallel Corpus - Spelling Checker/18_Parcor.csv\n",
            "percentage words modified 11.237420797614611\n",
            "percentage sentences modified 32.56212510711225\n",
            "(2334, 2)\n",
            "21_Parcor.csv\n",
            "11. Parallel Corpus/21_Parcor.csv\n",
            "12. Parallel Corpus - Spelling Checker/21_Parcor.csv\n",
            "percentage words modified 12.115033801910077\n",
            "percentage sentences modified 42.42424242424242\n",
            "(2013, 2)\n",
            "20_Parcor.csv\n",
            "11. Parallel Corpus/20_Parcor.csv\n",
            "12. Parallel Corpus - Spelling Checker/20_Parcor.csv\n",
            "percentage words modified 3.5552536231884058\n",
            "percentage sentences modified 17.938264414676762\n",
            "(1717, 2)\n",
            "23_Parcor.csv\n",
            "11. Parallel Corpus/23_Parcor.csv\n",
            "12. Parallel Corpus - Spelling Checker/23_Parcor.csv\n",
            "percentage words modified 6.500324044069994\n",
            "percentage sentences modified 29.419139155871292\n",
            "(2393, 2)\n",
            "19_Parcor.csv\n",
            "11. Parallel Corpus/19_Parcor.csv\n",
            "12. Parallel Corpus - Spelling Checker/19_Parcor.csv\n",
            "percentage words modified 8.186010760953113\n",
            "percentage sentences modified 30.86062941554271\n",
            "(6228, 2)\n",
            "26_Parcor.csv\n",
            "11. Parallel Corpus/26_Parcor.csv\n",
            "12. Parallel Corpus - Spelling Checker/26_Parcor.csv\n",
            "percentage words modified 25.3538212697129\n",
            "percentage sentences modified 50.832072617246595\n",
            "(661, 2)\n",
            "24_Parcor.csv\n",
            "11. Parallel Corpus/24_Parcor.csv\n",
            "12. Parallel Corpus - Spelling Checker/24_Parcor.csv\n",
            "percentage words modified 10.854779411764707\n",
            "percentage sentences modified 40.5875641756988\n",
            "(3506, 2)\n",
            "27_Parcor.csv\n",
            "11. Parallel Corpus/27_Parcor.csv\n",
            "12. Parallel Corpus - Spelling Checker/27_Parcor.csv\n",
            "percentage words modified 5.719264892268694\n",
            "percentage sentences modified 22.917863296955773\n",
            "(1741, 2)\n",
            "28_Parcor.csv\n",
            "11. Parallel Corpus/28_Parcor.csv\n",
            "12. Parallel Corpus - Spelling Checker/28_Parcor.csv\n",
            "percentage words modified 6.789247486214726\n",
            "percentage sentences modified 60.96654275092937\n",
            "(538, 2)\n",
            "33_Parcor.csv\n",
            "11. Parallel Corpus/33_Parcor.csv\n",
            "12. Parallel Corpus - Spelling Checker/33_Parcor.csv\n",
            "percentage words modified 12.493814943097476\n",
            "percentage sentences modified 55.42490646712988\n",
            "(1871, 2)\n",
            "29_Parcor.csv\n",
            "11. Parallel Corpus/29_Parcor.csv\n",
            "12. Parallel Corpus - Spelling Checker/29_Parcor.csv\n",
            "percentage words modified 8.216441761363637\n",
            "percentage sentences modified 43.056436271401395\n",
            "(1577, 2)\n",
            "2_Parcor.csv\n",
            "11. Parallel Corpus/2_Parcor.csv\n",
            "12. Parallel Corpus - Spelling Checker/2_Parcor.csv\n",
            "percentage words modified 6.649794600938967\n",
            "percentage sentences modified 46.3963963963964\n",
            "(1998, 2)\n",
            "32_Parcor.csv\n",
            "11. Parallel Corpus/32_Parcor.csv\n",
            "12. Parallel Corpus - Spelling Checker/32_Parcor.csv\n",
            "percentage words modified 7.123902837313738\n",
            "percentage sentences modified 38.031496062992126\n",
            "(1270, 2)\n",
            "36_Parcor.csv\n",
            "11. Parallel Corpus/36_Parcor.csv\n",
            "12. Parallel Corpus - Spelling Checker/36_Parcor.csv\n",
            "percentage words modified 11.91487000194234\n",
            "percentage sentences modified 46.43987341772152\n",
            "(1264, 2)\n",
            "38_Parcor.csv\n",
            "11. Parallel Corpus/38_Parcor.csv\n",
            "12. Parallel Corpus - Spelling Checker/38_Parcor.csv\n",
            "percentage words modified 15.664682778728224\n",
            "percentage sentences modified 57.926494788809656\n",
            "(1823, 2)\n",
            "31_Parcor.csv\n",
            "11. Parallel Corpus/31_Parcor.csv\n",
            "12. Parallel Corpus - Spelling Checker/31_Parcor.csv\n",
            "percentage words modified 9.177068885806749\n",
            "percentage sentences modified 34.5679012345679\n",
            "(567, 2)\n",
            "41_Parcor.csv\n",
            "11. Parallel Corpus/41_Parcor.csv\n",
            "12. Parallel Corpus - Spelling Checker/41_Parcor.csv\n",
            "percentage words modified 9.412140065406398\n",
            "percentage sentences modified 33.39676498572788\n",
            "(4204, 2)\n",
            "34_Parcor.csv\n",
            "11. Parallel Corpus/34_Parcor.csv\n",
            "12. Parallel Corpus - Spelling Checker/34_Parcor.csv\n",
            "percentage words modified 13.50902917116839\n",
            "percentage sentences modified 45.502163516283304\n",
            "(4391, 2)\n",
            "44_Parcor.csv\n",
            "11. Parallel Corpus/44_Parcor.csv\n",
            "12. Parallel Corpus - Spelling Checker/44_Parcor.csv\n",
            "percentage words modified 8.044868986066076\n",
            "percentage sentences modified 46.075581395348834\n",
            "(688, 2)\n",
            "46_Parcor.csv\n",
            "11. Parallel Corpus/46_Parcor.csv\n",
            "12. Parallel Corpus - Spelling Checker/46_Parcor.csv\n",
            "percentage words modified 6.52863436123348\n",
            "percentage sentences modified 28.686200378071835\n",
            "(8464, 2)\n",
            "51_Parcor.csv\n",
            "11. Parallel Corpus/51_Parcor.csv\n",
            "12. Parallel Corpus - Spelling Checker/51_Parcor.csv\n",
            "percentage words modified 11.462134021535997\n",
            "percentage sentences modified 53.91095066185319\n",
            "(831, 2)\n",
            "42_Parcor.csv\n",
            "11. Parallel Corpus/42_Parcor.csv\n",
            "12. Parallel Corpus - Spelling Checker/42_Parcor.csv\n",
            "percentage words modified 9.906696927122734\n",
            "percentage sentences modified 44.10531220876049\n",
            "(4292, 2)\n",
            "55_Parcor.csv\n",
            "11. Parallel Corpus/55_Parcor.csv\n",
            "12. Parallel Corpus - Spelling Checker/55_Parcor.csv\n",
            "percentage words modified 10.779737206085754\n",
            "percentage sentences modified 38.465753424657535\n",
            "(1825, 2)\n",
            "52_Parcor.csv\n",
            "11. Parallel Corpus/52_Parcor.csv\n",
            "12. Parallel Corpus - Spelling Checker/52_Parcor.csv\n",
            "percentage words modified 10.731582972215142\n",
            "percentage sentences modified 51.092117758784426\n",
            "(2106, 2)\n",
            "56_Parcor.csv\n",
            "11. Parallel Corpus/56_Parcor.csv\n",
            "12. Parallel Corpus - Spelling Checker/56_Parcor.csv\n",
            "percentage words modified 13.665764635997624\n",
            "percentage sentences modified 60.97410604192355\n",
            "(1622, 2)\n",
            "4_Parcor.csv\n",
            "11. Parallel Corpus/4_Parcor.csv\n",
            "12. Parallel Corpus - Spelling Checker/4_Parcor.csv\n",
            "percentage words modified 5.138021358049567\n",
            "percentage sentences modified 26.0343087790111\n",
            "(2973, 2)\n",
            "63_Parcor.csv\n",
            "11. Parallel Corpus/63_Parcor.csv\n",
            "12. Parallel Corpus - Spelling Checker/63_Parcor.csv\n",
            "percentage words modified 17.111251137716167\n",
            "percentage sentences modified 75.38461538461539\n",
            "(845, 2)\n",
            "58_Parcor.csv\n",
            "11. Parallel Corpus/58_Parcor.csv\n",
            "12. Parallel Corpus - Spelling Checker/58_Parcor.csv\n",
            "percentage words modified 11.266188859549855\n",
            "percentage sentences modified 40.79895219384414\n",
            "(1527, 2)\n",
            "60_Parcor.csv\n",
            "11. Parallel Corpus/60_Parcor.csv\n",
            "12. Parallel Corpus - Spelling Checker/60_Parcor.csv\n",
            "percentage words modified 11.82989104591784\n",
            "percentage sentences modified 67.55602988260405\n",
            "(937, 2)\n",
            "54_Parcor.csv\n",
            "11. Parallel Corpus/54_Parcor.csv\n",
            "12. Parallel Corpus - Spelling Checker/54_Parcor.csv\n",
            "percentage words modified 11.248144341669521\n",
            "percentage sentences modified 41.60475482912333\n",
            "(1346, 2)\n",
            "66_Parcor.csv\n",
            "11. Parallel Corpus/66_Parcor.csv\n",
            "12. Parallel Corpus - Spelling Checker/66_Parcor.csv\n",
            "percentage words modified 9.06054035046592\n",
            "percentage sentences modified 49.10536779324055\n",
            "(1006, 2)\n",
            "84_Parcor.csv\n",
            "11. Parallel Corpus/84_Parcor.csv\n",
            "12. Parallel Corpus - Spelling Checker/84_Parcor.csv\n",
            "percentage words modified 13.38368580060423\n",
            "percentage sentences modified 46.59090909090909\n",
            "(264, 2)\n",
            "5_Parcor.csv\n",
            "11. Parallel Corpus/5_Parcor.csv\n",
            "12. Parallel Corpus - Spelling Checker/5_Parcor.csv\n",
            "percentage words modified 32.1658615136876\n",
            "percentage sentences modified 61.25319693094629\n",
            "(782, 2)\n",
            "78_Parcor.csv\n",
            "11. Parallel Corpus/78_Parcor.csv\n",
            "12. Parallel Corpus - Spelling Checker/78_Parcor.csv\n",
            "percentage words modified 13.474958315321436\n",
            "percentage sentences modified 43.225806451612904\n",
            "(310, 2)\n",
            "85_Parcor.csv\n",
            "11. Parallel Corpus/85_Parcor.csv\n",
            "12. Parallel Corpus - Spelling Checker/85_Parcor.csv\n",
            "percentage words modified 8.299263040025\n",
            "percentage sentences modified 51.417769376181475\n",
            "(529, 2)\n",
            "87_Parcor.csv\n",
            "11. Parallel Corpus/87_Parcor.csv\n",
            "12. Parallel Corpus - Spelling Checker/87_Parcor.csv\n",
            "percentage words modified 16.258064516129032\n",
            "percentage sentences modified 51.284584980237156\n",
            "(1012, 2)\n",
            "89_Parcor.csv\n",
            "11. Parallel Corpus/89_Parcor.csv\n",
            "12. Parallel Corpus - Spelling Checker/89_Parcor.csv\n",
            "percentage words modified 2.120805369127517\n",
            "percentage sentences modified 7.708779443254818\n",
            "(934, 2)\n",
            "68_Parcor.csv\n",
            "11. Parallel Corpus/68_Parcor.csv\n",
            "12. Parallel Corpus - Spelling Checker/68_Parcor.csv\n",
            "percentage words modified 3.0245590901598813\n",
            "percentage sentences modified 12.536873156342184\n",
            "(2034, 2)\n",
            "71_Parcor.csv\n",
            "11. Parallel Corpus/71_Parcor.csv\n",
            "12. Parallel Corpus - Spelling Checker/71_Parcor.csv\n",
            "percentage words modified 4.1756882152799255\n",
            "percentage sentences modified 11.570247933884298\n",
            "(726, 2)\n",
            "91_Parcor.csv\n",
            "11. Parallel Corpus/91_Parcor.csv\n",
            "12. Parallel Corpus - Spelling Checker/91_Parcor.csv\n",
            "percentage words modified 3.0859691808596916\n",
            "percentage sentences modified 12.644402436462927\n",
            "(4761, 2)\n",
            "17_Parcor.csv\n",
            "11. Parallel Corpus/17_Parcor.csv\n",
            "12. Parallel Corpus - Spelling Checker/17_Parcor.csv\n",
            "percentage words modified 10.571297464724102\n",
            "percentage sentences modified 40.19138755980861\n",
            "(1672, 2)\n"
          ]
        }
      ]
    },
    {
      "cell_type": "code",
      "source": [
        "from collections import Counter\n",
        "\n",
        "changes_counter = Counter(changes_list)\n",
        "\n",
        "changes_counter.most_common(10)"
      ],
      "metadata": {
        "id": "daVPG_ZR4Ikr",
        "colab": {
          "base_uri": "https://localhost:8080/"
        },
        "outputId": "4af6d55c-2a6d-4daf-f868-26872e6060e7"
      },
      "execution_count": null,
      "outputs": [
        {
          "output_type": "execute_result",
          "data": {
            "text/plain": [
              "[(('sebagianya', 'sebagainya'), 271),\n",
              " (('adv', 'ada'), 27),\n",
              " (('iru', 'itu'), 23),\n",
              " (('sagu', 'satu'), 19),\n",
              " (('mi', 'di'), 15),\n",
              " (('kedil', 'kecil'), 12),\n",
              " (('nedda', 'ledda'), 9),\n",
              " (('seget', 'segel'), 8),\n",
              " (('gurnita', 'gurita'), 7),\n",
              " (('senek', 'nenek'), 7)]"
            ]
          },
          "metadata": {},
          "execution_count": 17
        }
      ]
    },
    {
      "cell_type": "code",
      "source": [],
      "metadata": {
        "id": "jO99fQmwbVCo"
      },
      "execution_count": null,
      "outputs": []
    }
  ]
}