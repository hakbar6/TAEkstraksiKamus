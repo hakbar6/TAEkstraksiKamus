{
 "cells": [
  {
   "cell_type": "code",
   "execution_count": 31,
   "id": "08fdd92c-fb7e-432b-9410-ceb3314a56e2",
   "metadata": {
    "tags": []
   },
   "outputs": [],
   "source": [
    "from bs4 import BeautifulSoup\n",
    "\n",
    "import json\n",
    "import os\n",
    "import pandas as pd"
   ]
  },
  {
   "cell_type": "code",
   "execution_count": 32,
   "id": "63fe15f5-d1d2-495b-b2f8-8b69dc9e613e",
   "metadata": {
    "tags": []
   },
   "outputs": [],
   "source": [
    "def json_string_beautifier(json_str):\n",
    "    json_str_with_middle_quotation = json_str.replace(':', '\":\"')\n",
    "    json_str_with_right_quotation = json_str_with_middle_quotation.replace(';', '\",\"')\n",
    "    result = '{\"' + json_str_with_right_quotation[:-2] + '}'\n",
    "    return result"
   ]
  },
  {
   "cell_type": "code",
   "execution_count": 33,
   "id": "a5168e6c-3c65-48ec-9323-e4f002a32346",
   "metadata": {
    "tags": []
   },
   "outputs": [
    {
     "name": "stdout",
     "output_type": "stream",
     "text": [
      "D:\\Julian\\Universitas Indonesia\\Skripsi\\htmlbeautified\\15-beautified.html successfully converted\n",
      "the html content for D:\\Julian\\Universitas Indonesia\\Skripsi\\htmlbeautified\\22-beautified.html is empty\n",
      "D:\\Julian\\Universitas Indonesia\\Skripsi\\htmlbeautified\\39-beautified.html successfully converted\n",
      "D:\\Julian\\Universitas Indonesia\\Skripsi\\htmlbeautified\\41-beautified.html successfully converted\n",
      "the html content for D:\\Julian\\Universitas Indonesia\\Skripsi\\htmlbeautified\\43-beautified.html is empty\n",
      "the html content for D:\\Julian\\Universitas Indonesia\\Skripsi\\htmlbeautified\\45-beautified.html is empty\n",
      "D:\\Julian\\Universitas Indonesia\\Skripsi\\htmlbeautified\\53-beautified.html successfully converted\n",
      "the html content for D:\\Julian\\Universitas Indonesia\\Skripsi\\htmlbeautified\\54-beautified.html is empty\n",
      "D:\\Julian\\Universitas Indonesia\\Skripsi\\htmlbeautified\\57-beautified.html successfully converted\n",
      "D:\\Julian\\Universitas Indonesia\\Skripsi\\htmlbeautified\\61-beautified.html successfully converted\n",
      "the html content for D:\\Julian\\Universitas Indonesia\\Skripsi\\htmlbeautified\\63-beautified.html is empty\n",
      "D:\\Julian\\Universitas Indonesia\\Skripsi\\htmlbeautified\\68-beautified.html successfully converted\n",
      "D:\\Julian\\Universitas Indonesia\\Skripsi\\htmlbeautified\\77-beautified.html successfully converted\n",
      "D:\\Julian\\Universitas Indonesia\\Skripsi\\htmlbeautified\\82-beautified.html successfully converted\n",
      "D:\\Julian\\Universitas Indonesia\\Skripsi\\htmlbeautified\\83-beautified.html successfully converted\n",
      "D:\\Julian\\Universitas Indonesia\\Skripsi\\htmlbeautified\\86-beautified.html successfully converted\n",
      "D:\\Julian\\Universitas Indonesia\\Skripsi\\htmlbeautified\\89-beautified.html successfully converted\n",
      "D:\\Julian\\Universitas Indonesia\\Skripsi\\htmlbeautified\\91-beautified.html successfully converted\n"
     ]
    }
   ],
   "source": [
    "os.chdir('../htmlbeautified')\n",
    "input_dir = os.getcwd()\n",
    "dir_list = os.listdir()\n",
    "os.chdir('../htmltocsv')\n",
    "\n",
    "for file in dir_list:\n",
    "    if file.endswith('.html'):\n",
    "        html_path = input_dir + '\\\\' + file\n",
    "        html_file = open(html_path, 'r')\n",
    "        html_doc = html_file.read()\n",
    "        soup = BeautifulSoup(html_doc, 'html.parser')\n",
    "\n",
    "        try:\n",
    "            contents = soup.body.find_all('div')\n",
    "            current_page = 0\n",
    "            word_list = []\n",
    "            font_list = []\n",
    "            x_list = []\n",
    "            y_list = []\n",
    "            page_list = []\n",
    "            \n",
    "            for content in contents:\n",
    "                if content['class'] == ['page']:\n",
    "                    current_page += 1\n",
    "                elif content['class'] == ['p']:\n",
    "                    text = content.string\n",
    "                    style_str = json_string_beautifier(content['style'])\n",
    "                    style_json = json.loads(style_str)\n",
    "                    word_list.append(text)\n",
    "                    font_list.append(style_json['font-family'])\n",
    "                    x_list.append(float(style_json['left'][:-2]))\n",
    "                    y_list.append(float(style_json['top'][:-2]))\n",
    "                    page_list.append(current_page)\n",
    "                \n",
    "            df = pd.DataFrame(list(zip(word_list, font_list, x_list, y_list, page_list)), columns=['kata', 'font', 'x', 'y', 'halaman'])\n",
    "            df.to_csv(file[:2] + ' from html.csv', index=False)\n",
    "            print(html_path + ' successfully converted')\n",
    "        except:\n",
    "            print('the html content for ' + html_path + ' is empty')"
   ]
  }
 ],
 "metadata": {
  "kernelspec": {
   "display_name": "Python 3 (ipykernel)",
   "language": "python",
   "name": "python3"
  },
  "language_info": {
   "codemirror_mode": {
    "name": "ipython",
    "version": 3
   },
   "file_extension": ".py",
   "mimetype": "text/x-python",
   "name": "python",
   "nbconvert_exporter": "python",
   "pygments_lexer": "ipython3",
   "version": "3.8.6rc1"
  }
 },
 "nbformat": 4,
 "nbformat_minor": 5
}
