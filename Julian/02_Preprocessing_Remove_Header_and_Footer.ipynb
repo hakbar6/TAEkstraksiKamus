{
  "cells": [
    {
      "cell_type": "code",
      "execution_count": null,
      "metadata": {
        "colab": {
          "base_uri": "https://localhost:8080/"
        },
        "id": "JGBs76eUyzk3",
        "outputId": "1a4b9960-b4db-4fbd-ffbd-572b7908df01"
      },
      "outputs": [
        {
          "output_type": "stream",
          "name": "stdout",
          "text": [
            "Mounted at /content/gdrive/\n"
          ]
        }
      ],
      "source": [
        "from google.colab import drive\n",
        "\n",
        "drive.mount('/content/gdrive/', force_remount=True)"
      ]
    },
    {
      "cell_type": "code",
      "execution_count": null,
      "metadata": {
        "colab": {
          "base_uri": "https://localhost:8080/"
        },
        "id": "ncdwVwMIzXAu",
        "outputId": "970b639d-3fc9-4299-a559-fda6a71ebae0"
      },
      "outputs": [
        {
          "output_type": "stream",
          "name": "stdout",
          "text": [
            "/content/gdrive/.shortcut-targets-by-id/1mVs_asXEy-dFb5kdY3WcjA5GRJ2ZyRQ_/TA Bareng Bareng/Laporan Mingguan TA Harakan Julian Fausta/Minggu 15 (Final)/Ekstraksi\n"
          ]
        }
      ],
      "source": [
        "%cd gdrive/MyDrive/TA\\ Bareng\\ Bareng/Laporan\\ Mingguan\\ TA\\ Harakan\\ Julian\\ Fausta/Minggu\\ 15\\ (Final)/Ekstraksi/"
      ]
    },
    {
      "cell_type": "code",
      "execution_count": null,
      "metadata": {
        "colab": {
          "base_uri": "https://localhost:8080/"
        },
        "id": "tonRHlQb2br3",
        "outputId": "b0c5549c-b039-444a-b1aa-96512b96a50d"
      },
      "outputs": [
        {
          "output_type": "stream",
          "name": "stdout",
          "text": [
            "'0. Korpus Entri'\n",
            "'10. Morphology'\n",
            "'11. Parallel Corpus'\n",
            "'12. Parallel Corpus - Spelling Checker'\n",
            "'1. Preprocessing - Header & Footer'\n",
            "'2. Preprocessing - Generalisasi Polisemi'\n",
            "'3. Preprocessing - Replace Kata Singkatan'\n",
            "'4. Preprocessing - Remove Anomali Entri'\n",
            "'5. Kategorisasi Main Entry'\n",
            "'6. Pemecahan Definisi Lema'\n",
            "'7. Ekstraksi Informasi Sumber Daya NLP'\n",
            "'8. Cleaning Informasi Sumber Daya NLP'\n",
            "'9. Bilingual Lexicon'\n",
            "'X. Data Pendukung'\n"
          ]
        }
      ],
      "source": [
        "!ls"
      ]
    },
    {
      "cell_type": "code",
      "execution_count": null,
      "metadata": {
        "colab": {
          "base_uri": "https://localhost:8080/"
        },
        "id": "VcaoESqyrnBC",
        "outputId": "bf1d6a8b-5ad8-40ff-e2ca-b66b905fd4d3"
      },
      "outputs": [
        {
          "output_type": "stream",
          "name": "stdout",
          "text": [
            "(43, 3)\n"
          ]
        }
      ],
      "source": [
        "import pandas as pd\n",
        "\n",
        "batas_df = pd.read_csv('1. Preprocessing - Header & Footer/BatasHeaderFooter.csv')\n",
        "print(batas_df.shape)"
      ]
    },
    {
      "cell_type": "code",
      "execution_count": null,
      "metadata": {
        "colab": {
          "base_uri": "https://localhost:8080/"
        },
        "id": "88QIpPTOTyH4",
        "outputId": "fb2e707a-9e8e-4723-c0d7-60df78f7af80"
      },
      "outputs": [
        {
          "output_type": "execute_result",
          "data": {
            "text/plain": [
              "numpy.float64"
            ]
          },
          "metadata": {},
          "execution_count": 5
        }
      ],
      "source": [
        "type(batas_df['header'][0])"
      ]
    },
    {
      "cell_type": "code",
      "execution_count": null,
      "metadata": {
        "id": "SgMeCIel_smF"
      },
      "outputs": [],
      "source": [
        "from decimal import Decimal\n",
        "\n",
        "def get_header_footer(input_path):\n",
        "    for index, row in batas_df.iterrows():\n",
        "        if row['kamus'] in input_path:\n",
        "            return True, Decimal(row['header']), Decimal(row['footer'])\n",
        "    return False, 0.0, 999.9"
      ]
    },
    {
      "cell_type": "code",
      "execution_count": null,
      "metadata": {
        "id": "TPORhkhk2roE"
      },
      "outputs": [],
      "source": [
        "from ast import literal_eval\n",
        "\n",
        "import pandas as pd\n",
        "\n",
        "def preprocess(input_path, output_path):\n",
        "    print(input_path)\n",
        "    print(output_path)\n",
        "    df = pd.read_csv(input_path)\n",
        "    entry_result_list = []\n",
        "    pos_result_list = []\n",
        "    page_result_list = []\n",
        "    is_padanan_lema_list = []\n",
        "    success, header, footer = get_header_footer(input_path)\n",
        "\n",
        "    if not success:\n",
        "        return\n",
        "\n",
        "    for index, row in df.iterrows():\n",
        "        entry_font_size_pos_list = literal_eval(str(row['entry_font_size_pos']))\n",
        "        page_tuple = literal_eval(str(row['page']))\n",
        "\n",
        "        result_list = []\n",
        "        for entry_font_size_pos in entry_font_size_pos_list:\n",
        "            if (entry_font_size_pos[3][3] < header) or (entry_font_size_pos[3][3] > footer):\n",
        "                # print(entry_font_size_pos[0], entry_font_size_pos[3][3])\n",
        "                continue\n",
        "            try:\n",
        "                entry_int = int(entry_font_size_pos[0])\n",
        "                if (entry_int != page_tuple) and (entry_int not in page_tuple):\n",
        "                    result_list.append(entry_font_size_pos)\n",
        "            except:\n",
        "                if not entry_font_size_pos[0].isupper():\n",
        "                    result_list.append(entry_font_size_pos)\n",
        "\n",
        "        if len(result_list) > 0:\n",
        "            entry_result_list.append(result_list)\n",
        "            pos_result_list.append(result_list[0][3])\n",
        "            page_result_list.append(page_tuple)\n",
        "            is_padanan_lema_list.append(row['is_padanan_lema'])\n",
        "\n",
        "    result_df = pd.DataFrame(\n",
        "        list(zip(entry_result_list, pos_result_list, page_result_list, is_padanan_lema_list)),\n",
        "        columns=['entry_font_size_pos', 'posisi_entry', 'page', 'is_padanan_lema'])\n",
        "\n",
        "    print(result_df.shape)\n",
        "    result_df.to_csv(output_path, index=False)"
      ]
    },
    {
      "cell_type": "code",
      "execution_count": null,
      "metadata": {
        "colab": {
          "base_uri": "https://localhost:8080/"
        },
        "id": "8R2M2E6327F8",
        "outputId": "a65c49b4-ecbd-4fc0-e014-ce4765b17fa5"
      },
      "outputs": [
        {
          "output_type": "stream",
          "name": "stdout",
          "text": [
            "10. Kamus Bahasa Indonesia-Dayak Deah Edisi I (2013)-hasil-ekstraksi-one_entry_from_JSON-font-posisi.csv\n",
            "0. Korpus Entri/10. Kamus Bahasa Indonesia-Dayak Deah Edisi I (2013)-hasil-ekstraksi-one_entry_from_JSON-font-posisi.csv\n",
            "1. Preprocessing - Header & Footer/10. Kamus Bahasa Indonesia-Dayak Deah Edisi I (2013)-hasil-ekstraksi-one_entry_from_JSON-font-posisi.csv\n",
            "(5118, 4)\n",
            "12. Kamus Bahasa Indonesia-Kaidipang L-Z (2000)-hasil-ekstraksi-one_entry_from_JSON-font-posisi.csv\n",
            "0. Korpus Entri/12. Kamus Bahasa Indonesia-Kaidipang L-Z (2000)-hasil-ekstraksi-one_entry_from_JSON-font-posisi.csv\n",
            "1. Preprocessing - Header & Footer/12. Kamus Bahasa Indonesia-Kaidipang L-Z (2000)-hasil-ekstraksi-one_entry_from_JSON-font-posisi.csv\n",
            "(9012, 4)\n",
            "17. Kamus Melayu Makasar-Indonesia (1985)-hasil-ekstraksi-one_entry_from_JSON-font-posisi.csv\n",
            "0. Korpus Entri/17. Kamus Melayu Makasar-Indonesia (1985)-hasil-ekstraksi-one_entry_from_JSON-font-posisi.csv\n",
            "1. Preprocessing - Header & Footer/17. Kamus Melayu Makasar-Indonesia (1985)-hasil-ekstraksi-one_entry_from_JSON-font-posisi.csv\n",
            "(2141, 4)\n",
            "18. Kamus Bahasa Jawa-Bahasa Indonesia I (1993)-hasil-ekstraksi-one_entry_from_JSON-font-posisi.csv\n",
            "0. Korpus Entri/18. Kamus Bahasa Jawa-Bahasa Indonesia I (1993)-hasil-ekstraksi-one_entry_from_JSON-font-posisi.csv\n",
            "1. Preprocessing - Header & Footer/18. Kamus Bahasa Jawa-Bahasa Indonesia I (1993)-hasil-ekstraksi-one_entry_from_JSON-font-posisi.csv\n",
            "(13345, 4)\n",
            "19. Kamus Bahasa Indoensia-Melayu Riau (1997)-hasil-ekstraksi-one_entry_from_JSON-font-posisi.csv\n",
            "0. Korpus Entri/19. Kamus Bahasa Indoensia-Melayu Riau (1997)-hasil-ekstraksi-one_entry_from_JSON-font-posisi.csv\n",
            "1. Preprocessing - Header & Footer/19. Kamus Bahasa Indoensia-Melayu Riau (1997)-hasil-ekstraksi-one_entry_from_JSON-font-posisi.csv\n",
            "(8536, 4)\n",
            "2. Kamus Melayu-Indonesia (1985)-hasil-ekstraksi-one_entry_from_JSON-font-posisi.csv\n",
            "0. Korpus Entri/2. Kamus Melayu-Indonesia (1985)-hasil-ekstraksi-one_entry_from_JSON-font-posisi.csv\n",
            "1. Preprocessing - Header & Footer/2. Kamus Melayu-Indonesia (1985)-hasil-ekstraksi-one_entry_from_JSON-font-posisi.csv\n",
            "(4374, 4)\n",
            "20. Kamus Bahasa Melayu Ambon-Indonesia (1998)-hasil-ekstraksi-one_entry_from_JSON-font-posisi.csv\n",
            "0. Korpus Entri/20. Kamus Bahasa Melayu Ambon-Indonesia (1998)-hasil-ekstraksi-one_entry_from_JSON-font-posisi.csv\n",
            "1. Preprocessing - Header & Footer/20. Kamus Bahasa Melayu Ambon-Indonesia (1998)-hasil-ekstraksi-one_entry_from_JSON-font-posisi.csv\n",
            "(1929, 4)\n",
            "21. Kamus Bahasa Indonesia-Sentani A-K (1999)-hasil-ekstraksi-one_entry_from_JSON-font-posisi.csv\n",
            "0. Korpus Entri/21. Kamus Bahasa Indonesia-Sentani A-K (1999)-hasil-ekstraksi-one_entry_from_JSON-font-posisi.csv\n",
            "1. Preprocessing - Header & Footer/21. Kamus Bahasa Indonesia-Sentani A-K (1999)-hasil-ekstraksi-one_entry_from_JSON-font-posisi.csv\n",
            "(2850, 4)\n",
            "23. Kamus Dwibahasa Dayak Ngaju-Indonesia (2013)-hasil-ekstraksi-one_entry_from_JSON-font-posisi.csv\n",
            "0. Korpus Entri/23. Kamus Dwibahasa Dayak Ngaju-Indonesia (2013)-hasil-ekstraksi-one_entry_from_JSON-font-posisi.csv\n",
            "1. Preprocessing - Header & Footer/23. Kamus Dwibahasa Dayak Ngaju-Indonesia (2013)-hasil-ekstraksi-one_entry_from_JSON-font-posisi.csv\n",
            "(2704, 4)\n",
            "24. Kamus Minangkabau-Indonesia (1985)-hasil-ekstraksi-one_entry_from_JSON-font-posisi.csv\n",
            "0. Korpus Entri/24. Kamus Minangkabau-Indonesia (1985)-hasil-ekstraksi-one_entry_from_JSON-font-posisi.csv\n",
            "1. Preprocessing - Header & Footer/24. Kamus Minangkabau-Indonesia (1985)-hasil-ekstraksi-one_entry_from_JSON-font-posisi.csv\n",
            "(8355, 4)\n",
            "26. Kamus Bahasa Indonesia-Bahasa Tonsea II (1996)-hasil-ekstraksi-one_entry_from_JSON-font-posisi.csv\n",
            "0. Korpus Entri/26. Kamus Bahasa Indonesia-Bahasa Tonsea II (1996)-hasil-ekstraksi-one_entry_from_JSON-font-posisi.csv\n",
            "1. Preprocessing - Header & Footer/26. Kamus Bahasa Indonesia-Bahasa Tonsea II (1996)-hasil-ekstraksi-one_entry_from_JSON-font-posisi.csv\n",
            "(4718, 4)\n",
            "27. Kamus Bahasa Indonesia-Saluan (2012)-hasil-ekstraksi-one_entry_from_JSON-font-posisi.csv\n",
            "0. Korpus Entri/27. Kamus Bahasa Indonesia-Saluan (2012)-hasil-ekstraksi-one_entry_from_JSON-font-posisi.csv\n",
            "1. Preprocessing - Header & Footer/27. Kamus Bahasa Indonesia-Saluan (2012)-hasil-ekstraksi-one_entry_from_JSON-font-posisi.csv\n",
            "(3670, 4)\n",
            "28. Kamus Bahasa Kutai-Bahasa Indonesia (2013)-hasil-ekstraksi-one_entry_from_JSON-font-posisi.csv\n",
            "0. Korpus Entri/28. Kamus Bahasa Kutai-Bahasa Indonesia (2013)-hasil-ekstraksi-one_entry_from_JSON-font-posisi.csv\n",
            "1. Preprocessing - Header & Footer/28. Kamus Bahasa Kutai-Bahasa Indonesia (2013)-hasil-ekstraksi-one_entry_from_JSON-font-posisi.csv\n",
            "(828, 4)\n",
            "29. Kata Tetun Indonesia (1985)-hasil-ekstraksi-one_entry_from_JSON-font-posisi.csv\n",
            "0. Korpus Entri/29. Kata Tetun Indonesia (1985)-hasil-ekstraksi-one_entry_from_JSON-font-posisi.csv\n",
            "1. Preprocessing - Header & Footer/29. Kata Tetun Indonesia (1985)-hasil-ekstraksi-one_entry_from_JSON-font-posisi.csv\n",
            "(1731, 4)\n",
            "31. Kamus Sumbawa-Indonesia (1985)-hasil-ekstraksi-one_entry_from_JSON-font-posisi.csv\n",
            "0. Korpus Entri/31. Kamus Sumbawa-Indonesia (1985)-hasil-ekstraksi-one_entry_from_JSON-font-posisi.csv\n",
            "1. Preprocessing - Header & Footer/31. Kamus Sumbawa-Indonesia (1985)-hasil-ekstraksi-one_entry_from_JSON-font-posisi.csv\n",
            "(1350, 4)\n",
            "32. Kamus Melayu Langkat-Indonesia (1985)-hasil-ekstraksi-one_entry_from_JSON-font-posisi.csv\n",
            "0. Korpus Entri/32. Kamus Melayu Langkat-Indonesia (1985)-hasil-ekstraksi-one_entry_from_JSON-font-posisi.csv\n",
            "1. Preprocessing - Header & Footer/32. Kamus Melayu Langkat-Indonesia (1985)-hasil-ekstraksi-one_entry_from_JSON-font-posisi.csv\n",
            "(3362, 4)\n",
            "33. Kamus Wolio Indonesia (1985)-hasil-ekstraksi-one_entry_from_JSON-font-posisi.csv\n",
            "0. Korpus Entri/33. Kamus Wolio Indonesia (1985)-hasil-ekstraksi-one_entry_from_JSON-font-posisi.csv\n",
            "1. Preprocessing - Header & Footer/33. Kamus Wolio Indonesia (1985)-hasil-ekstraksi-one_entry_from_JSON-font-posisi.csv\n",
            "(2625, 4)\n",
            "34. Kamus Bahasa Indonesia-Bali L-Z (1998)-hasil-ekstraksi-one_entry_from_JSON-font-posisi.csv\n",
            "0. Korpus Entri/34. Kamus Bahasa Indonesia-Bali L-Z (1998)-hasil-ekstraksi-one_entry_from_JSON-font-posisi.csv\n",
            "1. Preprocessing - Header & Footer/34. Kamus Bahasa Indonesia-Bali L-Z (1998)-hasil-ekstraksi-one_entry_from_JSON-font-posisi.csv\n",
            "(11165, 4)\n",
            "36. Kamus Bahasa Indonesia-Kulawi (2012)-hasil-ekstraksi-one_entry_from_JSON-font-posisi.csv\n",
            "0. Korpus Entri/36. Kamus Bahasa Indonesia-Kulawi (2012)-hasil-ekstraksi-one_entry_from_JSON-font-posisi.csv\n",
            "1. Preprocessing - Header & Footer/36. Kamus Bahasa Indonesia-Kulawi (2012)-hasil-ekstraksi-one_entry_from_JSON-font-posisi.csv\n",
            "(2409, 4)\n",
            "38. Kamus Bahasa Indonesia-Karo L-Z (1999)-hasil-ekstraksi-one_entry_from_JSON-font-posisi.csv\n",
            "0. Korpus Entri/38. Kamus Bahasa Indonesia-Karo L-Z (1999)-hasil-ekstraksi-one_entry_from_JSON-font-posisi.csv\n",
            "1. Preprocessing - Header & Footer/38. Kamus Bahasa Indonesia-Karo L-Z (1999)-hasil-ekstraksi-one_entry_from_JSON-font-posisi.csv\n",
            "(3677, 4)\n",
            "4. Kamus Bahasa Indonesia-Jambi A-K (1998)-hasil-ekstraksi-one_entry_from_JSON-font-posisi.csv\n",
            "0. Korpus Entri/4. Kamus Bahasa Indonesia-Jambi A-K (1998)-hasil-ekstraksi-one_entry_from_JSON-font-posisi.csv\n",
            "1. Preprocessing - Header & Footer/4. Kamus Bahasa Indonesia-Jambi A-K (1998)-hasil-ekstraksi-one_entry_from_JSON-font-posisi.csv\n",
            "(3209, 4)\n",
            "41. Kamus Bahasa Indonesia-Bali A-K (1997)-hasil-ekstraksi-one_entry_from_JSON-font-posisi.csv\n",
            "0. Korpus Entri/41. Kamus Bahasa Indonesia-Bali A-K (1997)-hasil-ekstraksi-one_entry_from_JSON-font-posisi.csv\n",
            "1. Preprocessing - Header & Footer/41. Kamus Bahasa Indonesia-Bali A-K (1997)-hasil-ekstraksi-one_entry_from_JSON-font-posisi.csv\n",
            "(11264, 4)\n",
            "42. Kamus Bahasa Indonesia-Bahasa Sunda II (1993)-hasil-ekstraksi-one_entry_from_JSON-font-posisi.csv\n",
            "0. Korpus Entri/42. Kamus Bahasa Indonesia-Bahasa Sunda II (1993)-hasil-ekstraksi-one_entry_from_JSON-font-posisi.csv\n",
            "1. Preprocessing - Header & Footer/42. Kamus Bahasa Indonesia-Bahasa Sunda II (1993)-hasil-ekstraksi-one_entry_from_JSON-font-posisi.csv\n",
            "(4470, 4)\n",
            "44. Kamus Melayu Deli-Indonesia (1985)-hasil-ekstraksi-one_entry_from_JSON-font-posisi.csv\n",
            "0. Korpus Entri/44. Kamus Melayu Deli-Indonesia (1985)-hasil-ekstraksi-one_entry_from_JSON-font-posisi.csv\n",
            "1. Preprocessing - Header & Footer/44. Kamus Melayu Deli-Indonesia (1985)-hasil-ekstraksi-one_entry_from_JSON-font-posisi.csv\n",
            "(1874, 4)\n",
            "46. Kamus Bahasa Banjar Dialek Hulu-Indonesia (2008)-hasil-ekstraksi-one_entry_from_JSON-font-posisi.csv\n",
            "0. Korpus Entri/46. Kamus Bahasa Banjar Dialek Hulu-Indonesia (2008)-hasil-ekstraksi-one_entry_from_JSON-font-posisi.csv\n",
            "1. Preprocessing - Header & Footer/46. Kamus Bahasa Banjar Dialek Hulu-Indonesia (2008)-hasil-ekstraksi-one_entry_from_JSON-font-posisi.csv\n",
            "(12952, 4)\n",
            "5. Kamus Bahasa Indonesia-Bahasa Tonsea I (1996)-hasil-ekstraksi-one_entry_from_JSON-font-posisi.csv\n",
            "0. Korpus Entri/5. Kamus Bahasa Indonesia-Bahasa Tonsea I (1996)-hasil-ekstraksi-one_entry_from_JSON-font-posisi.csv\n",
            "1. Preprocessing - Header & Footer/5. Kamus Bahasa Indonesia-Bahasa Tonsea I (1996)-hasil-ekstraksi-one_entry_from_JSON-font-posisi.csv\n",
            "(3828, 4)\n",
            "51. Kamus Bahasa Bali Kuno-Indonesia (1985)-hasil-ekstraksi-one_entry_from_JSON-font-posisi.csv\n",
            "0. Korpus Entri/51. Kamus Bahasa Bali Kuno-Indonesia (1985)-hasil-ekstraksi-one_entry_from_JSON-font-posisi.csv\n",
            "1. Preprocessing - Header & Footer/51. Kamus Bahasa Bali Kuno-Indonesia (1985)-hasil-ekstraksi-one_entry_from_JSON-font-posisi.csv\n",
            "(2081, 4)\n",
            "52. Kamus Ogan-Indonesia (1985)-hasil-ekstraksi-one_entry_from_JSON-font-posisi.csv\n",
            "0. Korpus Entri/52. Kamus Ogan-Indonesia (1985)-hasil-ekstraksi-one_entry_from_JSON-font-posisi.csv\n",
            "1. Preprocessing - Header & Footer/52. Kamus Ogan-Indonesia (1985)-hasil-ekstraksi-one_entry_from_JSON-font-posisi.csv\n",
            "(2620, 4)\n",
            "54. Kamus Bahasa Indonesia Mentawai (1998)-hasil-ekstraksi-one_entry_from_JSON-font-posisi.csv\n",
            "0. Korpus Entri/54. Kamus Bahasa Indonesia Mentawai (1998)-hasil-ekstraksi-one_entry_from_JSON-font-posisi.csv\n",
            "1. Preprocessing - Header & Footer/54. Kamus Bahasa Indonesia Mentawai (1998)-hasil-ekstraksi-one_entry_from_JSON-font-posisi.csv\n",
            "(2739, 4)\n",
            "55. Kamus Bahasa Indonesia Bakumpai I (1995)-hasil-ekstraksi-one_entry_from_JSON-font-posisi.csv\n",
            "0. Korpus Entri/55. Kamus Bahasa Indonesia Bakumpai I (1995)-hasil-ekstraksi-one_entry_from_JSON-font-posisi.csv\n",
            "1. Preprocessing - Header & Footer/55. Kamus Bahasa Indonesia Bakumpai I (1995)-hasil-ekstraksi-one_entry_from_JSON-font-posisi.csv\n",
            "(2500, 4)\n",
            "56. Kamus Lampung-Indonesia (1985)-hasil-ekstraksi-one_entry_from_JSON-font-posisi.csv\n",
            "0. Korpus Entri/56. Kamus Lampung-Indonesia (1985)-hasil-ekstraksi-one_entry_from_JSON-font-posisi.csv\n",
            "1. Preprocessing - Header & Footer/56. Kamus Lampung-Indonesia (1985)-hasil-ekstraksi-one_entry_from_JSON-font-posisi.csv\n",
            "(2093, 4)\n",
            "58. Kamus Melayu Ketapang-Indonesia A-M (2010)-hasil-ekstraksi-one_entry_from_JSON-font-posisi.csv\n",
            "0. Korpus Entri/58. Kamus Melayu Ketapang-Indonesia A-M (2010)-hasil-ekstraksi-one_entry_from_JSON-font-posisi.csv\n",
            "1. Preprocessing - Header & Footer/58. Kamus Melayu Ketapang-Indonesia A-M (2010)-hasil-ekstraksi-one_entry_from_JSON-font-posisi.csv\n",
            "(4844, 4)\n",
            "60. Kamus Sunda-Indonesia (1985)-hasil-ekstraksi-one_entry_from_JSON-font-posisi.csv\n",
            "0. Korpus Entri/60. Kamus Sunda-Indonesia (1985)-hasil-ekstraksi-one_entry_from_JSON-font-posisi.csv\n",
            "1. Preprocessing - Header & Footer/60. Kamus Sunda-Indonesia (1985)-hasil-ekstraksi-one_entry_from_JSON-font-posisi.csv\n",
            "(1388, 4)\n",
            "63. Kamus Bahasa Indonesia-Lampung Dialek A (1999)-hasil-ekstraksi-one_entry_from_JSON-font-posisi.csv\n",
            "0. Korpus Entri/63. Kamus Bahasa Indonesia-Lampung Dialek A (1999)-hasil-ekstraksi-one_entry_from_JSON-font-posisi.csv\n",
            "1. Preprocessing - Header & Footer/63. Kamus Bahasa Indonesia-Lampung Dialek A (1999)-hasil-ekstraksi-one_entry_from_JSON-font-posisi.csv\n",
            "(752, 4)\n",
            "66. Kamus Melayu Bali-Indonesia (1985)-hasil-ekstraksi-one_entry_from_JSON-font-posisi.csv\n",
            "0. Korpus Entri/66. Kamus Melayu Bali-Indonesia (1985)-hasil-ekstraksi-one_entry_from_JSON-font-posisi.csv\n",
            "1. Preprocessing - Header & Footer/66. Kamus Melayu Bali-Indonesia (1985)-hasil-ekstraksi-one_entry_from_JSON-font-posisi.csv\n",
            "(1532, 4)\n",
            "68. Kamus Dwibahasa Bahasa Talaud - Bahasa Indonesia (2018)-hasil-ekstraksi-one_entry_from_JSON-font-posisi.csv\n",
            "0. Korpus Entri/68. Kamus Dwibahasa Bahasa Talaud - Bahasa Indonesia (2018)-hasil-ekstraksi-one_entry_from_JSON-font-posisi.csv\n",
            "1. Preprocessing - Header & Footer/68. Kamus Dwibahasa Bahasa Talaud - Bahasa Indonesia (2018)-hasil-ekstraksi-one_entry_from_JSON-font-posisi.csv\n",
            "(7181, 4)\n",
            "71. Kamus dwibahasa Bugis-Indonesia (2017)-hasil-ekstraksi-one_entry_from_JSON-font-posisi.csv\n",
            "0. Korpus Entri/71. Kamus dwibahasa Bugis-Indonesia (2017)-hasil-ekstraksi-one_entry_from_JSON-font-posisi.csv\n",
            "1. Preprocessing - Header & Footer/71. Kamus dwibahasa Bugis-Indonesia (2017)-hasil-ekstraksi-one_entry_from_JSON-font-posisi.csv\n",
            "(843, 4)\n",
            "78. Kamus Tolaki-Indonesia (1985)-hasil-ekstraksi-one_entry_from_JSON-font-posisi.csv\n",
            "0. Korpus Entri/78. Kamus Tolaki-Indonesia (1985)-hasil-ekstraksi-one_entry_from_JSON-font-posisi.csv\n",
            "1. Preprocessing - Header & Footer/78. Kamus Tolaki-Indonesia (1985)-hasil-ekstraksi-one_entry_from_JSON-font-posisi.csv\n",
            "(1145, 4)\n",
            "84. Kamus Bahasa Biak - Indonesia (1977) -hasil-ekstraksi-one_entry_from_JSON-font-posisi.csv\n",
            "0. Korpus Entri/84. Kamus Bahasa Biak - Indonesia (1977) -hasil-ekstraksi-one_entry_from_JSON-font-posisi.csv\n",
            "1. Preprocessing - Header & Footer/84. Kamus Bahasa Biak - Indonesia (1977) -hasil-ekstraksi-one_entry_from_JSON-font-posisi.csv\n",
            "(992, 4)\n",
            "85. Kamus Tondano-Indonesia (1985)-hasil-ekstraksi-one_entry_from_JSON-font-posisi.csv\n",
            "0. Korpus Entri/85. Kamus Tondano-Indonesia (1985)-hasil-ekstraksi-one_entry_from_JSON-font-posisi.csv\n",
            "1. Preprocessing - Header & Footer/85. Kamus Tondano-Indonesia (1985)-hasil-ekstraksi-one_entry_from_JSON-font-posisi.csv\n",
            "(1140, 4)\n",
            "87. Kamus Bahasa Indonesia-Kaidipang (A-K) (1999)-hasil-ekstraksi-one_entry_from_JSON-font-posisi.csv\n",
            "0. Korpus Entri/87. Kamus Bahasa Indonesia-Kaidipang (A-K) (1999)-hasil-ekstraksi-one_entry_from_JSON-font-posisi.csv\n",
            "1. Preprocessing - Header & Footer/87. Kamus Bahasa Indonesia-Kaidipang (A-K) (1999)-hasil-ekstraksi-one_entry_from_JSON-font-posisi.csv\n",
            "(2007, 4)\n",
            "89. Kamus Dwibahasa Bahasa Mooi-Bahasa Indonesia (2017)-hasil-ekstraksi-one_entry_from_JSON-font-posisi.csv\n",
            "0. Korpus Entri/89. Kamus Dwibahasa Bahasa Mooi-Bahasa Indonesia (2017)-hasil-ekstraksi-one_entry_from_JSON-font-posisi.csv\n",
            "1. Preprocessing - Header & Footer/89. Kamus Dwibahasa Bahasa Mooi-Bahasa Indonesia (2017)-hasil-ekstraksi-one_entry_from_JSON-font-posisi.csv\n",
            "(1124, 4)\n",
            "91. Kamus Simalungun - Indonesia (edisi kedua) (2015)-hasil-ekstraksi-one_entry_from_JSON-font-posisi.csv\n",
            "0. Korpus Entri/91. Kamus Simalungun - Indonesia (edisi kedua) (2015)-hasil-ekstraksi-one_entry_from_JSON-font-posisi.csv\n",
            "1. Preprocessing - Header & Footer/91. Kamus Simalungun - Indonesia (edisi kedua) (2015)-hasil-ekstraksi-one_entry_from_JSON-font-posisi.csv\n",
            "(10361, 4)\n"
          ]
        }
      ],
      "source": [
        "import os\n",
        "\n",
        "dir_path = '0. Korpus Entri'\n",
        "\n",
        "for file in os.listdir(dir_path):\n",
        "    if file[-4:] == '.csv':\n",
        "        print(file)\n",
        "        input_path = dir_path + '/' + file\n",
        "        output_path = '1. Preprocessing - Header & Footer/' + file\n",
        "        preprocess(input_path, output_path)"
      ]
    },
    {
      "cell_type": "code",
      "execution_count": null,
      "metadata": {
        "id": "ai12BJiz4u-3"
      },
      "outputs": [],
      "source": []
    }
  ],
  "metadata": {
    "colab": {
      "provenance": []
    },
    "kernelspec": {
      "display_name": "Python 3",
      "name": "python3"
    },
    "language_info": {
      "name": "python"
    }
  },
  "nbformat": 4,
  "nbformat_minor": 0
}