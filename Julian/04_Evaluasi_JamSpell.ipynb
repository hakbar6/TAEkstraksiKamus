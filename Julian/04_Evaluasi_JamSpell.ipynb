{
  "nbformat": 4,
  "nbformat_minor": 0,
  "metadata": {
    "colab": {
      "provenance": []
    },
    "kernelspec": {
      "name": "python3",
      "display_name": "Python 3"
    },
    "language_info": {
      "name": "python"
    }
  },
  "cells": [
    {
      "cell_type": "code",
      "execution_count": null,
      "metadata": {
        "colab": {
          "base_uri": "https://localhost:8080/"
        },
        "id": "c05GFRk1PrBi",
        "outputId": "11094845-f4f9-44a5-9caa-519967abfc9b"
      },
      "outputs": [
        {
          "output_type": "stream",
          "name": "stdout",
          "text": [
            "Mounted at /content/gdrive/\n"
          ]
        }
      ],
      "source": [
        "from google.colab import drive\n",
        "\n",
        "drive.mount('/content/gdrive/', force_remount=True)"
      ]
    },
    {
      "cell_type": "code",
      "source": [
        "%cd gdrive/MyDrive/TA\\ Bareng\\ Bareng/"
      ],
      "metadata": {
        "colab": {
          "base_uri": "https://localhost:8080/"
        },
        "id": "EEUyxt6nP0RY",
        "outputId": "393281dd-67af-4495-bae4-4420316844f0"
      },
      "execution_count": null,
      "outputs": [
        {
          "output_type": "stream",
          "name": "stdout",
          "text": [
            "/content/gdrive/.shortcut-targets-by-id/1mVs_asXEy-dFb5kdY3WcjA5GRJ2ZyRQ_/TA Bareng Bareng/Laporan Mingguan TA Harakan Julian Fausta/Minggu 15 (Final)/Ekstraksi\n"
          ]
        }
      ]
    },
    {
      "cell_type": "code",
      "source": [
        "!ls"
      ],
      "metadata": {
        "colab": {
          "base_uri": "https://localhost:8080/"
        },
        "id": "i47VeP02P1rW",
        "outputId": "0c685719-b38f-4b1f-a148-883bd8d86596"
      },
      "execution_count": null,
      "outputs": [
        {
          "output_type": "stream",
          "name": "stdout",
          "text": [
            " Benchmark\t\t\t   'Hasil Anotasi'\n",
            " BRAINSTORMING.gdoc\t\t   'Jurnal Fausta'\n",
            " Code\t\t\t\t   'Laporan Mingguan TA Harakan Julian Fausta'\n",
            " Data\t\t\t\t   'Laporan Skripsi'\n",
            "'Diagram TA Bareng Bareng.drawio'  'Rekaman Bimbingan'\n"
          ]
        }
      ]
    },
    {
      "cell_type": "code",
      "source": [
        "kamus_list = ['18', '54', '68', '71', '89']\n",
        "\n",
        "def get_index_kamus(input_path):\n",
        "    for i in range(len(kamus_list)):\n",
        "        if kamus_list[i] in input_path:\n",
        "            return i\n",
        "    return -1"
      ],
      "metadata": {
        "id": "fDsI8rlXP2L2"
      },
      "execution_count": null,
      "outputs": []
    },
    {
      "cell_type": "code",
      "source": [
        "import pandas as pd\n",
        "\n",
        "lookup_df = pd.read_csv('Laporan Mingguan TA Harakan Julian Fausta/Minggu 15 (Final)/Ekstraksi/12. Parallel Corpus - Spelling Checker/LookupIsFromIndonesia.csv')\n",
        "print(lookup_df.shape)"
      ],
      "metadata": {
        "colab": {
          "base_uri": "https://localhost:8080/"
        },
        "id": "I-wKiBSUTFVF",
        "outputId": "11728e36-0e08-4d43-92ae-0f3d59a07b84"
      },
      "execution_count": null,
      "outputs": [
        {
          "output_type": "stream",
          "name": "stdout",
          "text": [
            "(43, 2)\n"
          ]
        }
      ]
    },
    {
      "cell_type": "code",
      "source": [
        "def get_is_from_indonesia(input_path):\n",
        "    for index, row in lookup_df.iterrows():\n",
        "        if row['kamus'] in input_path:\n",
        "            return True, row['is_from_indonesia']\n",
        "    return False, -1"
      ],
      "metadata": {
        "id": "xlLFt2GGTaDE"
      },
      "execution_count": null,
      "outputs": []
    },
    {
      "cell_type": "code",
      "source": [
        "def sentence_to_list(sentence):\n",
        "    word_list = []\n",
        "    word = ''\n",
        "    for c in sentence.lower():\n",
        "        if c.isalpha():\n",
        "            word += c\n",
        "        else:\n",
        "            word_list.append(word)\n",
        "            word = ''\n",
        "    if word:\n",
        "        word_list.append(word)\n",
        "    return word_list"
      ],
      "metadata": {
        "id": "F_SsorHmUQqq"
      },
      "execution_count": null,
      "outputs": []
    },
    {
      "cell_type": "code",
      "source": [
        "import pandas as pd\n",
        "\n",
        "def get_all_sentences(input_path):\n",
        "    df = pd.read_csv(input_path)\n",
        "    sentences = []\n",
        "    success, is_from_indonesia = get_is_from_indonesia(input_path)\n",
        "\n",
        "    if not success:\n",
        "        return\n",
        "\n",
        "    for index, row in df.iterrows():\n",
        "        sentence = ''\n",
        "\n",
        "        if is_from_indonesia:\n",
        "            sentence = str(row['kalimat_asal']).lower()\n",
        "        else:\n",
        "            sentence = str(row['kalimat_tujuan']).lower()\n",
        "\n",
        "        sentences.append(sentence)\n",
        "\n",
        "    return sentences"
      ],
      "metadata": {
        "id": "EB-N3w0OTg-S"
      },
      "execution_count": null,
      "outputs": []
    },
    {
      "cell_type": "code",
      "source": [
        "def get_is_from_indonesia_by_index(index_kamus):\n",
        "    for index, row in lookup_df.iterrows():\n",
        "        if kamus_list[index_kamus] in row['kamus']:\n",
        "            return True, row['is_from_indonesia']\n",
        "    return False, -1"
      ],
      "metadata": {
        "id": "asHuMzxZm0dd"
      },
      "execution_count": null,
      "outputs": []
    },
    {
      "cell_type": "code",
      "source": [
        "import pandas as pd\n",
        "\n",
        "def get_gold_entries(input_path):\n",
        "    df = pd.read_csv(input_path)\n",
        "    gold_entries = []\n",
        "    index_kamus = get_index_kamus(input_path)\n",
        "    success, is_from_indonesia = get_is_from_indonesia_by_index(index_kamus)\n",
        "\n",
        "    if not success:\n",
        "        return []\n",
        "\n",
        "    for index, row in df.iterrows():\n",
        "        gold_entry = ''\n",
        "\n",
        "        if is_from_indonesia:\n",
        "            if not pd.isna(row['kalimat_asal']):\n",
        "                gold_entry = str(row['kalimat_asal']).lower()\n",
        "        else:\n",
        "            if not pd.isna(row['kalimat_tujuan']):\n",
        "                gold_entry = str(row['kalimat_tujuan']).lower()\n",
        "\n",
        "        if len(gold_entry) > 1:\n",
        "            gold_entries.append(gold_entry)\n",
        "\n",
        "    return gold_entries"
      ],
      "metadata": {
        "id": "A1QchnWTjL72"
      },
      "execution_count": null,
      "outputs": []
    },
    {
      "cell_type": "code",
      "source": [
        "import os\n",
        "\n",
        "all_gold_entries = [[], [], [], [], []]\n",
        "dir_path = 'Hasil Anotasi/'\n",
        "\n",
        "for file in os.listdir(dir_path):\n",
        "    input_path = dir_path + file\n",
        "    print(input_path)\n",
        "    index_kamus = get_index_kamus(input_path)\n",
        "    all_gold_entries[index_kamus].extend(get_gold_entries(input_path))\n",
        "\n",
        "for i in range(len(all_gold_entries)):\n",
        "    print(len(all_gold_entries[i]))"
      ],
      "metadata": {
        "id": "S8H3_pZmVFFN",
        "colab": {
          "base_uri": "https://localhost:8080/"
        },
        "outputId": "91938572-685f-4362-f634-a72c0c6e8416"
      },
      "execution_count": null,
      "outputs": [
        {
          "output_type": "stream",
          "name": "stdout",
          "text": [
            "Hasil Anotasi/GoldEntries_Tahap2_Niken - 18.csv\n",
            "Hasil Anotasi/GoldEntries_Tahap2_Niken - 54.csv\n",
            "Hasil Anotasi/GoldEntries_Tahap2_Niken - 68.csv\n",
            "Hasil Anotasi/GoldEntries_Tahap2_Niken - 71.csv\n",
            "Hasil Anotasi/GoldEntries_Tahap2_Niken - 89.csv\n",
            "Hasil Anotasi/GoldEntries_Tahap2_Hafiz - 89.csv\n",
            "Hasil Anotasi/GoldEntries_Tahap2_Hafiz - 71.csv\n",
            "Hasil Anotasi/GoldEntries_Tahap2_Hafiz - 68.csv\n",
            "Hasil Anotasi/GoldEntries_Tahap2_Hafiz - 54.csv\n",
            "Hasil Anotasi/GoldEntries_Tahap2_Hafiz - 18.csv\n",
            "Hasil Anotasi/GoldEntries_Tahap2_Qonita - 89.csv\n",
            "Hasil Anotasi/GoldEntries_Tahap2_Qonita - 68.csv\n",
            "0\n",
            "98\n",
            "99\n",
            "95\n",
            "96\n"
          ]
        }
      ]
    },
    {
      "cell_type": "code",
      "source": [
        "def is_same_sentence(gold_entry, sentence):\n",
        "    gold_entry_list = sentence_to_list(gold_entry)\n",
        "    sentence_list = sentence_to_list(sentence)\n",
        "\n",
        "    if len(gold_entry_list) == len(sentence_list):\n",
        "        for i in range(len(sentence_list)):\n",
        "            if gold_entry_list[i] != sentence_list[i]:\n",
        "                return False\n",
        "        return True\n",
        "\n",
        "    return False"
      ],
      "metadata": {
        "id": "gX_5pUyDr5B6"
      },
      "execution_count": null,
      "outputs": []
    },
    {
      "cell_type": "code",
      "source": [
        "def evaluate(input_path):\n",
        "    index_kamus = get_index_kamus(input_path)\n",
        "    total_entries = len(all_gold_entries[index_kamus])\n",
        "\n",
        "    if total_entries == 0:\n",
        "        return []\n",
        "\n",
        "    all_sentences = get_all_sentences(input_path)\n",
        "    correct_sentences = 0\n",
        "    correct_index = []\n",
        "\n",
        "    for i in range(len(all_gold_entries[index_kamus])):\n",
        "        gold_entry = all_gold_entries[index_kamus][i]\n",
        "        found = False\n",
        "\n",
        "        for sentence in all_sentences:\n",
        "            if is_same_sentence(gold_entry, sentence):\n",
        "                found = True\n",
        "                break\n",
        "\n",
        "        if found:\n",
        "            correct_sentences += 1\n",
        "            correct_index.append(i)\n",
        "\n",
        "    print('correct sentences:', correct_sentences)\n",
        "    print('total gold entries:', len(all_gold_entries[index_kamus]))\n",
        "    print('accuracy:', correct_sentences * 100.0 / len(all_gold_entries[index_kamus]))\n",
        "    return correct_index"
      ],
      "metadata": {
        "id": "uZtUl9zlqI9P"
      },
      "execution_count": null,
      "outputs": []
    },
    {
      "cell_type": "code",
      "source": [
        "import os\n",
        "\n",
        "parallel_corpus_path = 'Laporan Mingguan TA Harakan Julian Fausta/Minggu 15 (Final)/Ekstraksi/11. Parallel Corpus/'\n",
        "correct_before = [[], [], [], [], []]\n",
        "\n",
        "for file in os.listdir(parallel_corpus_path):\n",
        "    if file[0].isnumeric() and file[-4:] == '.csv':\n",
        "        index_kamus = get_index_kamus(file)\n",
        "        if index_kamus != -1:\n",
        "            print(file)\n",
        "            input_path = parallel_corpus_path + file\n",
        "            correct_before[index_kamus].extend(evaluate(input_path))"
      ],
      "metadata": {
        "colab": {
          "base_uri": "https://localhost:8080/"
        },
        "id": "jT0KYz2atmON",
        "outputId": "8e1417c0-20b3-4186-f44b-20d1623a687c"
      },
      "execution_count": null,
      "outputs": [
        {
          "output_type": "stream",
          "name": "stdout",
          "text": [
            "18_Parcor.csv\n",
            "54_Parcor.csv\n",
            "correct sentences: 16\n",
            "total gold entries: 98\n",
            "accuracy: 16.3265306122449\n",
            "71_Parcor.csv\n",
            "correct sentences: 81\n",
            "total gold entries: 95\n",
            "accuracy: 85.26315789473684\n",
            "68_Parcor.csv\n",
            "correct sentences: 58\n",
            "total gold entries: 99\n",
            "accuracy: 58.58585858585859\n",
            "89_Parcor.csv\n",
            "correct sentences: 86\n",
            "total gold entries: 96\n",
            "accuracy: 89.58333333333333\n"
          ]
        }
      ]
    },
    {
      "cell_type": "code",
      "source": [
        "import os\n",
        "\n",
        "spelling_checker_path = 'Laporan Mingguan TA Harakan Julian Fausta/Minggu 15 (Final)/Ekstraksi/12. Parallel Corpus - Spelling Checker/'\n",
        "correct_after = [[], [], [], [], []]\n",
        "\n",
        "for file in os.listdir(spelling_checker_path):\n",
        "    if file[0].isnumeric() and file[-4:] == '.csv':\n",
        "        index_kamus = get_index_kamus(file)\n",
        "        if index_kamus != -1:\n",
        "            print(file)\n",
        "            input_path = spelling_checker_path + file\n",
        "            correct_after[index_kamus].extend(evaluate(input_path))"
      ],
      "metadata": {
        "colab": {
          "base_uri": "https://localhost:8080/"
        },
        "id": "WXcFXdMakuqb",
        "outputId": "47dc6049-e7b8-437a-bdca-93be245ebd0d"
      },
      "execution_count": null,
      "outputs": [
        {
          "output_type": "stream",
          "name": "stdout",
          "text": [
            "18_Parcor.csv\n",
            "54_Parcor.csv\n",
            "correct sentences: 18\n",
            "total gold entries: 98\n",
            "accuracy: 18.367346938775512\n",
            "89_Parcor.csv\n",
            "correct sentences: 86\n",
            "total gold entries: 96\n",
            "accuracy: 89.58333333333333\n",
            "68_Parcor.csv\n",
            "correct sentences: 58\n",
            "total gold entries: 99\n",
            "accuracy: 58.58585858585859\n",
            "71_Parcor.csv\n",
            "correct sentences: 81\n",
            "total gold entries: 95\n",
            "accuracy: 85.26315789473684\n"
          ]
        }
      ]
    },
    {
      "cell_type": "code",
      "source": [
        "for i in range(len(kamus_list)):\n",
        "    total_entries = len(all_gold_entries[i])\n",
        "    false_to_false = []\n",
        "    false_to_true = []\n",
        "    true_to_false = []\n",
        "    true_to_true = []\n",
        "\n",
        "    for j in range(total_entries):\n",
        "        if j in correct_before[i]:\n",
        "            if j in correct_after[i]:\n",
        "                true_to_true.append(j)\n",
        "            else:\n",
        "                true_to_false.append(j)\n",
        "        else:\n",
        "            if j in correct_after[i]:\n",
        "                false_to_true.append(j)\n",
        "            else:\n",
        "                false_to_false.append(j)\n",
        "\n",
        "    print(kamus_list[i])\n",
        "    print('false -> false:', len(false_to_false))\n",
        "    print('false -> true:', len(false_to_true))\n",
        "    print('true -> false:', len(true_to_false))\n",
        "    print('true -> true:', len(true_to_true))\n",
        "\n",
        "    for idx in false_to_true:\n",
        "        print(all_gold_entries[i][idx])\n",
        "\n",
        "    for idx in true_to_false:\n",
        "        print(all_gold_entries[i][idx])"
      ],
      "metadata": {
        "colab": {
          "base_uri": "https://localhost:8080/"
        },
        "id": "VtMYVlINrX25",
        "outputId": "f23e7dd9-534b-463d-8338-8a48d597cfe1"
      },
      "execution_count": null,
      "outputs": [
        {
          "output_type": "stream",
          "name": "stdout",
          "text": [
            "18\n",
            "false -> false: 0\n",
            "false -> true: 0\n",
            "true -> false: 0\n",
            "true -> true: 0\n",
            "54\n",
            "false -> false: 79\n",
            "false -> true: 3\n",
            "true -> false: 1\n",
            "true -> true: 15\n",
            "letakkan minuman itu di atas baki\n",
            "kita tidak boleh memperlihatkan aurat kita\n",
            "baca buku itu\n",
            "mengasung itu sudah mati\n",
            "68\n",
            "false -> false: 41\n",
            "false -> true: 0\n",
            "true -> false: 0\n",
            "true -> true: 58\n",
            "71\n",
            "false -> false: 14\n",
            "false -> true: 0\n",
            "true -> false: 0\n",
            "true -> true: 81\n",
            "89\n",
            "false -> false: 10\n",
            "false -> true: 0\n",
            "true -> false: 0\n",
            "true -> true: 86\n"
          ]
        }
      ]
    },
    {
      "cell_type": "code",
      "source": [],
      "metadata": {
        "id": "0DbmmLk76my0"
      },
      "execution_count": null,
      "outputs": []
    }
  ]
}