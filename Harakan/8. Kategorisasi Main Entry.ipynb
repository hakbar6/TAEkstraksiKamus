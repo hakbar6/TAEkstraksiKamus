{
 "cells": [
  {
   "cell_type": "code",
   "execution_count": 8,
   "id": "e6c5516f",
   "metadata": {},
   "outputs": [],
   "source": [
    "import pandas as pd\n",
    "import numpy as np\n",
    "import os\n",
    "import re\n",
    "import json as js\n",
    "from pathlib import Path\n",
    "from tqdm import tqdm\n",
    "from ast import literal_eval"
   ]
  },
  {
   "cell_type": "code",
   "execution_count": 1,
   "id": "0d55a457",
   "metadata": {},
   "outputs": [],
   "source": [
    "POS = [\"v\",\"a\",\"n\",\"pron\",\"adv\",\"num\",\"p\"]\n",
    "\n",
    "def is_contain_bold_and_italic(font):\n",
    "    contains_bold = False; contains_italic = False\n",
    "    for i in font:\n",
    "        if \"bold\" in i.lower(): contains_bold = True\n",
    "        if \"italic\" in i.lower(): contains_italic = True\n",
    "        if contains_bold == True and contains_italic == True: return True\n",
    "    return False\n",
    "\n",
    "def is_contain_only_whitespaces(s):\n",
    "    if re.match(r'^\\s*$', str(s)): return True\n",
    "    return False\n",
    "\n",
    "def is_prakategorial(s):\n",
    "    kata = s.strip()\n",
    "    if len(kata) > 1:\n",
    "        if is_contain_only_whitespaces(kata[-2]) and (kata[-1] in POS): return True\n",
    "    else:\n",
    "        if (kata[-1] in POS): return True\n",
    "        \n",
    "    if re.match(r'.*\\,$',str(s)): return True\n",
    "    return False"
   ]
  },
  {
   "cell_type": "code",
   "execution_count": 2,
   "id": "0a75f8fd",
   "metadata": {},
   "outputs": [],
   "source": [
    "# kategorisasi entry, untuk memisahkan mana yang main entry dan sub entry\n",
    "def categorize_main_entry(entries, posisi, pages):\n",
    "    output = []\n",
    "    \n",
    "    i = 0; j = 0\n",
    "    while i < len(pages):\n",
    "        if isinstance(pages[i], list): # kasus entry cross page\n",
    "            prev_posisi_x0 = posisi[i-1][0]\n",
    "            \n",
    "            if abs(posisi[i][0] - prev_posisi_x0) <= 3:\n",
    "                output.append(output[i-1])\n",
    "                \n",
    "            else:\n",
    "                batas_atas = round(prev_posisi_x0 + (prev_posisi_x0 * (2/100)),2) # error 2%\n",
    "                batas_kolom = 2*batas_atas\n",
    "                \n",
    "                if posisi[i][0] > batas_atas and posisi[i][0] < batas_kolom:\n",
    "                    output.append(0)\n",
    "                    \n",
    "                else:\n",
    "                    output.append(1)\n",
    "                    \n",
    "            i += 1; j += 1\n",
    "        \n",
    "        else:   \n",
    "            entries_by_page = []; posisi_by_page = []; curr_page = pages[j] \n",
    "        \n",
    "            while curr_page == pages[i]: # kelompokkan entri berdasarkan halaman\n",
    "                entries_by_page.append(entries[j])\n",
    "                posisi_by_page.append(posisi[j][0])\n",
    "                j += 1\n",
    "                \n",
    "                if j > len(pages) - 1: \n",
    "                    break\n",
    "                    \n",
    "                curr_page = pages[j]\n",
    "                \n",
    "            sorted_posisi = sorted(posisi_by_page) # urutkan                \n",
    "            i = j; k = 0; l = 0 # update nilai i\n",
    "            \n",
    "            while k < len(posisi_by_page):\n",
    "                if is_prakategorial(entries_by_page[k]):\n",
    "                    if k == len(posisi_by_page)-1:\n",
    "                        output.append(1); break\n",
    "                    else:\n",
    "                        output.append(1)\n",
    "                        output.append(0)\n",
    "                        k += 2\n",
    "                else:\n",
    "                    if abs(posisi_by_page[k] - sorted_posisi[l]) > 3:\n",
    "                        output.append(0); k += 1 # handle header atau nomor halaman\n",
    "\n",
    "                    else:\n",
    "                        output.append(1) # index pertama setelah header atau nomor halaman\n",
    "                        batas_atas = round(posisi_by_page[k] + (posisi_by_page[k] * (2/100)),2) # error 2%\n",
    "                        batas_kolom = 2*batas_atas\n",
    "\n",
    "                        m = k + 1\n",
    "                        if m > len(posisi_by_page) - 1: break\n",
    "\n",
    "                        nxt_posisi = posisi_by_page[m]\n",
    "                        while nxt_posisi > batas_atas and nxt_posisi < batas_kolom:\n",
    "                            output.append(0); m += 1\n",
    "\n",
    "                            if m > len(posisi_by_page) - 1: \n",
    "                                break \n",
    "\n",
    "                            nxt_posisi = posisi_by_page[m]\n",
    "\n",
    "                        k = m\n",
    "                        if nxt_posisi < batas_kolom:\n",
    "                            l += 1\n",
    "                        else:\n",
    "                            l = m\n",
    "                \n",
    "                \n",
    "    return output "
   ]
  },
  {
   "cell_type": "code",
   "execution_count": 11,
   "id": "034db191",
   "metadata": {},
   "outputs": [
    {
     "name": "stderr",
     "output_type": "stream",
     "text": [
      "\r",
      "  0%|                                                                                           | 0/43 [00:00<?, ?it/s]"
     ]
    },
    {
     "name": "stdout",
     "output_type": "stream",
     "text": [
      "====10_Replace-categorizeAnomali.csv====\n"
     ]
    },
    {
     "name": "stderr",
     "output_type": "stream",
     "text": [
      "\r",
      "  2%|█▉                                                                                 | 1/43 [00:00<00:13,  3.06it/s]"
     ]
    },
    {
     "name": "stdout",
     "output_type": "stream",
     "text": [
      "====12_Replace-categorizeAnomali.csv====\n"
     ]
    },
    {
     "name": "stderr",
     "output_type": "stream",
     "text": [
      "  7%|█████▊                                                                             | 3/43 [00:01<00:13,  2.96it/s]"
     ]
    },
    {
     "name": "stdout",
     "output_type": "stream",
     "text": [
      "====17_Replace-categorizeAnomali.csv====\n",
      "====18_Replace-categorizeAnomali.csv====\n"
     ]
    },
    {
     "name": "stderr",
     "output_type": "stream",
     "text": [
      "\r",
      "  9%|███████▋                                                                           | 4/43 [00:01<00:19,  2.03it/s]"
     ]
    },
    {
     "name": "stdout",
     "output_type": "stream",
     "text": [
      "====19_Replace-categorizeAnomali.csv====\n"
     ]
    },
    {
     "name": "stderr",
     "output_type": "stream",
     "text": [
      " 14%|███████████▌                                                                       | 6/43 [00:02<00:14,  2.63it/s]"
     ]
    },
    {
     "name": "stdout",
     "output_type": "stream",
     "text": [
      "====20_Replace-categorizeAnomali.csv====\n",
      "====21_Replace-categorizeAnomali.csv====\n"
     ]
    },
    {
     "name": "stderr",
     "output_type": "stream",
     "text": [
      "\r",
      " 16%|█████████████▌                                                                     | 7/43 [00:02<00:11,  3.09it/s]"
     ]
    },
    {
     "name": "stdout",
     "output_type": "stream",
     "text": [
      "====23_Replace-categorizeAnomali.csv====\n"
     ]
    },
    {
     "name": "stderr",
     "output_type": "stream",
     "text": [
      "\r",
      " 19%|███████████████▍                                                                   | 8/43 [00:03<00:11,  3.06it/s]"
     ]
    },
    {
     "name": "stdout",
     "output_type": "stream",
     "text": [
      "====24_Replace-categorizeAnomali.csv====\n"
     ]
    },
    {
     "name": "stderr",
     "output_type": "stream",
     "text": [
      "\r",
      " 21%|█████████████████▎                                                                 | 9/43 [00:03<00:12,  2.70it/s]"
     ]
    },
    {
     "name": "stdout",
     "output_type": "stream",
     "text": [
      "====26_Replace-categorizeAnomali.csv====\n"
     ]
    },
    {
     "name": "stderr",
     "output_type": "stream",
     "text": [
      " 26%|████████████████████▉                                                             | 11/43 [00:03<00:09,  3.28it/s]"
     ]
    },
    {
     "name": "stdout",
     "output_type": "stream",
     "text": [
      "====27_Replace-categorizeAnomali.csv====\n",
      "====28_Replace-categorizeAnomali.csv====\n"
     ]
    },
    {
     "name": "stderr",
     "output_type": "stream",
     "text": [
      " 30%|████████████████████████▊                                                         | 13/43 [00:04<00:08,  3.61it/s]"
     ]
    },
    {
     "name": "stdout",
     "output_type": "stream",
     "text": [
      "====29_Replace-categorizeAnomali.csv====\n",
      "====2_Replace-categorizeAnomali.csv====\n"
     ]
    },
    {
     "name": "stderr",
     "output_type": "stream",
     "text": [
      " 35%|████████████████████████████▌                                                     | 15/43 [00:04<00:06,  4.03it/s]"
     ]
    },
    {
     "name": "stdout",
     "output_type": "stream",
     "text": [
      "====31_Replace-categorizeAnomali.csv====\n",
      "====32_Replace-categorizeAnomali.csv====\n"
     ]
    },
    {
     "name": "stderr",
     "output_type": "stream",
     "text": [
      "\r",
      " 37%|██████████████████████████████▌                                                   | 16/43 [00:05<00:06,  4.20it/s]"
     ]
    },
    {
     "name": "stdout",
     "output_type": "stream",
     "text": [
      "====33_Replace-categorizeAnomali.csv====\n"
     ]
    },
    {
     "name": "stderr",
     "output_type": "stream",
     "text": [
      "\r",
      " 40%|████████████████████████████████▍                                                 | 17/43 [00:05<00:06,  4.04it/s]"
     ]
    },
    {
     "name": "stdout",
     "output_type": "stream",
     "text": [
      "====34_Replace-categorizeAnomali.csv====\n"
     ]
    },
    {
     "name": "stderr",
     "output_type": "stream",
     "text": [
      "\r",
      " 42%|██████████████████████████████████▎                                               | 18/43 [00:06<00:09,  2.77it/s]"
     ]
    },
    {
     "name": "stdout",
     "output_type": "stream",
     "text": [
      "====36_Replace-categorizeAnomali.csv====\n"
     ]
    },
    {
     "name": "stderr",
     "output_type": "stream",
     "text": [
      "\r",
      " 44%|████████████████████████████████████▏                                             | 19/43 [00:06<00:08,  2.95it/s]"
     ]
    },
    {
     "name": "stdout",
     "output_type": "stream",
     "text": [
      "====38_Replace-categorizeAnomali.csv====\n"
     ]
    },
    {
     "name": "stderr",
     "output_type": "stream",
     "text": [
      "\r",
      " 47%|██████████████████████████████████████▏                                           | 20/43 [00:07<00:09,  2.35it/s]"
     ]
    },
    {
     "name": "stdout",
     "output_type": "stream",
     "text": [
      "====41_Replace-categorizeAnomali.csv====\n"
     ]
    },
    {
     "name": "stderr",
     "output_type": "stream",
     "text": [
      "\r",
      " 49%|████████████████████████████████████████                                          | 21/43 [00:07<00:11,  1.91it/s]"
     ]
    },
    {
     "name": "stdout",
     "output_type": "stream",
     "text": [
      "====42_Replace-categorizeAnomali.csv====\n"
     ]
    },
    {
     "name": "stderr",
     "output_type": "stream",
     "text": [
      " 53%|███████████████████████████████████████████▊                                      | 23/43 [00:08<00:09,  2.14it/s]"
     ]
    },
    {
     "name": "stdout",
     "output_type": "stream",
     "text": [
      "====44_Replace-categorizeAnomali.csv====\n",
      "====46_Replace-categorizeAnomali.csv====\n"
     ]
    },
    {
     "name": "stderr",
     "output_type": "stream",
     "text": [
      "\r",
      " 56%|█████████████████████████████████████████████▊                                    | 24/43 [00:09<00:11,  1.62it/s]"
     ]
    },
    {
     "name": "stdout",
     "output_type": "stream",
     "text": [
      "====4_Replace-categorizeAnomali.csv====\n"
     ]
    },
    {
     "name": "stderr",
     "output_type": "stream",
     "text": [
      " 60%|█████████████████████████████████████████████████▌                                | 26/43 [00:10<00:07,  2.31it/s]"
     ]
    },
    {
     "name": "stdout",
     "output_type": "stream",
     "text": [
      "====51_Replace-categorizeAnomali.csv====\n",
      "====52_Replace-categorizeAnomali.csv====\n"
     ]
    },
    {
     "name": "stderr",
     "output_type": "stream",
     "text": [
      " 65%|█████████████████████████████████████████████████████▍                            | 28/43 [00:10<00:04,  3.14it/s]"
     ]
    },
    {
     "name": "stdout",
     "output_type": "stream",
     "text": [
      "====54_Replace-categorizeAnomali.csv====\n",
      "====55_Replace-categorizeAnomali.csv====\n"
     ]
    },
    {
     "name": "stderr",
     "output_type": "stream",
     "text": [
      "\r",
      " 67%|███████████████████████████████████████████████████████▎                          | 29/43 [00:10<00:04,  3.30it/s]"
     ]
    },
    {
     "name": "stdout",
     "output_type": "stream",
     "text": [
      "====56_Replace-categorizeAnomali.csv====\n"
     ]
    },
    {
     "name": "stderr",
     "output_type": "stream",
     "text": [
      "\r",
      " 70%|█████████████████████████████████████████████████████████▏                        | 30/43 [00:11<00:03,  3.42it/s]"
     ]
    },
    {
     "name": "stdout",
     "output_type": "stream",
     "text": [
      "====58_Replace-categorizeAnomali.csv====\n"
     ]
    },
    {
     "name": "stderr",
     "output_type": "stream",
     "text": [
      "\r",
      " 72%|███████████████████████████████████████████████████████████                       | 31/43 [00:11<00:03,  3.34it/s]"
     ]
    },
    {
     "name": "stdout",
     "output_type": "stream",
     "text": [
      "====5_Replace-categorizeAnomali.csv====\n"
     ]
    },
    {
     "name": "stderr",
     "output_type": "stream",
     "text": [
      "\r",
      " 74%|█████████████████████████████████████████████████████████████                     | 32/43 [00:11<00:03,  3.66it/s]"
     ]
    },
    {
     "name": "stdout",
     "output_type": "stream",
     "text": [
      "====60_Replace-categorizeAnomali.csv====\n"
     ]
    },
    {
     "name": "stderr",
     "output_type": "stream",
     "text": [
      "\r",
      " 77%|██████████████████████████████████████████████████████████████▉                   | 33/43 [00:12<00:02,  3.34it/s]"
     ]
    },
    {
     "name": "stdout",
     "output_type": "stream",
     "text": [
      "====63_Replace-categorizeAnomali.csv====\n"
     ]
    },
    {
     "name": "stderr",
     "output_type": "stream",
     "text": [
      " 81%|██████████████████████████████████████████████████████████████████▋               | 35/43 [00:12<00:01,  4.12it/s]"
     ]
    },
    {
     "name": "stdout",
     "output_type": "stream",
     "text": [
      "====66_Replace-categorizeAnomali.csv====\n",
      "====68_Replace-categorizeAnomali.csv====\n"
     ]
    },
    {
     "name": "stderr",
     "output_type": "stream",
     "text": [
      " 88%|████████████████████████████████████████████████████████████████████████▍         | 38/43 [00:13<00:01,  4.61it/s]"
     ]
    },
    {
     "name": "stdout",
     "output_type": "stream",
     "text": [
      "====71_Replace-categorizeAnomali.csv====\n",
      "====78_Replace-categorizeAnomali.csv====\n",
      "====84_Replace-categorizeAnomali.csv====\n",
      "====85_Replace-categorizeAnomali.csv====\n"
     ]
    },
    {
     "name": "stderr",
     "output_type": "stream",
     "text": [
      "\r",
      " 93%|████████████████████████████████████████████████████████████████████████████▎     | 40/43 [00:13<00:00,  5.35it/s]"
     ]
    },
    {
     "name": "stdout",
     "output_type": "stream",
     "text": [
      "====87_Replace-categorizeAnomali.csv====\n"
     ]
    },
    {
     "name": "stderr",
     "output_type": "stream",
     "text": [
      " 98%|████████████████████████████████████████████████████████████████████████████████  | 42/43 [00:14<00:00,  4.44it/s]"
     ]
    },
    {
     "name": "stdout",
     "output_type": "stream",
     "text": [
      "====89_Replace-categorizeAnomali.csv====\n",
      "====91_Replace-categorizeAnomali.csv====\n"
     ]
    },
    {
     "name": "stderr",
     "output_type": "stream",
     "text": [
      "100%|██████████████████████████████████████████████████████████████████████████████████| 43/43 [00:14<00:00,  2.93it/s]\n"
     ]
    }
   ],
   "source": [
    "directory_CSV = \"4. Remove Anomali\"\n",
    "directory_hasil = \"5. Kategorisasi Main Entry\"\n",
    "\n",
    "for filename in tqdm(os.listdir(directory_CSV)):\n",
    "    print(\"====\" + filename + \"====\")\n",
    "    kamus = pd.read_csv(directory_CSV + \"/\" + filename)\n",
    "    \n",
    "    posisi_entry = []\n",
    "    for i in kamus[\"posisi_entry\"].values.tolist():\n",
    "        posisi_entry.append(literal_eval(i))\n",
    "        \n",
    "    page = []\n",
    "    for i in kamus[\"page\"].values.tolist():\n",
    "        if not isinstance(i,int):\n",
    "            page.append(literal_eval(i))\n",
    "        else:\n",
    "            page.append(int(i))\n",
    "            \n",
    "    entries = kamus[\"Entri\"].values.tolist()\n",
    "            \n",
    "    kategori = categorize_main_entry(entries, posisi_entry, page)\n",
    "    kamus[\"main_entry\"] = kategori\n",
    "    \n",
    "    new_filename = os.path.splitext(filename)[0]\n",
    "    kamus.to_csv(directory_hasil + \"/\" + new_filename + \"-WithMainEntry.csv\",index=False)\n",
    "    \n",
    "#     input_fonts = data[\"font\"].values.tolist()\n",
    "    \n",
    "#     if is_contain_bold_and_italic(input_fonts):\n",
    "#         print(\"====\" + new_filename + \"====\")\n",
    "#         CSV_res = build_corpus_one_entry_by_font_pos(data)\n",
    "\n",
    "#         result_csv = pd.DataFrame.from_dict(CSV_res)\n",
    "#         result_csv = result_csv[result_csv[\"Entri\"] != \"\"]\n",
    "#         result_csv = result_csv.reset_index(drop=True)\n",
    "#         result_csv.to_csv(directory_hasil + \"/\" + new_filename + \"-one_entry_from_JSON_font_posisi.csv\",index=False)\n",
    "#         try:\n",
    "#             CSV_res = build_corpus_one_entry_by_font_pos(data)\n",
    "\n",
    "#             result_csv = pd.DataFrame.from_dict(CSV_res)\n",
    "#             result_csv.to_csv(directory_hasil + \"/\" + new_filename + \"-one_entry_from_JSON_font_posisi.csv\",index=False)\n",
    "#         except:\n",
    "#             print(\"==== Kamus Gagal ====\")\n",
    "#             print(new_filename)"
   ]
  },
  {
   "cell_type": "code",
   "execution_count": null,
   "id": "04750ea7",
   "metadata": {},
   "outputs": [],
   "source": []
  },
  {
   "cell_type": "code",
   "execution_count": null,
   "id": "b912bc9d",
   "metadata": {},
   "outputs": [],
   "source": []
  }
 ],
 "metadata": {
  "kernelspec": {
   "display_name": "Python 3 (ipykernel)",
   "language": "python",
   "name": "python3"
  },
  "language_info": {
   "codemirror_mode": {
    "name": "ipython",
    "version": 3
   },
   "file_extension": ".py",
   "mimetype": "text/x-python",
   "name": "python",
   "nbconvert_exporter": "python",
   "pygments_lexer": "ipython3",
   "version": "3.9.13"
  }
 },
 "nbformat": 4,
 "nbformat_minor": 5
}
