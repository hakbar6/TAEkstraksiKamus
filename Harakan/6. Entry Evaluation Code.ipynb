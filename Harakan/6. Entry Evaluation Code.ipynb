{
 "cells": [
  {
   "cell_type": "code",
   "execution_count": 1,
   "id": "d2e2b620",
   "metadata": {},
   "outputs": [],
   "source": [
    "import pandas as pd\n",
    "import numpy as np\n",
    "import os\n",
    "import re\n",
    "import json as js\n",
    "from pathlib import Path\n",
    "from tqdm import tqdm\n",
    "import fastDamerauLevenshtein as fdl\n",
    "import fastwer"
   ]
  },
  {
   "cell_type": "code",
   "execution_count": 2,
   "id": "446e428f",
   "metadata": {},
   "outputs": [],
   "source": [
    "directory_manual_entry = \"Manual Entry\"\n",
    "directory_hasil = \"Hasil Evaluasi\""
   ]
  },
  {
   "cell_type": "markdown",
   "id": "f4debecb",
   "metadata": {},
   "source": [
    "### Program Evaluasi"
   ]
  },
  {
   "cell_type": "code",
   "execution_count": 3,
   "id": "9f20467e",
   "metadata": {},
   "outputs": [],
   "source": [
    "def find_similarity(gold_entries, entries):\n",
    "    entries_result = []\n",
    "    gold_entries_result = []\n",
    "    similarity_values = []\n",
    "    \n",
    "    for i in range(len(gold_entries)):\n",
    "        gold_entry = gold_entries[i]\n",
    "        max_value = 0\n",
    "        sentence_similar = \"\"\n",
    "\n",
    "        for j in range(len(entries)):\n",
    "            entry = entries[j]\n",
    "            similarity = fdl.damerauLevenshtein(gold_entry, entry, similarity=True)\n",
    "\n",
    "            if (similarity > max_value):\n",
    "                max_value = similarity\n",
    "                sentence_similar = entry\n",
    "    \n",
    "        gold_entries_result.append(gold_entry)\n",
    "        entries_result.append(sentence_similar)\n",
    "        similarity_values.append(max_value)\n",
    "    \n",
    "    return gold_entries_result, entries_result, similarity_values"
   ]
  },
  {
   "cell_type": "code",
   "execution_count": 4,
   "id": "872c536e",
   "metadata": {},
   "outputs": [],
   "source": [
    "def evaluate_entry(gold_entries, entries):\n",
    "    gold_entries_result, entries_result, similarity_values = find_similarity(gold_entries, entries)\n",
    "    \n",
    "    result = {\n",
    "        \"gold_entry\":gold_entries_result,\n",
    "        \"similar_entry\":entries_result,\n",
    "        \"similarity_values\":similarity_values\n",
    "    }\n",
    "    \n",
    "    return result"
   ]
  },
  {
   "cell_type": "markdown",
   "id": "b4db0420",
   "metadata": {},
   "source": [
    "### Main Program (JSON General Font Approach)"
   ]
  },
  {
   "cell_type": "code",
   "execution_count": 5,
   "id": "3e123222",
   "metadata": {},
   "outputs": [],
   "source": [
    "def run_program_evaluation(manual_entries_directory, target_entries_directory, hasil_directory, input_type, approach_type):\n",
    "    manual_entries = sorted(os.listdir(manual_entries_directory))\n",
    "    entries_extraction_JSON_generic = sorted(os.listdir(target_entries_directory))\n",
    "    \n",
    "    ## ringkasan evaluasi\n",
    "    kamus = []\n",
    "    banyak_entri_sebenarnya = []\n",
    "    banyak_entri_hasil_ekstraksi = []\n",
    "    mean_similarity_tiap_entri = []\n",
    "    persentasi_entri_1 = [] # diatas 0.8\n",
    "    persentasi_entri_2 = [] # diatas 0.85\n",
    "    persentasi_entri_3 = [] # diatas 0.9\n",
    "    persentasi_entri_benar = [] # == 1\n",
    "    word_error_rate = []\n",
    "    char_error_rate = []\n",
    "    \n",
    "    for i in tqdm(range(len(manual_entries))):\n",
    "        filename_manual_entry = manual_entries[i]\n",
    "        filename_entry_extraction = entries_extraction_JSON_generic[i]\n",
    "        print(\"===== Evaluasi Kamus \" + filename_manual_entry + \" =====\")\n",
    "        \n",
    "        manual_entry = pd.read_csv(manual_entries_directory + \"/\" + filename_manual_entry)\n",
    "        entry_extraction = pd.read_csv(target_entries_directory + \"/\" + filename_entry_extraction)\n",
    "        \n",
    "        entry_extraction = entry_extraction.dropna()\n",
    "        entry_extraction = entry_extraction.reset_index(drop=True)\n",
    "        \n",
    "        entries = entry_extraction[\"Entri\"].values.tolist()\n",
    "        gold_entries = manual_entry[\"Entri\"].values.tolist()\n",
    "        \n",
    "        result = evaluate_entry(gold_entries, entries)\n",
    "        \n",
    "        ## simpan hasil dalam CSV\n",
    "        filename_result = os.path.splitext(filename_manual_entry)[0]\n",
    "        filename_result = filename_result[22:]\n",
    "        data_res = pd.DataFrame.from_dict(result)\n",
    "        filename_res = \"/Hasil Evaluasi Pendekatan \" + str(approach_type) + \" \" + str(input_type)\n",
    "        data_res.to_csv(hasil_directory + filename_res + filename_result + \".csv\",index=False)\n",
    "        \n",
    "        ## summarize\n",
    "        kamus.append(os.path.splitext(filename_entry_extraction)[0])\n",
    "        banyak_entri_sebenarnya.append(len(gold_entries))\n",
    "        banyak_entri_hasil_ekstraksi.append(len(entries))\n",
    "\n",
    "        # count 0.8\n",
    "        count_true = len(data_res[data_res[\"similarity_values\"] > 0.8])\n",
    "        persen_true = round(count_true/len(gold_entries),2)\n",
    "        persentasi_entri_1.append(persen_true)\n",
    "        \n",
    "        # count 0.85\n",
    "        count_true = len(data_res[data_res[\"similarity_values\"] > 0.85])\n",
    "        persen_true = round(count_true/len(gold_entries),2)\n",
    "        persentasi_entri_2.append(persen_true)\n",
    "        \n",
    "        # count 0.9\n",
    "        count_true = len(data_res[data_res[\"similarity_values\"] > 0.9])\n",
    "        persen_true = round(count_true/len(gold_entries),2)\n",
    "        persentasi_entri_3.append(persen_true)\n",
    "        \n",
    "        # count == 1\n",
    "        count_true = len(data_res[data_res[\"similarity_values\"] == 1])\n",
    "        persen_true = round(count_true/len(gold_entries),2)\n",
    "        persentasi_entri_benar.append(persen_true)\n",
    "        \n",
    "        # WER, CER\n",
    "        expected = (\"\\n\").join(gold_entries)\n",
    "        result = (\"\\n\").join(entries)\n",
    "        word_error_rate.append(round(fastwer.score_sent(result,expected, char_level=False),2))\n",
    "        char_error_rate.append(round(fastwer.score_sent(result,expected, char_level=True),2))\n",
    "        mean_similarity_tiap_entri.append(data_res[\"similarity_values\"].mean())\n",
    "        \n",
    "    # simpan ringkasan pada file CSV\n",
    "    summarize_result = {\n",
    "        \"kamus\" : kamus,\n",
    "        \"banyak_entri_sebenarnya\" : banyak_entri_sebenarnya,\n",
    "        \"banyak_entri_pengolahan\" : banyak_entri_hasil_ekstraksi,\n",
    "        \"mean_similarity_per_entri\":mean_similarity_tiap_entri,\n",
    "        \"Persentase entri diatas 0.8\":persentasi_entri_1,\n",
    "        \"Persentase entri diatas 0.85\":persentasi_entri_2,\n",
    "        \"Persentase entri diatas 0.9\":persentasi_entri_3,\n",
    "        \"Persentase entri benar\":persentasi_entri_benar,\n",
    "        \"word_error_rate\":word_error_rate,\n",
    "        \"characted_error_rate\":char_error_rate\n",
    "    }\n",
    "\n",
    "    data_summarize = pd.DataFrame.from_dict(summarize_result)\n",
    "    filename_summarize = \"/Ringkasan Evaluasi Pendekatan \" + approach_type + \" bentuk \" + input_type + \".csv\"\n",
    "    data_summarize.to_csv(hasil_directory + filename_summarize,index=False)"
   ]
  },
  {
   "cell_type": "markdown",
   "id": "ae2279af",
   "metadata": {},
   "source": [
    "### JSON Font Approach"
   ]
  },
  {
   "cell_type": "code",
   "execution_count": 12,
   "id": "93f3690d",
   "metadata": {},
   "outputs": [
    {
     "name": "stderr",
     "output_type": "stream",
     "text": [
      " 11%|█████████▎                                                                          | 1/9 [00:00<00:01,  5.51it/s]"
     ]
    },
    {
     "name": "stdout",
     "output_type": "stream",
     "text": [
      "===== Evaluasi Kamus Dataset Manual Entri - 41. Kamus Bahasa Indonesia - Bali.csv =====\n"
     ]
    },
    {
     "name": "stderr",
     "output_type": "stream",
     "text": [
      "\r",
      " 22%|██████████████████▋                                                                 | 2/9 [00:00<00:01,  4.82it/s]"
     ]
    },
    {
     "name": "stdout",
     "output_type": "stream",
     "text": [
      "===== Evaluasi Kamus Dataset Manual Entri - 43. Kamus Bahasa Indonesia - Minangkabau I.csv =====\n"
     ]
    },
    {
     "name": "stderr",
     "output_type": "stream",
     "text": [
      "\r",
      " 33%|████████████████████████████                                                        | 3/9 [00:00<00:00,  6.12it/s]"
     ]
    },
    {
     "name": "stdout",
     "output_type": "stream",
     "text": [
      "===== Evaluasi Kamus Dataset Manual Entri - 54. Kamus Bahasa Indonesia Mentawai.csv =====\n",
      "===== Evaluasi Kamus Dataset Manual Entri - 57. Kamus Bahasa Bugis-Indonesia.csv =====\n"
     ]
    },
    {
     "name": "stderr",
     "output_type": "stream",
     "text": [
      "\r",
      " 44%|█████████████████████████████████████▎                                              | 4/9 [00:01<00:02,  2.26it/s]"
     ]
    },
    {
     "name": "stdout",
     "output_type": "stream",
     "text": [
      "===== Evaluasi Kamus Dataset Manual Entri - 61. Kamus Banjar-Indonesia.csv =====\n"
     ]
    },
    {
     "name": "stderr",
     "output_type": "stream",
     "text": [
      " 67%|████████████████████████████████████████████████████████                            | 6/9 [00:01<00:01,  2.90it/s]"
     ]
    },
    {
     "name": "stdout",
     "output_type": "stream",
     "text": [
      "===== Evaluasi Kamus Dataset Manual Entri - 68. Kamus Talaud - Indonesia.csv =====\n",
      "===== Evaluasi Kamus Dataset Manual Entri - 77. Kamus Samawa-Indonesia.csv =====\n"
     ]
    },
    {
     "name": "stderr",
     "output_type": "stream",
     "text": [
      "\r",
      " 78%|█████████████████████████████████████████████████████████████████▎                  | 7/9 [00:02<00:00,  2.72it/s]"
     ]
    },
    {
     "name": "stdout",
     "output_type": "stream",
     "text": [
      "===== Evaluasi Kamus Dataset Manual Entri - 89. Kamus Bahasa Mooi - Indonesia.csv =====\n",
      "===== Evaluasi Kamus Dataset Manual Entri - 91. Kamus Simalungun Indonesia.csv =====\n"
     ]
    },
    {
     "name": "stderr",
     "output_type": "stream",
     "text": [
      "100%|████████████████████████████████████████████████████████████████████████████████████| 9/9 [00:02<00:00,  3.11it/s]\n"
     ]
    }
   ],
   "source": [
    "run_program_evaluation(\n",
    "    directory_manual_entry,\n",
    "    \"CSV One Entry JSON With Font Approach\",\n",
    "    \"Hasil Evaluasi\",\n",
    "    \"JSON\",\n",
    "    \"Font (2)\"\n",
    ")"
   ]
  },
  {
   "cell_type": "code",
   "execution_count": 13,
   "id": "9aa00788",
   "metadata": {},
   "outputs": [
    {
     "data": {
      "text/html": [
       "<div>\n",
       "<style scoped>\n",
       "    .dataframe tbody tr th:only-of-type {\n",
       "        vertical-align: middle;\n",
       "    }\n",
       "\n",
       "    .dataframe tbody tr th {\n",
       "        vertical-align: top;\n",
       "    }\n",
       "\n",
       "    .dataframe thead th {\n",
       "        text-align: right;\n",
       "    }\n",
       "</style>\n",
       "<table border=\"1\" class=\"dataframe\">\n",
       "  <thead>\n",
       "    <tr style=\"text-align: right;\">\n",
       "      <th></th>\n",
       "      <th>kamus</th>\n",
       "      <th>banyak_entri_sebenarnya</th>\n",
       "      <th>banyak_entri_pengolahan</th>\n",
       "      <th>mean_similarity_per_entri</th>\n",
       "      <th>Persentase entri diatas 0.8</th>\n",
       "      <th>Persentase entri diatas 0.85</th>\n",
       "      <th>Persentase entri diatas 0.9</th>\n",
       "      <th>Persentase entri benar</th>\n",
       "      <th>word_error_rate</th>\n",
       "      <th>characted_error_rate</th>\n",
       "    </tr>\n",
       "  </thead>\n",
       "  <tbody>\n",
       "    <tr>\n",
       "      <th>0</th>\n",
       "      <td>41. Kamus Bahasa Indonesia-Bali A-K (1997)-pag...</td>\n",
       "      <td>62</td>\n",
       "      <td>55</td>\n",
       "      <td>0.841378</td>\n",
       "      <td>0.71</td>\n",
       "      <td>0.71</td>\n",
       "      <td>0.68</td>\n",
       "      <td>0.34</td>\n",
       "      <td>23.08</td>\n",
       "      <td>3.63</td>\n",
       "    </tr>\n",
       "    <tr>\n",
       "      <th>1</th>\n",
       "      <td>43. Kamus Bahasa Indonesia-Bahasa Minangkabau ...</td>\n",
       "      <td>28</td>\n",
       "      <td>17</td>\n",
       "      <td>0.607245</td>\n",
       "      <td>0.39</td>\n",
       "      <td>0.39</td>\n",
       "      <td>0.36</td>\n",
       "      <td>0.11</td>\n",
       "      <td>16.63</td>\n",
       "      <td>7.27</td>\n",
       "    </tr>\n",
       "    <tr>\n",
       "      <th>2</th>\n",
       "      <td>54. Kamus Bahasa Indonesia Mentawai (1998)-pag...</td>\n",
       "      <td>53</td>\n",
       "      <td>44</td>\n",
       "      <td>0.860293</td>\n",
       "      <td>0.72</td>\n",
       "      <td>0.72</td>\n",
       "      <td>0.64</td>\n",
       "      <td>0.38</td>\n",
       "      <td>24.15</td>\n",
       "      <td>4.01</td>\n",
       "    </tr>\n",
       "    <tr>\n",
       "      <th>3</th>\n",
       "      <td>57. Kamus Bahasa Bugis-Indonesia (1977)-page_2...</td>\n",
       "      <td>88</td>\n",
       "      <td>34</td>\n",
       "      <td>0.375872</td>\n",
       "      <td>0.03</td>\n",
       "      <td>0.02</td>\n",
       "      <td>0.01</td>\n",
       "      <td>0.01</td>\n",
       "      <td>79.32</td>\n",
       "      <td>29.19</td>\n",
       "    </tr>\n",
       "    <tr>\n",
       "      <th>4</th>\n",
       "      <td>61. Kamus Banjar-Indonesia (1977)-page_51_52-h...</td>\n",
       "      <td>112</td>\n",
       "      <td>12</td>\n",
       "      <td>0.289234</td>\n",
       "      <td>0.01</td>\n",
       "      <td>0.01</td>\n",
       "      <td>0.00</td>\n",
       "      <td>0.00</td>\n",
       "      <td>68.34</td>\n",
       "      <td>32.00</td>\n",
       "    </tr>\n",
       "    <tr>\n",
       "      <th>5</th>\n",
       "      <td>68. Kamus Dwibahasa Bahasa Talaud - Bahasa Ind...</td>\n",
       "      <td>56</td>\n",
       "      <td>66</td>\n",
       "      <td>0.980579</td>\n",
       "      <td>0.98</td>\n",
       "      <td>0.98</td>\n",
       "      <td>0.96</td>\n",
       "      <td>0.91</td>\n",
       "      <td>2.61</td>\n",
       "      <td>3.20</td>\n",
       "    </tr>\n",
       "    <tr>\n",
       "      <th>6</th>\n",
       "      <td>77. Kamus Samawa-Indonesia Edisi 2 (2017)-page...</td>\n",
       "      <td>68</td>\n",
       "      <td>31</td>\n",
       "      <td>0.590762</td>\n",
       "      <td>0.37</td>\n",
       "      <td>0.35</td>\n",
       "      <td>0.35</td>\n",
       "      <td>0.24</td>\n",
       "      <td>39.71</td>\n",
       "      <td>31.07</td>\n",
       "    </tr>\n",
       "    <tr>\n",
       "      <th>7</th>\n",
       "      <td>89. Kamus Dwibahasa Bahasa Mooi-Bahasa Indones...</td>\n",
       "      <td>36</td>\n",
       "      <td>35</td>\n",
       "      <td>0.983382</td>\n",
       "      <td>0.97</td>\n",
       "      <td>0.97</td>\n",
       "      <td>0.97</td>\n",
       "      <td>0.89</td>\n",
       "      <td>2.66</td>\n",
       "      <td>0.51</td>\n",
       "    </tr>\n",
       "    <tr>\n",
       "      <th>8</th>\n",
       "      <td>91. Kamus Simalungun - Indonesia (edisi kedua)...</td>\n",
       "      <td>82</td>\n",
       "      <td>72</td>\n",
       "      <td>0.879138</td>\n",
       "      <td>0.79</td>\n",
       "      <td>0.78</td>\n",
       "      <td>0.76</td>\n",
       "      <td>0.60</td>\n",
       "      <td>12.46</td>\n",
       "      <td>3.85</td>\n",
       "    </tr>\n",
       "  </tbody>\n",
       "</table>\n",
       "</div>"
      ],
      "text/plain": [
       "                                               kamus  banyak_entri_sebenarnya  \\\n",
       "0  41. Kamus Bahasa Indonesia-Bali A-K (1997)-pag...                       62   \n",
       "1  43. Kamus Bahasa Indonesia-Bahasa Minangkabau ...                       28   \n",
       "2  54. Kamus Bahasa Indonesia Mentawai (1998)-pag...                       53   \n",
       "3  57. Kamus Bahasa Bugis-Indonesia (1977)-page_2...                       88   \n",
       "4  61. Kamus Banjar-Indonesia (1977)-page_51_52-h...                      112   \n",
       "5  68. Kamus Dwibahasa Bahasa Talaud - Bahasa Ind...                       56   \n",
       "6  77. Kamus Samawa-Indonesia Edisi 2 (2017)-page...                       68   \n",
       "7  89. Kamus Dwibahasa Bahasa Mooi-Bahasa Indones...                       36   \n",
       "8  91. Kamus Simalungun - Indonesia (edisi kedua)...                       82   \n",
       "\n",
       "   banyak_entri_pengolahan  mean_similarity_per_entri  \\\n",
       "0                       55                   0.841378   \n",
       "1                       17                   0.607245   \n",
       "2                       44                   0.860293   \n",
       "3                       34                   0.375872   \n",
       "4                       12                   0.289234   \n",
       "5                       66                   0.980579   \n",
       "6                       31                   0.590762   \n",
       "7                       35                   0.983382   \n",
       "8                       72                   0.879138   \n",
       "\n",
       "   Persentase entri diatas 0.8  Persentase entri diatas 0.85  \\\n",
       "0                         0.71                          0.71   \n",
       "1                         0.39                          0.39   \n",
       "2                         0.72                          0.72   \n",
       "3                         0.03                          0.02   \n",
       "4                         0.01                          0.01   \n",
       "5                         0.98                          0.98   \n",
       "6                         0.37                          0.35   \n",
       "7                         0.97                          0.97   \n",
       "8                         0.79                          0.78   \n",
       "\n",
       "   Persentase entri diatas 0.9  Persentase entri benar  word_error_rate  \\\n",
       "0                         0.68                    0.34            23.08   \n",
       "1                         0.36                    0.11            16.63   \n",
       "2                         0.64                    0.38            24.15   \n",
       "3                         0.01                    0.01            79.32   \n",
       "4                         0.00                    0.00            68.34   \n",
       "5                         0.96                    0.91             2.61   \n",
       "6                         0.35                    0.24            39.71   \n",
       "7                         0.97                    0.89             2.66   \n",
       "8                         0.76                    0.60            12.46   \n",
       "\n",
       "   characted_error_rate  \n",
       "0                  3.63  \n",
       "1                  7.27  \n",
       "2                  4.01  \n",
       "3                 29.19  \n",
       "4                 32.00  \n",
       "5                  3.20  \n",
       "6                 31.07  \n",
       "7                  0.51  \n",
       "8                  3.85  "
      ]
     },
     "execution_count": 13,
     "metadata": {},
     "output_type": "execute_result"
    }
   ],
   "source": [
    "data_summarize = pd.read_csv(\"Hasil Evaluasi\" + \"/Ringkasan Evaluasi Pendekatan Font (2) bentuk JSON.csv\")\n",
    "data_summarize"
   ]
  },
  {
   "cell_type": "code",
   "execution_count": 31,
   "id": "12b6229b",
   "metadata": {},
   "outputs": [
    {
     "name": "stderr",
     "output_type": "stream",
     "text": [
      " 11%|█████████▎                                                                          | 1/9 [00:00<00:01,  6.78it/s]"
     ]
    },
    {
     "name": "stdout",
     "output_type": "stream",
     "text": [
      "===== Evaluasi Kamus Dataset Manual Entri - 41. Kamus Bahasa Indonesia - Bali.csv =====\n",
      "===== Evaluasi Kamus Dataset Manual Entri - 43. Kamus Bahasa Indonesia - Minangkabau I.csv =====\n"
     ]
    },
    {
     "name": "stderr",
     "output_type": "stream",
     "text": [
      " 33%|████████████████████████████                                                        | 3/9 [00:00<00:00,  6.42it/s]"
     ]
    },
    {
     "name": "stdout",
     "output_type": "stream",
     "text": [
      "===== Evaluasi Kamus Dataset Manual Entri - 54. Kamus Bahasa Indonesia Mentawai.csv =====\n",
      "===== Evaluasi Kamus Dataset Manual Entri - 57. Kamus Bahasa Bugis-Indonesia.csv =====\n"
     ]
    },
    {
     "name": "stderr",
     "output_type": "stream",
     "text": [
      "\r",
      " 44%|█████████████████████████████████████▎                                              | 4/9 [00:01<00:02,  2.33it/s]"
     ]
    },
    {
     "name": "stdout",
     "output_type": "stream",
     "text": [
      "===== Evaluasi Kamus Dataset Manual Entri - 61. Kamus Banjar-Indonesia.csv =====\n"
     ]
    },
    {
     "name": "stderr",
     "output_type": "stream",
     "text": [
      " 67%|████████████████████████████████████████████████████████                            | 6/9 [00:01<00:01,  3.00it/s]"
     ]
    },
    {
     "name": "stdout",
     "output_type": "stream",
     "text": [
      "===== Evaluasi Kamus Dataset Manual Entri - 68. Kamus Talaud - Indonesia.csv =====\n",
      "===== Evaluasi Kamus Dataset Manual Entri - 77. Kamus Samawa-Indonesia.csv =====\n"
     ]
    },
    {
     "name": "stderr",
     "output_type": "stream",
     "text": [
      "\r",
      " 78%|█████████████████████████████████████████████████████████████████▎                  | 7/9 [00:02<00:00,  2.76it/s]"
     ]
    },
    {
     "name": "stdout",
     "output_type": "stream",
     "text": [
      "===== Evaluasi Kamus Dataset Manual Entri - 89. Kamus Bahasa Mooi - Indonesia.csv =====\n",
      "===== Evaluasi Kamus Dataset Manual Entri - 91. Kamus Simalungun Indonesia.csv =====\n"
     ]
    },
    {
     "name": "stderr",
     "output_type": "stream",
     "text": [
      "100%|████████████████████████████████████████████████████████████████████████████████████| 9/9 [00:02<00:00,  3.16it/s]\n"
     ]
    }
   ],
   "source": [
    "run_program_evaluation(\n",
    "    directory_manual_entry,\n",
    "    \"CSV One Entry JSON With Font + Posisi Approach\",\n",
    "    \"Hasil Evaluasi\",\n",
    "    \"JSON\",\n",
    "    \"Font + Posisi (2)\"\n",
    ")"
   ]
  },
  {
   "cell_type": "code",
   "execution_count": 32,
   "id": "50665d4b",
   "metadata": {
    "scrolled": false
   },
   "outputs": [
    {
     "data": {
      "text/html": [
       "<div>\n",
       "<style scoped>\n",
       "    .dataframe tbody tr th:only-of-type {\n",
       "        vertical-align: middle;\n",
       "    }\n",
       "\n",
       "    .dataframe tbody tr th {\n",
       "        vertical-align: top;\n",
       "    }\n",
       "\n",
       "    .dataframe thead th {\n",
       "        text-align: right;\n",
       "    }\n",
       "</style>\n",
       "<table border=\"1\" class=\"dataframe\">\n",
       "  <thead>\n",
       "    <tr style=\"text-align: right;\">\n",
       "      <th></th>\n",
       "      <th>kamus</th>\n",
       "      <th>banyak_entri_sebenarnya</th>\n",
       "      <th>banyak_entri_pengolahan</th>\n",
       "      <th>mean_similarity_per_entri</th>\n",
       "      <th>Persentase entri diatas 0.8</th>\n",
       "      <th>Persentase entri diatas 0.85</th>\n",
       "      <th>Persentase entri diatas 0.9</th>\n",
       "      <th>Persentase entri benar</th>\n",
       "      <th>word_error_rate</th>\n",
       "      <th>characted_error_rate</th>\n",
       "    </tr>\n",
       "  </thead>\n",
       "  <tbody>\n",
       "    <tr>\n",
       "      <th>0</th>\n",
       "      <td>41. Kamus Bahasa Indonesia-Bali A-K (1997)-pag...</td>\n",
       "      <td>62</td>\n",
       "      <td>55</td>\n",
       "      <td>0.845098</td>\n",
       "      <td>0.73</td>\n",
       "      <td>0.73</td>\n",
       "      <td>0.69</td>\n",
       "      <td>0.37</td>\n",
       "      <td>22.79</td>\n",
       "      <td>3.56</td>\n",
       "    </tr>\n",
       "    <tr>\n",
       "      <th>1</th>\n",
       "      <td>43. Kamus Bahasa Indonesia-Bahasa Minangkabau ...</td>\n",
       "      <td>28</td>\n",
       "      <td>20</td>\n",
       "      <td>0.752159</td>\n",
       "      <td>0.64</td>\n",
       "      <td>0.64</td>\n",
       "      <td>0.61</td>\n",
       "      <td>0.21</td>\n",
       "      <td>15.61</td>\n",
       "      <td>7.15</td>\n",
       "    </tr>\n",
       "    <tr>\n",
       "      <th>2</th>\n",
       "      <td>54. Kamus Bahasa Indonesia Mentawai (1998)-pag...</td>\n",
       "      <td>53</td>\n",
       "      <td>47</td>\n",
       "      <td>0.849251</td>\n",
       "      <td>0.70</td>\n",
       "      <td>0.70</td>\n",
       "      <td>0.60</td>\n",
       "      <td>0.38</td>\n",
       "      <td>23.73</td>\n",
       "      <td>4.05</td>\n",
       "    </tr>\n",
       "    <tr>\n",
       "      <th>3</th>\n",
       "      <td>57. Kamus Bahasa Bugis-Indonesia (1977)-page_2...</td>\n",
       "      <td>88</td>\n",
       "      <td>36</td>\n",
       "      <td>0.390141</td>\n",
       "      <td>0.06</td>\n",
       "      <td>0.02</td>\n",
       "      <td>0.02</td>\n",
       "      <td>0.02</td>\n",
       "      <td>79.32</td>\n",
       "      <td>29.19</td>\n",
       "    </tr>\n",
       "    <tr>\n",
       "      <th>4</th>\n",
       "      <td>61. Kamus Banjar-Indonesia (1977)-page_51_52-h...</td>\n",
       "      <td>112</td>\n",
       "      <td>26</td>\n",
       "      <td>0.443272</td>\n",
       "      <td>0.16</td>\n",
       "      <td>0.15</td>\n",
       "      <td>0.12</td>\n",
       "      <td>0.04</td>\n",
       "      <td>65.45</td>\n",
       "      <td>31.64</td>\n",
       "    </tr>\n",
       "    <tr>\n",
       "      <th>5</th>\n",
       "      <td>68. Kamus Dwibahasa Bahasa Talaud - Bahasa Ind...</td>\n",
       "      <td>56</td>\n",
       "      <td>57</td>\n",
       "      <td>0.980579</td>\n",
       "      <td>0.98</td>\n",
       "      <td>0.98</td>\n",
       "      <td>0.96</td>\n",
       "      <td>0.91</td>\n",
       "      <td>4.96</td>\n",
       "      <td>3.20</td>\n",
       "    </tr>\n",
       "    <tr>\n",
       "      <th>6</th>\n",
       "      <td>77. Kamus Samawa-Indonesia Edisi 2 (2017)-page...</td>\n",
       "      <td>68</td>\n",
       "      <td>35</td>\n",
       "      <td>0.601320</td>\n",
       "      <td>0.40</td>\n",
       "      <td>0.38</td>\n",
       "      <td>0.38</td>\n",
       "      <td>0.26</td>\n",
       "      <td>40.69</td>\n",
       "      <td>31.07</td>\n",
       "    </tr>\n",
       "    <tr>\n",
       "      <th>7</th>\n",
       "      <td>89. Kamus Dwibahasa Bahasa Mooi-Bahasa Indones...</td>\n",
       "      <td>36</td>\n",
       "      <td>35</td>\n",
       "      <td>0.983382</td>\n",
       "      <td>0.97</td>\n",
       "      <td>0.97</td>\n",
       "      <td>0.97</td>\n",
       "      <td>0.89</td>\n",
       "      <td>2.66</td>\n",
       "      <td>0.51</td>\n",
       "    </tr>\n",
       "    <tr>\n",
       "      <th>8</th>\n",
       "      <td>91. Kamus Simalungun - Indonesia (edisi kedua)...</td>\n",
       "      <td>82</td>\n",
       "      <td>79</td>\n",
       "      <td>0.945416</td>\n",
       "      <td>0.94</td>\n",
       "      <td>0.91</td>\n",
       "      <td>0.90</td>\n",
       "      <td>0.67</td>\n",
       "      <td>10.86</td>\n",
       "      <td>3.72</td>\n",
       "    </tr>\n",
       "  </tbody>\n",
       "</table>\n",
       "</div>"
      ],
      "text/plain": [
       "                                               kamus  banyak_entri_sebenarnya  \\\n",
       "0  41. Kamus Bahasa Indonesia-Bali A-K (1997)-pag...                       62   \n",
       "1  43. Kamus Bahasa Indonesia-Bahasa Minangkabau ...                       28   \n",
       "2  54. Kamus Bahasa Indonesia Mentawai (1998)-pag...                       53   \n",
       "3  57. Kamus Bahasa Bugis-Indonesia (1977)-page_2...                       88   \n",
       "4  61. Kamus Banjar-Indonesia (1977)-page_51_52-h...                      112   \n",
       "5  68. Kamus Dwibahasa Bahasa Talaud - Bahasa Ind...                       56   \n",
       "6  77. Kamus Samawa-Indonesia Edisi 2 (2017)-page...                       68   \n",
       "7  89. Kamus Dwibahasa Bahasa Mooi-Bahasa Indones...                       36   \n",
       "8  91. Kamus Simalungun - Indonesia (edisi kedua)...                       82   \n",
       "\n",
       "   banyak_entri_pengolahan  mean_similarity_per_entri  \\\n",
       "0                       55                   0.845098   \n",
       "1                       20                   0.752159   \n",
       "2                       47                   0.849251   \n",
       "3                       36                   0.390141   \n",
       "4                       26                   0.443272   \n",
       "5                       57                   0.980579   \n",
       "6                       35                   0.601320   \n",
       "7                       35                   0.983382   \n",
       "8                       79                   0.945416   \n",
       "\n",
       "   Persentase entri diatas 0.8  Persentase entri diatas 0.85  \\\n",
       "0                         0.73                          0.73   \n",
       "1                         0.64                          0.64   \n",
       "2                         0.70                          0.70   \n",
       "3                         0.06                          0.02   \n",
       "4                         0.16                          0.15   \n",
       "5                         0.98                          0.98   \n",
       "6                         0.40                          0.38   \n",
       "7                         0.97                          0.97   \n",
       "8                         0.94                          0.91   \n",
       "\n",
       "   Persentase entri diatas 0.9  Persentase entri benar  word_error_rate  \\\n",
       "0                         0.69                    0.37            22.79   \n",
       "1                         0.61                    0.21            15.61   \n",
       "2                         0.60                    0.38            23.73   \n",
       "3                         0.02                    0.02            79.32   \n",
       "4                         0.12                    0.04            65.45   \n",
       "5                         0.96                    0.91             4.96   \n",
       "6                         0.38                    0.26            40.69   \n",
       "7                         0.97                    0.89             2.66   \n",
       "8                         0.90                    0.67            10.86   \n",
       "\n",
       "   characted_error_rate  \n",
       "0                  3.56  \n",
       "1                  7.15  \n",
       "2                  4.05  \n",
       "3                 29.19  \n",
       "4                 31.64  \n",
       "5                  3.20  \n",
       "6                 31.07  \n",
       "7                  0.51  \n",
       "8                  3.72  "
      ]
     },
     "execution_count": 32,
     "metadata": {},
     "output_type": "execute_result"
    }
   ],
   "source": [
    "data_summarize = pd.read_csv(\"Hasil Evaluasi\" + \"/Ringkasan Evaluasi Pendekatan Font + Posisi (2) bentuk JSON.csv\")\n",
    "data_summarize"
   ]
  },
  {
   "cell_type": "markdown",
   "id": "24de9252",
   "metadata": {},
   "source": [
    "### JSON Font + Posisi"
   ]
  },
  {
   "cell_type": "code",
   "execution_count": 38,
   "id": "ad76a252",
   "metadata": {},
   "outputs": [
    {
     "name": "stderr",
     "output_type": "stream",
     "text": [
      " 11%|█████████▎                                                                          | 1/9 [00:00<00:01,  5.87it/s]"
     ]
    },
    {
     "name": "stdout",
     "output_type": "stream",
     "text": [
      "===== Evaluasi Kamus Dataset Manual Entri - 41. Kamus Bahasa Indonesia - Bali.csv =====\n",
      "===== Evaluasi Kamus Dataset Manual Entri - 43. Kamus Bahasa Indonesia - Minangkabau I.csv =====\n"
     ]
    },
    {
     "name": "stderr",
     "output_type": "stream",
     "text": [
      " 33%|████████████████████████████                                                        | 3/9 [00:00<00:01,  5.81it/s]"
     ]
    },
    {
     "name": "stdout",
     "output_type": "stream",
     "text": [
      "===== Evaluasi Kamus Dataset Manual Entri - 54. Kamus Bahasa Indonesia Mentawai.csv =====\n",
      "===== Evaluasi Kamus Dataset Manual Entri - 57. Kamus Bahasa Bugis-Indonesia.csv =====\n"
     ]
    },
    {
     "name": "stderr",
     "output_type": "stream",
     "text": [
      "\r",
      " 44%|█████████████████████████████████████▎                                              | 4/9 [00:01<00:02,  2.10it/s]"
     ]
    },
    {
     "name": "stdout",
     "output_type": "stream",
     "text": [
      "===== Evaluasi Kamus Dataset Manual Entri - 61. Kamus Banjar-Indonesia.csv =====\n"
     ]
    },
    {
     "name": "stderr",
     "output_type": "stream",
     "text": [
      " 67%|████████████████████████████████████████████████████████                            | 6/9 [00:02<00:01,  2.66it/s]"
     ]
    },
    {
     "name": "stdout",
     "output_type": "stream",
     "text": [
      "===== Evaluasi Kamus Dataset Manual Entri - 68. Kamus Talaud - Indonesia.csv =====\n",
      "===== Evaluasi Kamus Dataset Manual Entri - 77. Kamus Samawa-Indonesia.csv =====\n"
     ]
    },
    {
     "name": "stderr",
     "output_type": "stream",
     "text": [
      " 89%|██████████████████████████████████████████████████████████████████████████▋         | 8/9 [00:02<00:00,  3.23it/s]"
     ]
    },
    {
     "name": "stdout",
     "output_type": "stream",
     "text": [
      "===== Evaluasi Kamus Dataset Manual Entri - 89. Kamus Bahasa Mooi - Indonesia.csv =====\n",
      "===== Evaluasi Kamus Dataset Manual Entri - 91. Kamus Simalungun Indonesia.csv =====\n"
     ]
    },
    {
     "name": "stderr",
     "output_type": "stream",
     "text": [
      "100%|████████████████████████████████████████████████████████████████████████████████████| 9/9 [00:03<00:00,  2.84it/s]\n"
     ]
    }
   ],
   "source": [
    "run_program_evaluation(\n",
    "    directory_manual_entry,\n",
    "    \"CSV One Entry JSON With Font + Posisi Approach\",\n",
    "    \"Hasil Evaluasi\",\n",
    "    \"JSON\",\n",
    "    \"Font_Posisi\"\n",
    ")"
   ]
  },
  {
   "cell_type": "code",
   "execution_count": 39,
   "id": "50e8976b",
   "metadata": {},
   "outputs": [
    {
     "data": {
      "text/html": [
       "<div>\n",
       "<style scoped>\n",
       "    .dataframe tbody tr th:only-of-type {\n",
       "        vertical-align: middle;\n",
       "    }\n",
       "\n",
       "    .dataframe tbody tr th {\n",
       "        vertical-align: top;\n",
       "    }\n",
       "\n",
       "    .dataframe thead th {\n",
       "        text-align: right;\n",
       "    }\n",
       "</style>\n",
       "<table border=\"1\" class=\"dataframe\">\n",
       "  <thead>\n",
       "    <tr style=\"text-align: right;\">\n",
       "      <th></th>\n",
       "      <th>kamus</th>\n",
       "      <th>banyak_entri_sebenarnya</th>\n",
       "      <th>banyak_entri_pengolahan</th>\n",
       "      <th>mean_similarity_per_entri</th>\n",
       "      <th>Persentase entri diatas 0.8</th>\n",
       "      <th>Persentase entri diatas 0.85</th>\n",
       "      <th>Persentase entri diatas 0.9</th>\n",
       "      <th>Persentase entri benar</th>\n",
       "      <th>word_error_rate</th>\n",
       "      <th>characted_error_rate</th>\n",
       "    </tr>\n",
       "  </thead>\n",
       "  <tbody>\n",
       "    <tr>\n",
       "      <th>0</th>\n",
       "      <td>41. Kamus Bahasa Indonesia-Bali A-K (1997)-pag...</td>\n",
       "      <td>62</td>\n",
       "      <td>55</td>\n",
       "      <td>0.845098</td>\n",
       "      <td>0.73</td>\n",
       "      <td>0.73</td>\n",
       "      <td>0.69</td>\n",
       "      <td>0.37</td>\n",
       "      <td>22.79</td>\n",
       "      <td>3.56</td>\n",
       "    </tr>\n",
       "    <tr>\n",
       "      <th>1</th>\n",
       "      <td>43. Kamus Bahasa Indonesia-Bahasa Minangkabau ...</td>\n",
       "      <td>28</td>\n",
       "      <td>20</td>\n",
       "      <td>0.752159</td>\n",
       "      <td>0.64</td>\n",
       "      <td>0.64</td>\n",
       "      <td>0.61</td>\n",
       "      <td>0.21</td>\n",
       "      <td>15.61</td>\n",
       "      <td>7.15</td>\n",
       "    </tr>\n",
       "    <tr>\n",
       "      <th>2</th>\n",
       "      <td>54. Kamus Bahasa Indonesia Mentawai (1998)-pag...</td>\n",
       "      <td>53</td>\n",
       "      <td>47</td>\n",
       "      <td>0.849251</td>\n",
       "      <td>0.70</td>\n",
       "      <td>0.70</td>\n",
       "      <td>0.60</td>\n",
       "      <td>0.38</td>\n",
       "      <td>23.73</td>\n",
       "      <td>4.05</td>\n",
       "    </tr>\n",
       "    <tr>\n",
       "      <th>3</th>\n",
       "      <td>57. Kamus Bahasa Bugis-Indonesia (1977)-page_2...</td>\n",
       "      <td>88</td>\n",
       "      <td>36</td>\n",
       "      <td>0.390141</td>\n",
       "      <td>0.06</td>\n",
       "      <td>0.02</td>\n",
       "      <td>0.02</td>\n",
       "      <td>0.02</td>\n",
       "      <td>79.32</td>\n",
       "      <td>29.19</td>\n",
       "    </tr>\n",
       "    <tr>\n",
       "      <th>4</th>\n",
       "      <td>61. Kamus Banjar-Indonesia (1977)-page_51_52-h...</td>\n",
       "      <td>112</td>\n",
       "      <td>26</td>\n",
       "      <td>0.443272</td>\n",
       "      <td>0.16</td>\n",
       "      <td>0.15</td>\n",
       "      <td>0.12</td>\n",
       "      <td>0.04</td>\n",
       "      <td>65.45</td>\n",
       "      <td>31.64</td>\n",
       "    </tr>\n",
       "    <tr>\n",
       "      <th>5</th>\n",
       "      <td>68. Kamus Dwibahasa Bahasa Talaud - Bahasa Ind...</td>\n",
       "      <td>56</td>\n",
       "      <td>57</td>\n",
       "      <td>0.980579</td>\n",
       "      <td>0.98</td>\n",
       "      <td>0.98</td>\n",
       "      <td>0.96</td>\n",
       "      <td>0.91</td>\n",
       "      <td>4.96</td>\n",
       "      <td>3.20</td>\n",
       "    </tr>\n",
       "    <tr>\n",
       "      <th>6</th>\n",
       "      <td>77. Kamus Samawa-Indonesia Edisi 2 (2017)-page...</td>\n",
       "      <td>68</td>\n",
       "      <td>35</td>\n",
       "      <td>0.601320</td>\n",
       "      <td>0.40</td>\n",
       "      <td>0.38</td>\n",
       "      <td>0.38</td>\n",
       "      <td>0.26</td>\n",
       "      <td>40.69</td>\n",
       "      <td>31.07</td>\n",
       "    </tr>\n",
       "    <tr>\n",
       "      <th>7</th>\n",
       "      <td>89. Kamus Dwibahasa Bahasa Mooi-Bahasa Indones...</td>\n",
       "      <td>36</td>\n",
       "      <td>35</td>\n",
       "      <td>0.983382</td>\n",
       "      <td>0.97</td>\n",
       "      <td>0.97</td>\n",
       "      <td>0.97</td>\n",
       "      <td>0.89</td>\n",
       "      <td>2.66</td>\n",
       "      <td>0.51</td>\n",
       "    </tr>\n",
       "    <tr>\n",
       "      <th>8</th>\n",
       "      <td>91. Kamus Simalungun - Indonesia (edisi kedua)...</td>\n",
       "      <td>82</td>\n",
       "      <td>79</td>\n",
       "      <td>0.945416</td>\n",
       "      <td>0.94</td>\n",
       "      <td>0.91</td>\n",
       "      <td>0.90</td>\n",
       "      <td>0.67</td>\n",
       "      <td>10.86</td>\n",
       "      <td>3.72</td>\n",
       "    </tr>\n",
       "  </tbody>\n",
       "</table>\n",
       "</div>"
      ],
      "text/plain": [
       "                                               kamus  banyak_entri_sebenarnya  \\\n",
       "0  41. Kamus Bahasa Indonesia-Bali A-K (1997)-pag...                       62   \n",
       "1  43. Kamus Bahasa Indonesia-Bahasa Minangkabau ...                       28   \n",
       "2  54. Kamus Bahasa Indonesia Mentawai (1998)-pag...                       53   \n",
       "3  57. Kamus Bahasa Bugis-Indonesia (1977)-page_2...                       88   \n",
       "4  61. Kamus Banjar-Indonesia (1977)-page_51_52-h...                      112   \n",
       "5  68. Kamus Dwibahasa Bahasa Talaud - Bahasa Ind...                       56   \n",
       "6  77. Kamus Samawa-Indonesia Edisi 2 (2017)-page...                       68   \n",
       "7  89. Kamus Dwibahasa Bahasa Mooi-Bahasa Indones...                       36   \n",
       "8  91. Kamus Simalungun - Indonesia (edisi kedua)...                       82   \n",
       "\n",
       "   banyak_entri_pengolahan  mean_similarity_per_entri  \\\n",
       "0                       55                   0.845098   \n",
       "1                       20                   0.752159   \n",
       "2                       47                   0.849251   \n",
       "3                       36                   0.390141   \n",
       "4                       26                   0.443272   \n",
       "5                       57                   0.980579   \n",
       "6                       35                   0.601320   \n",
       "7                       35                   0.983382   \n",
       "8                       79                   0.945416   \n",
       "\n",
       "   Persentase entri diatas 0.8  Persentase entri diatas 0.85  \\\n",
       "0                         0.73                          0.73   \n",
       "1                         0.64                          0.64   \n",
       "2                         0.70                          0.70   \n",
       "3                         0.06                          0.02   \n",
       "4                         0.16                          0.15   \n",
       "5                         0.98                          0.98   \n",
       "6                         0.40                          0.38   \n",
       "7                         0.97                          0.97   \n",
       "8                         0.94                          0.91   \n",
       "\n",
       "   Persentase entri diatas 0.9  Persentase entri benar  word_error_rate  \\\n",
       "0                         0.69                    0.37            22.79   \n",
       "1                         0.61                    0.21            15.61   \n",
       "2                         0.60                    0.38            23.73   \n",
       "3                         0.02                    0.02            79.32   \n",
       "4                         0.12                    0.04            65.45   \n",
       "5                         0.96                    0.91             4.96   \n",
       "6                         0.38                    0.26            40.69   \n",
       "7                         0.97                    0.89             2.66   \n",
       "8                         0.90                    0.67            10.86   \n",
       "\n",
       "   characted_error_rate  \n",
       "0                  3.56  \n",
       "1                  7.15  \n",
       "2                  4.05  \n",
       "3                 29.19  \n",
       "4                 31.64  \n",
       "5                  3.20  \n",
       "6                 31.07  \n",
       "7                  0.51  \n",
       "8                  3.72  "
      ]
     },
     "execution_count": 39,
     "metadata": {},
     "output_type": "execute_result"
    }
   ],
   "source": [
    "data_summarize = pd.read_csv(\"Hasil Evaluasi\" + \"/Ringkasan Evaluasi Pendekatan Font_Posisi bentuk JSON.csv\")\n",
    "data_summarize"
   ]
  },
  {
   "cell_type": "code",
   "execution_count": null,
   "id": "fe90bfaf",
   "metadata": {},
   "outputs": [],
   "source": []
  }
 ],
 "metadata": {
  "kernelspec": {
   "display_name": "Python 3 (ipykernel)",
   "language": "python",
   "name": "python3"
  },
  "language_info": {
   "codemirror_mode": {
    "name": "ipython",
    "version": 3
   },
   "file_extension": ".py",
   "mimetype": "text/x-python",
   "name": "python",
   "nbconvert_exporter": "python",
   "pygments_lexer": "ipython3",
   "version": "3.9.13"
  }
 },
 "nbformat": 4,
 "nbformat_minor": 5
}
