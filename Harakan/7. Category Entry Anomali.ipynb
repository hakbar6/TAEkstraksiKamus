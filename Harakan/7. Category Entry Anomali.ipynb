{
 "cells": [
  {
   "cell_type": "code",
   "execution_count": 1,
   "id": "bb30b861",
   "metadata": {},
   "outputs": [],
   "source": [
    "import pandas as pd\n",
    "import numpy as np\n",
    "import os\n",
    "import re\n",
    "import json as js\n",
    "from pathlib import Path\n",
    "from tqdm import tqdm\n",
    "from ast import literal_eval"
   ]
  },
  {
   "cell_type": "code",
   "execution_count": 2,
   "id": "ac53e57a",
   "metadata": {},
   "outputs": [],
   "source": [
    "POS = [\"v\",\"a\",\"n\",\"pron\",\"adv\",\"num\",\"p\"]\n",
    "\n",
    "def check_pos(data):\n",
    "    cnt = 0\n",
    "    \n",
    "    for i in range(len(data)):\n",
    "        dt = data[i]\n",
    "        \n",
    "        if dt[0] in POS:\n",
    "            if i != 0:\n",
    "                cnt += 1\n",
    "            \n",
    "    if cnt == 0:\n",
    "        return False\n",
    "    elif cnt > 1:\n",
    "        return False\n",
    "    else:\n",
    "        return True\n",
    "\n",
    "\n",
    "def categorize_anomali_entry(entry_font_size_pos, is_prakategorial):\n",
    "    output = []\n",
    "    \n",
    "    for i in range(len(is_prakategorial)):\n",
    "        padanan_lema = is_prakategorial[i]\n",
    "        \n",
    "        if padanan_lema == 1:\n",
    "            \n",
    "            if i == len(is_prakategorial)-1 :\n",
    "                output.append(1)\n",
    "            \n",
    "            elif is_prakategorial[i+1] == 1:\n",
    "                output.append(1)\n",
    "            \n",
    "            elif is_prakategorial[i+1] == 0 and not check_pos(entry_font_size_pos[i+1]):\n",
    "                output.append(1)\n",
    "            \n",
    "            else:\n",
    "                output.append(0)\n",
    "                \n",
    "        else:\n",
    "            if not check_pos(entry_font_size_pos[i]):\n",
    "                output.append(1)\n",
    "            else:\n",
    "                output.append(0)\n",
    "    \n",
    "    return output"
   ]
  },
  {
   "cell_type": "code",
   "execution_count": 3,
   "id": "e8e4885e",
   "metadata": {
    "scrolled": true
   },
   "outputs": [
    {
     "name": "stderr",
     "output_type": "stream",
     "text": [
      "\r",
      "  0%|                                                                                           | 0/43 [00:00<?, ?it/s]"
     ]
    },
    {
     "name": "stdout",
     "output_type": "stream",
     "text": [
      "====10_Replace.csv====\n"
     ]
    },
    {
     "name": "stderr",
     "output_type": "stream",
     "text": [
      "\r",
      "  2%|█▉                                                                                 | 1/43 [00:01<01:07,  1.61s/it]"
     ]
    },
    {
     "name": "stdout",
     "output_type": "stream",
     "text": [
      "====12_Replace.csv====\n"
     ]
    },
    {
     "name": "stderr",
     "output_type": "stream",
     "text": [
      "\r",
      "  5%|███▊                                                                               | 2/43 [00:05<01:55,  2.82s/it]"
     ]
    },
    {
     "name": "stdout",
     "output_type": "stream",
     "text": [
      "====17_Replace.csv====\n"
     ]
    },
    {
     "name": "stderr",
     "output_type": "stream",
     "text": [
      "\r",
      "  7%|█████▊                                                                             | 3/43 [00:06<01:22,  2.06s/it]"
     ]
    },
    {
     "name": "stdout",
     "output_type": "stream",
     "text": [
      "====18_Replace.csv====\n"
     ]
    },
    {
     "name": "stderr",
     "output_type": "stream",
     "text": [
      "\r",
      "  9%|███████▋                                                                           | 4/43 [00:08<01:24,  2.18s/it]"
     ]
    },
    {
     "name": "stdout",
     "output_type": "stream",
     "text": [
      "====19_Replace.csv====\n"
     ]
    },
    {
     "name": "stderr",
     "output_type": "stream",
     "text": [
      "\r",
      " 12%|█████████▋                                                                         | 5/43 [00:11<01:34,  2.50s/it]"
     ]
    },
    {
     "name": "stdout",
     "output_type": "stream",
     "text": [
      "====20_Replace.csv====\n"
     ]
    },
    {
     "name": "stderr",
     "output_type": "stream",
     "text": [
      "\r",
      " 14%|███████████▌                                                                       | 6/43 [00:12<01:13,  1.99s/it]"
     ]
    },
    {
     "name": "stdout",
     "output_type": "stream",
     "text": [
      "====21_Replace.csv====\n"
     ]
    },
    {
     "name": "stderr",
     "output_type": "stream",
     "text": [
      "\r",
      " 16%|█████████████▌                                                                     | 7/43 [00:14<01:02,  1.74s/it]"
     ]
    },
    {
     "name": "stdout",
     "output_type": "stream",
     "text": [
      "====23_Replace.csv====\n"
     ]
    },
    {
     "name": "stderr",
     "output_type": "stream",
     "text": [
      "\r",
      " 19%|███████████████▍                                                                   | 8/43 [00:15<00:54,  1.56s/it]"
     ]
    },
    {
     "name": "stdout",
     "output_type": "stream",
     "text": [
      "====24_Replace.csv====\n"
     ]
    },
    {
     "name": "stderr",
     "output_type": "stream",
     "text": [
      "\r",
      " 21%|█████████████████▎                                                                 | 9/43 [00:17<01:02,  1.84s/it]"
     ]
    },
    {
     "name": "stdout",
     "output_type": "stream",
     "text": [
      "====26_Replace.csv====\n"
     ]
    },
    {
     "name": "stderr",
     "output_type": "stream",
     "text": [
      "\r",
      " 23%|███████████████████                                                               | 10/43 [00:18<00:51,  1.55s/it]"
     ]
    },
    {
     "name": "stdout",
     "output_type": "stream",
     "text": [
      "====27_Replace.csv====\n"
     ]
    },
    {
     "name": "stderr",
     "output_type": "stream",
     "text": [
      "\r",
      " 26%|████████████████████▉                                                             | 11/43 [00:19<00:44,  1.40s/it]"
     ]
    },
    {
     "name": "stdout",
     "output_type": "stream",
     "text": [
      "====28_Replace.csv====\n"
     ]
    },
    {
     "name": "stderr",
     "output_type": "stream",
     "text": [
      "\r",
      " 28%|██████████████████████▉                                                           | 12/43 [00:22<01:01,  1.98s/it]"
     ]
    },
    {
     "name": "stdout",
     "output_type": "stream",
     "text": [
      "====29_Replace.csv====\n"
     ]
    },
    {
     "name": "stderr",
     "output_type": "stream",
     "text": [
      "\r",
      " 30%|████████████████████████▊                                                         | 13/43 [00:24<00:54,  1.82s/it]"
     ]
    },
    {
     "name": "stdout",
     "output_type": "stream",
     "text": [
      "====2_Replace.csv====\n"
     ]
    },
    {
     "name": "stderr",
     "output_type": "stream",
     "text": [
      "\r",
      " 33%|██████████████████████████▋                                                       | 14/43 [00:26<00:55,  1.91s/it]"
     ]
    },
    {
     "name": "stdout",
     "output_type": "stream",
     "text": [
      "====31_Replace.csv====\n"
     ]
    },
    {
     "name": "stderr",
     "output_type": "stream",
     "text": [
      "\r",
      " 35%|████████████████████████████▌                                                     | 15/43 [00:28<00:51,  1.83s/it]"
     ]
    },
    {
     "name": "stdout",
     "output_type": "stream",
     "text": [
      "====32_Replace.csv====\n"
     ]
    },
    {
     "name": "stderr",
     "output_type": "stream",
     "text": [
      "\r",
      " 37%|██████████████████████████████▌                                                   | 16/43 [00:29<00:44,  1.66s/it]"
     ]
    },
    {
     "name": "stdout",
     "output_type": "stream",
     "text": [
      "====33_Replace.csv====\n"
     ]
    },
    {
     "name": "stderr",
     "output_type": "stream",
     "text": [
      "\r",
      " 40%|████████████████████████████████▍                                                 | 17/43 [00:30<00:40,  1.55s/it]"
     ]
    },
    {
     "name": "stdout",
     "output_type": "stream",
     "text": [
      "====34_Replace.csv====\n"
     ]
    },
    {
     "name": "stderr",
     "output_type": "stream",
     "text": [
      "\r",
      " 42%|██████████████████████████████████▎                                               | 18/43 [00:33<00:45,  1.82s/it]"
     ]
    },
    {
     "name": "stdout",
     "output_type": "stream",
     "text": [
      "====36_Replace.csv====\n"
     ]
    },
    {
     "name": "stderr",
     "output_type": "stream",
     "text": [
      "\r",
      " 44%|████████████████████████████████████▏                                             | 19/43 [00:35<00:45,  1.89s/it]"
     ]
    },
    {
     "name": "stdout",
     "output_type": "stream",
     "text": [
      "====38_Replace.csv====\n"
     ]
    },
    {
     "name": "stderr",
     "output_type": "stream",
     "text": [
      "\r",
      " 47%|██████████████████████████████████████▏                                           | 20/43 [00:41<01:10,  3.06s/it]"
     ]
    },
    {
     "name": "stdout",
     "output_type": "stream",
     "text": [
      "====41_Replace.csv====\n"
     ]
    },
    {
     "name": "stderr",
     "output_type": "stream",
     "text": [
      "\r",
      " 49%|████████████████████████████████████████                                          | 21/43 [00:43<01:06,  3.01s/it]"
     ]
    },
    {
     "name": "stdout",
     "output_type": "stream",
     "text": [
      "====42_Replace.csv====\n"
     ]
    },
    {
     "name": "stderr",
     "output_type": "stream",
     "text": [
      "\r",
      " 51%|█████████████████████████████████████████▉                                        | 22/43 [00:47<01:09,  3.32s/it]"
     ]
    },
    {
     "name": "stdout",
     "output_type": "stream",
     "text": [
      "====44_Replace.csv====\n"
     ]
    },
    {
     "name": "stderr",
     "output_type": "stream",
     "text": [
      "\r",
      " 53%|███████████████████████████████████████████▊                                      | 23/43 [00:48<00:52,  2.62s/it]"
     ]
    },
    {
     "name": "stdout",
     "output_type": "stream",
     "text": [
      "====46_Replace.csv====\n"
     ]
    },
    {
     "name": "stderr",
     "output_type": "stream",
     "text": [
      "\r",
      " 56%|█████████████████████████████████████████████▊                                    | 24/43 [00:52<00:56,  2.97s/it]"
     ]
    },
    {
     "name": "stdout",
     "output_type": "stream",
     "text": [
      "====4_Replace.csv====\n"
     ]
    },
    {
     "name": "stderr",
     "output_type": "stream",
     "text": [
      "\r",
      " 58%|███████████████████████████████████████████████▋                                  | 25/43 [00:54<00:45,  2.51s/it]"
     ]
    },
    {
     "name": "stdout",
     "output_type": "stream",
     "text": [
      "====51_Replace.csv====\n"
     ]
    },
    {
     "name": "stderr",
     "output_type": "stream",
     "text": [
      "\r",
      " 60%|█████████████████████████████████████████████████▌                                | 26/43 [00:55<00:34,  2.01s/it]"
     ]
    },
    {
     "name": "stdout",
     "output_type": "stream",
     "text": [
      "====52_Replace.csv====\n"
     ]
    },
    {
     "name": "stderr",
     "output_type": "stream",
     "text": [
      "\r",
      " 63%|███████████████████████████████████████████████████▍                              | 27/43 [00:56<00:30,  1.92s/it]"
     ]
    },
    {
     "name": "stdout",
     "output_type": "stream",
     "text": [
      "====54_Replace.csv====\n"
     ]
    },
    {
     "name": "stderr",
     "output_type": "stream",
     "text": [
      "\r",
      " 65%|█████████████████████████████████████████████████████▍                            | 28/43 [00:57<00:22,  1.53s/it]"
     ]
    },
    {
     "name": "stdout",
     "output_type": "stream",
     "text": [
      "====55_Replace.csv====\n"
     ]
    },
    {
     "name": "stderr",
     "output_type": "stream",
     "text": [
      "\r",
      " 67%|███████████████████████████████████████████████████████▎                          | 29/43 [00:58<00:21,  1.50s/it]"
     ]
    },
    {
     "name": "stdout",
     "output_type": "stream",
     "text": [
      "====56_Replace.csv====\n"
     ]
    },
    {
     "name": "stderr",
     "output_type": "stream",
     "text": [
      "\r",
      " 70%|█████████████████████████████████████████████████████████▏                        | 30/43 [01:00<00:20,  1.55s/it]"
     ]
    },
    {
     "name": "stdout",
     "output_type": "stream",
     "text": [
      "====58_Replace.csv====\n"
     ]
    },
    {
     "name": "stderr",
     "output_type": "stream",
     "text": [
      "\r",
      " 72%|███████████████████████████████████████████████████████████                       | 31/43 [01:01<00:17,  1.49s/it]"
     ]
    },
    {
     "name": "stdout",
     "output_type": "stream",
     "text": [
      "====5_Replace.csv====\n"
     ]
    },
    {
     "name": "stderr",
     "output_type": "stream",
     "text": [
      "\r",
      " 74%|█████████████████████████████████████████████████████████████                     | 32/43 [01:02<00:13,  1.23s/it]"
     ]
    },
    {
     "name": "stdout",
     "output_type": "stream",
     "text": [
      "====60_Replace.csv====\n"
     ]
    },
    {
     "name": "stderr",
     "output_type": "stream",
     "text": [
      "\r",
      " 77%|██████████████████████████████████████████████████████████████▉                   | 33/43 [01:06<00:19,  1.95s/it]"
     ]
    },
    {
     "name": "stdout",
     "output_type": "stream",
     "text": [
      "====63_Replace.csv====\n"
     ]
    },
    {
     "name": "stderr",
     "output_type": "stream",
     "text": [
      "\r",
      " 79%|████████████████████████████████████████████████████████████████▊                 | 34/43 [01:08<00:18,  2.04s/it]"
     ]
    },
    {
     "name": "stdout",
     "output_type": "stream",
     "text": [
      "====66_Replace.csv====\n"
     ]
    },
    {
     "name": "stderr",
     "output_type": "stream",
     "text": [
      "\r",
      " 81%|██████████████████████████████████████████████████████████████████▋               | 35/43 [01:09<00:13,  1.71s/it]"
     ]
    },
    {
     "name": "stdout",
     "output_type": "stream",
     "text": [
      "====68_Replace.csv====\n"
     ]
    },
    {
     "name": "stderr",
     "output_type": "stream",
     "text": [
      "\r",
      " 84%|████████████████████████████████████████████████████████████████████▋             | 36/43 [01:10<00:11,  1.69s/it]"
     ]
    },
    {
     "name": "stdout",
     "output_type": "stream",
     "text": [
      "====71_Replace.csv====\n"
     ]
    },
    {
     "name": "stderr",
     "output_type": "stream",
     "text": [
      "\r",
      " 86%|██████████████████████████████████████████████████████████████████████▌           | 37/43 [01:11<00:07,  1.28s/it]"
     ]
    },
    {
     "name": "stdout",
     "output_type": "stream",
     "text": [
      "====78_Replace.csv====\n"
     ]
    },
    {
     "name": "stderr",
     "output_type": "stream",
     "text": [
      "\r",
      " 88%|████████████████████████████████████████████████████████████████████████▍         | 38/43 [01:12<00:06,  1.26s/it]"
     ]
    },
    {
     "name": "stdout",
     "output_type": "stream",
     "text": [
      "====84_Replace.csv====\n"
     ]
    },
    {
     "name": "stderr",
     "output_type": "stream",
     "text": [
      "\r",
      " 91%|██████████████████████████████████████████████████████████████████████████▎       | 39/43 [01:12<00:03,  1.03it/s]"
     ]
    },
    {
     "name": "stdout",
     "output_type": "stream",
     "text": [
      "====85_Replace.csv====\n"
     ]
    },
    {
     "name": "stderr",
     "output_type": "stream",
     "text": [
      "\r",
      " 93%|████████████████████████████████████████████████████████████████████████████▎     | 40/43 [01:15<00:04,  1.45s/it]"
     ]
    },
    {
     "name": "stdout",
     "output_type": "stream",
     "text": [
      "====87_Replace.csv====\n"
     ]
    },
    {
     "name": "stderr",
     "output_type": "stream",
     "text": [
      "\r",
      " 95%|██████████████████████████████████████████████████████████████████████████████▏   | 41/43 [01:19<00:04,  2.37s/it]"
     ]
    },
    {
     "name": "stdout",
     "output_type": "stream",
     "text": [
      "====89_Replace.csv====\n"
     ]
    },
    {
     "name": "stderr",
     "output_type": "stream",
     "text": [
      "\r",
      " 98%|████████████████████████████████████████████████████████████████████████████████  | 42/43 [01:20<00:01,  1.77s/it]"
     ]
    },
    {
     "name": "stdout",
     "output_type": "stream",
     "text": [
      "====91_Replace.csv====\n"
     ]
    },
    {
     "name": "stderr",
     "output_type": "stream",
     "text": [
      "100%|██████████████████████████████████████████████████████████████████████████████████| 43/43 [01:22<00:00,  1.92s/it]\n"
     ]
    }
   ],
   "source": [
    "directory_CSV = \"3. Replaced\"\n",
    "directory_hasil = \"4. Remove Anomali\"\n",
    "\n",
    "for filename in tqdm(os.listdir(directory_CSV)):\n",
    "    print(\"====\" + filename + \"====\")\n",
    "    kamus = pd.read_csv(directory_CSV + \"/\" + filename)\n",
    "    \n",
    "    entry_font_size_pos = []\n",
    "    for i in kamus[\"entry_font_size_pos\"].values.tolist():\n",
    "        entry_font_size_pos.append(literal_eval(i))\n",
    "            \n",
    "    is_prakategorial = kamus[\"is_padanan_lema\"].values.tolist()\n",
    "            \n",
    "    kategori_anomali = categorize_anomali_entry(entry_font_size_pos, is_prakategorial)\n",
    "    kamus[\"is_anomali\"] = kategori_anomali\n",
    "    \n",
    "    new_filename = os.path.splitext(filename)[0]\n",
    "    kamus.to_csv(directory_hasil + \"/\" + new_filename + \"-categorizeAnomali.csv\",index=False)\n",
    "    \n",
    "#     input_fonts = data[\"font\"].values.tolist()\n",
    "    \n",
    "#     if is_contain_bold_and_italic(input_fonts):\n",
    "#         print(\"====\" + new_filename + \"====\")\n",
    "#         CSV_res = build_corpus_one_entry_by_font_pos(data)\n",
    "\n",
    "#         result_csv = pd.DataFrame.from_dict(CSV_res)\n",
    "#         result_csv = result_csv[result_csv[\"Entri\"] != \"\"]\n",
    "#         result_csv = result_csv.reset_index(drop=True)\n",
    "#         result_csv.to_csv(directory_hasil + \"/\" + new_filename + \"-one_entry_from_JSON_font_posisi.csv\",index=False)\n",
    "#         try:\n",
    "#             CSV_res = build_corpus_one_entry_by_font_pos(data)\n",
    "\n",
    "#             result_csv = pd.DataFrame.from_dict(CSV_res)\n",
    "#             result_csv.to_csv(directory_hasil + \"/\" + new_filename + \"-one_entry_from_JSON_font_posisi.csv\",index=False)\n",
    "#         except:\n",
    "#             print(\"==== Kamus Gagal ====\")\n",
    "#             print(new_filename)"
   ]
  },
  {
   "cell_type": "code",
   "execution_count": 4,
   "id": "4b192c50",
   "metadata": {
    "scrolled": true
   },
   "outputs": [
    {
     "name": "stderr",
     "output_type": "stream",
     "text": [
      "  5%|███▊                                                                               | 2/43 [00:00<00:03, 10.81it/s]"
     ]
    },
    {
     "name": "stdout",
     "output_type": "stream",
     "text": [
      "====10_Replace-categorizeAnomali.csv====\n",
      "====12_Replace-categorizeAnomali.csv====\n"
     ]
    },
    {
     "name": "stderr",
     "output_type": "stream",
     "text": [
      "\r",
      "  9%|███████▋                                                                           | 4/43 [00:00<00:03, 12.12it/s]"
     ]
    },
    {
     "name": "stdout",
     "output_type": "stream",
     "text": [
      "====17_Replace-categorizeAnomali.csv====\n",
      "====18_Replace-categorizeAnomali.csv====\n",
      "====19_Replace-categorizeAnomali.csv====\n"
     ]
    },
    {
     "name": "stderr",
     "output_type": "stream",
     "text": [
      "\r",
      " 14%|███████████▌                                                                       | 6/43 [00:00<00:03, 12.32it/s]"
     ]
    },
    {
     "name": "stdout",
     "output_type": "stream",
     "text": [
      "====20_Replace-categorizeAnomali.csv====\n",
      "====21_Replace-categorizeAnomali.csv====\n",
      "====23_Replace-categorizeAnomali.csv====\n",
      "====24_Replace-categorizeAnomali.csv====\n"
     ]
    },
    {
     "name": "stderr",
     "output_type": "stream",
     "text": [
      " 26%|████████████████████▉                                                             | 11/43 [00:00<00:02, 14.83it/s]"
     ]
    },
    {
     "name": "stdout",
     "output_type": "stream",
     "text": [
      "====26_Replace-categorizeAnomali.csv====\n",
      "====27_Replace-categorizeAnomali.csv====\n",
      "====28_Replace-categorizeAnomali.csv====\n",
      "====29_Replace-categorizeAnomali.csv====\n"
     ]
    },
    {
     "name": "stderr",
     "output_type": "stream",
     "text": [
      " 35%|████████████████████████████▌                                                     | 15/43 [00:01<00:01, 14.94it/s]"
     ]
    },
    {
     "name": "stdout",
     "output_type": "stream",
     "text": [
      "====2_Replace-categorizeAnomali.csv====\n",
      "====31_Replace-categorizeAnomali.csv====\n",
      "====32_Replace-categorizeAnomali.csv====\n",
      "====33_Replace-categorizeAnomali.csv====\n"
     ]
    },
    {
     "name": "stderr",
     "output_type": "stream",
     "text": [
      "\r",
      " 40%|████████████████████████████████▍                                                 | 17/43 [00:01<00:01, 14.03it/s]"
     ]
    },
    {
     "name": "stdout",
     "output_type": "stream",
     "text": [
      "====34_Replace-categorizeAnomali.csv====\n",
      "====36_Replace-categorizeAnomali.csv====\n"
     ]
    },
    {
     "name": "stderr",
     "output_type": "stream",
     "text": [
      "\r",
      " 44%|████████████████████████████████████▏                                             | 19/43 [00:01<00:02, 11.87it/s]"
     ]
    },
    {
     "name": "stdout",
     "output_type": "stream",
     "text": [
      "====38_Replace-categorizeAnomali.csv====\n",
      "====41_Replace-categorizeAnomali.csv====\n"
     ]
    },
    {
     "name": "stderr",
     "output_type": "stream",
     "text": [
      "\r",
      " 49%|████████████████████████████████████████                                          | 21/43 [00:01<00:02,  9.44it/s]"
     ]
    },
    {
     "name": "stdout",
     "output_type": "stream",
     "text": [
      "====42_Replace-categorizeAnomali.csv====\n",
      "====44_Replace-categorizeAnomali.csv====\n"
     ]
    },
    {
     "name": "stderr",
     "output_type": "stream",
     "text": [
      " 56%|█████████████████████████████████████████████▊                                    | 24/43 [00:02<00:02,  8.24it/s]"
     ]
    },
    {
     "name": "stdout",
     "output_type": "stream",
     "text": [
      "====46_Replace-categorizeAnomali.csv====\n"
     ]
    },
    {
     "name": "stderr",
     "output_type": "stream",
     "text": [
      "\r",
      " 60%|█████████████████████████████████████████████████▌                                | 26/43 [00:02<00:01, 10.08it/s]"
     ]
    },
    {
     "name": "stdout",
     "output_type": "stream",
     "text": [
      "====4_Replace-categorizeAnomali.csv====\n",
      "====51_Replace-categorizeAnomali.csv====\n",
      "====52_Replace-categorizeAnomali.csv====\n",
      "====54_Replace-categorizeAnomali.csv====\n"
     ]
    },
    {
     "name": "stderr",
     "output_type": "stream",
     "text": [
      " 70%|█████████████████████████████████████████████████████████▏                        | 30/43 [00:02<00:01, 12.67it/s]"
     ]
    },
    {
     "name": "stdout",
     "output_type": "stream",
     "text": [
      "====55_Replace-categorizeAnomali.csv====\n",
      "====56_Replace-categorizeAnomali.csv====\n",
      "====58_Replace-categorizeAnomali.csv====\n",
      "====5_Replace-categorizeAnomali.csv====\n"
     ]
    },
    {
     "name": "stderr",
     "output_type": "stream",
     "text": [
      "\r",
      " 74%|█████████████████████████████████████████████████████████████                     | 32/43 [00:02<00:00, 14.27it/s]"
     ]
    },
    {
     "name": "stdout",
     "output_type": "stream",
     "text": [
      "====60_Replace-categorizeAnomali.csv====\n",
      "====63_Replace-categorizeAnomali.csv====\n"
     ]
    },
    {
     "name": "stderr",
     "output_type": "stream",
     "text": [
      " 84%|████████████████████████████████████████████████████████████████████▋             | 36/43 [00:03<00:00, 10.54it/s]"
     ]
    },
    {
     "name": "stdout",
     "output_type": "stream",
     "text": [
      "====66_Replace-categorizeAnomali.csv====\n",
      "====68_Replace-categorizeAnomali.csv====\n"
     ]
    },
    {
     "name": "stderr",
     "output_type": "stream",
     "text": [
      "\r",
      " 93%|████████████████████████████████████████████████████████████████████████████▎     | 40/43 [00:03<00:00, 14.03it/s]"
     ]
    },
    {
     "name": "stdout",
     "output_type": "stream",
     "text": [
      "====71_Replace-categorizeAnomali.csv====\n",
      "====78_Replace-categorizeAnomali.csv====\n",
      "====84_Replace-categorizeAnomali.csv====\n",
      "====85_Replace-categorizeAnomali.csv====\n",
      "====87_Replace-categorizeAnomali.csv====\n"
     ]
    },
    {
     "name": "stderr",
     "output_type": "stream",
     "text": [
      "100%|██████████████████████████████████████████████████████████████████████████████████| 43/43 [00:03<00:00, 11.81it/s]"
     ]
    },
    {
     "name": "stdout",
     "output_type": "stream",
     "text": [
      "====89_Replace-categorizeAnomali.csv====\n",
      "====91_Replace-categorizeAnomali.csv====\n"
     ]
    },
    {
     "name": "stderr",
     "output_type": "stream",
     "text": [
      "\n"
     ]
    }
   ],
   "source": [
    "directory_hasil = \"4. Remove Anomali\"\n",
    "\n",
    "result = {\n",
    "    \"nama_kamus\" : [],\n",
    "    \"persentasi_anomali\":[],\n",
    "    \"jumlah_entri\":[]\n",
    "}\n",
    "\n",
    "for filename in tqdm(os.listdir(directory_hasil)):\n",
    "    print(\"====\" + filename + \"====\")\n",
    "    kamus = pd.read_csv(directory_hasil + \"/\" + filename)\n",
    "    \n",
    "    entri = kamus[\"Entri\"].values.tolist()\n",
    "    anomali = kamus[\"Entri\"][kamus[\"is_anomali\"]==1].values.tolist()\n",
    "    persen_anomali = round((len(anomali)/len(entri))*100,2)\n",
    "    \n",
    "    result['nama_kamus'].append(filename)\n",
    "    result['persentasi_anomali'].append(persen_anomali)\n",
    "    result['jumlah_entri'].append(len(entri))\n",
    "    \n",
    "\n",
    "res_pandas = pd.DataFrame.from_dict(result)\n",
    "res_pandas.to_csv(directory_hasil + \"/exploratory_anomali.csv\",index=False)\n",
    "    \n",
    "#     input_fonts = data[\"font\"].values.tolist()\n",
    "    \n",
    "#     if is_contain_bold_and_italic(input_fonts):\n",
    "#         print(\"====\" + new_filename + \"====\")\n",
    "#         CSV_res = build_corpus_one_entry_by_font_pos(data)\n",
    "\n",
    "#         result_csv = pd.DataFrame.from_dict(CSV_res)\n",
    "#         result_csv = result_csv[result_csv[\"Entri\"] != \"\"]\n",
    "#         result_csv = result_csv.reset_index(drop=True)\n",
    "#         result_csv.to_csv(directory_hasil + \"/\" + new_filename + \"-one_entry_from_JSON_font_posisi.csv\",index=False)\n",
    "#         try:\n",
    "#             CSV_res = build_corpus_one_entry_by_font_pos(data)\n",
    "\n",
    "#             result_csv = pd.DataFrame.from_dict(CSV_res)\n",
    "#             result_csv.to_csv(directory_hasil + \"/\" + new_filename + \"-one_entry_from_JSON_font_posisi.csv\",index=False)\n",
    "#         except:\n",
    "#             print(\"==== Kamus Gagal ====\")\n",
    "#             print(new_filename)"
   ]
  },
  {
   "cell_type": "code",
   "execution_count": 2,
   "id": "63f0a18b",
   "metadata": {},
   "outputs": [
    {
     "data": {
      "text/html": [
       "<div>\n",
       "<style scoped>\n",
       "    .dataframe tbody tr th:only-of-type {\n",
       "        vertical-align: middle;\n",
       "    }\n",
       "\n",
       "    .dataframe tbody tr th {\n",
       "        vertical-align: top;\n",
       "    }\n",
       "\n",
       "    .dataframe thead th {\n",
       "        text-align: right;\n",
       "    }\n",
       "</style>\n",
       "<table border=\"1\" class=\"dataframe\">\n",
       "  <thead>\n",
       "    <tr style=\"text-align: right;\">\n",
       "      <th></th>\n",
       "      <th>nama_kamus</th>\n",
       "      <th>persentasi_anomali</th>\n",
       "      <th>jumlah_entri</th>\n",
       "    </tr>\n",
       "  </thead>\n",
       "  <tbody>\n",
       "    <tr>\n",
       "      <th>0</th>\n",
       "      <td>10_Replace-categorizeAnomali.csv</td>\n",
       "      <td>25.84</td>\n",
       "      <td>5208</td>\n",
       "    </tr>\n",
       "    <tr>\n",
       "      <th>1</th>\n",
       "      <td>12_Replace-categorizeAnomali.csv</td>\n",
       "      <td>33.09</td>\n",
       "      <td>9397</td>\n",
       "    </tr>\n",
       "    <tr>\n",
       "      <th>2</th>\n",
       "      <td>17_Replace-categorizeAnomali.csv</td>\n",
       "      <td>98.13</td>\n",
       "      <td>2141</td>\n",
       "    </tr>\n",
       "    <tr>\n",
       "      <th>3</th>\n",
       "      <td>18_Replace-categorizeAnomali.csv</td>\n",
       "      <td>32.86</td>\n",
       "      <td>14861</td>\n",
       "    </tr>\n",
       "    <tr>\n",
       "      <th>4</th>\n",
       "      <td>19_Replace-categorizeAnomali.csv</td>\n",
       "      <td>36.58</td>\n",
       "      <td>8549</td>\n",
       "    </tr>\n",
       "    <tr>\n",
       "      <th>5</th>\n",
       "      <td>20_Replace-categorizeAnomali.csv</td>\n",
       "      <td>99.81</td>\n",
       "      <td>2062</td>\n",
       "    </tr>\n",
       "    <tr>\n",
       "      <th>6</th>\n",
       "      <td>21_Replace-categorizeAnomali.csv</td>\n",
       "      <td>48.04</td>\n",
       "      <td>2983</td>\n",
       "    </tr>\n",
       "    <tr>\n",
       "      <th>7</th>\n",
       "      <td>23_Replace-categorizeAnomali.csv</td>\n",
       "      <td>34.38</td>\n",
       "      <td>2865</td>\n",
       "    </tr>\n",
       "    <tr>\n",
       "      <th>8</th>\n",
       "      <td>24_Replace-categorizeAnomali.csv</td>\n",
       "      <td>46.07</td>\n",
       "      <td>8428</td>\n",
       "    </tr>\n",
       "    <tr>\n",
       "      <th>9</th>\n",
       "      <td>26_Replace-categorizeAnomali.csv</td>\n",
       "      <td>35.24</td>\n",
       "      <td>4733</td>\n",
       "    </tr>\n",
       "    <tr>\n",
       "      <th>10</th>\n",
       "      <td>27_Replace-categorizeAnomali.csv</td>\n",
       "      <td>56.65</td>\n",
       "      <td>3721</td>\n",
       "    </tr>\n",
       "    <tr>\n",
       "      <th>11</th>\n",
       "      <td>28_Replace-categorizeAnomali.csv</td>\n",
       "      <td>36.36</td>\n",
       "      <td>1034</td>\n",
       "    </tr>\n",
       "    <tr>\n",
       "      <th>12</th>\n",
       "      <td>29_Replace-categorizeAnomali.csv</td>\n",
       "      <td>99.75</td>\n",
       "      <td>1963</td>\n",
       "    </tr>\n",
       "    <tr>\n",
       "      <th>13</th>\n",
       "      <td>2_Replace-categorizeAnomali.csv</td>\n",
       "      <td>97.85</td>\n",
       "      <td>4750</td>\n",
       "    </tr>\n",
       "    <tr>\n",
       "      <th>14</th>\n",
       "      <td>31_Replace-categorizeAnomali.csv</td>\n",
       "      <td>99.12</td>\n",
       "      <td>1359</td>\n",
       "    </tr>\n",
       "    <tr>\n",
       "      <th>15</th>\n",
       "      <td>32_Replace-categorizeAnomali.csv</td>\n",
       "      <td>99.26</td>\n",
       "      <td>3363</td>\n",
       "    </tr>\n",
       "    <tr>\n",
       "      <th>16</th>\n",
       "      <td>33_Replace-categorizeAnomali.csv</td>\n",
       "      <td>90.00</td>\n",
       "      <td>2869</td>\n",
       "    </tr>\n",
       "    <tr>\n",
       "      <th>17</th>\n",
       "      <td>34_Replace-categorizeAnomali.csv</td>\n",
       "      <td>47.89</td>\n",
       "      <td>11208</td>\n",
       "    </tr>\n",
       "    <tr>\n",
       "      <th>18</th>\n",
       "      <td>36_Replace-categorizeAnomali.csv</td>\n",
       "      <td>48.20</td>\n",
       "      <td>2782</td>\n",
       "    </tr>\n",
       "    <tr>\n",
       "      <th>19</th>\n",
       "      <td>38_Replace-categorizeAnomali.csv</td>\n",
       "      <td>94.24</td>\n",
       "      <td>4354</td>\n",
       "    </tr>\n",
       "    <tr>\n",
       "      <th>20</th>\n",
       "      <td>41_Replace-categorizeAnomali.csv</td>\n",
       "      <td>40.31</td>\n",
       "      <td>13363</td>\n",
       "    </tr>\n",
       "    <tr>\n",
       "      <th>21</th>\n",
       "      <td>42_Replace-categorizeAnomali.csv</td>\n",
       "      <td>50.60</td>\n",
       "      <td>6913</td>\n",
       "    </tr>\n",
       "    <tr>\n",
       "      <th>22</th>\n",
       "      <td>44_Replace-categorizeAnomali.csv</td>\n",
       "      <td>98.86</td>\n",
       "      <td>2011</td>\n",
       "    </tr>\n",
       "    <tr>\n",
       "      <th>23</th>\n",
       "      <td>46_Replace-categorizeAnomali.csv</td>\n",
       "      <td>33.90</td>\n",
       "      <td>13164</td>\n",
       "    </tr>\n",
       "    <tr>\n",
       "      <th>24</th>\n",
       "      <td>4_Replace-categorizeAnomali.csv</td>\n",
       "      <td>37.08</td>\n",
       "      <td>3212</td>\n",
       "    </tr>\n",
       "    <tr>\n",
       "      <th>25</th>\n",
       "      <td>51_Replace-categorizeAnomali.csv</td>\n",
       "      <td>82.62</td>\n",
       "      <td>2117</td>\n",
       "    </tr>\n",
       "    <tr>\n",
       "      <th>26</th>\n",
       "      <td>52_Replace-categorizeAnomali.csv</td>\n",
       "      <td>99.03</td>\n",
       "      <td>2673</td>\n",
       "    </tr>\n",
       "    <tr>\n",
       "      <th>27</th>\n",
       "      <td>54_Replace-categorizeAnomali.csv</td>\n",
       "      <td>54.00</td>\n",
       "      <td>2739</td>\n",
       "    </tr>\n",
       "    <tr>\n",
       "      <th>28</th>\n",
       "      <td>55_Replace-categorizeAnomali.csv</td>\n",
       "      <td>42.59</td>\n",
       "      <td>2660</td>\n",
       "    </tr>\n",
       "    <tr>\n",
       "      <th>29</th>\n",
       "      <td>56_Replace-categorizeAnomali.csv</td>\n",
       "      <td>98.92</td>\n",
       "      <td>2120</td>\n",
       "    </tr>\n",
       "    <tr>\n",
       "      <th>30</th>\n",
       "      <td>58_Replace-categorizeAnomali.csv</td>\n",
       "      <td>98.83</td>\n",
       "      <td>5231</td>\n",
       "    </tr>\n",
       "    <tr>\n",
       "      <th>31</th>\n",
       "      <td>5_Replace-categorizeAnomali.csv</td>\n",
       "      <td>37.91</td>\n",
       "      <td>3846</td>\n",
       "    </tr>\n",
       "    <tr>\n",
       "      <th>32</th>\n",
       "      <td>60_Replace-categorizeAnomali.csv</td>\n",
       "      <td>86.30</td>\n",
       "      <td>1613</td>\n",
       "    </tr>\n",
       "    <tr>\n",
       "      <th>33</th>\n",
       "      <td>63_Replace-categorizeAnomali.csv</td>\n",
       "      <td>65.43</td>\n",
       "      <td>1076</td>\n",
       "    </tr>\n",
       "    <tr>\n",
       "      <th>34</th>\n",
       "      <td>66_Replace-categorizeAnomali.csv</td>\n",
       "      <td>99.09</td>\n",
       "      <td>1657</td>\n",
       "    </tr>\n",
       "    <tr>\n",
       "      <th>35</th>\n",
       "      <td>68_Replace-categorizeAnomali.csv</td>\n",
       "      <td>11.46</td>\n",
       "      <td>7525</td>\n",
       "    </tr>\n",
       "    <tr>\n",
       "      <th>36</th>\n",
       "      <td>71_Replace-categorizeAnomali.csv</td>\n",
       "      <td>7.74</td>\n",
       "      <td>853</td>\n",
       "    </tr>\n",
       "    <tr>\n",
       "      <th>37</th>\n",
       "      <td>78_Replace-categorizeAnomali.csv</td>\n",
       "      <td>99.06</td>\n",
       "      <td>1165</td>\n",
       "    </tr>\n",
       "    <tr>\n",
       "      <th>38</th>\n",
       "      <td>84_Replace-categorizeAnomali.csv</td>\n",
       "      <td>99.09</td>\n",
       "      <td>992</td>\n",
       "    </tr>\n",
       "    <tr>\n",
       "      <th>39</th>\n",
       "      <td>85_Replace-categorizeAnomali.csv</td>\n",
       "      <td>94.85</td>\n",
       "      <td>1224</td>\n",
       "    </tr>\n",
       "    <tr>\n",
       "      <th>40</th>\n",
       "      <td>87_Replace-categorizeAnomali.csv</td>\n",
       "      <td>66.32</td>\n",
       "      <td>2304</td>\n",
       "    </tr>\n",
       "    <tr>\n",
       "      <th>41</th>\n",
       "      <td>89_Replace-categorizeAnomali.csv</td>\n",
       "      <td>2.09</td>\n",
       "      <td>1151</td>\n",
       "    </tr>\n",
       "    <tr>\n",
       "      <th>42</th>\n",
       "      <td>91_Replace-categorizeAnomali.csv</td>\n",
       "      <td>6.05</td>\n",
       "      <td>10621</td>\n",
       "    </tr>\n",
       "  </tbody>\n",
       "</table>\n",
       "</div>"
      ],
      "text/plain": [
       "                          nama_kamus  persentasi_anomali  jumlah_entri\n",
       "0   10_Replace-categorizeAnomali.csv               25.84          5208\n",
       "1   12_Replace-categorizeAnomali.csv               33.09          9397\n",
       "2   17_Replace-categorizeAnomali.csv               98.13          2141\n",
       "3   18_Replace-categorizeAnomali.csv               32.86         14861\n",
       "4   19_Replace-categorizeAnomali.csv               36.58          8549\n",
       "5   20_Replace-categorizeAnomali.csv               99.81          2062\n",
       "6   21_Replace-categorizeAnomali.csv               48.04          2983\n",
       "7   23_Replace-categorizeAnomali.csv               34.38          2865\n",
       "8   24_Replace-categorizeAnomali.csv               46.07          8428\n",
       "9   26_Replace-categorizeAnomali.csv               35.24          4733\n",
       "10  27_Replace-categorizeAnomali.csv               56.65          3721\n",
       "11  28_Replace-categorizeAnomali.csv               36.36          1034\n",
       "12  29_Replace-categorizeAnomali.csv               99.75          1963\n",
       "13   2_Replace-categorizeAnomali.csv               97.85          4750\n",
       "14  31_Replace-categorizeAnomali.csv               99.12          1359\n",
       "15  32_Replace-categorizeAnomali.csv               99.26          3363\n",
       "16  33_Replace-categorizeAnomali.csv               90.00          2869\n",
       "17  34_Replace-categorizeAnomali.csv               47.89         11208\n",
       "18  36_Replace-categorizeAnomali.csv               48.20          2782\n",
       "19  38_Replace-categorizeAnomali.csv               94.24          4354\n",
       "20  41_Replace-categorizeAnomali.csv               40.31         13363\n",
       "21  42_Replace-categorizeAnomali.csv               50.60          6913\n",
       "22  44_Replace-categorizeAnomali.csv               98.86          2011\n",
       "23  46_Replace-categorizeAnomali.csv               33.90         13164\n",
       "24   4_Replace-categorizeAnomali.csv               37.08          3212\n",
       "25  51_Replace-categorizeAnomali.csv               82.62          2117\n",
       "26  52_Replace-categorizeAnomali.csv               99.03          2673\n",
       "27  54_Replace-categorizeAnomali.csv               54.00          2739\n",
       "28  55_Replace-categorizeAnomali.csv               42.59          2660\n",
       "29  56_Replace-categorizeAnomali.csv               98.92          2120\n",
       "30  58_Replace-categorizeAnomali.csv               98.83          5231\n",
       "31   5_Replace-categorizeAnomali.csv               37.91          3846\n",
       "32  60_Replace-categorizeAnomali.csv               86.30          1613\n",
       "33  63_Replace-categorizeAnomali.csv               65.43          1076\n",
       "34  66_Replace-categorizeAnomali.csv               99.09          1657\n",
       "35  68_Replace-categorizeAnomali.csv               11.46          7525\n",
       "36  71_Replace-categorizeAnomali.csv                7.74           853\n",
       "37  78_Replace-categorizeAnomali.csv               99.06          1165\n",
       "38  84_Replace-categorizeAnomali.csv               99.09           992\n",
       "39  85_Replace-categorizeAnomali.csv               94.85          1224\n",
       "40  87_Replace-categorizeAnomali.csv               66.32          2304\n",
       "41  89_Replace-categorizeAnomali.csv                2.09          1151\n",
       "42  91_Replace-categorizeAnomali.csv                6.05         10621"
      ]
     },
     "metadata": {},
     "output_type": "display_data"
    }
   ],
   "source": [
    "# tampilkan seluruh baris dan seluruh nilai pada kolom\n",
    "\n",
    "data = pd.read_csv(\"exploratory_anomali.csv\")\n",
    "pd.set_option('display.max_rows', None)\n",
    "pd.set_option('display.max_colwidth', None)\n",
    "\n",
    "display(data)\n",
    "\n",
    "# reset option\n",
    "pd.reset_option(\"display\")"
   ]
  },
  {
   "cell_type": "code",
   "execution_count": 3,
   "id": "da9acc6e",
   "metadata": {},
   "outputs": [
    {
     "data": {
      "text/html": [
       "<div>\n",
       "<style scoped>\n",
       "    .dataframe tbody tr th:only-of-type {\n",
       "        vertical-align: middle;\n",
       "    }\n",
       "\n",
       "    .dataframe tbody tr th {\n",
       "        vertical-align: top;\n",
       "    }\n",
       "\n",
       "    .dataframe thead th {\n",
       "        text-align: right;\n",
       "    }\n",
       "</style>\n",
       "<table border=\"1\" class=\"dataframe\">\n",
       "  <thead>\n",
       "    <tr style=\"text-align: right;\">\n",
       "      <th></th>\n",
       "      <th>nama_kamus</th>\n",
       "      <th>persentasi_anomali</th>\n",
       "      <th>jumlah_entri</th>\n",
       "    </tr>\n",
       "  </thead>\n",
       "  <tbody>\n",
       "    <tr>\n",
       "      <th>2</th>\n",
       "      <td>17_Replace-categorizeAnomali.csv</td>\n",
       "      <td>98.13</td>\n",
       "      <td>2141</td>\n",
       "    </tr>\n",
       "    <tr>\n",
       "      <th>5</th>\n",
       "      <td>20_Replace-categorizeAnomali.csv</td>\n",
       "      <td>99.81</td>\n",
       "      <td>2062</td>\n",
       "    </tr>\n",
       "    <tr>\n",
       "      <th>10</th>\n",
       "      <td>27_Replace-categorizeAnomali.csv</td>\n",
       "      <td>56.65</td>\n",
       "      <td>3721</td>\n",
       "    </tr>\n",
       "    <tr>\n",
       "      <th>12</th>\n",
       "      <td>29_Replace-categorizeAnomali.csv</td>\n",
       "      <td>99.75</td>\n",
       "      <td>1963</td>\n",
       "    </tr>\n",
       "    <tr>\n",
       "      <th>13</th>\n",
       "      <td>2_Replace-categorizeAnomali.csv</td>\n",
       "      <td>97.85</td>\n",
       "      <td>4750</td>\n",
       "    </tr>\n",
       "    <tr>\n",
       "      <th>14</th>\n",
       "      <td>31_Replace-categorizeAnomali.csv</td>\n",
       "      <td>99.12</td>\n",
       "      <td>1359</td>\n",
       "    </tr>\n",
       "    <tr>\n",
       "      <th>15</th>\n",
       "      <td>32_Replace-categorizeAnomali.csv</td>\n",
       "      <td>99.26</td>\n",
       "      <td>3363</td>\n",
       "    </tr>\n",
       "    <tr>\n",
       "      <th>16</th>\n",
       "      <td>33_Replace-categorizeAnomali.csv</td>\n",
       "      <td>90.00</td>\n",
       "      <td>2869</td>\n",
       "    </tr>\n",
       "    <tr>\n",
       "      <th>19</th>\n",
       "      <td>38_Replace-categorizeAnomali.csv</td>\n",
       "      <td>94.24</td>\n",
       "      <td>4354</td>\n",
       "    </tr>\n",
       "    <tr>\n",
       "      <th>21</th>\n",
       "      <td>42_Replace-categorizeAnomali.csv</td>\n",
       "      <td>50.60</td>\n",
       "      <td>6913</td>\n",
       "    </tr>\n",
       "    <tr>\n",
       "      <th>22</th>\n",
       "      <td>44_Replace-categorizeAnomali.csv</td>\n",
       "      <td>98.86</td>\n",
       "      <td>2011</td>\n",
       "    </tr>\n",
       "    <tr>\n",
       "      <th>25</th>\n",
       "      <td>51_Replace-categorizeAnomali.csv</td>\n",
       "      <td>82.62</td>\n",
       "      <td>2117</td>\n",
       "    </tr>\n",
       "    <tr>\n",
       "      <th>26</th>\n",
       "      <td>52_Replace-categorizeAnomali.csv</td>\n",
       "      <td>99.03</td>\n",
       "      <td>2673</td>\n",
       "    </tr>\n",
       "    <tr>\n",
       "      <th>27</th>\n",
       "      <td>54_Replace-categorizeAnomali.csv</td>\n",
       "      <td>54.00</td>\n",
       "      <td>2739</td>\n",
       "    </tr>\n",
       "    <tr>\n",
       "      <th>29</th>\n",
       "      <td>56_Replace-categorizeAnomali.csv</td>\n",
       "      <td>98.92</td>\n",
       "      <td>2120</td>\n",
       "    </tr>\n",
       "    <tr>\n",
       "      <th>30</th>\n",
       "      <td>58_Replace-categorizeAnomali.csv</td>\n",
       "      <td>98.83</td>\n",
       "      <td>5231</td>\n",
       "    </tr>\n",
       "    <tr>\n",
       "      <th>32</th>\n",
       "      <td>60_Replace-categorizeAnomali.csv</td>\n",
       "      <td>86.30</td>\n",
       "      <td>1613</td>\n",
       "    </tr>\n",
       "    <tr>\n",
       "      <th>33</th>\n",
       "      <td>63_Replace-categorizeAnomali.csv</td>\n",
       "      <td>65.43</td>\n",
       "      <td>1076</td>\n",
       "    </tr>\n",
       "    <tr>\n",
       "      <th>34</th>\n",
       "      <td>66_Replace-categorizeAnomali.csv</td>\n",
       "      <td>99.09</td>\n",
       "      <td>1657</td>\n",
       "    </tr>\n",
       "    <tr>\n",
       "      <th>37</th>\n",
       "      <td>78_Replace-categorizeAnomali.csv</td>\n",
       "      <td>99.06</td>\n",
       "      <td>1165</td>\n",
       "    </tr>\n",
       "    <tr>\n",
       "      <th>38</th>\n",
       "      <td>84_Replace-categorizeAnomali.csv</td>\n",
       "      <td>99.09</td>\n",
       "      <td>992</td>\n",
       "    </tr>\n",
       "    <tr>\n",
       "      <th>39</th>\n",
       "      <td>85_Replace-categorizeAnomali.csv</td>\n",
       "      <td>94.85</td>\n",
       "      <td>1224</td>\n",
       "    </tr>\n",
       "    <tr>\n",
       "      <th>40</th>\n",
       "      <td>87_Replace-categorizeAnomali.csv</td>\n",
       "      <td>66.32</td>\n",
       "      <td>2304</td>\n",
       "    </tr>\n",
       "  </tbody>\n",
       "</table>\n",
       "</div>"
      ],
      "text/plain": [
       "                          nama_kamus  persentasi_anomali  jumlah_entri\n",
       "2   17_Replace-categorizeAnomali.csv               98.13          2141\n",
       "5   20_Replace-categorizeAnomali.csv               99.81          2062\n",
       "10  27_Replace-categorizeAnomali.csv               56.65          3721\n",
       "12  29_Replace-categorizeAnomali.csv               99.75          1963\n",
       "13   2_Replace-categorizeAnomali.csv               97.85          4750\n",
       "14  31_Replace-categorizeAnomali.csv               99.12          1359\n",
       "15  32_Replace-categorizeAnomali.csv               99.26          3363\n",
       "16  33_Replace-categorizeAnomali.csv               90.00          2869\n",
       "19  38_Replace-categorizeAnomali.csv               94.24          4354\n",
       "21  42_Replace-categorizeAnomali.csv               50.60          6913\n",
       "22  44_Replace-categorizeAnomali.csv               98.86          2011\n",
       "25  51_Replace-categorizeAnomali.csv               82.62          2117\n",
       "26  52_Replace-categorizeAnomali.csv               99.03          2673\n",
       "27  54_Replace-categorizeAnomali.csv               54.00          2739\n",
       "29  56_Replace-categorizeAnomali.csv               98.92          2120\n",
       "30  58_Replace-categorizeAnomali.csv               98.83          5231\n",
       "32  60_Replace-categorizeAnomali.csv               86.30          1613\n",
       "33  63_Replace-categorizeAnomali.csv               65.43          1076\n",
       "34  66_Replace-categorizeAnomali.csv               99.09          1657\n",
       "37  78_Replace-categorizeAnomali.csv               99.06          1165\n",
       "38  84_Replace-categorizeAnomali.csv               99.09           992\n",
       "39  85_Replace-categorizeAnomali.csv               94.85          1224\n",
       "40  87_Replace-categorizeAnomali.csv               66.32          2304"
      ]
     },
     "metadata": {},
     "output_type": "display_data"
    },
    {
     "data": {
      "text/plain": [
       "(23, 3)"
      ]
     },
     "metadata": {},
     "output_type": "display_data"
    }
   ],
   "source": [
    "# tampilkan seluruh baris dan seluruh nilai pada kolom\n",
    "\n",
    "data = pd.read_csv(\"exploratory_anomali.csv\")\n",
    "data = data[data[\"persentasi_anomali\"] > 50]\n",
    "pd.set_option('display.max_rows', None)\n",
    "pd.set_option('display.max_colwidth', None)\n",
    "\n",
    "display(data)\n",
    "display(data.shape)\n",
    "\n",
    "# reset option\n",
    "pd.reset_option(\"display\")"
   ]
  },
  {
   "cell_type": "code",
   "execution_count": 9,
   "id": "7e90740c",
   "metadata": {},
   "outputs": [
    {
     "data": {
      "text/html": [
       "<div>\n",
       "<style scoped>\n",
       "    .dataframe tbody tr th:only-of-type {\n",
       "        vertical-align: middle;\n",
       "    }\n",
       "\n",
       "    .dataframe tbody tr th {\n",
       "        vertical-align: top;\n",
       "    }\n",
       "\n",
       "    .dataframe thead th {\n",
       "        text-align: right;\n",
       "    }\n",
       "</style>\n",
       "<table border=\"1\" class=\"dataframe\">\n",
       "  <thead>\n",
       "    <tr style=\"text-align: right;\">\n",
       "      <th></th>\n",
       "      <th>nama_kamus</th>\n",
       "      <th>persentasi_anomali</th>\n",
       "      <th>jumlah_entri</th>\n",
       "    </tr>\n",
       "  </thead>\n",
       "  <tbody>\n",
       "    <tr>\n",
       "      <th>32</th>\n",
       "      <td>60_Replace-categorizeAnomali.csv</td>\n",
       "      <td>86.30</td>\n",
       "      <td>1613</td>\n",
       "    </tr>\n",
       "    <tr>\n",
       "      <th>25</th>\n",
       "      <td>51_Replace-categorizeAnomali.csv</td>\n",
       "      <td>82.62</td>\n",
       "      <td>2117</td>\n",
       "    </tr>\n",
       "    <tr>\n",
       "      <th>40</th>\n",
       "      <td>87_Replace-categorizeAnomali.csv</td>\n",
       "      <td>66.32</td>\n",
       "      <td>2304</td>\n",
       "    </tr>\n",
       "    <tr>\n",
       "      <th>33</th>\n",
       "      <td>63_Replace-categorizeAnomali.csv</td>\n",
       "      <td>65.43</td>\n",
       "      <td>1076</td>\n",
       "    </tr>\n",
       "    <tr>\n",
       "      <th>10</th>\n",
       "      <td>27_Replace-categorizeAnomali.csv</td>\n",
       "      <td>56.65</td>\n",
       "      <td>3721</td>\n",
       "    </tr>\n",
       "    <tr>\n",
       "      <th>27</th>\n",
       "      <td>54_Replace-categorizeAnomali.csv</td>\n",
       "      <td>54.00</td>\n",
       "      <td>2739</td>\n",
       "    </tr>\n",
       "    <tr>\n",
       "      <th>21</th>\n",
       "      <td>42_Replace-categorizeAnomali.csv</td>\n",
       "      <td>50.60</td>\n",
       "      <td>6913</td>\n",
       "    </tr>\n",
       "  </tbody>\n",
       "</table>\n",
       "</div>"
      ],
      "text/plain": [
       "                          nama_kamus  persentasi_anomali  jumlah_entri\n",
       "32  60_Replace-categorizeAnomali.csv               86.30          1613\n",
       "25  51_Replace-categorizeAnomali.csv               82.62          2117\n",
       "40  87_Replace-categorizeAnomali.csv               66.32          2304\n",
       "33  63_Replace-categorizeAnomali.csv               65.43          1076\n",
       "10  27_Replace-categorizeAnomali.csv               56.65          3721\n",
       "27  54_Replace-categorizeAnomali.csv               54.00          2739\n",
       "21  42_Replace-categorizeAnomali.csv               50.60          6913"
      ]
     },
     "metadata": {},
     "output_type": "display_data"
    },
    {
     "data": {
      "text/plain": [
       "(7, 3)"
      ]
     },
     "metadata": {},
     "output_type": "display_data"
    }
   ],
   "source": [
    "# tampilkan seluruh baris dan seluruh nilai pada kolom\n",
    "\n",
    "data = pd.read_csv(\"exploratory_anomali.csv\")\n",
    "data = data[data[\"persentasi_anomali\"] < 90]\n",
    "data = data[data[\"persentasi_anomali\"] > 50]\n",
    "data = data.sort_values(by=[\"persentasi_anomali\"], ascending=False) \n",
    "pd.set_option('display.max_rows', None)\n",
    "pd.set_option('display.max_colwidth', None)\n",
    "\n",
    "display(data)\n",
    "display(data.shape)\n",
    "\n",
    "# reset option\n",
    "pd.reset_option(\"display\")\n",
    "data.to_csv(\"top5090%.csv\",index=False)"
   ]
  },
  {
   "cell_type": "code",
   "execution_count": 7,
   "id": "c306d334",
   "metadata": {},
   "outputs": [
    {
     "data": {
      "text/html": [
       "<div>\n",
       "<style scoped>\n",
       "    .dataframe tbody tr th:only-of-type {\n",
       "        vertical-align: middle;\n",
       "    }\n",
       "\n",
       "    .dataframe tbody tr th {\n",
       "        vertical-align: top;\n",
       "    }\n",
       "\n",
       "    .dataframe thead th {\n",
       "        text-align: right;\n",
       "    }\n",
       "</style>\n",
       "<table border=\"1\" class=\"dataframe\">\n",
       "  <thead>\n",
       "    <tr style=\"text-align: right;\">\n",
       "      <th></th>\n",
       "      <th>nama_kamus</th>\n",
       "      <th>persentasi_anomali</th>\n",
       "      <th>jumlah_entri</th>\n",
       "    </tr>\n",
       "  </thead>\n",
       "  <tbody>\n",
       "    <tr>\n",
       "      <th>5</th>\n",
       "      <td>20_Replace-categorizeAnomali.csv</td>\n",
       "      <td>99.81</td>\n",
       "      <td>2062</td>\n",
       "    </tr>\n",
       "    <tr>\n",
       "      <th>12</th>\n",
       "      <td>29_Replace-categorizeAnomali.csv</td>\n",
       "      <td>99.75</td>\n",
       "      <td>1963</td>\n",
       "    </tr>\n",
       "    <tr>\n",
       "      <th>15</th>\n",
       "      <td>32_Replace-categorizeAnomali.csv</td>\n",
       "      <td>99.26</td>\n",
       "      <td>3363</td>\n",
       "    </tr>\n",
       "    <tr>\n",
       "      <th>14</th>\n",
       "      <td>31_Replace-categorizeAnomali.csv</td>\n",
       "      <td>99.12</td>\n",
       "      <td>1359</td>\n",
       "    </tr>\n",
       "    <tr>\n",
       "      <th>34</th>\n",
       "      <td>66_Replace-categorizeAnomali.csv</td>\n",
       "      <td>99.09</td>\n",
       "      <td>1657</td>\n",
       "    </tr>\n",
       "    <tr>\n",
       "      <th>38</th>\n",
       "      <td>84_Replace-categorizeAnomali.csv</td>\n",
       "      <td>99.09</td>\n",
       "      <td>992</td>\n",
       "    </tr>\n",
       "    <tr>\n",
       "      <th>37</th>\n",
       "      <td>78_Replace-categorizeAnomali.csv</td>\n",
       "      <td>99.06</td>\n",
       "      <td>1165</td>\n",
       "    </tr>\n",
       "    <tr>\n",
       "      <th>26</th>\n",
       "      <td>52_Replace-categorizeAnomali.csv</td>\n",
       "      <td>99.03</td>\n",
       "      <td>2673</td>\n",
       "    </tr>\n",
       "    <tr>\n",
       "      <th>29</th>\n",
       "      <td>56_Replace-categorizeAnomali.csv</td>\n",
       "      <td>98.92</td>\n",
       "      <td>2120</td>\n",
       "    </tr>\n",
       "    <tr>\n",
       "      <th>22</th>\n",
       "      <td>44_Replace-categorizeAnomali.csv</td>\n",
       "      <td>98.86</td>\n",
       "      <td>2011</td>\n",
       "    </tr>\n",
       "    <tr>\n",
       "      <th>30</th>\n",
       "      <td>58_Replace-categorizeAnomali.csv</td>\n",
       "      <td>98.83</td>\n",
       "      <td>5231</td>\n",
       "    </tr>\n",
       "    <tr>\n",
       "      <th>2</th>\n",
       "      <td>17_Replace-categorizeAnomali.csv</td>\n",
       "      <td>98.13</td>\n",
       "      <td>2141</td>\n",
       "    </tr>\n",
       "    <tr>\n",
       "      <th>13</th>\n",
       "      <td>2_Replace-categorizeAnomali.csv</td>\n",
       "      <td>97.85</td>\n",
       "      <td>4750</td>\n",
       "    </tr>\n",
       "    <tr>\n",
       "      <th>39</th>\n",
       "      <td>85_Replace-categorizeAnomali.csv</td>\n",
       "      <td>94.85</td>\n",
       "      <td>1224</td>\n",
       "    </tr>\n",
       "    <tr>\n",
       "      <th>19</th>\n",
       "      <td>38_Replace-categorizeAnomali.csv</td>\n",
       "      <td>94.24</td>\n",
       "      <td>4354</td>\n",
       "    </tr>\n",
       "  </tbody>\n",
       "</table>\n",
       "</div>"
      ],
      "text/plain": [
       "                          nama_kamus  persentasi_anomali  jumlah_entri\n",
       "5   20_Replace-categorizeAnomali.csv               99.81          2062\n",
       "12  29_Replace-categorizeAnomali.csv               99.75          1963\n",
       "15  32_Replace-categorizeAnomali.csv               99.26          3363\n",
       "14  31_Replace-categorizeAnomali.csv               99.12          1359\n",
       "34  66_Replace-categorizeAnomali.csv               99.09          1657\n",
       "38  84_Replace-categorizeAnomali.csv               99.09           992\n",
       "37  78_Replace-categorizeAnomali.csv               99.06          1165\n",
       "26  52_Replace-categorizeAnomali.csv               99.03          2673\n",
       "29  56_Replace-categorizeAnomali.csv               98.92          2120\n",
       "22  44_Replace-categorizeAnomali.csv               98.86          2011\n",
       "30  58_Replace-categorizeAnomali.csv               98.83          5231\n",
       "2   17_Replace-categorizeAnomali.csv               98.13          2141\n",
       "13   2_Replace-categorizeAnomali.csv               97.85          4750\n",
       "39  85_Replace-categorizeAnomali.csv               94.85          1224\n",
       "19  38_Replace-categorizeAnomali.csv               94.24          4354"
      ]
     },
     "metadata": {},
     "output_type": "display_data"
    },
    {
     "data": {
      "text/plain": [
       "(15, 3)"
      ]
     },
     "metadata": {},
     "output_type": "display_data"
    }
   ],
   "source": [
    "# tampilkan seluruh baris dan seluruh nilai pada kolom\n",
    "\n",
    "data = pd.read_csv(\"exploratory_anomali.csv\")\n",
    "data = data[data[\"persentasi_anomali\"] > 90]\n",
    "data = data.sort_values(by=[\"persentasi_anomali\"], ascending=False)\n",
    "pd.set_option('display.max_rows', None)\n",
    "pd.set_option('display.max_colwidth', None)\n",
    "\n",
    "display(data)\n",
    "display(data.shape)\n",
    "\n",
    "# reset option\n",
    "pd.reset_option(\"display\")\n",
    "data.to_csv(\"top90%.csv\",index=False)"
   ]
  },
  {
   "cell_type": "code",
   "execution_count": 9,
   "id": "1b4da19d",
   "metadata": {},
   "outputs": [
    {
     "data": {
      "text/html": [
       "<div>\n",
       "<style scoped>\n",
       "    .dataframe tbody tr th:only-of-type {\n",
       "        vertical-align: middle;\n",
       "    }\n",
       "\n",
       "    .dataframe tbody tr th {\n",
       "        vertical-align: top;\n",
       "    }\n",
       "\n",
       "    .dataframe thead th {\n",
       "        text-align: right;\n",
       "    }\n",
       "</style>\n",
       "<table border=\"1\" class=\"dataframe\">\n",
       "  <thead>\n",
       "    <tr style=\"text-align: right;\">\n",
       "      <th></th>\n",
       "      <th>nama_kamus</th>\n",
       "      <th>persentasi_anomali</th>\n",
       "      <th>jumlah_entri</th>\n",
       "    </tr>\n",
       "  </thead>\n",
       "  <tbody>\n",
       "    <tr>\n",
       "      <th>16</th>\n",
       "      <td>33_Replace-categorizeAnomali.csv</td>\n",
       "      <td>90.00</td>\n",
       "      <td>2869</td>\n",
       "    </tr>\n",
       "    <tr>\n",
       "      <th>32</th>\n",
       "      <td>60_Replace-categorizeAnomali.csv</td>\n",
       "      <td>86.30</td>\n",
       "      <td>1613</td>\n",
       "    </tr>\n",
       "    <tr>\n",
       "      <th>25</th>\n",
       "      <td>51_Replace-categorizeAnomali.csv</td>\n",
       "      <td>82.62</td>\n",
       "      <td>2117</td>\n",
       "    </tr>\n",
       "  </tbody>\n",
       "</table>\n",
       "</div>"
      ],
      "text/plain": [
       "                          nama_kamus  persentasi_anomali  jumlah_entri\n",
       "16  33_Replace-categorizeAnomali.csv               90.00          2869\n",
       "32  60_Replace-categorizeAnomali.csv               86.30          1613\n",
       "25  51_Replace-categorizeAnomali.csv               82.62          2117"
      ]
     },
     "metadata": {},
     "output_type": "display_data"
    },
    {
     "data": {
      "text/plain": [
       "(3, 3)"
      ]
     },
     "metadata": {},
     "output_type": "display_data"
    }
   ],
   "source": [
    "# tampilkan seluruh baris dan seluruh nilai pada kolom\n",
    "\n",
    "data = pd.read_csv(\"exploratory_anomali.csv\")\n",
    "data = data[data[\"persentasi_anomali\"] > 80]\n",
    "data = data[data[\"persentasi_anomali\"] <= 90]\n",
    "data = data.sort_values(by=[\"persentasi_anomali\"], ascending=False)\n",
    "pd.set_option('display.max_rows', None)\n",
    "pd.set_option('display.max_colwidth', None)\n",
    "\n",
    "display(data)\n",
    "display(data.shape)\n",
    "\n",
    "# reset option\n",
    "pd.reset_option(\"display\")"
   ]
  },
  {
   "cell_type": "code",
   "execution_count": 10,
   "id": "1724a725",
   "metadata": {},
   "outputs": [
    {
     "data": {
      "text/html": [
       "<div>\n",
       "<style scoped>\n",
       "    .dataframe tbody tr th:only-of-type {\n",
       "        vertical-align: middle;\n",
       "    }\n",
       "\n",
       "    .dataframe tbody tr th {\n",
       "        vertical-align: top;\n",
       "    }\n",
       "\n",
       "    .dataframe thead th {\n",
       "        text-align: right;\n",
       "    }\n",
       "</style>\n",
       "<table border=\"1\" class=\"dataframe\">\n",
       "  <thead>\n",
       "    <tr style=\"text-align: right;\">\n",
       "      <th></th>\n",
       "      <th>nama_kamus</th>\n",
       "      <th>persentasi_anomali</th>\n",
       "      <th>jumlah_entri</th>\n",
       "    </tr>\n",
       "  </thead>\n",
       "  <tbody>\n",
       "    <tr>\n",
       "      <th>0</th>\n",
       "      <td>10_Replace-categorizeAnomali.csv</td>\n",
       "      <td>25.84</td>\n",
       "      <td>5208</td>\n",
       "    </tr>\n",
       "    <tr>\n",
       "      <th>35</th>\n",
       "      <td>68_Replace-categorizeAnomali.csv</td>\n",
       "      <td>11.46</td>\n",
       "      <td>7525</td>\n",
       "    </tr>\n",
       "    <tr>\n",
       "      <th>36</th>\n",
       "      <td>71_Replace-categorizeAnomali.csv</td>\n",
       "      <td>7.74</td>\n",
       "      <td>853</td>\n",
       "    </tr>\n",
       "    <tr>\n",
       "      <th>42</th>\n",
       "      <td>91_Replace-categorizeAnomali.csv</td>\n",
       "      <td>6.05</td>\n",
       "      <td>10621</td>\n",
       "    </tr>\n",
       "    <tr>\n",
       "      <th>41</th>\n",
       "      <td>89_Replace-categorizeAnomali.csv</td>\n",
       "      <td>2.09</td>\n",
       "      <td>1151</td>\n",
       "    </tr>\n",
       "  </tbody>\n",
       "</table>\n",
       "</div>"
      ],
      "text/plain": [
       "                          nama_kamus  persentasi_anomali  jumlah_entri\n",
       "0   10_Replace-categorizeAnomali.csv               25.84          5208\n",
       "35  68_Replace-categorizeAnomali.csv               11.46          7525\n",
       "36  71_Replace-categorizeAnomali.csv                7.74           853\n",
       "42  91_Replace-categorizeAnomali.csv                6.05         10621\n",
       "41  89_Replace-categorizeAnomali.csv                2.09          1151"
      ]
     },
     "metadata": {},
     "output_type": "display_data"
    },
    {
     "data": {
      "text/plain": [
       "(5, 3)"
      ]
     },
     "metadata": {},
     "output_type": "display_data"
    }
   ],
   "source": [
    "# tampilkan seluruh baris dan seluruh nilai pada kolom\n",
    "\n",
    "data = pd.read_csv(\"exploratory_anomali.csv\")\n",
    "data = data[data[\"persentasi_anomali\"] > 0]\n",
    "data = data[data[\"persentasi_anomali\"] <= 30]\n",
    "data = data.sort_values(by=[\"persentasi_anomali\"], ascending=False)\n",
    "pd.set_option('display.max_rows', None)\n",
    "pd.set_option('display.max_colwidth', None)\n",
    "\n",
    "display(data)\n",
    "display(data.shape)\n",
    "\n",
    "# reset option\n",
    "pd.reset_option(\"display\")"
   ]
  },
  {
   "cell_type": "code",
   "execution_count": 11,
   "id": "eb23bb73",
   "metadata": {},
   "outputs": [
    {
     "data": {
      "text/html": [
       "<div>\n",
       "<style scoped>\n",
       "    .dataframe tbody tr th:only-of-type {\n",
       "        vertical-align: middle;\n",
       "    }\n",
       "\n",
       "    .dataframe tbody tr th {\n",
       "        vertical-align: top;\n",
       "    }\n",
       "\n",
       "    .dataframe thead th {\n",
       "        text-align: right;\n",
       "    }\n",
       "</style>\n",
       "<table border=\"1\" class=\"dataframe\">\n",
       "  <thead>\n",
       "    <tr style=\"text-align: right;\">\n",
       "      <th></th>\n",
       "      <th>nama_kamus</th>\n",
       "      <th>persentasi_anomali</th>\n",
       "      <th>jumlah_entri</th>\n",
       "    </tr>\n",
       "  </thead>\n",
       "  <tbody>\n",
       "    <tr>\n",
       "      <th>5</th>\n",
       "      <td>20_Replace-categorizeAnomali.csv</td>\n",
       "      <td>99.81</td>\n",
       "      <td>2062</td>\n",
       "    </tr>\n",
       "    <tr>\n",
       "      <th>12</th>\n",
       "      <td>29_Replace-categorizeAnomali.csv</td>\n",
       "      <td>99.75</td>\n",
       "      <td>1963</td>\n",
       "    </tr>\n",
       "    <tr>\n",
       "      <th>15</th>\n",
       "      <td>32_Replace-categorizeAnomali.csv</td>\n",
       "      <td>99.26</td>\n",
       "      <td>3363</td>\n",
       "    </tr>\n",
       "    <tr>\n",
       "      <th>14</th>\n",
       "      <td>31_Replace-categorizeAnomali.csv</td>\n",
       "      <td>99.12</td>\n",
       "      <td>1359</td>\n",
       "    </tr>\n",
       "    <tr>\n",
       "      <th>34</th>\n",
       "      <td>66_Replace-categorizeAnomali.csv</td>\n",
       "      <td>99.09</td>\n",
       "      <td>1657</td>\n",
       "    </tr>\n",
       "    <tr>\n",
       "      <th>38</th>\n",
       "      <td>84_Replace-categorizeAnomali.csv</td>\n",
       "      <td>99.09</td>\n",
       "      <td>992</td>\n",
       "    </tr>\n",
       "    <tr>\n",
       "      <th>37</th>\n",
       "      <td>78_Replace-categorizeAnomali.csv</td>\n",
       "      <td>99.06</td>\n",
       "      <td>1165</td>\n",
       "    </tr>\n",
       "    <tr>\n",
       "      <th>26</th>\n",
       "      <td>52_Replace-categorizeAnomali.csv</td>\n",
       "      <td>99.03</td>\n",
       "      <td>2673</td>\n",
       "    </tr>\n",
       "    <tr>\n",
       "      <th>29</th>\n",
       "      <td>56_Replace-categorizeAnomali.csv</td>\n",
       "      <td>98.92</td>\n",
       "      <td>2120</td>\n",
       "    </tr>\n",
       "    <tr>\n",
       "      <th>22</th>\n",
       "      <td>44_Replace-categorizeAnomali.csv</td>\n",
       "      <td>98.86</td>\n",
       "      <td>2011</td>\n",
       "    </tr>\n",
       "    <tr>\n",
       "      <th>30</th>\n",
       "      <td>58_Replace-categorizeAnomali.csv</td>\n",
       "      <td>98.83</td>\n",
       "      <td>5231</td>\n",
       "    </tr>\n",
       "    <tr>\n",
       "      <th>2</th>\n",
       "      <td>17_Replace-categorizeAnomali.csv</td>\n",
       "      <td>98.13</td>\n",
       "      <td>2141</td>\n",
       "    </tr>\n",
       "    <tr>\n",
       "      <th>13</th>\n",
       "      <td>2_Replace-categorizeAnomali.csv</td>\n",
       "      <td>97.85</td>\n",
       "      <td>4750</td>\n",
       "    </tr>\n",
       "    <tr>\n",
       "      <th>39</th>\n",
       "      <td>85_Replace-categorizeAnomali.csv</td>\n",
       "      <td>94.85</td>\n",
       "      <td>1224</td>\n",
       "    </tr>\n",
       "    <tr>\n",
       "      <th>19</th>\n",
       "      <td>38_Replace-categorizeAnomali.csv</td>\n",
       "      <td>94.24</td>\n",
       "      <td>4354</td>\n",
       "    </tr>\n",
       "    <tr>\n",
       "      <th>16</th>\n",
       "      <td>33_Replace-categorizeAnomali.csv</td>\n",
       "      <td>90.00</td>\n",
       "      <td>2869</td>\n",
       "    </tr>\n",
       "    <tr>\n",
       "      <th>32</th>\n",
       "      <td>60_Replace-categorizeAnomali.csv</td>\n",
       "      <td>86.30</td>\n",
       "      <td>1613</td>\n",
       "    </tr>\n",
       "    <tr>\n",
       "      <th>25</th>\n",
       "      <td>51_Replace-categorizeAnomali.csv</td>\n",
       "      <td>82.62</td>\n",
       "      <td>2117</td>\n",
       "    </tr>\n",
       "    <tr>\n",
       "      <th>40</th>\n",
       "      <td>87_Replace-categorizeAnomali.csv</td>\n",
       "      <td>66.32</td>\n",
       "      <td>2304</td>\n",
       "    </tr>\n",
       "    <tr>\n",
       "      <th>33</th>\n",
       "      <td>63_Replace-categorizeAnomali.csv</td>\n",
       "      <td>65.43</td>\n",
       "      <td>1076</td>\n",
       "    </tr>\n",
       "    <tr>\n",
       "      <th>10</th>\n",
       "      <td>27_Replace-categorizeAnomali.csv</td>\n",
       "      <td>56.65</td>\n",
       "      <td>3721</td>\n",
       "    </tr>\n",
       "    <tr>\n",
       "      <th>27</th>\n",
       "      <td>54_Replace-categorizeAnomali.csv</td>\n",
       "      <td>54.00</td>\n",
       "      <td>2739</td>\n",
       "    </tr>\n",
       "    <tr>\n",
       "      <th>21</th>\n",
       "      <td>42_Replace-categorizeAnomali.csv</td>\n",
       "      <td>50.60</td>\n",
       "      <td>6913</td>\n",
       "    </tr>\n",
       "    <tr>\n",
       "      <th>18</th>\n",
       "      <td>36_Replace-categorizeAnomali.csv</td>\n",
       "      <td>48.20</td>\n",
       "      <td>2782</td>\n",
       "    </tr>\n",
       "    <tr>\n",
       "      <th>6</th>\n",
       "      <td>21_Replace-categorizeAnomali.csv</td>\n",
       "      <td>48.04</td>\n",
       "      <td>2983</td>\n",
       "    </tr>\n",
       "    <tr>\n",
       "      <th>17</th>\n",
       "      <td>34_Replace-categorizeAnomali.csv</td>\n",
       "      <td>47.89</td>\n",
       "      <td>11208</td>\n",
       "    </tr>\n",
       "    <tr>\n",
       "      <th>8</th>\n",
       "      <td>24_Replace-categorizeAnomali.csv</td>\n",
       "      <td>46.07</td>\n",
       "      <td>8428</td>\n",
       "    </tr>\n",
       "    <tr>\n",
       "      <th>28</th>\n",
       "      <td>55_Replace-categorizeAnomali.csv</td>\n",
       "      <td>42.59</td>\n",
       "      <td>2660</td>\n",
       "    </tr>\n",
       "    <tr>\n",
       "      <th>20</th>\n",
       "      <td>41_Replace-categorizeAnomali.csv</td>\n",
       "      <td>40.31</td>\n",
       "      <td>13363</td>\n",
       "    </tr>\n",
       "    <tr>\n",
       "      <th>31</th>\n",
       "      <td>5_Replace-categorizeAnomali.csv</td>\n",
       "      <td>37.91</td>\n",
       "      <td>3846</td>\n",
       "    </tr>\n",
       "    <tr>\n",
       "      <th>24</th>\n",
       "      <td>4_Replace-categorizeAnomali.csv</td>\n",
       "      <td>37.08</td>\n",
       "      <td>3212</td>\n",
       "    </tr>\n",
       "    <tr>\n",
       "      <th>4</th>\n",
       "      <td>19_Replace-categorizeAnomali.csv</td>\n",
       "      <td>36.58</td>\n",
       "      <td>8549</td>\n",
       "    </tr>\n",
       "    <tr>\n",
       "      <th>11</th>\n",
       "      <td>28_Replace-categorizeAnomali.csv</td>\n",
       "      <td>36.36</td>\n",
       "      <td>1034</td>\n",
       "    </tr>\n",
       "    <tr>\n",
       "      <th>9</th>\n",
       "      <td>26_Replace-categorizeAnomali.csv</td>\n",
       "      <td>35.24</td>\n",
       "      <td>4733</td>\n",
       "    </tr>\n",
       "    <tr>\n",
       "      <th>7</th>\n",
       "      <td>23_Replace-categorizeAnomali.csv</td>\n",
       "      <td>34.38</td>\n",
       "      <td>2865</td>\n",
       "    </tr>\n",
       "    <tr>\n",
       "      <th>23</th>\n",
       "      <td>46_Replace-categorizeAnomali.csv</td>\n",
       "      <td>33.90</td>\n",
       "      <td>13164</td>\n",
       "    </tr>\n",
       "    <tr>\n",
       "      <th>1</th>\n",
       "      <td>12_Replace-categorizeAnomali.csv</td>\n",
       "      <td>33.09</td>\n",
       "      <td>9397</td>\n",
       "    </tr>\n",
       "    <tr>\n",
       "      <th>3</th>\n",
       "      <td>18_Replace-categorizeAnomali.csv</td>\n",
       "      <td>32.86</td>\n",
       "      <td>14861</td>\n",
       "    </tr>\n",
       "    <tr>\n",
       "      <th>0</th>\n",
       "      <td>10_Replace-categorizeAnomali.csv</td>\n",
       "      <td>25.84</td>\n",
       "      <td>5208</td>\n",
       "    </tr>\n",
       "    <tr>\n",
       "      <th>35</th>\n",
       "      <td>68_Replace-categorizeAnomali.csv</td>\n",
       "      <td>11.46</td>\n",
       "      <td>7525</td>\n",
       "    </tr>\n",
       "    <tr>\n",
       "      <th>36</th>\n",
       "      <td>71_Replace-categorizeAnomali.csv</td>\n",
       "      <td>7.74</td>\n",
       "      <td>853</td>\n",
       "    </tr>\n",
       "    <tr>\n",
       "      <th>42</th>\n",
       "      <td>91_Replace-categorizeAnomali.csv</td>\n",
       "      <td>6.05</td>\n",
       "      <td>10621</td>\n",
       "    </tr>\n",
       "    <tr>\n",
       "      <th>41</th>\n",
       "      <td>89_Replace-categorizeAnomali.csv</td>\n",
       "      <td>2.09</td>\n",
       "      <td>1151</td>\n",
       "    </tr>\n",
       "  </tbody>\n",
       "</table>\n",
       "</div>"
      ],
      "text/plain": [
       "                          nama_kamus  persentasi_anomali  jumlah_entri\n",
       "5   20_Replace-categorizeAnomali.csv               99.81          2062\n",
       "12  29_Replace-categorizeAnomali.csv               99.75          1963\n",
       "15  32_Replace-categorizeAnomali.csv               99.26          3363\n",
       "14  31_Replace-categorizeAnomali.csv               99.12          1359\n",
       "34  66_Replace-categorizeAnomali.csv               99.09          1657\n",
       "38  84_Replace-categorizeAnomali.csv               99.09           992\n",
       "37  78_Replace-categorizeAnomali.csv               99.06          1165\n",
       "26  52_Replace-categorizeAnomali.csv               99.03          2673\n",
       "29  56_Replace-categorizeAnomali.csv               98.92          2120\n",
       "22  44_Replace-categorizeAnomali.csv               98.86          2011\n",
       "30  58_Replace-categorizeAnomali.csv               98.83          5231\n",
       "2   17_Replace-categorizeAnomali.csv               98.13          2141\n",
       "13   2_Replace-categorizeAnomali.csv               97.85          4750\n",
       "39  85_Replace-categorizeAnomali.csv               94.85          1224\n",
       "19  38_Replace-categorizeAnomali.csv               94.24          4354\n",
       "16  33_Replace-categorizeAnomali.csv               90.00          2869\n",
       "32  60_Replace-categorizeAnomali.csv               86.30          1613\n",
       "25  51_Replace-categorizeAnomali.csv               82.62          2117\n",
       "40  87_Replace-categorizeAnomali.csv               66.32          2304\n",
       "33  63_Replace-categorizeAnomali.csv               65.43          1076\n",
       "10  27_Replace-categorizeAnomali.csv               56.65          3721\n",
       "27  54_Replace-categorizeAnomali.csv               54.00          2739\n",
       "21  42_Replace-categorizeAnomali.csv               50.60          6913\n",
       "18  36_Replace-categorizeAnomali.csv               48.20          2782\n",
       "6   21_Replace-categorizeAnomali.csv               48.04          2983\n",
       "17  34_Replace-categorizeAnomali.csv               47.89         11208\n",
       "8   24_Replace-categorizeAnomali.csv               46.07          8428\n",
       "28  55_Replace-categorizeAnomali.csv               42.59          2660\n",
       "20  41_Replace-categorizeAnomali.csv               40.31         13363\n",
       "31   5_Replace-categorizeAnomali.csv               37.91          3846\n",
       "24   4_Replace-categorizeAnomali.csv               37.08          3212\n",
       "4   19_Replace-categorizeAnomali.csv               36.58          8549\n",
       "11  28_Replace-categorizeAnomali.csv               36.36          1034\n",
       "9   26_Replace-categorizeAnomali.csv               35.24          4733\n",
       "7   23_Replace-categorizeAnomali.csv               34.38          2865\n",
       "23  46_Replace-categorizeAnomali.csv               33.90         13164\n",
       "1   12_Replace-categorizeAnomali.csv               33.09          9397\n",
       "3   18_Replace-categorizeAnomali.csv               32.86         14861\n",
       "0   10_Replace-categorizeAnomali.csv               25.84          5208\n",
       "35  68_Replace-categorizeAnomali.csv               11.46          7525\n",
       "36  71_Replace-categorizeAnomali.csv                7.74           853\n",
       "42  91_Replace-categorizeAnomali.csv                6.05         10621\n",
       "41  89_Replace-categorizeAnomali.csv                2.09          1151"
      ]
     },
     "metadata": {},
     "output_type": "display_data"
    },
    {
     "data": {
      "text/plain": [
       "(43, 3)"
      ]
     },
     "metadata": {},
     "output_type": "display_data"
    }
   ],
   "source": [
    "# tampilkan seluruh baris dan seluruh nilai pada kolom\n",
    "\n",
    "data = pd.read_csv(\"exploratory_anomali.csv\")\n",
    "data = data.sort_values(by=[\"persentasi_anomali\"], ascending=False)\n",
    "pd.set_option('display.max_rows', None)\n",
    "pd.set_option('display.max_colwidth', None)\n",
    "\n",
    "display(data)\n",
    "display(data.shape)\n",
    "\n",
    "# reset option\n",
    "pd.reset_option(\"display\")"
   ]
  },
  {
   "cell_type": "code",
   "execution_count": null,
   "id": "29d5db71",
   "metadata": {},
   "outputs": [],
   "source": []
  }
 ],
 "metadata": {
  "kernelspec": {
   "display_name": "Python 3 (ipykernel)",
   "language": "python",
   "name": "python3"
  },
  "language_info": {
   "codemirror_mode": {
    "name": "ipython",
    "version": 3
   },
   "file_extension": ".py",
   "mimetype": "text/x-python",
   "name": "python",
   "nbconvert_exporter": "python",
   "pygments_lexer": "ipython3",
   "version": "3.9.13"
  }
 },
 "nbformat": 4,
 "nbformat_minor": 5
}
