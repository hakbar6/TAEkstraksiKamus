{
 "cells": [
  {
   "cell_type": "code",
   "execution_count": 1,
   "id": "9112958e",
   "metadata": {},
   "outputs": [],
   "source": [
    "import pandas as pd\n",
    "import numpy as np\n",
    "import os\n",
    "import re\n",
    "import json as js\n",
    "from pathlib import Path\n",
    "from tqdm import tqdm\n",
    "from ast import literal_eval"
   ]
  },
  {
   "cell_type": "code",
   "execution_count": 2,
   "id": "e138a71a",
   "metadata": {},
   "outputs": [],
   "source": [
    "directory_kamus = \"Daftar Kamus Analisis Machine Readable\"\n",
    "directory_kamus_full = \"[Full] Daftar Kamus Ekstraksi\""
   ]
  },
  {
   "cell_type": "markdown",
   "id": "8687a5e4",
   "metadata": {},
   "source": [
    "### Algoritma One Entry Corpus ###"
   ]
  },
  {
   "cell_type": "code",
   "execution_count": 3,
   "id": "b1f3a601",
   "metadata": {},
   "outputs": [],
   "source": [
    "# Algoritma Tambahan\n",
    "POS = [\"v\",\"a\",\"n\",\"pron\",\"adv\",\"num\",\"p\"]\n",
    "\n",
    "def is_contain_bold_and_italic(font):\n",
    "    contains_bold = False; contains_italic = False\n",
    "    for i in font:\n",
    "        if \"bold\" in i.lower(): contains_bold = True\n",
    "        if \"italic\" in i.lower(): contains_italic = True\n",
    "        if contains_bold == True and contains_italic == True: return True\n",
    "    return False\n",
    "\n",
    "def is_last_fonem(s): # baru dapat handle fonem (/../) dan ([...])\n",
    "    if re.match(r'^.*\\]$',str(s)): return True\n",
    "    if re.match(r'^.*\\/$',str(s)): return True\n",
    "    return False\n",
    "\n",
    "def is_start_fonem(s): # baru dapat handle fonem (/../) dan ([...])\n",
    "    if re.match(r'^\\[.*',str(s)): return True\n",
    "    if re.match(r'^\\/.*',str(s)): return True\n",
    "    return False\n",
    "\n",
    "def is_bold_contains_POS(s):\n",
    "    kata = s.strip()\n",
    "    \n",
    "    if len(kata) > 1:\n",
    "        if is_contain_only_whitespaces(kata[-2]) and (kata[-1] in POS): return True\n",
    "    else:\n",
    "        if (kata[-1] in POS): return True\n",
    "    \n",
    "    return False\n",
    "\n",
    "def is_contain_only_whitespaces(s):\n",
    "    if re.match(r'^\\s*$', str(s)): return True\n",
    "    return False\n",
    "\n",
    "def is_end_entri(s):\n",
    "    symbol = [\";\",\",\",\":\"]\n",
    "    if s in symbol:\n",
    "        return True\n",
    "    else:\n",
    "        return False"
   ]
  },
  {
   "cell_type": "code",
   "execution_count": 4,
   "id": "7711addb",
   "metadata": {},
   "outputs": [],
   "source": [
    "# Algoritma join seperate entry\n",
    "def join_seperate_entry(data):\n",
    "    result_entry = []\n",
    "    result_entry_with_font_size_pos = []\n",
    "    result_posisi = []\n",
    "    result_page = []\n",
    "    is_padanan_lema = []\n",
    "    \n",
    "    i = 0\n",
    "    while i < len(data[\"Entri\"]):\n",
    "        if i == (len(entries)-1): \n",
    "            result_entry.append(data[\"Entri\"][i])\n",
    "            result_entry_with_font_size_pos.append(data[\"entry_font_size_pos\"][i])\n",
    "            result_posisi.append(data[\"posisi_entry\"][i])\n",
    "            result_page.append(data[\"page\"][i])\n",
    "            is_padanan_lema.append(data[\"is_padanan_lema\"][i])\n",
    "            break\n",
    "        \n",
    "        joined_entry = data[\"Entri\"][i]\n",
    "        joined_entry_with_font_size_pos = data[\"entry_font_size_pos\"][i]\n",
    "        curr_posisi = data[\"posisi_entry\"][i]\n",
    "        curr_page = data[\"page\"][i]\n",
    "        curr_pl = data[\"is_padanan_lema\"][i]\n",
    "        \n",
    "        curr_y0 = joined_entry_with_font_size_pos[-1][-1][1]\n",
    "        batas_atas = curr_y0 + (curr_y0*(1/100)) # error 1%\n",
    "        batas_bawah = curr_y0 - (curr_y0*(1/100)) # error 1%\n",
    "        \n",
    "        \n",
    "        nxt= i+1\n",
    "        if nxt > len(entries)-1: \n",
    "            result_entry.append(joined_entry)\n",
    "            result_entry_with_font_size_pos.append(joined_entry_with_font_size_pos)\n",
    "            result_posisi.append(curr_posisi)\n",
    "            result_page.append(curr_page)\n",
    "            is_padanan_lema.append(curr_pl)\n",
    "            break\n",
    "            \n",
    "        else:\n",
    "            nxt_y0 = round(data[\"entry_font_size_pos\"][nxt][0][-1][1],2)\n",
    "            while batas_bawah <= nxt_y0 <= batas_atas:\n",
    "                if curr_pl == 1: break\n",
    "\n",
    "                joined_entry = joined_entry + \" \" + data[\"Entri\"][nxt]\n",
    "                joined_entry_with_font_size_pos.extend(data[\"entry_font_size_pos\"][nxt])\n",
    "\n",
    "                if isinstance(data[\"page\"][nxt],list):\n",
    "                    curr_page = data[\"page\"][nxt]\n",
    "                elif isinstance(curr_page,list):\n",
    "                    curr_page = curr_page\n",
    "                elif curr_page != page[nxt]:\n",
    "                    curr_page = [curr_page, data[\"page\"][nxt]]\n",
    "\n",
    "                nxt += 1\n",
    "                \n",
    "                if nxt == (len(entries)): break\n",
    "                    \n",
    "                nxt_y0 = round(data[\"entry_font_size_pos\"][nxt][0][-1][1],2)\n",
    "\n",
    "                curr_y0 = joined_entry_with_font_size_pos[-1][-1][1]\n",
    "                curr_pl = data[\"is_padanan_lema\"][nxt]\n",
    "                batas_atas = curr_y0 + (curr_y0*(1/100)) # error 1%\n",
    "                batas_bawah = curr_y0 - (curr_y0*(1/100)) # error 1%\n",
    "\n",
    "            result_entry.append(joined_entry)\n",
    "            result_entry_with_font_size_pos.append(joined_entry_with_font_size_pos)\n",
    "            result_posisi.append(curr_posisi)\n",
    "            result_page.append(curr_page)\n",
    "            is_padanan_lema.append(curr_pl)\n",
    "            i = nxt\n",
    "            \n",
    "    return {\n",
    "        \"Entri\":result_entry,\n",
    "        \"entry_font_size_pos\":result_entry_with_font_size_pos,\n",
    "        \"posisi_entry\":result_posisi,\n",
    "        \"page\":result_page,\n",
    "        \"is_padanan_lema\":is_padanan_lema\n",
    "    }"
   ]
  },
  {
   "cell_type": "code",
   "execution_count": 5,
   "id": "88623ab6",
   "metadata": {},
   "outputs": [],
   "source": [
    "# kategorisasi entry, untuk memisahkan mana yang main entry dan sub entry\n",
    "def categorize_main_entry(posisi, pages, lema):\n",
    "    output = []\n",
    "    \n",
    "    i = 0; j = 0\n",
    "    while i < len(pages):\n",
    "        if isinstance(pages[i], list): # kasus entry cross page\n",
    "            prev_posisi_x0 = posisi[i-1][0]\n",
    "            \n",
    "            if abs(posisi[i][0] - prev_posisi_x0) <= 3:\n",
    "                output.append(output[i-1])\n",
    "                \n",
    "            else:\n",
    "                batas_atas = round(prev_posisi_x0 + (prev_posisi_x0 * (2/100)),2) # error 2%\n",
    "                batas_kolom = 2*batas_atas\n",
    "                \n",
    "                if posisi[i][0] > batas_atas and posisi[i][0] < batas_kolom:\n",
    "                    output.append(0)\n",
    "                    \n",
    "                else:\n",
    "                    output.append(1)\n",
    "                    \n",
    "            i += 1; j += 1\n",
    "        \n",
    "        else:   \n",
    "            posisi_by_page = []; lema_by_page = []; curr_page = pages[j] \n",
    "        \n",
    "            while curr_page == pages[i]: # kelompokkan entri berdasarkan halaman\n",
    "                posisi_by_page.append(posisi[j][0])\n",
    "                lema_by_page.append(lema[j])\n",
    "                \n",
    "                j += 1\n",
    "                \n",
    "                if j > len(pages) - 1: break\n",
    "                    \n",
    "                curr_page = pages[j]\n",
    "                \n",
    "            sorted_posisi = sorted(posisi_by_page) # urutkan\n",
    "            \n",
    "            i = j; k = 0; l = 0 # update nilai i\n",
    "            while k < len(posisi_by_page):\n",
    "                if lema_by_page[k] == 1:\n",
    "                    if k == len(posisi_by_page)-1:\n",
    "                        output.append(1); break\n",
    "                    else:\n",
    "                        output.append(1)\n",
    "                        output.append(0)\n",
    "                        k += 2\n",
    "                else:\n",
    "                    if abs(posisi_by_page[k] - sorted_posisi[l]) > 3:\n",
    "                        output.append(0); k += 1 # jika tidak sesuai urutan\n",
    "\n",
    "                    else:\n",
    "                        output.append(1) # index pertama setelah header atau nomor halaman\n",
    "                        batas_atas = round(posisi_by_page[k] + (posisi_by_page[k] * (2/100)),2) # error 2%\n",
    "                        batas_kolom = 2*batas_atas\n",
    "\n",
    "                        m = k + 1\n",
    "                        if m > len(posisi_by_page) - 1: break\n",
    "\n",
    "                        nxt_posisi = posisi_by_page[m]\n",
    "                        while nxt_posisi > batas_atas and nxt_posisi < batas_kolom:\n",
    "                            output.append(0); m += 1\n",
    "\n",
    "                            if m > len(posisi_by_page) - 1: \n",
    "                                break \n",
    "\n",
    "                            nxt_posisi = posisi_by_page[m]\n",
    "\n",
    "                        k = m\n",
    "                        if nxt_posisi < batas_kolom:\n",
    "                            l += 1\n",
    "                        else:\n",
    "                            l = m\n",
    "                \n",
    "                \n",
    "    return output "
   ]
  },
  {
   "cell_type": "code",
   "execution_count": 217,
   "id": "45a910b7",
   "metadata": {},
   "outputs": [],
   "source": [
    "# pisahkan main entry atau entry-entry pokok yang masih tergabung\n",
    "def seperate_joined_entry(data, kategori):\n",
    "    result_entries = []\n",
    "    result_entries_with_font_size_pos = []\n",
    "    result_posisi = []\n",
    "    result_page = []\n",
    "    \n",
    "    entry = []\n",
    "    entry_with_font_size_pos = []\n",
    "    posisi_dummy = None;\n",
    "    \n",
    "    i = 0\n",
    "    while i < len(data[\"Entri\"]):\n",
    "        \n",
    "        if len(data[\"entry_font_size_pos\"][i]) < 2: # jika hanya terdiri dari 1 kata atau 0 kata\n",
    "            result_entries.append(data[\"Entri\"][i])\n",
    "            result_entries_with_font_size_pos.append(data[\"entry_font_size_pos\"][i])\n",
    "            result_posisi.append(data[\"posisi_entry\"][i])\n",
    "            result_page.append(data[\"page\"][i])\n",
    "            entry = []; entry_with_font_size_pos = []; posisi_dummy = None\n",
    "        \n",
    "        else:\n",
    "            posisi = data[\"posisi_entry\"][i]\n",
    "            batas_atas = round(posisi[0] + (posisi[0] * (1/100)),2)\n",
    "\n",
    "            detail = data[\"entry_font_size_pos\"][i][0] # handle index 0\n",
    "\n",
    "            entry.append(detail[0].strip())\n",
    "            entry_with_font_size_pos.append(detail)\n",
    "            posisi_dummy = detail[-1]\n",
    "\n",
    "            if (kategori[i] == 0): \n",
    "                result_entries.append(data[\"Entri\"][i])\n",
    "                result_entries_with_font_size_pos.append(data[\"entry_font_size_pos\"][i])\n",
    "                result_posisi.append(data[\"posisi_entry\"][i])\n",
    "                result_page.append(data[\"page\"][i])\n",
    "                entry = []; entry_with_font_size_pos = []; posisi_dummy = None\n",
    "\n",
    "            else: # pisahkan entri pokok yang tergabung\n",
    "                batas_bawah = round(posisi[0] - (posisi[0] * (1/100)),2) # error 1%\n",
    "\n",
    "                for j in range(1,len(data[\"entry_font_size_pos\"][i])):\n",
    "                    detail = data[\"entry_font_size_pos\"][i][j]; \n",
    "                    posisi_x0 = round(float(detail[-1][0]))\n",
    "\n",
    "                    if batas_bawah <= posisi_x0 <= batas_atas: # pisahkan entry\n",
    "                        joined_entry = (\" \").join(entry)\n",
    "                        result_entries.append(joined_entry)\n",
    "                        result_entries_with_font_size_pos.append(entry_with_font_size_pos)\n",
    "                        result_posisi.append(posisi_dummy)\n",
    "                        result_page.append(data[\"page\"][i])\n",
    "\n",
    "                        entry = []; entry_with_font_size_pos = []\n",
    "                        entry.append(detail[0].strip())\n",
    "                        entry_with_font_size_pos.append(detail)\n",
    "                        posisi_dummy = detail[-1]\n",
    "\n",
    "                    else:\n",
    "                        entry.append(detail[0].strip())\n",
    "                        entry_with_font_size_pos.append(detail)\n",
    "        \n",
    "        if entry != []:\n",
    "            joined_entry = (\" \").join(entry)\n",
    "            result_entries.append(joined_entry)\n",
    "            result_entries_with_font_size_pos.append(entry_with_font_size_pos)\n",
    "            result_posisi.append(posisi_dummy)\n",
    "            result_page.append(data[\"page\"][i])\n",
    "            entry = []; entry_with_font_size_pos = []; posisi_dummy = None\n",
    "\n",
    "        i += 1\n",
    "    \n",
    "    return {\n",
    "        \"Entri\":result_entries,\n",
    "        \"entry_font_size_pos\":result_entries_with_font_size_pos,\n",
    "        \"posisi_entry\":result_posisi,\n",
    "        \"page\":result_page\n",
    "    }"
   ]
  },
  {
   "cell_type": "code",
   "execution_count": 219,
   "id": "5769cdc1",
   "metadata": {},
   "outputs": [],
   "source": [
    "# memisahkan prakategorial\n",
    "def seperate_prakategorial(data):\n",
    "    result = {\n",
    "        \"Entri\":[],\n",
    "        \"entry_font_size_pos\":[],\n",
    "        \"posisi_entry\":[],\n",
    "        \"page\":[]\n",
    "    }\n",
    "    \n",
    "    for i in range(len(data[\"Entri\"])):\n",
    "        txt = data[\"Entri\"][i]\n",
    "        split_txt = txt.strip().split(\",\",1)\n",
    "        \n",
    "        if len(split_txt) < 2 or txt[-1] == \",\": # tidak terdapat koma atau koma berada di akhir\n",
    "            result['Entri'].append(txt)\n",
    "            result['entry_font_size_pos'].append(data['entry_font_size_pos'][i])\n",
    "            result['page'].append(data['page'][i])\n",
    "            result['posisi_entry'].append(data['posisi_entry'][i])\n",
    "        \n",
    "        else:\n",
    "            frst_entri = split_txt[0].strip().split(\" \")\n",
    "            sec_entri = split_txt[1].strip().split(\" \")\n",
    "            \n",
    "            for j in range(len(frst_entri)):\n",
    "                frst_entri[j] = frst_entri[j].strip()\n",
    "            \n",
    "            for k in range(len(sec_entri)):\n",
    "                sec_entri[k] = sec_entri[k].strip()\n",
    "                \n",
    "            if len(frst_entri) <= 2 and (frst_entri[0] == \"\" or frst_entri[0] == \",\"): # koma berada di awal entri\n",
    "                result['Entri'].append(txt)\n",
    "                result['entry_font_size_pos'].append(data['entry_font_size_pos'][i])\n",
    "                result['page'].append(data['page'][i])\n",
    "                result['posisi_entry'].append(data['posisi_entry'][i])\n",
    "            \n",
    "            else:\n",
    "                inf_frst_entri = data['entry_font_size_pos'][i][:len(frst_entri)]\n",
    "                \n",
    "                if \"bold\" in inf_frst_entri[-1][1].lower() or frst_entri[-1] in POS:\n",
    "                    if (len(frst_entri) + len(sec_entri)) == len(data['entry_font_size_pos'][i]): # kasus koma menempel\n",
    "                        frst_entri[-1] = frst_entri[-1] + \",\"\n",
    "                        inf_sec_entri = data['entry_font_size_pos'][i][len(frst_entri):]\n",
    "\n",
    "                    else: # kasus koma tidak menempel\n",
    "                        frst_entri.append(\",\")\n",
    "                        inf_frst_entri = data['entry_font_size_pos'][i][:len(frst_entri)+1]\n",
    "                        inf_sec_entri = data['entry_font_size_pos'][i][len(frst_entri)+1:]\n",
    "                        \n",
    "                    # entri pertama\n",
    "                    result['Entri'].append(\" \".join(frst_entri))\n",
    "                    result['entry_font_size_pos'].append(inf_frst_entri)\n",
    "                    result['page'].append(data['page'][i])\n",
    "                    result['posisi_entry'].append(data['posisi_entry'][i])\n",
    "\n",
    "                    # entri kedua\n",
    "                    result['Entri'].append(\" \".join(sec_entri))\n",
    "                    result['entry_font_size_pos'].append(inf_sec_entri)\n",
    "                    result['page'].append(data['page'][i])\n",
    "                    result['posisi_entry'].append(data['posisi_entry'][i])\n",
    "\n",
    "                else: # pemisahan koma tidak valid\n",
    "                    result['Entri'].append(txt)\n",
    "                    result['entry_font_size_pos'].append(data['entry_font_size_pos'][i])\n",
    "                    result['page'].append(data['page'][i])\n",
    "                    result['posisi_entry'].append(data['posisi_entry'][i])\n",
    "                \n",
    "                \n",
    "    return result"
   ]
  },
  {
   "cell_type": "code",
   "execution_count": 220,
   "id": "3eb2e930",
   "metadata": {},
   "outputs": [],
   "source": [
    "# algoritma bersihkan entry dari fonem\n",
    "def clean_entry(data):\n",
    "    result = {\n",
    "        \"Entri\":[],\n",
    "        \"entry_font_size_pos\":[],\n",
    "        \"posisi_entry\":[],\n",
    "        \"page\":[]\n",
    "    }\n",
    "    \n",
    "    for i in range(len(data[\"Entri\"])): # remove fonem\n",
    "        txt = data[\"Entri\"][i] # data text\n",
    "        \n",
    "        if not is_contain_only_whitespaces(txt):\n",
    "            \n",
    "            entry_font_size_pos = data[\"entry_font_size_pos\"][i]\n",
    "            txt = re.sub(r'\\[.*?\\]',\"\",txt)\n",
    "            entry_font_size_pos = clean_entry_font_size_paranthesis(entry_font_size_pos)\n",
    "\n",
    "            txt = re.sub(r'\\/.*?\\/',\"\",txt)\n",
    "            entry_font_size_pos = clean_entry_font_size_slash(entry_font_size_pos)\n",
    "\n",
    "            clean = re.sub(' +', ' ', txt) ## remove multiple whitespace\n",
    "            result[\"Entri\"].append(clean.strip())\n",
    "            result[\"entry_font_size_pos\"].append(entry_font_size_pos)\n",
    "\n",
    "            result['posisi_entry'].append(data['posisi_entry'][i])\n",
    "            result['page'].append(data['page'][i])\n",
    "    \n",
    "    for j in range(1,len(result['Entri'])): # fix symbol\n",
    "        array_simbol = []; array_simbol_font_size_pos = []\n",
    "        \n",
    "        prev_txt_split = result[\"Entri\"][j-1].split(\" \")\n",
    "        prev_entri_font_size_pos = result['entry_font_size_pos'][j-1]\n",
    "        \n",
    "        # buang seluruh simbol, kecuali ; pada entri sebelumnya\n",
    "        while (prev_txt_split[-1] != \"\") and (not is_end_entri(prev_txt_split[-1][-1])):\n",
    "            if (prev_txt_split[-1][0].isalnum()) or (prev_txt_split[-1][-1].isalnum()): \n",
    "                break\n",
    "                \n",
    "            else:\n",
    "                if (prev_txt_split==[] or prev_entri_font_size_pos == []):break\n",
    "                \n",
    "                array_simbol.append(prev_txt_split[-1])\n",
    "                array_simbol_font_size_pos.append(prev_entri_font_size_pos[-1])\n",
    "                del prev_txt_split[-1]\n",
    "                del prev_entri_font_size_pos[-1]\n",
    "                \n",
    "                result[\"Entri\"][j-1] = \" \".join(prev_txt_split)\n",
    "                result['entry_font_size_pos'][j-1] = prev_entri_font_size_pos\n",
    "            \n",
    "            if (prev_txt_split==[] or prev_entri_font_size_pos == []):break\n",
    "        \n",
    "        txt_split = result['Entri'][j].split(\" \")\n",
    "        if is_end_entri(txt_split[0]): \n",
    "            result['Entri'][j-1] = result['Entri'][j-1] + txt_split[0]\n",
    "            result['entry_font_size_pos'][j-1].append(result['entry_font_size_pos'][j][0])\n",
    "            \n",
    "            del txt_split[0]\n",
    "            result['entry_font_size_pos'][j] = result['entry_font_size_pos'][j][1:]\n",
    "            result['Entri'][j] = \" \".join(txt_split)\n",
    "        \n",
    "        if array_simbol != []:\n",
    "            new_entry = []\n",
    "            new_entry.extend(array_simbol)\n",
    "            new_entry.extend(txt_split)\n",
    "            result['Entri'][j] = \" \".join(new_entry)\n",
    "            \n",
    "            new_entry_font_size_pos = []\n",
    "            new_entry_font_size_pos.extend(array_simbol_font_size_pos)\n",
    "            new_entry_font_size_pos.extend(result['entry_font_size_pos'][j])\n",
    "            result['entry_font_size_pos'][j] = new_entry_font_size_pos    \n",
    "    \n",
    "    for l in range(len(result['entry_font_size_pos'])):\n",
    "        if result['entry_font_size_pos'][l] != []:\n",
    "            result['posisi_entry'][l] = result['entry_font_size_pos'][l][0][-1]\n",
    "        \n",
    "    return result"
   ]
  },
  {
   "cell_type": "code",
   "execution_count": 221,
   "id": "61a0b1dd",
   "metadata": {},
   "outputs": [],
   "source": [
    "def clean_entry_font_size_paranthesis(data):\n",
    "    clean_data = []\n",
    "    i = 0\n",
    "    \n",
    "    while i < len(data):\n",
    "        txt = data[i][0]\n",
    "        if re.match(r'^.*\\[.*?\\].*$',str(txt)): ## kasus ...[..]...\n",
    "            clean = re.sub(r'\\[.*?\\]',\"\",txt)\n",
    "            if clean == \"\":\n",
    "                i += 1\n",
    "            else:\n",
    "                clean_data.append([clean.strip(),data[i][1],data[i][2],data[i][3]])\n",
    "                i += 1\n",
    "        elif re.match(r'^.*\\[.*',str(txt)): ## kasus ...[...\n",
    "            nxt = i+1\n",
    "            if nxt > len(data)-1: # i di indeks terakhir\n",
    "                clean_data.append(data[i])\n",
    "                break\n",
    "                \n",
    "            nxt_txt = data[nxt][0]\n",
    "            while not re.match(r'^.*\\].*$',str(nxt_txt)): # mencari \"...]....\"\n",
    "                nxt += 1\n",
    "                if nxt > len(data)-1: break\n",
    "                nxt_txt = data[nxt][0]\n",
    "            \n",
    "            if nxt > len(data)-1: # jika \"....]...\" tidak ditemukan\n",
    "                for k in range(i,nxt):\n",
    "                    clean_data.append(data[k])\n",
    "                break\n",
    "            else:\n",
    "                ## append [ pertama\n",
    "                clean = txt.split(\"[\",1)[0]\n",
    "                if clean != \"\":\n",
    "                    clean_data.append([clean.strip(),data[i][1],data[i][2],data[i][3]])\n",
    "                    \n",
    "                ## append ] kedua\n",
    "                clean_nxt = nxt_txt.split(\"]\",1)[1]\n",
    "                if clean_nxt != \"\":\n",
    "                    clean_data.append([clean_nxt.strip(),data[nxt][1],data[nxt][2],data[i][3]])\n",
    "                \n",
    "                i = nxt+1\n",
    "        else:\n",
    "            clean_data.append(data[i])\n",
    "            i += 1\n",
    "    \n",
    "    return clean_data\n",
    "\n",
    "\n",
    "def clean_entry_font_size_slash(data):\n",
    "    clean_data = []\n",
    "    i = 0\n",
    "    \n",
    "    while i < len(data):\n",
    "        txt = data[i][0]\n",
    "        if re.match(r'^.*\\/.*?\\/.*$',str(txt)): ## kasus .../../...\n",
    "            clean = re.sub(r'\\/.*?\\/',\"\",txt)\n",
    "            if clean == \"\":\n",
    "                i += 1\n",
    "            else:\n",
    "                clean_data.append([clean.strip(),data[i][1],data[i][2],data[i][3]])\n",
    "                i += 1\n",
    "        elif re.match(r'^.*\\/.*',str(txt)): ## kasus .../...\n",
    "            nxt = i+1\n",
    "            if nxt > len(data)-1: # i di indeks terakhir\n",
    "                clean_data.append(data[i])\n",
    "                break\n",
    "                \n",
    "            nxt_txt = data[nxt][0]\n",
    "            while not re.match(r'^.*\\/.*$',str(nxt_txt)): # mencari \".../....\"\n",
    "                nxt += 1\n",
    "                if nxt > len(data)-1: break\n",
    "                nxt_txt = data[nxt][0]\n",
    "            \n",
    "            if nxt > len(data)-1: # jika \"..../...\" tidak ditemukan\n",
    "                for k in range(i,nxt):\n",
    "                    clean_data.append(data[k])\n",
    "                break\n",
    "            else:\n",
    "                ## append / pertama\n",
    "                clean = txt.split(\"/\",1)[0]\n",
    "                if clean != \"\":\n",
    "                    clean_data.append([clean.strip(),data[i][1],data[i][2],data[i][3]])\n",
    "                    \n",
    "                ## append / kedua\n",
    "                clean_nxt = nxt_txt.split(\"/\",1)[1]\n",
    "                if clean_nxt != \"\":\n",
    "                    clean_data.append([clean_nxt.strip(),data[nxt][1],data[nxt][2],data[i][3]])\n",
    "                \n",
    "                i = nxt+1\n",
    "        else:\n",
    "            clean_data.append(data[i])\n",
    "            i += 1\n",
    "    \n",
    "    return clean_data"
   ]
  },
  {
   "cell_type": "code",
   "execution_count": 222,
   "id": "6e1c2cbe",
   "metadata": {},
   "outputs": [],
   "source": [
    "def fix_page(pages):\n",
    "    clean_page = []\n",
    "    cnt = 1;\n",
    "    \n",
    "    for i in range(len(pages)):\n",
    "        if i == 0:\n",
    "            clean_page.append(cnt)\n",
    "        else:\n",
    "            if isinstance(pages[i], list):\n",
    "                clean_page.append([cnt,cnt+1])\n",
    "                cnt += 1\n",
    "            else:\n",
    "                if isinstance(pages[i-1], list):\n",
    "                    clean_page.append(cnt)\n",
    "                else:\n",
    "                    if pages[i] == pages[i-1]:\n",
    "                        clean_page.append(cnt)\n",
    "                    else:\n",
    "                        cnt += 1\n",
    "                        clean_page.append(cnt)\n",
    "    return clean_page"
   ]
  },
  {
   "cell_type": "code",
   "execution_count": 223,
   "id": "d24e535b",
   "metadata": {},
   "outputs": [],
   "source": [
    "def categorize_prakategorial(entries):\n",
    "    output = []\n",
    "    \n",
    "    for i in entries:\n",
    "        if i == \"\" or len(i)==1:\n",
    "            output.append(0)\n",
    "        else:\n",
    "            if re.match(r'.*\\,$',str(i)): \n",
    "                output.append(1)\n",
    "            elif is_contain_only_whitespaces(i[-2]) and (i[-1] in POS):\n",
    "                output.append(1)\n",
    "            else:\n",
    "                output.append(0)\n",
    "    return output"
   ]
  },
  {
   "cell_type": "markdown",
   "id": "9edda567",
   "metadata": {},
   "source": [
    "> Main Program"
   ]
  },
  {
   "cell_type": "code",
   "execution_count": 234,
   "id": "e3e160f9",
   "metadata": {},
   "outputs": [],
   "source": [
    "def build_corpus_one_entry_by_font_pos(data):\n",
    "    # tahapan awal, pendekatan dengan font\n",
    "    result = join_seperate_entry(data)\n",
    "    kategorisasi = categorize_main_entry(result[\"posisi_entry\"], result[\"page\"], result[\"is_padanan_lema\"])\n",
    "    result = seperate_joined_entry(result, kategorisasi)\n",
    "#   result = fix_cross_page_entry(result)\n",
    "    \n",
    "    clean_result = clean_entry(result)\n",
    "    clean_result = seperate_prakategorial(result)\n",
    "    clean_result[\"is_padanan_lema\"] = categorize_prakategorial(clean_result[\"Entri\"])\n",
    "    return clean_result"
   ]
  },
  {
   "cell_type": "markdown",
   "id": "9167d231",
   "metadata": {},
   "source": [
    "### Main Program (JSON) ###"
   ]
  },
  {
   "cell_type": "code",
   "execution_count": 235,
   "id": "721bcfdb",
   "metadata": {},
   "outputs": [
    {
     "name": "stderr",
     "output_type": "stream",
     "text": [
      " 56%|██████████████████████████████████████████████▋                                     | 5/9 [00:00<00:00, 41.83it/s]"
     ]
    },
    {
     "name": "stdout",
     "output_type": "stream",
     "text": [
      "====41. Kamus Bahasa Indonesia-Bali A-K (1997)-page_58_59-hasil-ekstraksi-one_entry_from_JSON-font.csv====\n",
      "====43. Kamus Bahasa Indonesia-Bahasa Minangkabau I (1994)-page_23_24-hasil-ekstraksi-one_entry_from_JSON-font.csv====\n",
      "====54. Kamus Bahasa Indonesia Mentawai (1998)-page_23_24-hasil-ekstraksi-one_entry_from_JSON-font.csv====\n",
      "====57. Kamus Bahasa Bugis-Indonesia (1977)-page_20_21-hasil-ekstraksi-one_entry_from_JSON-font.csv====\n",
      "====61. Kamus Banjar-Indonesia (1977)-page_51_52-hasil-ekstraksi-one_entry_from_JSON-font.csv====\n",
      "====68. Kamus Dwibahasa Bahasa Talaud - Bahasa Indonesia (2018)-page_19_20-hasil-ekstraksi-one_entry_from_JSON-font.csv====\n",
      "====77. Kamus Samawa-Indonesia Edisi 2 (2017)-page_27_28-hasil-ekstraksi-one_entry_from_JSON-font.csv====\n",
      "====89. Kamus Dwibahasa Bahasa Mooi-Bahasa Indonesia (2017)-page_17_18-hasil-ekstraksi-one_entry_from_JSON-font.csv====\n",
      "====91. Kamus Simalungun - Indonesia (edisi kedua) (2015)-page_48_49-hasil-ekstraksi-one_entry_from_JSON-font.csv====\n"
     ]
    },
    {
     "name": "stderr",
     "output_type": "stream",
     "text": [
      "100%|████████████████████████████████████████████████████████████████████████████████████| 9/9 [00:00<00:00, 41.35it/s]\n"
     ]
    }
   ],
   "source": [
    "directory_CSV = \"CSV One Entry JSON With Font Approach\"\n",
    "directory_hasil = \"CSV One Entry JSON With Font + Posisi Approach\"\n",
    "\n",
    "for filename in tqdm(os.listdir(directory_CSV)):\n",
    "    print(\"====\" + filename + \"====\")\n",
    "    kamus = pd.read_csv(directory_CSV + \"/\" + filename)\n",
    "    kamus = kamus.dropna()\n",
    "    kamus = kamus.reset_index(drop=True)\n",
    "    entries = kamus[\"Entri\"].values.tolist()\n",
    "\n",
    "    entries_font_size_pos = []\n",
    "    for i in kamus[\"entry_font_size_pos\"].values.tolist():\n",
    "        entries_font_size_pos.append(literal_eval(i))\n",
    "\n",
    "    posisi_entry = []\n",
    "    for i in kamus[\"posisi_entry\"].values.tolist():\n",
    "        posisi_entry.append(literal_eval(i))\n",
    "\n",
    "    page = []\n",
    "    for i in kamus[\"page\"].values.tolist():\n",
    "        if not isinstance(i,int):\n",
    "            page.append(literal_eval(i))\n",
    "        else:\n",
    "            page.append(int(i))\n",
    "\n",
    "    input_data = {\n",
    "        \"Entri\":entries,\n",
    "        \"entry_font_size_pos\":entries_font_size_pos,\n",
    "        \"posisi_entry\":posisi_entry,\n",
    "        \"page\":page,\n",
    "        \"is_padanan_lema\":kamus[\"is_padanan_lema\"].values.tolist()\n",
    "    }\n",
    "    \n",
    "    CSV_res = build_corpus_one_entry_by_font_pos(input_data)\n",
    "\n",
    "    result_csv = pd.DataFrame.from_dict(CSV_res)\n",
    "    result_csv = result_csv[result_csv[\"Entri\"] != \"\"]\n",
    "    result_csv = result_csv.reset_index(drop=True)\n",
    "\n",
    "    result_csv = result_csv.dropna()\n",
    "    result_csv = result_csv.reset_index(drop=True)\n",
    "    \n",
    "    new_filename = os.path.splitext(filename)[0]\n",
    "    result_csv.to_csv(directory_hasil + \"/\" + new_filename + \"-posisi.csv\",index=False)"
   ]
  },
  {
   "cell_type": "markdown",
   "id": "2767918b",
   "metadata": {},
   "source": [
    "### Main Program Full Kamus (JSON)"
   ]
  },
  {
   "cell_type": "code",
   "execution_count": 236,
   "id": "a7682efe",
   "metadata": {
    "scrolled": true
   },
   "outputs": [
    {
     "name": "stderr",
     "output_type": "stream",
     "text": [
      "\r",
      "  0%|                                                                                           | 0/48 [00:00<?, ?it/s]"
     ]
    },
    {
     "name": "stdout",
     "output_type": "stream",
     "text": [
      "====10. Kamus Bahasa Indonesia-Dayak Deah Edisi I (2013)-hasil-ekstraksi-one_entry_from_JSON-font.csv====\n"
     ]
    },
    {
     "name": "stderr",
     "output_type": "stream",
     "text": [
      "\r",
      "  2%|█▋                                                                                 | 1/48 [00:02<01:42,  2.19s/it]"
     ]
    },
    {
     "name": "stdout",
     "output_type": "stream",
     "text": [
      "====12. Kamus Bahasa Indonesia-Kaidipang L-Z (2000)-hasil-ekstraksi-one_entry_from_JSON-font.csv====\n"
     ]
    },
    {
     "name": "stderr",
     "output_type": "stream",
     "text": [
      "\r",
      "  4%|███▍                                                                               | 2/48 [00:06<02:41,  3.52s/it]"
     ]
    },
    {
     "name": "stdout",
     "output_type": "stream",
     "text": [
      "====14. Kamus Bahasa Indonesia-Bahasa Minangkabau II (1994)-hasil-ekstraksi-one_entry_from_JSON-font.csv====\n"
     ]
    },
    {
     "name": "stderr",
     "output_type": "stream",
     "text": [
      "\r",
      "  6%|█████▏                                                                             | 3/48 [00:11<03:09,  4.20s/it]"
     ]
    },
    {
     "name": "stdout",
     "output_type": "stream",
     "text": [
      "====15. Kamus Bahasa Indonesia-Pasir (1997)-hasil-ekstraksi-one_entry_from_JSON-font.csv====\n"
     ]
    },
    {
     "name": "stderr",
     "output_type": "stream",
     "text": [
      "\r",
      "  8%|██████▉                                                                            | 4/48 [00:14<02:46,  3.78s/it]"
     ]
    },
    {
     "name": "stdout",
     "output_type": "stream",
     "text": [
      "====16. Kamus Bahasa Indonesia Karo A-K (1998)-hasil-ekstraksi-one_entry_from_JSON-font.csv====\n"
     ]
    },
    {
     "name": "stderr",
     "output_type": "stream",
     "text": [
      "\r",
      " 10%|████████▋                                                                          | 5/48 [00:19<02:58,  4.14s/it]"
     ]
    },
    {
     "name": "stdout",
     "output_type": "stream",
     "text": [
      "====17. Kamus Melayu Makasar-Indonesia (1985)-hasil-ekstraksi-one_entry_from_JSON-font.csv====\n"
     ]
    },
    {
     "name": "stderr",
     "output_type": "stream",
     "text": [
      "\r",
      " 12%|██████████▍                                                                        | 6/48 [00:21<02:15,  3.24s/it]"
     ]
    },
    {
     "name": "stdout",
     "output_type": "stream",
     "text": [
      "====18. Kamus Bahasa Jawa-Bahasa Indonesia I (1993)-hasil-ekstraksi-one_entry_from_JSON-font.csv====\n"
     ]
    },
    {
     "name": "stderr",
     "output_type": "stream",
     "text": [
      "\r",
      " 15%|████████████                                                                       | 7/48 [00:24<02:12,  3.22s/it]"
     ]
    },
    {
     "name": "stdout",
     "output_type": "stream",
     "text": [
      "====19. Kamus Bahasa Indoensia-Melayu Riau (1997)-hasil-ekstraksi-one_entry_from_JSON-font.csv====\n"
     ]
    },
    {
     "name": "stderr",
     "output_type": "stream",
     "text": [
      "\r",
      " 17%|█████████████▊                                                                     | 8/48 [00:28<02:16,  3.40s/it]"
     ]
    },
    {
     "name": "stdout",
     "output_type": "stream",
     "text": [
      "====2. Kamus Melayu-Indonesia (1985)-hasil-ekstraksi-one_entry_from_JSON-font.csv====\n"
     ]
    },
    {
     "name": "stderr",
     "output_type": "stream",
     "text": [
      "\r",
      " 19%|███████████████▌                                                                   | 9/48 [00:30<02:04,  3.18s/it]"
     ]
    },
    {
     "name": "stdout",
     "output_type": "stream",
     "text": [
      "====20. Kamus Bahasa Melayu Ambon-Indonesia (1998)-hasil-ekstraksi-one_entry_from_JSON-font.csv====\n"
     ]
    },
    {
     "name": "stderr",
     "output_type": "stream",
     "text": [
      "\r",
      " 21%|█████████████████                                                                 | 10/48 [00:31<01:36,  2.54s/it]"
     ]
    },
    {
     "name": "stdout",
     "output_type": "stream",
     "text": [
      "====21. Kamus Bahasa Indonesia-Sentani A-K (1999)-hasil-ekstraksi-one_entry_from_JSON-font.csv====\n"
     ]
    },
    {
     "name": "stderr",
     "output_type": "stream",
     "text": [
      "\r",
      " 23%|██████████████████▊                                                               | 11/48 [00:33<01:22,  2.22s/it]"
     ]
    },
    {
     "name": "stdout",
     "output_type": "stream",
     "text": [
      "====23. Kamus Dwibahasa Dayak Ngaju-Indonesia (2013)-hasil-ekstraksi-one_entry_from_JSON-font.csv====\n"
     ]
    },
    {
     "name": "stderr",
     "output_type": "stream",
     "text": [
      "\r",
      " 25%|████████████████████▌                                                             | 12/48 [00:34<01:12,  2.03s/it]"
     ]
    },
    {
     "name": "stdout",
     "output_type": "stream",
     "text": [
      "====24. Kamus Minangkabau-Indonesia (1985)-hasil-ekstraksi-one_entry_from_JSON-font.csv====\n"
     ]
    },
    {
     "name": "stderr",
     "output_type": "stream",
     "text": [
      "\r",
      " 27%|██████████████████████▏                                                           | 13/48 [00:38<01:22,  2.35s/it]"
     ]
    },
    {
     "name": "stdout",
     "output_type": "stream",
     "text": [
      "====26. Kamus Bahasa Indonesia-Bahasa Tonsea II (1996)-hasil-ekstraksi-one_entry_from_JSON-font.csv====\n"
     ]
    },
    {
     "name": "stderr",
     "output_type": "stream",
     "text": [
      "\r",
      " 29%|███████████████████████▉                                                          | 14/48 [00:39<01:06,  1.96s/it]"
     ]
    },
    {
     "name": "stdout",
     "output_type": "stream",
     "text": [
      "====27. Kamus Bahasa Indonesia-Saluan (2012)-hasil-ekstraksi-one_entry_from_JSON-font.csv====\n"
     ]
    },
    {
     "name": "stderr",
     "output_type": "stream",
     "text": [
      "\r",
      " 31%|█████████████████████████▋                                                        | 15/48 [00:40<00:57,  1.74s/it]"
     ]
    },
    {
     "name": "stdout",
     "output_type": "stream",
     "text": [
      "====28. Kamus Bahasa Kutai-Bahasa Indonesia (2013)-hasil-ekstraksi-one_entry_from_JSON-font.csv====\n"
     ]
    },
    {
     "name": "stderr",
     "output_type": "stream",
     "text": [
      "\r",
      " 33%|███████████████████████████▎                                                      | 16/48 [00:44<01:15,  2.35s/it]"
     ]
    },
    {
     "name": "stdout",
     "output_type": "stream",
     "text": [
      "====29. Kata Tetun Indonesia (1985)-hasil-ekstraksi-one_entry_from_JSON-font.csv====\n"
     ]
    },
    {
     "name": "stderr",
     "output_type": "stream",
     "text": [
      "\r",
      " 35%|█████████████████████████████                                                     | 17/48 [00:45<01:03,  2.05s/it]"
     ]
    },
    {
     "name": "stdout",
     "output_type": "stream",
     "text": [
      "====31. Kamus Sumbawa-Indonesia (1985)-hasil-ekstraksi-one_entry_from_JSON-font.csv====\n"
     ]
    },
    {
     "name": "stderr",
     "output_type": "stream",
     "text": [
      "\r",
      " 38%|██████████████████████████████▊                                                   | 18/48 [00:47<01:01,  2.06s/it]"
     ]
    },
    {
     "name": "stdout",
     "output_type": "stream",
     "text": [
      "====32. Kamus Melayu Langkat-Indonesia (1985)-hasil-ekstraksi-one_entry_from_JSON-font.csv====\n"
     ]
    },
    {
     "name": "stderr",
     "output_type": "stream",
     "text": [
      "\r",
      " 40%|████████████████████████████████▍                                                 | 19/48 [00:49<00:56,  1.95s/it]"
     ]
    },
    {
     "name": "stdout",
     "output_type": "stream",
     "text": [
      "====33. Kamus Wolio Indonesia (1985)-hasil-ekstraksi-one_entry_from_JSON-font.csv====\n"
     ]
    },
    {
     "name": "stderr",
     "output_type": "stream",
     "text": [
      "\r",
      " 42%|██████████████████████████████████▏                                               | 20/48 [00:51<00:54,  1.94s/it]"
     ]
    },
    {
     "name": "stdout",
     "output_type": "stream",
     "text": [
      "====34. Kamus Bahasa Indonesia-Bali L-Z (1998)-hasil-ekstraksi-one_entry_from_JSON-font.csv====\n"
     ]
    },
    {
     "name": "stderr",
     "output_type": "stream",
     "text": [
      "\r",
      " 44%|███████████████████████████████████▉                                              | 21/48 [00:54<01:06,  2.45s/it]"
     ]
    },
    {
     "name": "stdout",
     "output_type": "stream",
     "text": [
      "====36. Kamus Bahasa Indonesia-Kulawi (2012)-hasil-ekstraksi-one_entry_from_JSON-font.csv====\n"
     ]
    },
    {
     "name": "stderr",
     "output_type": "stream",
     "text": [
      "\r",
      " 46%|█████████████████████████████████████▌                                            | 22/48 [00:57<01:05,  2.51s/it]"
     ]
    },
    {
     "name": "stdout",
     "output_type": "stream",
     "text": [
      "====38. Kamus Bahasa Indonesia-Karo L-Z (1999)-hasil-ekstraksi-one_entry_from_JSON-font.csv====\n"
     ]
    },
    {
     "name": "stderr",
     "output_type": "stream",
     "text": [
      "\r",
      " 48%|███████████████████████████████████████▎                                          | 23/48 [01:04<01:33,  3.74s/it]"
     ]
    },
    {
     "name": "stdout",
     "output_type": "stream",
     "text": [
      "====4. Kamus Bahasa Indonesia-Jambi A-K (1998)-hasil-ekstraksi-one_entry_from_JSON-font.csv====\n"
     ]
    },
    {
     "name": "stderr",
     "output_type": "stream",
     "text": [
      "\r",
      " 50%|█████████████████████████████████████████                                         | 24/48 [01:05<01:16,  3.17s/it]"
     ]
    },
    {
     "name": "stdout",
     "output_type": "stream",
     "text": [
      "====41. Kamus Bahasa Indonesia-Bali A-K (1997)-hasil-ekstraksi-one_entry_from_JSON-font.csv====\n"
     ]
    },
    {
     "name": "stderr",
     "output_type": "stream",
     "text": [
      "\r",
      " 52%|██████████████████████████████████████████▋                                       | 25/48 [01:09<01:18,  3.40s/it]"
     ]
    },
    {
     "name": "stdout",
     "output_type": "stream",
     "text": [
      "====42. Kamus Bahasa Indonesia-Bahasa Sunda II (1993)-hasil-ekstraksi-one_entry_from_JSON-font.csv====\n"
     ]
    },
    {
     "name": "stderr",
     "output_type": "stream",
     "text": [
      "\r",
      " 54%|████████████████████████████████████████████▍                                     | 26/48 [01:14<01:24,  3.82s/it]"
     ]
    },
    {
     "name": "stdout",
     "output_type": "stream",
     "text": [
      "====44. Kamus Melayu Deli-Indonesia (1985)-hasil-ekstraksi-one_entry_from_JSON-font.csv====\n"
     ]
    },
    {
     "name": "stderr",
     "output_type": "stream",
     "text": [
      "\r",
      " 56%|██████████████████████████████████████████████▏                                   | 27/48 [01:15<01:04,  3.05s/it]"
     ]
    },
    {
     "name": "stdout",
     "output_type": "stream",
     "text": [
      "====46. Kamus Bahasa Banjar Dialek Hulu-Indonesia (2008)-hasil-ekstraksi-one_entry_from_JSON-font.csv====\n"
     ]
    },
    {
     "name": "stderr",
     "output_type": "stream",
     "text": [
      "\r",
      " 58%|███████████████████████████████████████████████▊                                  | 28/48 [01:21<01:16,  3.82s/it]"
     ]
    },
    {
     "name": "stdout",
     "output_type": "stream",
     "text": [
      "====5. Kamus Bahasa Indonesia-Bahasa Tonsea I (1996)-hasil-ekstraksi-one_entry_from_JSON-font.csv====\n"
     ]
    },
    {
     "name": "stderr",
     "output_type": "stream",
     "text": [
      "\r",
      " 60%|█████████████████████████████████████████████████▌                                | 29/48 [01:22<00:56,  2.98s/it]"
     ]
    },
    {
     "name": "stdout",
     "output_type": "stream",
     "text": [
      "====51. Kamus Bahasa Bali Kuno-Indonesia (1985)-hasil-ekstraksi-one_entry_from_JSON-font.csv====\n"
     ]
    },
    {
     "name": "stderr",
     "output_type": "stream",
     "text": [
      "\r",
      " 62%|███████████████████████████████████████████████████▎                              | 30/48 [01:23<00:43,  2.40s/it]"
     ]
    },
    {
     "name": "stdout",
     "output_type": "stream",
     "text": [
      "====52. Kamus Ogan-Indonesia (1985)-hasil-ekstraksi-one_entry_from_JSON-font.csv====\n"
     ]
    },
    {
     "name": "stderr",
     "output_type": "stream",
     "text": [
      "\r",
      " 65%|████████████████████████████████████████████████████▉                             | 31/48 [01:25<00:40,  2.38s/it]"
     ]
    },
    {
     "name": "stdout",
     "output_type": "stream",
     "text": [
      "====54. Kamus Bahasa Indonesia Mentawai (1998)-hasil-ekstraksi-one_entry_from_JSON-font.csv====\n"
     ]
    },
    {
     "name": "stderr",
     "output_type": "stream",
     "text": [
      "\r",
      " 67%|██████████████████████████████████████████████████████▋                           | 32/48 [01:27<00:32,  2.01s/it]"
     ]
    },
    {
     "name": "stdout",
     "output_type": "stream",
     "text": [
      "====55. Kamus Bahasa Indonesia Bakumpai I (1995)-hasil-ekstraksi-one_entry_from_JSON-font.csv====\n"
     ]
    },
    {
     "name": "stderr",
     "output_type": "stream",
     "text": [
      "\r",
      " 69%|████████████████████████████████████████████████████████▍                         | 33/48 [01:29<00:31,  2.07s/it]"
     ]
    },
    {
     "name": "stdout",
     "output_type": "stream",
     "text": [
      "====56. Kamus Lampung-Indonesia (1985)-hasil-ekstraksi-one_entry_from_JSON-font.csv====\n"
     ]
    },
    {
     "name": "stderr",
     "output_type": "stream",
     "text": [
      "\r",
      " 71%|██████████████████████████████████████████████████████████                        | 34/48 [01:31<00:28,  2.06s/it]"
     ]
    },
    {
     "name": "stdout",
     "output_type": "stream",
     "text": [
      "====58. Kamus Melayu Ketapang-Indonesia A-M (2010)-hasil-ekstraksi-one_entry_from_JSON-font.csv====\n"
     ]
    },
    {
     "name": "stderr",
     "output_type": "stream",
     "text": [
      "\r",
      " 73%|███████████████████████████████████████████████████████████▊                      | 35/48 [01:32<00:25,  1.96s/it]"
     ]
    },
    {
     "name": "stdout",
     "output_type": "stream",
     "text": [
      "====60. Kamus Sunda-Indonesia (1985)-hasil-ekstraksi-one_entry_from_JSON-font.csv====\n"
     ]
    },
    {
     "name": "stderr",
     "output_type": "stream",
     "text": [
      "\r",
      " 75%|█████████████████████████████████████████████████████████████▌                    | 36/48 [01:37<00:34,  2.86s/it]"
     ]
    },
    {
     "name": "stdout",
     "output_type": "stream",
     "text": [
      "====63. Kamus Bahasa Indonesia-Lampung Dialek A (1999)-hasil-ekstraksi-one_entry_from_JSON-font.csv====\n"
     ]
    },
    {
     "name": "stderr",
     "output_type": "stream",
     "text": [
      "\r",
      " 77%|███████████████████████████████████████████████████████████████▏                  | 37/48 [01:40<00:31,  2.83s/it]"
     ]
    },
    {
     "name": "stdout",
     "output_type": "stream",
     "text": [
      "====66. Kamus Melayu Bali-Indonesia (1985)-hasil-ekstraksi-one_entry_from_JSON-font.csv====\n"
     ]
    },
    {
     "name": "stderr",
     "output_type": "stream",
     "text": [
      "\r",
      " 79%|████████████████████████████████████████████████████████████████▉                 | 38/48 [01:41<00:23,  2.34s/it]"
     ]
    },
    {
     "name": "stdout",
     "output_type": "stream",
     "text": [
      "====68. Kamus Dwibahasa Bahasa Talaud - Bahasa Indonesia (2018)-hasil-ekstraksi-one_entry_from_JSON-font.csv====\n"
     ]
    },
    {
     "name": "stderr",
     "output_type": "stream",
     "text": [
      "\r",
      " 81%|██████████████████████████████████████████████████████████████████▋               | 39/48 [01:44<00:21,  2.35s/it]"
     ]
    },
    {
     "name": "stdout",
     "output_type": "stream",
     "text": [
      "====71. Kamus dwibahasa Bugis-Indonesia (2017)-hasil-ekstraksi-one_entry_from_JSON-font.csv====\n"
     ]
    },
    {
     "name": "stderr",
     "output_type": "stream",
     "text": [
      "\r",
      " 83%|████████████████████████████████████████████████████████████████████▎             | 40/48 [01:44<00:14,  1.76s/it]"
     ]
    },
    {
     "name": "stdout",
     "output_type": "stream",
     "text": [
      "====78. Kamus Tolaki-Indonesia (1985)-hasil-ekstraksi-one_entry_from_JSON-font.csv====\n"
     ]
    },
    {
     "name": "stderr",
     "output_type": "stream",
     "text": [
      "\r",
      " 85%|██████████████████████████████████████████████████████████████████████            | 41/48 [01:46<00:11,  1.69s/it]"
     ]
    },
    {
     "name": "stdout",
     "output_type": "stream",
     "text": [
      "====8. Kamus Indonesia-Angkola (1995)-hasil-ekstraksi-one_entry_from_JSON-font.csv====\n"
     ]
    },
    {
     "name": "stderr",
     "output_type": "stream",
     "text": [
      "\r",
      " 88%|███████████████████████████████████████████████████████████████████████▊          | 42/48 [01:47<00:08,  1.48s/it]"
     ]
    },
    {
     "name": "stdout",
     "output_type": "stream",
     "text": [
      "====84. Kamus Bahasa Biak - Indonesia (1977) -hasil-ekstraksi-one_entry_from_JSON-font.csv====\n"
     ]
    },
    {
     "name": "stderr",
     "output_type": "stream",
     "text": [
      "\r",
      " 90%|█████████████████████████████████████████████████████████████████████████▍        | 43/48 [01:47<00:06,  1.23s/it]"
     ]
    },
    {
     "name": "stdout",
     "output_type": "stream",
     "text": [
      "====85. Kamus Tondano-Indonesia (1985)-hasil-ekstraksi-one_entry_from_JSON-font.csv====\n"
     ]
    },
    {
     "name": "stderr",
     "output_type": "stream",
     "text": [
      "\r",
      " 92%|███████████████████████████████████████████████████████████████████████████▏      | 44/48 [01:50<00:07,  1.78s/it]"
     ]
    },
    {
     "name": "stdout",
     "output_type": "stream",
     "text": [
      "====87. Kamus Bahasa Indonesia-Kaidipang (A-K) (1999)-hasil-ekstraksi-one_entry_from_JSON-font.csv====\n"
     ]
    },
    {
     "name": "stderr",
     "output_type": "stream",
     "text": [
      "\r",
      " 94%|████████████████████████████████████████████████████████████████████████████▉     | 45/48 [01:56<00:08,  2.85s/it]"
     ]
    },
    {
     "name": "stdout",
     "output_type": "stream",
     "text": [
      "====89. Kamus Dwibahasa Bahasa Mooi-Bahasa Indonesia (2017)-hasil-ekstraksi-one_entry_from_JSON-font.csv====\n"
     ]
    },
    {
     "name": "stderr",
     "output_type": "stream",
     "text": [
      "\r",
      " 96%|██████████████████████████████████████████████████████████████████████████████▌   | 46/48 [01:56<00:04,  2.14s/it]"
     ]
    },
    {
     "name": "stdout",
     "output_type": "stream",
     "text": [
      "====9. Kamus Manado-Indonesia (1985)-hasil-ekstraksi-one_entry_from_JSON-font.csv====\n"
     ]
    },
    {
     "name": "stderr",
     "output_type": "stream",
     "text": [
      "\r",
      " 98%|████████████████████████████████████████████████████████████████████████████████▎ | 47/48 [01:58<00:01,  1.94s/it]"
     ]
    },
    {
     "name": "stdout",
     "output_type": "stream",
     "text": [
      "====91. Kamus Simalungun - Indonesia (edisi kedua) (2015)-hasil-ekstraksi-one_entry_from_JSON-font.csv====\n"
     ]
    },
    {
     "name": "stderr",
     "output_type": "stream",
     "text": [
      "100%|██████████████████████████████████████████████████████████████████████████████████| 48/48 [02:01<00:00,  2.54s/it]\n"
     ]
    }
   ],
   "source": [
    "directory_CSV = \"[Full] CSV One Entry JSON With Font Approach\"\n",
    "directory_hasil = \"[Full] CSV One Entry JSON With Font + Posisi Approach\"\n",
    "\n",
    "for filename in tqdm(os.listdir(directory_CSV)):\n",
    "    print(\"====\" + filename + \"====\")\n",
    "    kamus = pd.read_csv(directory_CSV + \"/\" + filename)\n",
    "    kamus = kamus.dropna()\n",
    "    kamus = kamus.reset_index(drop=True)\n",
    "    entries = kamus[\"Entri\"].values.tolist()\n",
    "\n",
    "    entries_font_size_pos = []\n",
    "    for i in kamus[\"entry_font_size_pos\"].values.tolist():\n",
    "        entries_font_size_pos.append(literal_eval(i))\n",
    "\n",
    "    posisi_entry = []\n",
    "    for i in kamus[\"posisi_entry\"].values.tolist():\n",
    "        posisi_entry.append(literal_eval(i))\n",
    "\n",
    "    page = []\n",
    "    for i in kamus[\"page\"].values.tolist():\n",
    "        if not isinstance(i,int):\n",
    "            page.append(literal_eval(i))\n",
    "        else:\n",
    "            page.append(int(i))\n",
    "\n",
    "    input_data = {\n",
    "        \"Entri\":entries,\n",
    "        \"entry_font_size_pos\":entries_font_size_pos,\n",
    "        \"posisi_entry\":posisi_entry,\n",
    "        \"page\":page,\n",
    "        \"is_padanan_lema\":kamus[\"is_padanan_lema\"].values.tolist()\n",
    "    }\n",
    "    \n",
    "    CSV_res = build_corpus_one_entry_by_font_pos(input_data)\n",
    "\n",
    "    result_csv = pd.DataFrame.from_dict(CSV_res)\n",
    "    result_csv = result_csv[result_csv[\"Entri\"] != \"\"]\n",
    "    result_csv = result_csv.reset_index(drop=True)\n",
    "\n",
    "    result_csv = result_csv.dropna()\n",
    "    result_csv = result_csv.reset_index(drop=True)\n",
    "    \n",
    "    new_filename = os.path.splitext(filename)[0]\n",
    "    result_csv.to_csv(directory_hasil + \"/\" + new_filename + \"-posisi.csv\",index=False)"
   ]
  },
  {
   "cell_type": "markdown",
   "id": "92f9a4d0",
   "metadata": {},
   "source": [
    "### Main Program (XML) ###"
   ]
  },
  {
   "cell_type": "code",
   "execution_count": 17,
   "id": "0090e8c7",
   "metadata": {},
   "outputs": [
    {
     "name": "stderr",
     "output_type": "stream",
     "text": [
      " 83%|████████████████████████████████████████████████████████████████████▎             | 15/18 [00:00<00:00, 62.44it/s]"
     ]
    },
    {
     "name": "stdout",
     "output_type": "stream",
     "text": [
      "====41. Kamus Bahasa Indonesia-Bali A-K (1997)-page_58_59_kata====\n",
      "====43. Kamus Bahasa Indonesia-Bahasa Minangkabau I (1994)-page_23_24_kata====\n",
      "====45. Kamus Bahasa Indonesia-Bahasa Gayo II (1996)-page_56_57_kata====\n",
      "====54. Kamus Bahasa Indonesia Mentawai (1998)-page_23_24_kata====\n",
      "====57. Kamus Bahasa Bugis-Indonesia (1977)-page_20_21_kata====\n",
      "====61. Kamus Banjar-Indonesia (1977)-page_51_52_kata====\n",
      "====68. Kamus Dwibahasa Bahasa Talaud - Bahasa Indonesia (2018)-page_19_20_kata====\n",
      "====77. Kamus Samawa-Indonesia Edisi 2 (2017)-page_27_28_kata====\n"
     ]
    },
    {
     "name": "stderr",
     "output_type": "stream",
     "text": [
      "\r",
      "100%|██████████████████████████████████████████████████████████████████████████████████| 18/18 [00:00<00:00, 60.71it/s]"
     ]
    },
    {
     "name": "stdout",
     "output_type": "stream",
     "text": [
      "====89. Kamus Dwibahasa Bahasa Mooi-Bahasa Indonesia (2017)-page_17_18_kata====\n",
      "====91. Kamus Simalungun - Indonesia (edisi kedua) (2015)-page_48_49_kata====\n"
     ]
    },
    {
     "name": "stderr",
     "output_type": "stream",
     "text": [
      "\n"
     ]
    }
   ],
   "source": [
    "directory_CSV = \"CSV XML All Information\"\n",
    "directory_hasil = \"CSV One Entry XML With Font + Posisi Approach\"\n",
    "\n",
    "for filename in tqdm(os.listdir(directory_CSV)):\n",
    "    data = pd.read_csv(directory_CSV + \"/\" + filename)\n",
    "    data = data.dropna()\n",
    "    data = data.reset_index(drop=True)\n",
    "    \n",
    "    input_texts = data[\"kata\"].values.tolist()\n",
    "    input_fonts = data[\"font\"].values.tolist()\n",
    "    \n",
    "    for i in input_texts:\n",
    "        i = str(i)\n",
    "    \n",
    "    # masih harus diperbaiki\n",
    "    list_x = data[\"x\"].values.tolist()\n",
    "    list_y = data[\"y\"].values.tolist()\n",
    "    input_posisi = []\n",
    "    \n",
    "    i = 0\n",
    "    while i < len(list_x):\n",
    "        input_posisi.append((list_x[i],list_y[i],list_x[i],list_y[i])) # masih harus diperbaiki\n",
    "        i += 1\n",
    "        \n",
    "    input_pages = data[\"page\"].values.tolist()\n",
    "    new_filename = os.path.splitext(filename)[0]\n",
    "    \n",
    "    if is_contain_bold_and_italic(input_fonts):\n",
    "        print(\"====\" + new_filename + \"====\")\n",
    "        try:\n",
    "            entry, entry_with_font, entry_with_posisi, posisi_entry, page_entry = build_corpus_one_entry_by_font_from_XML(\n",
    "                input_texts, \n",
    "                input_fonts, \n",
    "                input_posisi, \n",
    "                input_pages\n",
    "            )\n",
    "            CSV_res = {\n",
    "                \"Entri\":entry,\n",
    "                \"Entri with Font\":entry_with_font,\n",
    "                \"Entri with Posisi\":entry_with_posisi,\n",
    "                \"Posisi\":posisi_entry,\n",
    "                \"Page\": page_entry\n",
    "            }\n",
    "\n",
    "            result_csv = pd.DataFrame.from_dict(CSV_res)\n",
    "            result_csv.to_csv(directory_hasil + \"/\" + new_filename + \"-one_entry_from_XML_font_posisi.csv\",index=False)\n",
    "        except:\n",
    "            print(\"==== Kamus Gagal ====\")\n",
    "            print(new_filename)"
   ]
  },
  {
   "cell_type": "markdown",
   "id": "d75a0cd6",
   "metadata": {},
   "source": [
    "### Cek Kamus ###"
   ]
  },
  {
   "cell_type": "code",
   "execution_count": 13,
   "id": "27dbb66b",
   "metadata": {},
   "outputs": [],
   "source": [
    "target = \"CSV One Entry JSON With Font + Posisi Approach/\"\n",
    "kamus = pd.read_csv(target + \"43. Kamus Bahasa Indonesia-Bahasa Minangkabau I (1994)-page_23_24-hasil-ekstraksi-one_entry_from_JSON-font-posisi.csv\")"
   ]
  },
  {
   "cell_type": "code",
   "execution_count": 14,
   "id": "551b2e6e",
   "metadata": {},
   "outputs": [
    {
     "data": {
      "text/html": [
       "<div>\n",
       "<style scoped>\n",
       "    .dataframe tbody tr th:only-of-type {\n",
       "        vertical-align: middle;\n",
       "    }\n",
       "\n",
       "    .dataframe tbody tr th {\n",
       "        vertical-align: top;\n",
       "    }\n",
       "\n",
       "    .dataframe thead th {\n",
       "        text-align: right;\n",
       "    }\n",
       "</style>\n",
       "<table border=\"1\" class=\"dataframe\">\n",
       "  <thead>\n",
       "    <tr style=\"text-align: right;\">\n",
       "      <th></th>\n",
       "      <th>Entri</th>\n",
       "      <th>entry_font_size_pos</th>\n",
       "      <th>posisi_entry</th>\n",
       "      <th>page</th>\n",
       "    </tr>\n",
       "  </thead>\n",
       "  <tbody>\n",
       "    <tr>\n",
       "      <th>0</th>\n",
       "      <td>23</td>\n",
       "      <td>[['23', 'times-roman', 10.97, [186.94, 29.39, 200.02, 44.73]]]</td>\n",
       "      <td>[186.94, 29.39, 200.02, 44.73]</td>\n",
       "      <td>1</td>\n",
       "    </tr>\n",
       "    <tr>\n",
       "      <th>1</th>\n",
       "      <td>anutan n 1 conto elok; ikutan; tuladan: guru hendaknya dapat menjadi -- murid-muridnya gum handaknyo dapek manjadi conto elok dek murik-muriknyo; 2 kayakinan diikuik</td>\n",
       "      <td>[['anutan', 'times-bold', 11.21, [30.5, 56.89, 66.02, 72.82]], ['n', 'times-bolditalic', 11.43, [69.84, 58.42, 76.0, 72.67]], ['1', 'times-bolditalic', 11.43, [82.17, 58.42, 82.16, 72.67]], ['conto', 'times-roman', 11.67, [92.15, 57.0, 116.05, 72.34]], ['elok;', 'times-roman', 11.67, [139.96, 57.0, 154.29, 72.34]], ['ikutan;', 'times-roman', 11.67, [168.65, 57.0, 187.76, 72.34]], ['tuladan:', 'times-roman', 11.67, [206.9, 57.0, 226.01, 72.34]], ['guru', 'times-italic', 11.73, [250.55, 58.92, 272.67, 72.97]], ['hendaknya', 'times-italic', 11.73, [278.21, 58.92, 322.45, 72.97]], ['dapat', 'times-italic', 11.73, [333.52, 58.92, 350.11, 72.97]], ['menjadi', 'times-italic', 11.44, [50.14, 71.17, 85.82, 85.22]], ['--', 'times-italic', 11.44, [90.92, 71.17, 96.01, 85.22]], ['murid-muridnya', 'times-italic', 11.44, [106.21, 71.17, 167.37, 85.22]], ['gum', 'times-roman', 11.56, [181.19, 70.45, 197.29, 85.79]], ['handaknyo', 'times-roman', 11.56, [202.66, 70.45, 245.59, 85.79]], ['dapek', 'times-roman', 11.56, [256.33, 70.45, 272.42, 85.79]], ['manjadi', 'times-roman', 11.56, [288.53, 70.45, 309.99, 85.79]], ['conto', 'times-roman', 11.56, [331.47, 70.45, 336.82, 85.79]], ['elok', 'times-roman', 11.38, [69.8, 82.95, 84.36, 98.29]], ['dek', 'times-roman', 11.38, [94.06, 82.95, 98.92, 98.29]], ['murik-muriknyo;', 'times-roman', 11.38, [113.47, 82.95, 171.7, 98.29]], ['2', 'times-roman', 11.38, [191.1, 82.95, 176.55, 98.29]], ['kayakinan', 'times-roman', 11.38, [200.8, 82.95, 220.22, 98.29]], ['diikuik', 'times-roman', 11.38, [268.73, 82.95, 268.74, 98.29]]]</td>\n",
       "      <td>[30.5, 56.89, 66.02, 72.82]</td>\n",
       "      <td>1</td>\n",
       "    </tr>\n",
       "    <tr>\n",
       "      <th>2</th>\n",
       "      <td>a.nyam. v</td>\n",
       "      <td>[['a.nyam.', 'times-bold', 11.21, [30.69, 104.89, 70.45, 120.82]], ['v', 'times-italic', 9.96, [72.7, 105.96, 78.69, 120.01]]]</td>\n",
       "      <td>[30.69, 104.89, 70.45, 120.82]</td>\n",
       "      <td>1</td>\n",
       "    </tr>\n",
       "    <tr>\n",
       "      <th>3</th>\n",
       "      <td>menganyam v maanyam: dia pandai == daun kelapa inyo pandai maanyam daun karambia;</td>\n",
       "      <td>[['menganyam', 'times-bold', 11.21, [82.09, 104.89, 141.87, 120.82]], ['v', 'times-italic', 10.22, [144.25, 105.96, 150.55, 120.01]], ['maanyam:', 'times-roman', 11.09, [153.34, 105.0, 200.57, 120.34]], ['dia', 'times-italic', 11.78, [203.75, 106.67, 220.16, 120.72]], ['pandai', 'times-italic', 11.78, [225.62, 106.67, 252.97, 120.72]], ['==', 'times-italic', 11.78, [263.9, 106.67, 263.91, 120.72]], ['daun', 'times-italic', 11.78, [280.31, 106.67, 285.78, 120.72]], ['kelapa', 'times-italic', 11.78, [307.65, 106.67, 318.59, 120.72]], ['inyo', 'times-roman', 11.03, [337.19, 105.75, 358.65, 121.09]], ['pandai', 'times-roman', 11.27, [50.64, 117.75, 81.47, 133.09]], ['maanyam', 'times-roman', 11.27, [86.61, 117.75, 117.44, 133.09]], ['daun', 'times-roman', 11.27, [127.72, 117.75, 137.99, 133.09]], ['karambia;', 'times-roman', 11.27, [153.41, 117.75, 184.23, 133.09]]]</td>\n",
       "      <td>[82.09, 104.89, 141.87, 120.82]</td>\n",
       "      <td>1</td>\n",
       "    </tr>\n",
       "    <tr>\n",
       "      <th>4</th>\n",
       "      <td>anyaman n dianyam; anyaman = =nya rapi sekali anyamannyo rancak bana</td>\n",
       "      <td>[['anyaman', 'times-bold', 11.15, [50.64, 130.55, 95.99, 146.48]], ['n', 'times-italic', 10.48, [98.15, 131.87, 105.31, 145.92]], ['dianyam;', 'times-roman', 11.33, [128.26, 130.45, 164.96, 145.79]], ['anyaman', 'times-roman', 11.33, [175.44, 130.45, 201.66, 145.79]], ['=', 'times-roman', 11.33, [217.38, 130.45, 206.9, 145.79]], ['=nya', 'times-italic', 11.5, [222.69, 132.12, 242.44, 146.17]], ['rapi', 'times-italic', 11.5, [247.37, 132.12, 262.19, 146.17]], ['sekali', 'times-italic', 11.5, [272.05, 132.12, 291.81, 146.17]], ['anyamannyo', 'times-roman', 11.15, [300.94, 131.39, 358.88, 146.73]], ['rancak', 'times-roman', 11.27, [50.89, 143.89, 81.32, 159.23]], ['bana', 'times-roman', 11.27, [86.39, 143.89, 101.61, 159.23]]]</td>\n",
       "      <td>[50.64, 130.55, 95.99, 146.48]</td>\n",
       "      <td>1</td>\n",
       "    </tr>\n",
       "    <tr>\n",
       "      <th>5</th>\n",
       "      <td>a.pa.bi.Ia p apobilo; bib: --Tuhan mengizinkan tahun depan saya in gin naik haji apobilo Tuhan maizinan, taun muko ambo taragak naiak haji</td>\n",
       "      <td>[['a.pa.bi.Ia', 'times-bold', 11.03, [30.69, 166.1, 75.96, 182.03]], ['p', 'times-roman', 11.67, [76.79, 166.0, 81.59, 181.34]], ['apobilo;', 'times-roman', 11.67, [86.4, 166.0, 120.02, 181.34]], ['bib:', 'times-roman', 11.67, [129.64, 166.0, 139.24, 181.34]], ['--Tuhan', 'times-italic', 11.27, [151.44, 167.62, 184.94, 181.67]], ['mengizinkan', 'times-italic', 11.27, [189.72, 167.62, 237.58, 181.67]], ['tahun', 'times-italic', 11.27, [247.14, 167.62, 261.51, 181.67]], ['depan', 'times-italic', 11.27, [275.85, 167.62, 285.44, 181.67]], ['saya', 'times-italic', 11.27, [304.56, 167.62, 304.58, 181.67]], ['in', 'times-italic', 11.27, [328.49, 167.62, 314.15, 181.67]], ['gin', 'times-italic', 11.27, [342.85, 167.62, 328.51, 181.67]], ['naik', 'times-italic', 11.56, [50.89, 180.81, 70.39, 194.86]], ['haji', 'times-italic', 11.56, [75.27, 180.81, 89.89, 194.86]], ['apobilo', 'times-roman', 11.5, [96.25, 179.64, 131.55, 194.98]], ['Tuhan', 'times-roman', 11.5, [136.59, 179.64, 156.76, 194.98]], ['maizinan,', 'times-roman', 11.5, [166.85, 179.64, 202.14, 194.98]], ['taun', 'times-roman', 11.5, [217.28, 179.64, 222.31, 194.98]], ['muko', 'times-roman', 11.5, [242.49, 179.64, 242.48, 194.98]], ['ambo', 'times-roman', 11.5, [267.7, 179.64, 262.65, 194.98]], ['taragak', 'times-roman', 11.5, [292.91, 179.64, 297.95, 194.98]], ['naiak', 'times-roman', 11.5, [333.25, 179.64, 323.16, 194.98]], ['haji', 'times-roman', 10.97, [50.64, 192.59, 68.95, 207.93]]]</td>\n",
       "      <td>[30.69, 166.1, 75.96, 182.03]</td>\n",
       "      <td>1</td>\n",
       "    </tr>\n",
       "    <tr>\n",
       "      <th>6</th>\n",
       "      <td>a.pa.la.gi p apolai; labiah-labiah lai: disuruh saja mau, -- diberi upah disuruah sajo amuah, apolai diagiah upah</td>\n",
       "      <td>[['a.pa.la.gi', 'times-roman', 11.44, [30.94, 214.95, 73.59, 230.29]], ['p', 'times-roman', 11.44, [77.85, 214.95, 77.85, 230.29]], ['apolai;', 'times-roman', 11.44, [86.38, 214.95, 107.7, 230.29]], ['labiah-labiah', 'times-roman', 11.44, [120.5, 214.95, 163.14, 230.29]], ['lai:', 'times-roman', 11.44, [180.2, 214.95, 180.2, 230.29]], ['disuruh', 'times-italic', 11.78, [201.59, 216.56, 236.59, 230.61]], ['saja', 'times-italic', 11.78, [241.59, 216.56, 256.59, 230.61]], ['mau,', 'times-italic', 11.78, [266.59, 216.56, 276.59, 230.61]], ['--', 'times-italic', 11.78, [291.59, 216.56, 286.59, 230.61]], ['diberi', 'times-italic', 11.78, [306.59, 216.56, 316.59, 230.61]], ['upah', 'times-italic', 11.78, [341.59, 216.56, 336.59, 230.61]], ['disuruah', 'times-roman', 11.38, [50.89, 227.89, 88.76, 243.23]], ['sajo', 'times-roman', 11.38, [93.5, 227.89, 107.7, 243.23]], ['amuah,', 'times-roman', 11.38, [117.17, 227.89, 136.11, 243.23]], ['apolai', 'times-roman', 11.38, [150.31, 227.89, 164.52, 243.23]], ['diagiah', 'times-roman', 11.38, [183.45, 227.89, 197.66, 243.23]], ['upah', 'times-roman', 11.38, [221.32, 227.89, 216.6, 243.23]]]</td>\n",
       "      <td>[30.94, 214.95, 73.59, 230.29]</td>\n",
       "      <td>1</td>\n",
       "    </tr>\n",
       "    <tr>\n",
       "      <th>7</th>\n",
       "      <td>a.pa .tis a indak acuah; indak paduli: tidak baik bersikap -- terhadap lingkungan indak elok basikap indak acuah taadok lingkungan</td>\n",
       "      <td>[['a.pa', 'times-roman', 11.61, [30.94, 250.2, 50.15, 265.54]], ['.tis', 'times-roman', 11.21, [51.1, 250.2, 66.89, 265.54]], ['a', 'times-italic', 11.56, [69.84, 251.37, 78.55, 265.42]], ['indak', 'times-roman', 11.5, [80.9, 250.0, 104.86, 265.34]], ['acuah;', 'times-roman', 11.5, [109.65, 250.0, 133.61, 265.34]], ['indak', 'times-roman', 11.5, [143.19, 250.0, 157.57, 265.34]], ['paduli:', 'times-roman', 11.5, [171.94, 250.0, 191.11, 265.34]], ['tidak', 'times-italic', 11.67, [210.0, 251.37, 234.25, 265.42]], ['baik', 'times-italic', 11.67, [239.1, 251.37, 253.65, 265.42]], ['bersikap', 'times-italic', 11.67, [263.35, 251.37, 292.45, 265.42]], ['--', 'times-italic', 11.67, [307.0, 251.37, 302.15, 265.42]], ['terhadap', 'times-italic', 11.67, [321.55, 251.37, 340.95, 265.42]], ['lingkungan', 'times-italic', 11.15, [51.1, 264.37, 102.45, 278.42]], ['indak', 'times-roman', 11.33, [104.4, 262.95, 128.18, 278.29]], ['elok', 'times-roman', 11.33, [132.94, 262.95, 147.21, 278.29]], ['basikap', 'times-roman', 11.33, [156.72, 262.95, 180.51, 278.29]], ['indak', 'times-roman', 11.33, [194.78, 262.95, 204.29, 278.29]], ['acuah', 'times-roman', 11.33, [223.32, 262.95, 228.07, 278.29]], ['taadok', 'times-roman', 11.33, [251.86, 262.95, 256.61, 278.29]], ['lingkungan', 'times-roman', 11.33, [285.16, 262.95, 304.18, 278.29]]]</td>\n",
       "      <td>[30.94, 250.2, 50.15, 265.54]</td>\n",
       "      <td>1</td>\n",
       "    </tr>\n",
       "    <tr>\n",
       "      <th>8</th>\n",
       "      <td>1 a.pel apel/ v wajik maikuti upacara rasmi (basipaik kamiliteran): --bendera wajik datang dl upacara bandera</td>\n",
       "      <td>[['1', 'times-roman', 5.28, [31.44, 290.77, 33.59, 299.44]], ['a.pel', 'times-roman', 11.44, [34.29, 285.5, 56.55, 300.84]], ['apel/', 'times-roman', 11.95, [61.0, 285.5, 83.26, 300.84]], ['v', 'times-italic', 9.62, [95.04, 334.67, 100.63, 348.72]], ['wajik', 'times-roman', 11.78, [104.65, 333.5, 129.44, 348.84]], ['maikuti', 'times-roman', 11.78, [134.4, 333.5, 164.15, 348.84]], ['upacara', 'times-roman', 11.78, [174.06, 333.5, 198.86, 348.84]], ['rasmi', 'times-roman', 11.78, [213.72, 333.5, 223.65, 348.84]], ['(basipaik', 'times-roman', 11.78, [243.47, 333.5, 268.27, 348.84]], ['kamiliteran):', 'times-roman', 11.78, [293.05, 333.5, 332.72, 348.84]], ['--bendera', 'times-italic', 11.33, [51.1, 347.62, 97.87, 361.67]], ['wajik', 'times-roman', 11.33, [98.65, 346.2, 122.38, 361.54]], ['datang', 'times-roman', 11.33, [127.13, 346.2, 150.86, 361.54]], ['dl', 'times-roman', 11.33, [160.35, 346.2, 160.35, 361.54]], ['upacara', 'times-roman', 11.33, [174.59, 346.2, 193.57, 361.54]], ['bandera', 'times-roman', 11.33, [212.56, 346.2, 226.79, 361.54]]]</td>\n",
       "      <td>[31.44, 290.77, 33.59, 299.44]</td>\n",
       "      <td>1</td>\n",
       "    </tr>\n",
       "    <tr>\n",
       "      <th>9</th>\n",
       "      <td>ap.li.ka.si n 1 jaik aplikasi; jaik tempe: taplak meja itu diberi hiasan -- aleh meja tu diagiah iasan jaik tempe; 2 panggunaan; panerapan: apa yg disampaikan dl rapat perlu --nya apo disampaian dl rapek paralu aplikasinyo ap.re.sLa.si /apresiasi! n 1 kasadaran taadok nilai-nilai seni dan budayo; 2 panilaian (tau maaragoi) taadok sasuatu; 3 kanaikan nilai barang km arago pasanyo naiak atau parnintaan barang batambah Ap.ril n bulan kaampek tuan Masihi (tigo puluah an) ap.ri.o.ri adv anyo balandasan tiori indak mancaliak dan manyali- diaki kaadaan sabananyo; apriori: kita tidak boleh bersikap -- awak indak buliah basikap apriori 24</td>\n",
       "      <td>[['ap.li.ka.si', 'times-bold', 11.09, [31.44, 368.64, 77.8, 384.57]], ['n', 'times-bolditalic', 10.72, [80.15, 369.96, 85.57, 384.21]], ['1', 'times-bolditalic', 10.72, [90.99, 369.96, 90.99, 384.21]], ['jaik', 'times-roman', 11.33, [97.9, 368.29, 115.25, 383.63]], ['aplikasi;', 'times-roman', 11.33, [119.59, 368.29, 154.29, 383.63]], ['jaik', 'times-roman', 11.33, [162.97, 368.29, 171.64, 383.63]], ['tempe:', 'times-roman', 11.33, [184.66, 368.29, 197.67, 383.63]], ['taplak', 'times-italic', 11.5, [214.09, 369.71, 240.98, 383.76]], ['meja', 'times-italic', 11.5, [245.47, 369.71, 258.91, 383.76]], ['itu', 'times-italic', 11.5, [267.88, 369.71, 272.36, 383.76]], ['diberi', 'times-italic', 11.5, [285.81, 369.71, 299.25, 383.76]], ['hiasan', 'times-italic', 11.5, [317.19, 369.71, 326.14, 383.76]], ['--', 'times-italic', 11.5, [348.57, 369.71, 335.1, 383.76]], ['aleh', 'times-roman', 11.21, [51.35, 381.75, 69.46, 397.09]], ['meja', 'times-roman', 11.21, [73.99, 381.75, 87.57, 397.09]], ['tu', 'times-roman', 11.21, [96.63, 381.75, 96.62, 397.09]], ['diagiah', 'times-roman', 11.21, [110.21, 381.75, 128.31, 397.09]], ['iasan', 'times-roman', 11.21, [146.43, 381.75, 150.95, 397.09]], ['jaik', 'times-roman', 11.21, [173.59, 381.75, 169.06, 397.09]], ['tempe;', 'times-roman', 11.21, [196.23, 381.75, 196.22, 397.09]], ['2', 'times-roman', 11.21, [227.92, 381.75, 200.75, 397.09]], ['panggunaan;', 'times-roman', 11.21, [236.97, 381.75, 250.55, 397.09]], ['panerapan:', 'times-roman', 11.21, [291.3, 381.75, 295.82, 397.09]], ['apa', 'times-italic', 11.56, [340.3, 383.17, 360.63, 397.22]], ['yg', 'times-italic', 11.61, [50.39, 395.62, 60.26, 409.67]], ['disampaikan', 'times-italic', 11.61, [65.19, 395.62, 114.53, 409.67]], ['dl', 'times-italic', 11.61, [124.39, 395.62, 124.4, 409.67]], ['rapat', 'times-italic', 11.61, [139.19, 395.62, 149.07, 409.67]], ['perlu', 'times-italic', 11.61, [168.79, 395.62, 173.74, 409.67]], ['--nya', 'times-italic', 11.61, [198.39, 395.62, 198.41, 409.67]], ['apo', 'times-roman', 11.5, [223.9, 394.7, 238.84, 410.04]], ['disampaian', 'times-roman', 11.5, [263.74, 394.7, 303.58, 410.04]], ['dl', 'times-roman', 11.5, [318.52, 394.7, 313.54, 410.04]], ['rapek', 'times-roman', 11.5, [333.46, 394.7, 338.44, 410.04]], ['paralu', 'times-roman', 11.27, [51.1, 407.39, 79.1, 422.73]], ['aplikasinyo', 'times-roman', 11.27, [83.77, 407.39, 130.44, 422.73]], ['ap.re.sLa.si', 'times-roman', 11.33, [31.69, 429.5, 85.59, 444.84]], ['/apresiasi!', 'times-roman', 11.27, [83.5, 430.0, 134.39, 445.34]], ['n', 'times-italic', 11.09, [136.09, 430.67, 141.44, 444.72]], ['1', 'times-italic', 11.09, [146.78, 430.67, 146.79, 444.72]], ['kasadaran', 'times-roman', 11.27, [153.84, 429.5, 194.31, 444.84]], ['taadok', 'times-roman', 11.27, [198.81, 429.5, 221.29, 444.84]], ['nilai-nilai', 'times-roman', 11.27, [230.29, 429.5, 270.76, 444.84]], ['seni', 'times-roman', 11.27, [284.25, 429.5, 288.75, 444.84]], ['dan', 'times-roman', 11.27, [306.73, 429.5, 302.24, 444.84]], ['budayo;', 'times-roman', 11.27, [324.72, 429.5, 333.72, 444.84]], ['2', 'times-roman', 11.44, [51.35, 442.95, 55.97, 458.29]], ['panilaian', 'times-roman', 11.44, [60.59, 442.95, 97.53, 458.29]], ['(tau', 'times-roman', 11.44, [106.77, 442.95, 116.0, 458.29]], ['maaragoi)', 'times-roman', 11.44, [129.86, 442.95, 157.56, 458.29]], ['taadok', 'times-roman', 11.44, [176.04, 442.95, 185.27, 458.29]], ['sasuatu;', 'times-roman', 11.44, [208.37, 442.95, 222.22, 458.29]], ['3', 'times-roman', 11.44, [249.93, 442.95, 226.84, 458.29]], ['kanaikan', 'times-roman', 11.44, [259.17, 442.95, 263.79, 458.29]], ['nilai', 'times-roman', 11.44, [300.73, 442.95, 286.88, 458.29]], ['barang', 'times-roman', 11.44, [328.44, 442.95, 314.59, 458.29]], ['km', 'times-roman', 11.38, [51.35, 455.64, 61.13, 470.98]], ['arago', 'times-roman', 11.38, [66.03, 455.64, 85.59, 470.98]], ['pasanyo', 'times-roman', 11.38, [95.38, 455.64, 119.83, 470.98]], ['naiak', 'times-roman', 11.38, [134.51, 455.64, 144.29, 470.98]], ['atau', 'times-roman', 11.38, [163.86, 455.64, 163.86, 470.98]], ['parnintaan', 'times-roman', 11.38, [188.32, 455.64, 212.78, 470.98]], ['barang', 'times-roman', 11.38, [242.13, 455.64, 242.13, 470.98]], ['batambah', 'times-roman', 11.38, [276.37, 455.64, 281.26, 470.98]], ['Ap.ril', 'times-roman', 11.44, [31.89, 478.0, 61.62, 493.34]], ['n', 'times-italic', 10.73, [63.6, 479.37, 71.1, 493.42]], ['bulan', 'times-roman', 11.38, [72.7, 478.0, 96.81, 493.34]], ['kaampek', 'times-roman', 11.38, [101.63, 478.0, 130.56, 493.34]], ['tuan', 'times-roman', 11.38, [140.21, 478.0, 149.85, 493.34]], ['Masihi', 'times-roman', 11.38, [164.32, 478.0, 178.78, 493.34]], ['(tigo', 'times-roman', 11.38, [198.07, 478.0, 202.89, 493.34]], ['puluah', 'times-roman', 11.38, [227.0, 478.0, 231.82, 493.34]], ['an)', 'times-roman', 11.38, [260.75, 478.0, 246.29, 493.34]], ['ap.ri.o.ri', 'times-roman', 11.61, [31.69, 500.54, 74.69, 515.88]], ['adv', 'times-italic', 11.03, [77.04, 501.46, 94.96, 515.51]], ['anyo', 'times-roman', 11.44, [97.7, 500.54, 116.74, 515.88]], ['balandasan', 'times-roman', 11.44, [121.5, 500.54, 164.34, 515.88]], ['tiori', 'times-roman', 11.44, [173.86, 500.54, 188.14, 515.88]], ['indak', 'times-roman', 11.44, [221.46, 500.54, 226.22, 515.88]], ['mancaliak', 'times-roman', 11.44, [250.02, 500.54, 269.06, 515.88]], ['dan', 'times-roman', 11.44, [297.62, 500.54, 283.34, 515.88]], ['manyali-', 'times-roman', 11.44, [316.66, 500.54, 321.42, 515.88]], ['diaki', 'times-roman', 11.44, [51.1, 514.0, 74.81, 529.34]], ['kaadaan', 'times-roman', 11.44, [79.56, 514.0, 108.01, 529.34]], ['sabananyo;', 'times-roman', 11.44, [136.47, 514.0, 169.67, 529.34]], ['apriori:', 'times-roman', 11.44, [188.64, 514.0, 207.61, 529.34]], ['kita', 'times-italic', 11.56, [230.9, 515.17, 248.87, 529.22]], ['tidak', 'times-italic', 11.56, [253.37, 515.17, 271.34, 529.22]], ['boleh', 'times-italic', 11.56, [280.33, 515.17, 293.81, 529.22]], ['bersikap', 'times-italic', 11.56, [307.29, 515.17, 329.76, 529.22]], ['--', 'times-italic', 11.56, [347.73, 515.17, 338.75, 529.22]], ['awak', 'times-roman', 11.33, [51.6, 526.69, 70.26, 542.03]], ['indak', 'times-roman', 11.33, [74.93, 526.69, 93.59, 542.03]], ['buliah', 'times-roman', 11.33, [102.92, 526.69, 121.58, 542.03]], ['basikap', 'times-roman', 11.33, [135.58, 526.69, 154.24, 542.03]], ['apriori', 'times-roman', 11.33, [172.91, 526.69, 186.9, 542.03]], ['24', 'times-roman', 10.85, [198.25, 30.6, 211.04, 45.94]]]</td>\n",
       "      <td>[31.44, 368.64, 77.8, 384.57]</td>\n",
       "      <td>[1, 2]</td>\n",
       "    </tr>\n",
       "    <tr>\n",
       "      <th>10</th>\n",
       "      <td>a.pung. v</td>\n",
       "      <td>[['a.pung.', 'times-bold', 11.15, [40.54, 55.2, 77.49, 71.13]], ['v', 'times-bolditalic', 9.96, [79.45, 56.02, 85.71, 70.27]]]</td>\n",
       "      <td>[40.54, 55.2, 77.49, 71.13]</td>\n",
       "      <td>2</td>\n",
       "    </tr>\n",
       "    <tr>\n",
       "      <th>11</th>\n",
       "      <td>mengapung v 1 maapuang; marapuang: kayu == dl air kayu maapuang dl ala; 2 maawang (di udaro): awan putih == di udara tertiup an gin awan putiah maawang di udaro diambuih angin;</td>\n",
       "      <td>[['mengapung', 'times-bold', 11.21, [88.09, 54.7, 145.46, 70.63]], ['v', 'times-bolditalic', 10.26, [146.65, 55.81, 153.29, 70.06]], ['1', 'times-bold', 10.79, [156.0, 54.49, 161.23, 70.42]], ['maapuang;', 'times-bold', 10.79, [166.45, 54.49, 208.27, 70.42]], ['marapuang:', 'times-bold', 10.79, [218.71, 54.49, 260.53, 70.42]], ['kayu', 'times-bolditalic', 11.44, [273.6, 55.07, 293.39, 69.98]], ['==', 'times-bolditalic', 11.44, [298.34, 55.07, 303.29, 69.98]], ['dl', 'times-bolditalic', 11.44, [313.19, 55.07, 313.19, 69.98]], ['air', 'times-bolditalic', 11.44, [328.04, 55.07, 328.04, 69.98]], ['kayu', 'times-bold', 10.66, [346.55, 53.99, 369.91, 69.92]], ['maapuang', 'times-roman', 11.38, [60.25, 67.79, 104.41, 83.13]], ['dl', 'times-roman', 11.38, [109.93, 67.79, 115.45, 83.13]], ['ala;', 'times-bold', 11.09, [123.34, 67.44, 144.65, 83.37]], ['2', 'times-bold', 11.09, [149.97, 67.44, 149.98, 83.37]], ['maawang', 'times-bold', 11.09, [160.62, 67.44, 187.26, 83.37]], ['(di', 'times-roman', 11.27, [200.65, 67.34, 214.2, 82.68]], ['udaro):', 'times-roman', 11.27, [218.71, 67.34, 245.81, 82.68]], ['awan', 'times-italic', 11.84, [253.69, 68.26, 275.83, 82.3]], ['putih', 'times-italic', 11.84, [281.37, 68.26, 303.51, 82.3]], ['==', 'times-italic', 11.84, [314.58, 68.26, 314.58, 82.3]], ['di', 'times-italic', 11.84, [331.19, 68.26, 325.65, 82.3]], ['udara', 'times-italic', 11.84, [347.8, 68.26, 353.33, 82.3]], ['tertiup', 'times-italic', 11.09, [60.7, 81.71, 91.16, 95.75]], ['an', 'times-italic', 11.09, [95.51, 81.71, 99.86, 95.75]], ['gin', 'times-italic', 11.09, [108.56, 81.71, 112.91, 95.75]], ['awan', 'times-roman', 11.38, [122.9, 80.29, 142.9, 95.63]], ['putiah', 'times-roman', 11.38, [147.91, 80.29, 172.91, 95.63]], ['maawang', 'times-roman', 11.38, [182.92, 80.29, 207.92, 95.63]], ['di', 'times-roman', 11.38, [222.93, 80.29, 217.92, 95.63]], ['udaro', 'times-roman', 11.38, [237.93, 80.29, 242.93, 95.63]], ['diambuih', 'times-roman', 11.38, [267.94, 80.29, 282.94, 95.63]], ['angin;', 'times-roman', 11.38, [312.95, 80.29, 312.95, 95.63]]]</td>\n",
       "      <td>[88.09, 54.7, 145.46, 70.63]</td>\n",
       "      <td>2</td>\n",
       "    </tr>\n",
       "    <tr>\n",
       "      <th>12</th>\n",
       "      <td>terapung-apung v 1 taapuang-apuang di tangah lauik; 2 ki taka- tuang-katuang: sudah tiga tahun ia == di rantau orang alah tigo taun inyo takatuang-katuang di rantau urang</td>\n",
       "      <td>[['terapung-apung', 'times-bold', 11.21, [60.7, 93.6, 138.7, 109.53]], ['v', 'times-bolditalic', 9.71, [141.59, 94.67, 147.54, 108.92]], ['1', 'times-roman', 11.61, [151.9, 93.25, 156.8, 108.59]], ['taapuang-apuang', 'times-roman', 11.61, [161.71, 93.25, 230.37, 108.59]], ['di', 'times-roman', 11.61, [240.19, 93.25, 240.18, 108.59]], ['tangah', 'times-roman', 11.61, [254.9, 93.25, 269.61, 108.59]], ['lauik;', 'times-roman', 11.61, [289.23, 93.25, 299.04, 108.59]], ['2', 'times-roman', 11.61, [323.56, 93.25, 303.94, 108.59]], ['ki', 'times-italic', 10.79, [332.89, 93.96, 342.73, 108.0]], ['taka-', 'times-roman', 11.03, [346.1, 92.79, 367.25, 108.13]], ['tuang-katuang:', 'times-roman', 11.09, [60.7, 106.95, 127.53, 122.29]], ['sudah', 'times-italic', 11.5, [129.34, 107.87, 153.83, 121.92]], ['tiga', 'times-italic', 11.5, [158.73, 107.87, 173.42, 121.92]], ['tahun', 'times-italic', 11.5, [183.22, 107.87, 197.91, 121.92]], ['ia', 'times-italic', 11.5, [212.61, 107.87, 207.71, 121.92]], ['==', 'times-italic', 11.5, [227.3, 107.87, 217.51, 121.92]], ['di', 'times-italic', 11.5, [241.99, 107.87, 227.31, 121.92]], ['rantau', 'times-italic', 11.5, [256.68, 107.87, 256.7, 121.92]], ['orang', 'times-italic', 11.5, [290.97, 107.87, 281.19, 121.92]], ['alah', 'times-roman', 11.15, [308.39, 106.2, 325.98, 121.54]], ['tigo', 'times-roman', 11.15, [330.37, 106.2, 343.57, 121.54]], ['taun', 'times-roman', 11.15, [352.35, 106.2, 361.16, 121.54]], ['inyo', 'times-roman', 11.33, [60.95, 120.14, 79.7, 135.48]], ['takatuang-katuang', 'times-roman', 11.33, [84.39, 120.14, 159.39, 135.48]], ['di', 'times-roman', 11.33, [168.77, 120.14, 168.77, 135.48]], ['rantau', 'times-roman', 11.33, [182.83, 120.14, 196.9, 135.48]], ['urang', 'times-roman', 11.33, [215.64, 120.14, 220.34, 135.48]]]</td>\n",
       "      <td>[60.7, 93.6, 138.7, 109.53]</td>\n",
       "      <td>2</td>\n",
       "    </tr>\n",
       "    <tr>\n",
       "      <th>13</th>\n",
       "      <td>a.rah a 1 arah; tujuan: ia naik bus -- Bandung inyo naiak oto arah Bandung; 2 mukasuik: saya tidak tahu -- pembicaraanmu ambo indak tau mukasuik: saya tidak tahu -- pembicaraanmu ambo indak tau mukasuik kecek kau;</td>\n",
       "      <td>[['a.rah', 'times-bold', 11.09, [41.29, 142.1, 68.03, 158.03]], ['a', 'times-bolditalic', 11.9, [71.5, 143.13, 77.65, 158.04]], ['1', 'times-bolditalic', 11.9, [83.81, 143.13, 83.8, 158.04]], ['arah;', 'times-roman', 11.27, [93.84, 142.0, 116.25, 157.34]], ['tujuan:', 'times-roman', 11.27, [120.73, 142.0, 147.62, 157.34]], ['ia', 'times-italic', 11.84, [156.94, 143.37, 167.37, 157.41]], ['naik', 'times-italic', 11.84, [172.59, 143.37, 188.24, 157.41]], ['bus', 'times-italic', 11.84, [198.68, 143.37, 203.89, 157.41]], ['--', 'times-italic', 11.84, [219.55, 143.37, 214.32, 157.41]], ['Bandung', 'times-italic', 11.84, [235.2, 143.37, 250.84, 157.41]], ['inyo', 'times-roman', 11.73, [275.3, 141.75, 295.3, 157.09]], ['naiak', 'times-roman', 11.73, [300.3, 141.75, 320.3, 157.09]], ['oto', 'times-roman', 11.73, [330.3, 141.75, 335.3, 157.09]], ['arah', 'times-roman', 11.73, [350.3, 141.75, 355.3, 157.09]], ['Bandung;', 'times-roman', 11.5, [61.45, 155.2, 104.26, 170.54]], ['2', 'times-roman', 11.5, [109.61, 155.2, 109.61, 170.54]], ['mukasuik:', 'times-roman', 11.5, [120.31, 155.2, 157.77, 170.54]], ['saya', 'times-italic', 11.78, [173.3, 156.12, 194.47, 170.16]], ['tidak', 'times-italic', 11.78, [199.76, 156.12, 220.93, 170.16]], ['tahu', 'times-italic', 11.78, [231.51, 156.12, 242.1, 170.16]], ['--', 'times-italic', 11.78, [257.97, 156.12, 252.69, 170.16]], ['pembicaraanmu', 'times-italic', 11.78, [273.85, 156.12, 321.49, 170.16]], ['ambo', 'times-roman', 11.03, [344.39, 154.7, 370.54, 170.04]], ['indak', 'times-roman', 11.21, [61.45, 168.39, 85.49, 183.73]], ['tau', 'times-roman', 11.21, [90.29, 168.39, 99.91, 183.73]], ['mukasuik:', 'times-roman', 11.21, [109.52, 168.39, 143.18, 183.73]], ['saya', 'times-italic', 11.44, [155.5, 169.56, 175.46, 183.6]], ['tidak', 'times-italic', 11.44, [180.45, 169.56, 200.41, 183.6]], ['tahu', 'times-italic', 11.44, [210.39, 169.56, 220.37, 183.6]], ['--', 'times-italic', 11.44, [235.34, 169.56, 230.35, 183.6]], ['pembicaraanmu', 'times-italic', 11.44, [250.31, 169.56, 295.22, 183.6]], ['ambo', 'times-roman', 11.27, [316.1, 168.14, 337.93, 183.48]], ['indak', 'times-roman', 11.27, [343.39, 168.14, 365.22, 183.48]], ['tau', 'times-roman', 11.33, [61.2, 181.34, 75.99, 196.68]], ['mukasuik', 'times-roman', 11.33, [80.92, 181.34, 115.43, 196.68]], ['kecek', 'times-roman', 11.33, [125.29, 181.34, 140.08, 196.68]], ['kau;', 'times-roman', 11.33, [154.87, 181.34, 159.8, 196.68]]]</td>\n",
       "      <td>[41.29, 142.1, 68.03, 158.03]</td>\n",
       "      <td>2</td>\n",
       "    </tr>\n",
       "    <tr>\n",
       "      <th>14</th>\n",
       "      <td>pengarahan n bimbiangan; tuntunan; pangarahan: anak-anak dapat membutuhkan == dr orang tuanya anak-anak sangaik mamaraluan bimbingan urang tuonyo; arahan n arahan; bimbiangan; kepala kantor itu sedang memberikan = = kpd pegawainya kapalo kantua tu sadang maagiah bimbingan ka pagawainyo ar.ca n patuang dibuek dr batu bapaek manyarupoi urang atau binatang: == Budha patuang Budha a.re.na n galanggang: sudah turun ia ke -- alah turun inyo ka galanggang</td>\n",
       "      <td>[['pengarahan', 'times-bold', 11.15, [61.7, 194.39, 119.66, 210.32]], ['n', 'times-italic', 10.73, [121.45, 195.71, 128.95, 209.76]], ['bimbiangan;', 'times-roman', 11.27, [130.55, 194.29, 183.6, 209.63]], ['tuntunan;', 'times-roman', 11.27, [188.42, 194.29, 227.0, 209.63]], ['pangarahan:', 'times-roman', 11.27, [236.64, 194.29, 280.05, 209.63]], ['anak-anak', 'times-italic', 11.44, [293.3, 195.46, 341.11, 209.51]], ['dapat', 'times-italic', 11.44, [346.42, 195.46, 367.67, 209.51]], ['membutuhkan', 'times-italic', 11.56, [61.2, 208.42, 121.72, 222.47]], ['==', 'times-italic', 11.56, [127.22, 208.42, 132.72, 222.47]], ['dr', 'times-italic', 11.56, [143.72, 208.42, 143.72, 222.47]], ['orang', 'times-italic', 11.56, [160.22, 208.42, 171.23, 222.47]], ['tuanya', 'times-italic', 11.56, [193.23, 208.42, 204.24, 222.47]], ['anak-anak', 'times-roman', 11.33, [226.3, 207.25, 272.4, 222.59]], ['sangaik', 'times-roman', 11.33, [277.52, 207.25, 308.25, 222.59]], ['mamaraluan', 'times-roman', 11.33, [318.5, 207.25, 359.47, 222.59]], ['bimbingan', 'times-roman', 11.5, [61.45, 220.45, 108.07, 235.79]], ['urang', 'times-roman', 11.5, [113.25, 220.45, 133.97, 235.79]], ['tuonyo;', 'times-roman', 11.5, [144.33, 220.45, 170.23, 235.79]], ['arahan', 'times-roman', 11.84, [61.45, 233.39, 96.98, 248.73]], ['n', 'times-italic', 10.73, [98.4, 234.56, 105.9, 248.61]], ['arahan;', 'times-roman', 11.15, [107.29, 233.39, 140.92, 248.73]], ['bimbiangan;', 'times-roman', 11.15, [145.72, 233.39, 193.76, 248.73]], ['kepala', 'times-italic', 11.27, [200.65, 234.56, 229.72, 248.61]], ['kantor', 'times-italic', 11.27, [234.56, 234.56, 258.79, 248.61]], ['itu', 'times-italic', 11.27, [268.47, 234.56, 273.32, 248.61]], ['sedang', 'times-italic', 11.27, [287.85, 234.56, 302.39, 248.61]], ['memberikan', 'times-italic', 11.27, [321.76, 234.56, 350.84, 248.61]], ['=', 'times-italic', 11.15, [62.14, 248.01, 67.32, 262.06]], ['=', 'times-italic', 11.15, [72.5, 248.01, 72.5, 262.06]], ['kpd', 'times-italic', 11.15, [82.86, 248.01, 88.04, 262.06]], ['pegawainya', 'times-italic', 11.15, [103.58, 248.01, 139.85, 262.06]], ['kapalo', 'times-roman', 11.33, [155.05, 246.59, 184.33, 261.93]], ['kantua', 'times-roman', 11.33, [189.21, 246.59, 213.61, 261.93]], ['tu', 'times-roman', 11.33, [223.37, 246.59, 223.37, 261.93]], ['sadang', 'times-roman', 11.33, [238.01, 246.59, 252.65, 261.93]], ['maagiah', 'times-roman', 11.33, [272.17, 246.59, 286.81, 261.93]], ['bimbingan', 'times-roman', 11.33, [311.21, 246.59, 330.73, 261.93]], ['ka', 'times-roman', 11.33, [360.01, 246.59, 340.49, 261.93]], ['pagawainyo', 'times-roman', 11.21, [61.45, 259.79, 116.97, 275.13]], ['ar.ca', 'times-roman', 11.61, [41.75, 281.39, 67.15, 296.73]], ['n', 'times-italic', 10.48, [69.34, 282.56, 76.5, 296.61]], ['patuang', 'times-roman', 11.44, [78.5, 281.39, 112.79, 296.73]], ['dibuek', 'times-roman', 11.44, [137.28, 281.39, 156.87, 296.73]], ['dr', 'times-roman', 11.44, [171.57, 281.39, 166.67, 296.73]], ['batu', 'times-roman', 11.44, [186.26, 281.39, 186.26, 296.73]], ['bapaek', 'times-roman', 11.44, [230.34, 281.39, 230.34, 296.73]], ['manyarupoi', 'times-roman', 11.44, [264.63, 281.39, 279.32, 296.73]], ['urang', 'times-roman', 11.44, [318.51, 281.39, 303.81, 296.73]], ['atau', 'times-roman', 11.44, [347.9, 281.39, 323.4, 296.73]], ['binatang:', 'times-roman', 11.03, [61.7, 294.39, 103.72, 309.73]], ['==', 'times-italic', 11.5, [107.29, 295.56, 120.12, 309.61]], ['Budha', 'times-italic', 11.5, [126.53, 295.56, 152.18, 309.61]], ['patuang', 'times-roman', 11.33, [157.44, 294.39, 195.14, 309.73]], ['Budha', 'times-roman', 11.33, [200.53, 294.39, 222.07, 309.73]], ['a.re.na', 'times-roman', 11.56, [41.75, 316.2, 73.66, 331.54]], ['n', 'times-italic', 10.48, [113.5, 317.17, 120.66, 331.22]], ['galanggang:', 'times-roman', 11.09, [123.34, 315.75, 178.29, 331.09]], ['sudah', 'times-italic', 11.84, [181.9, 316.92, 206.68, 330.97]], ['turun', 'times-italic', 11.84, [211.64, 316.92, 231.46, 330.97]], ['ia', 'times-italic', 11.84, [241.38, 316.92, 241.37, 330.97]], ['ke', 'times-italic', 11.84, [256.25, 316.92, 251.28, 330.97]], ['--', 'times-italic', 11.84, [271.12, 316.92, 261.19, 330.97]], ['alah', 'times-italic', 11.84, [285.99, 316.92, 281.02, 330.97]], ['turun', 'times-roman', 11.56, [305.75, 315.5, 330.69, 330.84]], ['inyo', 'times-roman', 11.56, [335.68, 315.5, 350.64, 330.84]], ['ka', 'times-roman', 11.56, [360.62, 315.5, 360.62, 330.84]], ['galanggang', 'times-roman', 11.21, [61.7, 328.7, 114.8, 344.04]]]</td>\n",
       "      <td>[61.7, 194.39, 119.66, 210.32]</td>\n",
       "      <td>2</td>\n",
       "    </tr>\n",
       "    <tr>\n",
       "      <th>15</th>\n",
       "      <td>ar.go.me.ter n alaik dipasang di oto (taksi) untuak manunjuakan banyak pitih aruih dibaia panumpang sasuai Jo jarak di tampuah: semua taksi di Jakarta mempunyai -- sado taksi ado di Jakarta punyo argometer</td>\n",
       "      <td>[['ar.go.me.ter', 'times-bold', 11.27, [41.75, 350.64, 101.83, 366.57]], ['n', 'times-italic', 10.73, [162.94, 351.96, 170.44, 366.01]], ['alaik', 'times-roman', 11.84, [174.25, 350.54, 198.67, 365.88]], ['dipasang', 'times-roman', 11.84, [223.09, 350.54, 252.39, 365.88]], ['di', 'times-roman', 11.84, [267.05, 350.54, 262.16, 365.88]], ['oto', 'times-roman', 11.84, [281.7, 350.54, 276.81, 365.88]], ['(taksi)', 'times-roman', 11.84, [301.24, 350.54, 311.0, 365.88]], ['untuak', 'times-roman', 11.84, [340.31, 350.54, 340.3, 365.88]], ['manunjuakan', 'times-roman', 11.61, [61.45, 363.0, 117.08, 378.34]], ['banyak', 'times-roman', 11.61, [122.14, 363.0, 147.43, 378.34]], ['pitih', 'times-roman', 11.61, [157.54, 363.0, 172.72, 378.34]], ['aruih', 'times-roman', 11.61, [208.12, 363.0, 213.18, 378.34]], ['dibaia', 'times-roman', 11.61, [238.47, 363.0, 243.53, 378.34]], ['panumpang', 'times-roman', 11.61, [273.87, 363.0, 289.05, 378.34]], ['sasuai', 'times-roman', 11.61, [324.45, 363.0, 319.4, 378.34]], ['Jo', 'times-roman', 11.61, [359.85, 363.0, 329.52, 378.34]], ['jarak', 'times-italic', 11.33, [60.7, 377.65, 86.3, 391.08]], ['di', 'times-italic', 11.33, [111.9, 377.65, 111.9, 391.08]], ['tampuah:', 'times-italic', 11.33, [127.26, 377.65, 152.86, 391.08]], ['semua', 'times-italic', 11.61, [168.69, 377.17, 193.91, 391.22]], ['taksi', 'times-italic', 11.61, [198.96, 377.17, 219.13, 391.22]], ['di', 'times-italic', 11.61, [229.23, 377.17, 229.22, 391.22]], ['Jakarta', 'times-italic', 11.61, [244.36, 377.17, 264.53, 391.22]], ['mempunyai', 'times-italic', 11.61, [284.72, 377.17, 309.93, 391.22]], ['--', 'times-italic', 11.61, [335.17, 377.17, 320.02, 391.22]], ['sado', 'times-roman', 10.97, [348.5, 376.0, 370.3, 391.34]], ['taksi', 'times-roman', 11.38, [61.7, 388.95, 85.21, 404.29]], ['ado', 'times-roman', 11.38, [108.73, 388.95, 113.43, 404.29]], ['di', 'times-roman', 11.38, [127.54, 388.95, 122.84, 404.29]], ['Jakarta', 'times-roman', 11.38, [141.65, 388.95, 155.76, 404.29]], ['punyo', 'times-roman', 11.38, [179.27, 388.95, 179.27, 404.29]], ['argometer', 'times-roman', 11.38, [207.49, 388.95, 221.59, 404.29]]]</td>\n",
       "      <td>[41.75, 350.64, 101.83, 366.57]</td>\n",
       "      <td>2</td>\n",
       "    </tr>\n",
       "    <tr>\n",
       "      <th>16</th>\n",
       "      <td>ar.gu .men n alasan dapek dipakai untuak mampakuaik atau manulak suatu pandapek: dia memang pandai beradu -- inyo io bana pandai baadu alasan</td>\n",
       "      <td>[['ar.gu', 'times-bold', 11.09, [41.75, 410.39, 65.81, 426.32]], ['.men', 'times-bold', 11.03, [66.7, 410.39, 91.38, 426.32]], ['n', 'times-italic', 10.48, [143.75, 411.71, 150.91, 425.76]], ['alasan', 'times-roman', 11.5, [154.09, 410.29, 184.75, 425.63]], ['dapek', 'times-roman', 11.5, [210.3, 410.29, 225.63, 425.63]], ['dipakai', 'times-roman', 11.5, [240.96, 410.29, 261.4, 425.63]], ['untuak', 'times-roman', 11.5, [281.84, 410.29, 292.06, 425.63]], ['mampakuaik', 'times-roman', 11.5, [317.61, 410.29, 343.16, 425.63]], ['atau', 'times-roman', 11.21, [61.89, 423.0, 81.14, 438.34]], ['manulak', 'times-roman', 11.21, [85.95, 423.0, 114.82, 438.34]], ['suatu', 'times-roman', 11.21, [124.44, 423.0, 138.88, 438.34]], ['pandapek:', 'times-roman', 11.21, [153.31, 423.0, 182.18, 438.34]], ['dia', 'times-italic', 11.38, [199.44, 424.42, 214.71, 438.47]], ['memang', 'times-italic', 11.38, [219.8, 424.42, 245.25, 438.47]], ['pandai', 'times-italic', 11.38, [255.43, 424.42, 275.79, 438.47]], ['beradu', 'times-italic', 11.38, [291.06, 424.42, 306.33, 438.47]], ['--', 'times-italic', 11.38, [326.69, 424.42, 316.51, 438.47]], ['inyo', 'times-roman', 11.21, [337.19, 423.0, 356.27, 438.34]], ['io', 'times-roman', 11.21, [361.04, 423.0, 365.81, 438.34]], ['bana', 'times-roman', 11.33, [61.7, 436.0, 81.11, 451.34]], ['pandai', 'times-roman', 11.33, [85.96, 436.0, 110.23, 451.34]], ['baadu', 'times-roman', 11.33, [119.93, 436.0, 134.49, 451.34]], ['alasan', 'times-roman', 11.33, [149.05, 436.0, 163.61, 451.34]]]</td>\n",
       "      <td>[41.75, 410.39, 65.81, 426.32]</td>\n",
       "      <td>2</td>\n",
       "    </tr>\n",
       "    <tr>\n",
       "      <th>17</th>\n",
       "      <td>ar.gu.men.ta.si n pambarian alasan untuak mampakuaik atau manulak suatu pandapek, pandirian, atau asia pamikiaran a.rif a arih; bijaksano; cadiak pandai: orang itu sangat -- urang tu sangaik bijaksano;</td>\n",
       "      <td>[['ar.gu.men.ta.si', 'times-bold', 11.15, [41.75, 457.69, 112.91, 473.62]], ['n', 'times-italic', 10.48, [181.9, 458.96, 189.06, 473.01]], ['pambarian', 'times-roman', 11.44, [192.0, 457.59, 239.04, 472.93]], ['alasan', 'times-roman', 11.44, [244.26, 457.59, 270.4, 472.93]], ['untuak', 'times-roman', 11.44, [280.85, 457.59, 301.76, 472.93]], ['mampakuaik', 'times-roman', 11.44, [317.44, 457.59, 354.02, 472.93]], ['atau', 'times-roman', 11.44, [61.89, 470.79, 80.9, 486.13]], ['manulak', 'times-roman', 11.44, [85.66, 470.79, 114.17, 486.13]], ['suatu', 'times-roman', 11.44, [123.69, 470.79, 137.94, 486.13]], ['pandapek,', 'times-roman', 11.44, [152.21, 470.79, 180.72, 486.13]], ['pandirian,', 'times-roman', 11.44, [199.74, 470.79, 228.25, 486.13]], ['atau', 'times-roman', 11.44, [252.02, 470.79, 247.26, 486.13]], ['asia', 'times-roman', 11.44, [275.79, 470.79, 266.27, 486.13]], ['pamikiaran', 'times-roman', 11.44, [299.56, 470.79, 313.8, 486.13]], ['a.rif', 'times-roman', 11.9, [41.75, 491.89, 64.98, 507.23]], ['a', 'times-italic', 11.61, [64.29, 493.31, 73.09, 507.36]], ['arih;', 'times-roman', 11.15, [72.7, 492.14, 94.49, 507.48]], ['bijaksano;', 'times-roman', 11.15, [98.85, 492.14, 138.07, 507.48]], ['cadiak', 'times-roman', 11.15, [146.79, 492.14, 164.22, 507.48]], ['pandai:', 'times-roman', 11.15, [177.3, 492.14, 194.73, 507.48]], ['orang', 'times-italic', 11.33, [210.0, 493.56, 232.83, 507.61]], ['itu', 'times-italic', 11.33, [237.4, 493.56, 246.53, 507.61]], ['sangat', 'times-italic', 11.33, [255.67, 493.56, 273.93, 507.61]], ['--', 'times-italic', 11.33, [287.63, 493.56, 283.06, 507.61]], ['urang', 'times-roman', 11.15, [295.69, 492.39, 318.87, 507.73]], ['tu', 'times-roman', 11.15, [323.5, 492.39, 328.14, 507.73]], ['sangaik', 'times-roman', 11.15, [337.41, 492.39, 360.58, 507.73]], ['bijaksano;', 'times-roman', 11.09, [61.7, 504.85, 108.34, 520.19]]]</td>\n",
       "      <td>[41.75, 457.69, 112.91, 473.62]</td>\n",
       "      <td>2</td>\n",
       "    </tr>\n",
       "    <tr>\n",
       "      <th>18</th>\n",
       "      <td>kearifan n kabijaksanoan; kacadiakpandaian: dia disegani karena ==nya inyo disagani urang km kabijaksanoannyo</td>\n",
       "      <td>[['kearifan', 'times-bold', 11.03, [61.45, 517.7, 102.3, 533.63]], ['n', 'times-italic', 10.66, [106.09, 519.21, 113.51, 533.26]], ['kabijaksanoan;', 'times-roman', 11.27, [116.65, 518.54, 183.99, 533.88]], ['kacadiakpandaian:', 'times-roman', 11.27, [188.8, 518.54, 265.75, 533.88]], ['dia', 'times-italic', 11.67, [275.5, 519.71, 290.83, 533.76]], ['disegani', 'times-italic', 11.67, [295.93, 519.71, 331.7, 533.76]], ['karena', 'times-italic', 11.67, [341.91, 519.71, 362.35, 533.76]], ['==nya', 'times-italic', 11.21, [60.95, 532.17, 94.21, 546.22]], ['inyo', 'times-roman', 11.38, [93.34, 531.25, 113.15, 546.59]], ['disagani', 'times-roman', 11.38, [118.1, 531.25, 152.77, 546.59]], ['urang', 'times-roman', 11.38, [162.67, 531.25, 177.53, 546.59]], ['km', 'times-roman', 11.38, [192.38, 531.25, 187.43, 546.59]], ['kabijaksanoannyo', 'times-roman', 11.38, [207.24, 531.25, 266.66, 546.59]]]</td>\n",
       "      <td>[61.45, 517.7, 102.3, 533.63]</td>\n",
       "      <td>2</td>\n",
       "    </tr>\n",
       "  </tbody>\n",
       "</table>\n",
       "</div>"
      ],
      "text/plain": [
       "                                                                                                                                                                                                                                                                                                                                                                                                                                                                                                                                                                                                                                                            Entri  \\\n",
       "0                                                                                                                                                                                                                                                                                                                                                                                                                                                                                                                                                                                                                                                              23   \n",
       "1                                                                                                                                                                                                                                                                                                                                                                                                                                                                                           anutan n 1 conto elok; ikutan; tuladan: guru hendaknya dapat menjadi -- murid-muridnya gum handaknyo dapek manjadi conto elok dek murik-muriknyo; 2 kayakinan diikuik   \n",
       "2                                                                                                                                                                                                                                                                                                                                                                                                                                                                                                                                                                                                                                                       a.nyam. v   \n",
       "3                                                                                                                                                                                                                                                                                                                                                                                                                                                                                                                                                                               menganyam v maanyam: dia pandai == daun kelapa inyo pandai maanyam daun karambia;   \n",
       "4                                                                                                                                                                                                                                                                                                                                                                                                                                                                                                                                                                                            anyaman n dianyam; anyaman = =nya rapi sekali anyamannyo rancak bana   \n",
       "5                                                                                                                                                                                                                                                                                                                                                                                                                                                                                                                      a.pa.bi.Ia p apobilo; bib: --Tuhan mengizinkan tahun depan saya in gin naik haji apobilo Tuhan maizinan, taun muko ambo taragak naiak haji   \n",
       "6                                                                                                                                                                                                                                                                                                                                                                                                                                                                                                                                               a.pa.la.gi p apolai; labiah-labiah lai: disuruh saja mau, -- diberi upah disuruah sajo amuah, apolai diagiah upah   \n",
       "7                                                                                                                                                                                                                                                                                                                                                                                                                                                                                                                              a.pa .tis a indak acuah; indak paduli: tidak baik bersikap -- terhadap lingkungan indak elok basikap indak acuah taadok lingkungan   \n",
       "8                                                                                                                                                                                                                                                                                                                                                                                                                                                                                                                                                   1 a.pel apel/ v wajik maikuti upacara rasmi (basipaik kamiliteran): --bendera wajik datang dl upacara bandera   \n",
       "9   ap.li.ka.si n 1 jaik aplikasi; jaik tempe: taplak meja itu diberi hiasan -- aleh meja tu diagiah iasan jaik tempe; 2 panggunaan; panerapan: apa yg disampaikan dl rapat perlu --nya apo disampaian dl rapek paralu aplikasinyo ap.re.sLa.si /apresiasi! n 1 kasadaran taadok nilai-nilai seni dan budayo; 2 panilaian (tau maaragoi) taadok sasuatu; 3 kanaikan nilai barang km arago pasanyo naiak atau parnintaan barang batambah Ap.ril n bulan kaampek tuan Masihi (tigo puluah an) ap.ri.o.ri adv anyo balandasan tiori indak mancaliak dan manyali- diaki kaadaan sabananyo; apriori: kita tidak boleh bersikap -- awak indak buliah basikap apriori 24   \n",
       "10                                                                                                                                                                                                                                                                                                                                                                                                                                                                                                                                                                                                                                                      a.pung. v   \n",
       "11                                                                                                                                                                                                                                                                                                                                                                                                                                                                               mengapung v 1 maapuang; marapuang: kayu == dl air kayu maapuang dl ala; 2 maawang (di udaro): awan putih == di udara tertiup an gin awan putiah maawang di udaro diambuih angin;   \n",
       "12                                                                                                                                                                                                                                                                                                                                                                                                                                                                                     terapung-apung v 1 taapuang-apuang di tangah lauik; 2 ki taka- tuang-katuang: sudah tiga tahun ia == di rantau orang alah tigo taun inyo takatuang-katuang di rantau urang   \n",
       "13                                                                                                                                                                                                                                                                                                                                                                                                                                          a.rah a 1 arah; tujuan: ia naik bus -- Bandung inyo naiak oto arah Bandung; 2 mukasuik: saya tidak tahu -- pembicaraanmu ambo indak tau mukasuik: saya tidak tahu -- pembicaraanmu ambo indak tau mukasuik kecek kau;   \n",
       "14                                                                                                                                                                                           pengarahan n bimbiangan; tuntunan; pangarahan: anak-anak dapat membutuhkan == dr orang tuanya anak-anak sangaik mamaraluan bimbingan urang tuonyo; arahan n arahan; bimbiangan; kepala kantor itu sedang memberikan = = kpd pegawainya kapalo kantua tu sadang maagiah bimbingan ka pagawainyo ar.ca n patuang dibuek dr batu bapaek manyarupoi urang atau binatang: == Budha patuang Budha a.re.na n galanggang: sudah turun ia ke -- alah turun inyo ka galanggang   \n",
       "15                                                                                                                                                                                                                                                                                                                                                                                                                                                  ar.go.me.ter n alaik dipasang di oto (taksi) untuak manunjuakan banyak pitih aruih dibaia panumpang sasuai Jo jarak di tampuah: semua taksi di Jakarta mempunyai -- sado taksi ado di Jakarta punyo argometer   \n",
       "16                                                                                                                                                                                                                                                                                                                                                                                                                                                                                                                  ar.gu .men n alasan dapek dipakai untuak mampakuaik atau manulak suatu pandapek: dia memang pandai beradu -- inyo io bana pandai baadu alasan   \n",
       "17                                                                                                                                                                                                                                                                                                                                                                                                                                                      ar.gu.men.ta.si n pambarian alasan untuak mampakuaik atau manulak suatu pandapek, pandirian, atau asia pamikiaran a.rif a arih; bijaksano; cadiak pandai: orang itu sangat -- urang tu sangaik bijaksano;   \n",
       "18                                                                                                                                                                                                                                                                                                                                                                                                                                                                                                                                                  kearifan n kabijaksanoan; kacadiakpandaian: dia disegani karena ==nya inyo disagani urang km kabijaksanoannyo   \n",
       "\n",
       "                                                                                                                                                                                                                                                                                                                                                                                                                                                                                                                                                                                                                                                                                                                                                                                                                                                                                                                                                                                                                                                                                                                                                                                                                                                                                                                                                                                                                                                                                                                                                                                                                                                                                                                                                                                                                                                                                                                                                                                                                                                                                                                                                                                                                                                                                                                                                                                                                                                                                                                                                                                                                                                                                                                                                                                                                                                                                                                                                                                                                                                                                                                                                                                                                                                                                                                                                                                                                                                                                                                                                                                                                                                                                                                                                                                                                                                                                                                                                                                                                                                                                                                                                                                                                                                                                                                                                                                                                                                                                                                                                                                                                                                                                                                                                                                                                                                                                                                                                                                                                                                                                                                                                                                                                                                                                                                                                                                                                                                                                                                                                                                                                                                                                                                                                                                                                                                                                                                                                                                                                                                                                                                                                                                                                                                                                                                                                                                                                                                                                                                                                                                                                                                                                                                                entry_font_size_pos  \\\n",
       "0                                                                                                                                                                                                                                                                                                                                                                                                                                                                                                                                                                                                                                                                                                                                                                                                                                                                                                                                                                                                                                                                                                                                                                                                                                                                                                                                                                                                                                                                                                                                                                                                                                                                                                                                                                                                                                                                                                                                                                                                                                                                                                                                                                                                                                                                                                                                                                                                                                                                                                                                                                                                                                                                                                                                                                                                                                                                                                                                                                                                                                                                                                                                                                                                                                                                                                                                                                                                                                                                                                                                                                                                                                                                                                                                                                                                                                                                                                                                                                                                                                                                                                                                                                                                                                                                                                                                                                                                                                                                                                                                                                                                                                                                                                                                                                                                                                                                                                                                                                                                                                                                                                                                                                                                                                                                                                                                                                                                                                                                                                                                                                                                                                                                                                                                                                                                                                                                                                                                                                                                                                                                                                                                                                                                                                                                                                                                                                                                                                                                                                                                                                                                                                                                                    [['23', 'times-roman', 10.97, [186.94, 29.39, 200.02, 44.73]]]   \n",
       "1                                                                                                                                                                                                                                                                                                                                                                                                                                                                                                                                                                                                                                                                                                                                                                                                                                                                                                                                                                                                                                                                                                                                                                                                                                                                                                                                                                                                                                                                                                                                                                                                                                                                                                                                                                                                                                                                                                                                                                                                                                                                                                                                                                                                                                                                                                                                                                                                                                                                                                                                                                                                                                                                                                                                                                                                                                                                                                                                                                                                                                                                                                                                                                                                                                                                                                                                                                                                                                                                                                                                                                                                                                                                                                                                                                                                                                                                                                                                                                                                                                                                                                                                                                                                                                                                                                                                                                                                                                                                                                                                                                                                                                                                                                                                                                                                                                                                                                                                                                                                                                                                                                               [['anutan', 'times-bold', 11.21, [30.5, 56.89, 66.02, 72.82]], ['n', 'times-bolditalic', 11.43, [69.84, 58.42, 76.0, 72.67]], ['1', 'times-bolditalic', 11.43, [82.17, 58.42, 82.16, 72.67]], ['conto', 'times-roman', 11.67, [92.15, 57.0, 116.05, 72.34]], ['elok;', 'times-roman', 11.67, [139.96, 57.0, 154.29, 72.34]], ['ikutan;', 'times-roman', 11.67, [168.65, 57.0, 187.76, 72.34]], ['tuladan:', 'times-roman', 11.67, [206.9, 57.0, 226.01, 72.34]], ['guru', 'times-italic', 11.73, [250.55, 58.92, 272.67, 72.97]], ['hendaknya', 'times-italic', 11.73, [278.21, 58.92, 322.45, 72.97]], ['dapat', 'times-italic', 11.73, [333.52, 58.92, 350.11, 72.97]], ['menjadi', 'times-italic', 11.44, [50.14, 71.17, 85.82, 85.22]], ['--', 'times-italic', 11.44, [90.92, 71.17, 96.01, 85.22]], ['murid-muridnya', 'times-italic', 11.44, [106.21, 71.17, 167.37, 85.22]], ['gum', 'times-roman', 11.56, [181.19, 70.45, 197.29, 85.79]], ['handaknyo', 'times-roman', 11.56, [202.66, 70.45, 245.59, 85.79]], ['dapek', 'times-roman', 11.56, [256.33, 70.45, 272.42, 85.79]], ['manjadi', 'times-roman', 11.56, [288.53, 70.45, 309.99, 85.79]], ['conto', 'times-roman', 11.56, [331.47, 70.45, 336.82, 85.79]], ['elok', 'times-roman', 11.38, [69.8, 82.95, 84.36, 98.29]], ['dek', 'times-roman', 11.38, [94.06, 82.95, 98.92, 98.29]], ['murik-muriknyo;', 'times-roman', 11.38, [113.47, 82.95, 171.7, 98.29]], ['2', 'times-roman', 11.38, [191.1, 82.95, 176.55, 98.29]], ['kayakinan', 'times-roman', 11.38, [200.8, 82.95, 220.22, 98.29]], ['diikuik', 'times-roman', 11.38, [268.73, 82.95, 268.74, 98.29]]]   \n",
       "2                                                                                                                                                                                                                                                                                                                                                                                                                                                                                                                                                                                                                                                                                                                                                                                                                                                                                                                                                                                                                                                                                                                                                                                                                                                                                                                                                                                                                                                                                                                                                                                                                                                                                                                                                                                                                                                                                                                                                                                                                                                                                                                                                                                                                                                                                                                                                                                                                                                                                                                                                                                                                                                                                                                                                                                                                                                                                                                                                                                                                                                                                                                                                                                                                                                                                                                                                                                                                                                                                                                                                                                                                                                                                                                                                                                                                                                                                                                                                                                                                                                                                                                                                                                                                                                                                                                                                                                                                                                                                                                                                                                                                                                                                                                                                                                                                                                                                                                                                                                                                                                                                                                                                                                                                                                                                                                                                                                                                                                                                                                                                                                                                                                                                                                                                                                                                                                                                                                                                                                                                                                                                                                                                                                                                                                                                                                                                                                                                                                                                                                                                                                                                    [['a.nyam.', 'times-bold', 11.21, [30.69, 104.89, 70.45, 120.82]], ['v', 'times-italic', 9.96, [72.7, 105.96, 78.69, 120.01]]]   \n",
       "3                                                                                                                                                                                                                                                                                                                                                                                                                                                                                                                                                                                                                                                                                                                                                                                                                                                                                                                                                                                                                                                                                                                                                                                                                                                                                                                                                                                                                                                                                                                                                                                                                                                                                                                                                                                                                                                                                                                                                                                                                                                                                                                                                                                                                                                                                                                                                                                                                                                                                                                                                                                                                                                                                                                                                                                                                                                                                                                                                                                                                                                                                                                                                                                                                                                                                                                                                                                                                                                                                                                                                                                                                                                                                                                                                                                                                                                                                                                                                                                                                                                                                                                                                                                                                                                                                                                                                                                                                                                                                                                                                                                                                                                                                                                                                                                                                                                                                                                                                                                                                                                                                                                                                                                                                                                                                                                                                                                                                                                                                                                                                                                                                                                                                                                                                                                                                                        [['menganyam', 'times-bold', 11.21, [82.09, 104.89, 141.87, 120.82]], ['v', 'times-italic', 10.22, [144.25, 105.96, 150.55, 120.01]], ['maanyam:', 'times-roman', 11.09, [153.34, 105.0, 200.57, 120.34]], ['dia', 'times-italic', 11.78, [203.75, 106.67, 220.16, 120.72]], ['pandai', 'times-italic', 11.78, [225.62, 106.67, 252.97, 120.72]], ['==', 'times-italic', 11.78, [263.9, 106.67, 263.91, 120.72]], ['daun', 'times-italic', 11.78, [280.31, 106.67, 285.78, 120.72]], ['kelapa', 'times-italic', 11.78, [307.65, 106.67, 318.59, 120.72]], ['inyo', 'times-roman', 11.03, [337.19, 105.75, 358.65, 121.09]], ['pandai', 'times-roman', 11.27, [50.64, 117.75, 81.47, 133.09]], ['maanyam', 'times-roman', 11.27, [86.61, 117.75, 117.44, 133.09]], ['daun', 'times-roman', 11.27, [127.72, 117.75, 137.99, 133.09]], ['karambia;', 'times-roman', 11.27, [153.41, 117.75, 184.23, 133.09]]]   \n",
       "4                                                                                                                                                                                                                                                                                                                                                                                                                                                                                                                                                                                                                                                                                                                                                                                                                                                                                                                                                                                                                                                                                                                                                                                                                                                                                                                                                                                                                                                                                                                                                                                                                                                                                                                                                                                                                                                                                                                                                                                                                                                                                                                                                                                                                                                                                                                                                                                                                                                                                                                                                                                                                                                                                                                                                                                                                                                                                                                                                                                                                                                                                                                                                                                                                                                                                                                                                                                                                                                                                                                                                                                                                                                                                                                                                                                                                                                                                                                                                                                                                                                                                                                                                                                                                                                                                                                                                                                                                                                                                                                                                                                                                                                                                                                                                                                                                                                                                                                                                                                                                                                                                                                                                                                                                                                                                                                                                                                                                                                                                                                                                                                                                                                                                                                                                                                                                                                                                                                                                                                     [['anyaman', 'times-bold', 11.15, [50.64, 130.55, 95.99, 146.48]], ['n', 'times-italic', 10.48, [98.15, 131.87, 105.31, 145.92]], ['dianyam;', 'times-roman', 11.33, [128.26, 130.45, 164.96, 145.79]], ['anyaman', 'times-roman', 11.33, [175.44, 130.45, 201.66, 145.79]], ['=', 'times-roman', 11.33, [217.38, 130.45, 206.9, 145.79]], ['=nya', 'times-italic', 11.5, [222.69, 132.12, 242.44, 146.17]], ['rapi', 'times-italic', 11.5, [247.37, 132.12, 262.19, 146.17]], ['sekali', 'times-italic', 11.5, [272.05, 132.12, 291.81, 146.17]], ['anyamannyo', 'times-roman', 11.15, [300.94, 131.39, 358.88, 146.73]], ['rancak', 'times-roman', 11.27, [50.89, 143.89, 81.32, 159.23]], ['bana', 'times-roman', 11.27, [86.39, 143.89, 101.61, 159.23]]]   \n",
       "5                                                                                                                                                                                                                                                                                                                                                                                                                                                                                                                                                                                                                                                                                                                                                                                                                                                                                                                                                                                                                                                                                                                                                                                                                                                                                                                                                                                                                                                                                                                                                                                                                                                                                                                                                                                                                                                                                                                                                                                                                                                                                                                                                                                                                                                                                                                                                                                                                                                                                                                                                                                                                                                                                                                                                                                                                                                                                                                                                                                                                                                                                                                                                                                                                                                                                                                                                                                                                                                                                                                                                                                                                                                                                                                                                                                                                                                                                                                                                                                                                                                                                                                                                                                                                                                                                                                                                                                                                                                                                                                                                                                                                                                                                                                                                                                                                                                                                                                                                                                                                                                                                                                                                                                                                           [['a.pa.bi.Ia', 'times-bold', 11.03, [30.69, 166.1, 75.96, 182.03]], ['p', 'times-roman', 11.67, [76.79, 166.0, 81.59, 181.34]], ['apobilo;', 'times-roman', 11.67, [86.4, 166.0, 120.02, 181.34]], ['bib:', 'times-roman', 11.67, [129.64, 166.0, 139.24, 181.34]], ['--Tuhan', 'times-italic', 11.27, [151.44, 167.62, 184.94, 181.67]], ['mengizinkan', 'times-italic', 11.27, [189.72, 167.62, 237.58, 181.67]], ['tahun', 'times-italic', 11.27, [247.14, 167.62, 261.51, 181.67]], ['depan', 'times-italic', 11.27, [275.85, 167.62, 285.44, 181.67]], ['saya', 'times-italic', 11.27, [304.56, 167.62, 304.58, 181.67]], ['in', 'times-italic', 11.27, [328.49, 167.62, 314.15, 181.67]], ['gin', 'times-italic', 11.27, [342.85, 167.62, 328.51, 181.67]], ['naik', 'times-italic', 11.56, [50.89, 180.81, 70.39, 194.86]], ['haji', 'times-italic', 11.56, [75.27, 180.81, 89.89, 194.86]], ['apobilo', 'times-roman', 11.5, [96.25, 179.64, 131.55, 194.98]], ['Tuhan', 'times-roman', 11.5, [136.59, 179.64, 156.76, 194.98]], ['maizinan,', 'times-roman', 11.5, [166.85, 179.64, 202.14, 194.98]], ['taun', 'times-roman', 11.5, [217.28, 179.64, 222.31, 194.98]], ['muko', 'times-roman', 11.5, [242.49, 179.64, 242.48, 194.98]], ['ambo', 'times-roman', 11.5, [267.7, 179.64, 262.65, 194.98]], ['taragak', 'times-roman', 11.5, [292.91, 179.64, 297.95, 194.98]], ['naiak', 'times-roman', 11.5, [333.25, 179.64, 323.16, 194.98]], ['haji', 'times-roman', 10.97, [50.64, 192.59, 68.95, 207.93]]]   \n",
       "6                                                                                                                                                                                                                                                                                                                                                                                                                                                                                                                                                                                                                                                                                                                                                                                                                                                                                                                                                                                                                                                                                                                                                                                                                                                                                                                                                                                                                                                                                                                                                                                                                                                                                                                                                                                                                                                                                                                                                                                                                                                                                                                                                                                                                                                                                                                                                                                                                                                                                                                                                                                                                                                                                                                                                                                                                                                                                                                                                                                                                                                                                                                                                                                                                                                                                                                                                                                                                                                                                                                                                                                                                                                                                                                                                                                                                                                                                                                                                                                                                                                                                                                                                                                                                                                                                                                                                                                                                                                                                                                                                                                                                                                                                                                                                                                                                                                                                                                                                                                                                                                                                                                                                                                                                                                                                                                                                                                                                                                                                                                                                            [['a.pa.la.gi', 'times-roman', 11.44, [30.94, 214.95, 73.59, 230.29]], ['p', 'times-roman', 11.44, [77.85, 214.95, 77.85, 230.29]], ['apolai;', 'times-roman', 11.44, [86.38, 214.95, 107.7, 230.29]], ['labiah-labiah', 'times-roman', 11.44, [120.5, 214.95, 163.14, 230.29]], ['lai:', 'times-roman', 11.44, [180.2, 214.95, 180.2, 230.29]], ['disuruh', 'times-italic', 11.78, [201.59, 216.56, 236.59, 230.61]], ['saja', 'times-italic', 11.78, [241.59, 216.56, 256.59, 230.61]], ['mau,', 'times-italic', 11.78, [266.59, 216.56, 276.59, 230.61]], ['--', 'times-italic', 11.78, [291.59, 216.56, 286.59, 230.61]], ['diberi', 'times-italic', 11.78, [306.59, 216.56, 316.59, 230.61]], ['upah', 'times-italic', 11.78, [341.59, 216.56, 336.59, 230.61]], ['disuruah', 'times-roman', 11.38, [50.89, 227.89, 88.76, 243.23]], ['sajo', 'times-roman', 11.38, [93.5, 227.89, 107.7, 243.23]], ['amuah,', 'times-roman', 11.38, [117.17, 227.89, 136.11, 243.23]], ['apolai', 'times-roman', 11.38, [150.31, 227.89, 164.52, 243.23]], ['diagiah', 'times-roman', 11.38, [183.45, 227.89, 197.66, 243.23]], ['upah', 'times-roman', 11.38, [221.32, 227.89, 216.6, 243.23]]]   \n",
       "7                                                                                                                                                                                                                                                                                                                                                                                                                                                                                                                                                                                                                                                                                                                                                                                                                                                                                                                                                                                                                                                                                                                                                                                                                                                                                                                                                                                                                                                                                                                                                                                                                                                                                                                                                                                                                                                                                                                                                                                                                                                                                                                                                                                                                                                                                                                                                                                                                                                                                                                                                                                                                                                                                                                                                                                                                                                                                                                                                                                                                                                                                                                                                                                                                                                                                                                                                                                                                                                                                                                                                                                                                                                                                                                                                                                                                                                                                                                                                                                                                                                                                                                                                                                                                                                                                                                                                                                                                                                                                                                                                                                                                                                                                                                                                                                                                                                                                                                                                                                                                                                                                                                                                                                                                                                                                                                                                             [['a.pa', 'times-roman', 11.61, [30.94, 250.2, 50.15, 265.54]], ['.tis', 'times-roman', 11.21, [51.1, 250.2, 66.89, 265.54]], ['a', 'times-italic', 11.56, [69.84, 251.37, 78.55, 265.42]], ['indak', 'times-roman', 11.5, [80.9, 250.0, 104.86, 265.34]], ['acuah;', 'times-roman', 11.5, [109.65, 250.0, 133.61, 265.34]], ['indak', 'times-roman', 11.5, [143.19, 250.0, 157.57, 265.34]], ['paduli:', 'times-roman', 11.5, [171.94, 250.0, 191.11, 265.34]], ['tidak', 'times-italic', 11.67, [210.0, 251.37, 234.25, 265.42]], ['baik', 'times-italic', 11.67, [239.1, 251.37, 253.65, 265.42]], ['bersikap', 'times-italic', 11.67, [263.35, 251.37, 292.45, 265.42]], ['--', 'times-italic', 11.67, [307.0, 251.37, 302.15, 265.42]], ['terhadap', 'times-italic', 11.67, [321.55, 251.37, 340.95, 265.42]], ['lingkungan', 'times-italic', 11.15, [51.1, 264.37, 102.45, 278.42]], ['indak', 'times-roman', 11.33, [104.4, 262.95, 128.18, 278.29]], ['elok', 'times-roman', 11.33, [132.94, 262.95, 147.21, 278.29]], ['basikap', 'times-roman', 11.33, [156.72, 262.95, 180.51, 278.29]], ['indak', 'times-roman', 11.33, [194.78, 262.95, 204.29, 278.29]], ['acuah', 'times-roman', 11.33, [223.32, 262.95, 228.07, 278.29]], ['taadok', 'times-roman', 11.33, [251.86, 262.95, 256.61, 278.29]], ['lingkungan', 'times-roman', 11.33, [285.16, 262.95, 304.18, 278.29]]]   \n",
       "8                                                                                                                                                                                                                                                                                                                                                                                                                                                                                                                                                                                                                                                                                                                                                                                                                                                                                                                                                                                                                                                                                                                                                                                                                                                                                                                                                                                                                                                                                                                                                                                                                                                                                                                                                                                                                                                                                                                                                                                                                                                                                                                                                                                                                                                                                                                                                                                                                                                                                                                                                                                                                                                                                                                                                                                                                                                                                                                                                                                                                                                                                                                                                                                                                                                                                                                                                                                                                                                                                                                                                                                                                                                                                                                                                                                                                                                                                                                                                                                                                                                                                                                                                                                                                                                                                                                                                                                                                                                                                                                                                                                                                                                                                                                                                                                                                                                                                                                                                                                                                                                                                                                                                                                                                                                                                                                                                                                                                                                                                                                                                                                                                                              [['1', 'times-roman', 5.28, [31.44, 290.77, 33.59, 299.44]], ['a.pel', 'times-roman', 11.44, [34.29, 285.5, 56.55, 300.84]], ['apel/', 'times-roman', 11.95, [61.0, 285.5, 83.26, 300.84]], ['v', 'times-italic', 9.62, [95.04, 334.67, 100.63, 348.72]], ['wajik', 'times-roman', 11.78, [104.65, 333.5, 129.44, 348.84]], ['maikuti', 'times-roman', 11.78, [134.4, 333.5, 164.15, 348.84]], ['upacara', 'times-roman', 11.78, [174.06, 333.5, 198.86, 348.84]], ['rasmi', 'times-roman', 11.78, [213.72, 333.5, 223.65, 348.84]], ['(basipaik', 'times-roman', 11.78, [243.47, 333.5, 268.27, 348.84]], ['kamiliteran):', 'times-roman', 11.78, [293.05, 333.5, 332.72, 348.84]], ['--bendera', 'times-italic', 11.33, [51.1, 347.62, 97.87, 361.67]], ['wajik', 'times-roman', 11.33, [98.65, 346.2, 122.38, 361.54]], ['datang', 'times-roman', 11.33, [127.13, 346.2, 150.86, 361.54]], ['dl', 'times-roman', 11.33, [160.35, 346.2, 160.35, 361.54]], ['upacara', 'times-roman', 11.33, [174.59, 346.2, 193.57, 361.54]], ['bandera', 'times-roman', 11.33, [212.56, 346.2, 226.79, 361.54]]]   \n",
       "9   [['ap.li.ka.si', 'times-bold', 11.09, [31.44, 368.64, 77.8, 384.57]], ['n', 'times-bolditalic', 10.72, [80.15, 369.96, 85.57, 384.21]], ['1', 'times-bolditalic', 10.72, [90.99, 369.96, 90.99, 384.21]], ['jaik', 'times-roman', 11.33, [97.9, 368.29, 115.25, 383.63]], ['aplikasi;', 'times-roman', 11.33, [119.59, 368.29, 154.29, 383.63]], ['jaik', 'times-roman', 11.33, [162.97, 368.29, 171.64, 383.63]], ['tempe:', 'times-roman', 11.33, [184.66, 368.29, 197.67, 383.63]], ['taplak', 'times-italic', 11.5, [214.09, 369.71, 240.98, 383.76]], ['meja', 'times-italic', 11.5, [245.47, 369.71, 258.91, 383.76]], ['itu', 'times-italic', 11.5, [267.88, 369.71, 272.36, 383.76]], ['diberi', 'times-italic', 11.5, [285.81, 369.71, 299.25, 383.76]], ['hiasan', 'times-italic', 11.5, [317.19, 369.71, 326.14, 383.76]], ['--', 'times-italic', 11.5, [348.57, 369.71, 335.1, 383.76]], ['aleh', 'times-roman', 11.21, [51.35, 381.75, 69.46, 397.09]], ['meja', 'times-roman', 11.21, [73.99, 381.75, 87.57, 397.09]], ['tu', 'times-roman', 11.21, [96.63, 381.75, 96.62, 397.09]], ['diagiah', 'times-roman', 11.21, [110.21, 381.75, 128.31, 397.09]], ['iasan', 'times-roman', 11.21, [146.43, 381.75, 150.95, 397.09]], ['jaik', 'times-roman', 11.21, [173.59, 381.75, 169.06, 397.09]], ['tempe;', 'times-roman', 11.21, [196.23, 381.75, 196.22, 397.09]], ['2', 'times-roman', 11.21, [227.92, 381.75, 200.75, 397.09]], ['panggunaan;', 'times-roman', 11.21, [236.97, 381.75, 250.55, 397.09]], ['panerapan:', 'times-roman', 11.21, [291.3, 381.75, 295.82, 397.09]], ['apa', 'times-italic', 11.56, [340.3, 383.17, 360.63, 397.22]], ['yg', 'times-italic', 11.61, [50.39, 395.62, 60.26, 409.67]], ['disampaikan', 'times-italic', 11.61, [65.19, 395.62, 114.53, 409.67]], ['dl', 'times-italic', 11.61, [124.39, 395.62, 124.4, 409.67]], ['rapat', 'times-italic', 11.61, [139.19, 395.62, 149.07, 409.67]], ['perlu', 'times-italic', 11.61, [168.79, 395.62, 173.74, 409.67]], ['--nya', 'times-italic', 11.61, [198.39, 395.62, 198.41, 409.67]], ['apo', 'times-roman', 11.5, [223.9, 394.7, 238.84, 410.04]], ['disampaian', 'times-roman', 11.5, [263.74, 394.7, 303.58, 410.04]], ['dl', 'times-roman', 11.5, [318.52, 394.7, 313.54, 410.04]], ['rapek', 'times-roman', 11.5, [333.46, 394.7, 338.44, 410.04]], ['paralu', 'times-roman', 11.27, [51.1, 407.39, 79.1, 422.73]], ['aplikasinyo', 'times-roman', 11.27, [83.77, 407.39, 130.44, 422.73]], ['ap.re.sLa.si', 'times-roman', 11.33, [31.69, 429.5, 85.59, 444.84]], ['/apresiasi!', 'times-roman', 11.27, [83.5, 430.0, 134.39, 445.34]], ['n', 'times-italic', 11.09, [136.09, 430.67, 141.44, 444.72]], ['1', 'times-italic', 11.09, [146.78, 430.67, 146.79, 444.72]], ['kasadaran', 'times-roman', 11.27, [153.84, 429.5, 194.31, 444.84]], ['taadok', 'times-roman', 11.27, [198.81, 429.5, 221.29, 444.84]], ['nilai-nilai', 'times-roman', 11.27, [230.29, 429.5, 270.76, 444.84]], ['seni', 'times-roman', 11.27, [284.25, 429.5, 288.75, 444.84]], ['dan', 'times-roman', 11.27, [306.73, 429.5, 302.24, 444.84]], ['budayo;', 'times-roman', 11.27, [324.72, 429.5, 333.72, 444.84]], ['2', 'times-roman', 11.44, [51.35, 442.95, 55.97, 458.29]], ['panilaian', 'times-roman', 11.44, [60.59, 442.95, 97.53, 458.29]], ['(tau', 'times-roman', 11.44, [106.77, 442.95, 116.0, 458.29]], ['maaragoi)', 'times-roman', 11.44, [129.86, 442.95, 157.56, 458.29]], ['taadok', 'times-roman', 11.44, [176.04, 442.95, 185.27, 458.29]], ['sasuatu;', 'times-roman', 11.44, [208.37, 442.95, 222.22, 458.29]], ['3', 'times-roman', 11.44, [249.93, 442.95, 226.84, 458.29]], ['kanaikan', 'times-roman', 11.44, [259.17, 442.95, 263.79, 458.29]], ['nilai', 'times-roman', 11.44, [300.73, 442.95, 286.88, 458.29]], ['barang', 'times-roman', 11.44, [328.44, 442.95, 314.59, 458.29]], ['km', 'times-roman', 11.38, [51.35, 455.64, 61.13, 470.98]], ['arago', 'times-roman', 11.38, [66.03, 455.64, 85.59, 470.98]], ['pasanyo', 'times-roman', 11.38, [95.38, 455.64, 119.83, 470.98]], ['naiak', 'times-roman', 11.38, [134.51, 455.64, 144.29, 470.98]], ['atau', 'times-roman', 11.38, [163.86, 455.64, 163.86, 470.98]], ['parnintaan', 'times-roman', 11.38, [188.32, 455.64, 212.78, 470.98]], ['barang', 'times-roman', 11.38, [242.13, 455.64, 242.13, 470.98]], ['batambah', 'times-roman', 11.38, [276.37, 455.64, 281.26, 470.98]], ['Ap.ril', 'times-roman', 11.44, [31.89, 478.0, 61.62, 493.34]], ['n', 'times-italic', 10.73, [63.6, 479.37, 71.1, 493.42]], ['bulan', 'times-roman', 11.38, [72.7, 478.0, 96.81, 493.34]], ['kaampek', 'times-roman', 11.38, [101.63, 478.0, 130.56, 493.34]], ['tuan', 'times-roman', 11.38, [140.21, 478.0, 149.85, 493.34]], ['Masihi', 'times-roman', 11.38, [164.32, 478.0, 178.78, 493.34]], ['(tigo', 'times-roman', 11.38, [198.07, 478.0, 202.89, 493.34]], ['puluah', 'times-roman', 11.38, [227.0, 478.0, 231.82, 493.34]], ['an)', 'times-roman', 11.38, [260.75, 478.0, 246.29, 493.34]], ['ap.ri.o.ri', 'times-roman', 11.61, [31.69, 500.54, 74.69, 515.88]], ['adv', 'times-italic', 11.03, [77.04, 501.46, 94.96, 515.51]], ['anyo', 'times-roman', 11.44, [97.7, 500.54, 116.74, 515.88]], ['balandasan', 'times-roman', 11.44, [121.5, 500.54, 164.34, 515.88]], ['tiori', 'times-roman', 11.44, [173.86, 500.54, 188.14, 515.88]], ['indak', 'times-roman', 11.44, [221.46, 500.54, 226.22, 515.88]], ['mancaliak', 'times-roman', 11.44, [250.02, 500.54, 269.06, 515.88]], ['dan', 'times-roman', 11.44, [297.62, 500.54, 283.34, 515.88]], ['manyali-', 'times-roman', 11.44, [316.66, 500.54, 321.42, 515.88]], ['diaki', 'times-roman', 11.44, [51.1, 514.0, 74.81, 529.34]], ['kaadaan', 'times-roman', 11.44, [79.56, 514.0, 108.01, 529.34]], ['sabananyo;', 'times-roman', 11.44, [136.47, 514.0, 169.67, 529.34]], ['apriori:', 'times-roman', 11.44, [188.64, 514.0, 207.61, 529.34]], ['kita', 'times-italic', 11.56, [230.9, 515.17, 248.87, 529.22]], ['tidak', 'times-italic', 11.56, [253.37, 515.17, 271.34, 529.22]], ['boleh', 'times-italic', 11.56, [280.33, 515.17, 293.81, 529.22]], ['bersikap', 'times-italic', 11.56, [307.29, 515.17, 329.76, 529.22]], ['--', 'times-italic', 11.56, [347.73, 515.17, 338.75, 529.22]], ['awak', 'times-roman', 11.33, [51.6, 526.69, 70.26, 542.03]], ['indak', 'times-roman', 11.33, [74.93, 526.69, 93.59, 542.03]], ['buliah', 'times-roman', 11.33, [102.92, 526.69, 121.58, 542.03]], ['basikap', 'times-roman', 11.33, [135.58, 526.69, 154.24, 542.03]], ['apriori', 'times-roman', 11.33, [172.91, 526.69, 186.9, 542.03]], ['24', 'times-roman', 10.85, [198.25, 30.6, 211.04, 45.94]]]   \n",
       "10                                                                                                                                                                                                                                                                                                                                                                                                                                                                                                                                                                                                                                                                                                                                                                                                                                                                                                                                                                                                                                                                                                                                                                                                                                                                                                                                                                                                                                                                                                                                                                                                                                                                                                                                                                                                                                                                                                                                                                                                                                                                                                                                                                                                                                                                                                                                                                                                                                                                                                                                                                                                                                                                                                                                                                                                                                                                                                                                                                                                                                                                                                                                                                                                                                                                                                                                                                                                                                                                                                                                                                                                                                                                                                                                                                                                                                                                                                                                                                                                                                                                                                                                                                                                                                                                                                                                                                                                                                                                                                                                                                                                                                                                                                                                                                                                                                                                                                                                                                                                                                                                                                                                                                                                                                                                                                                                                                                                                                                                                                                                                                                                                                                                                                                                                                                                                                                                                                                                                                                                                                                                                                                                                                                                                                                                                                                                                                                                                                                                                                                                                                                                                   [['a.pung.', 'times-bold', 11.15, [40.54, 55.2, 77.49, 71.13]], ['v', 'times-bolditalic', 9.96, [79.45, 56.02, 85.71, 70.27]]]   \n",
       "11                                                                                                                                                                                                                                                                                                                                                                                                                                                                                                                                                                                                                                                                                                                                                                                                                                                                                                                                                                                                                                                                                                                                                                                                                                                                                                                                                                                                                                                                                                                                                                                                                                                                                                                                                                                                                                                                                                                                                                                                                                                                                                                                                                                                                                                                                                                                                                                                                                                                                                                                                                                                                                                                                                                                                                                                                                                                                                                                                                                                                                                                                                                                                                                                                                                                                                                                                                                                                                                                                                                                                                                                                                                                                                                                                                                                                                                                                                                                                                                                                                                                                                                                                                                                                                                                                                                                                                                                                                                                                                                                                                                          [['mengapung', 'times-bold', 11.21, [88.09, 54.7, 145.46, 70.63]], ['v', 'times-bolditalic', 10.26, [146.65, 55.81, 153.29, 70.06]], ['1', 'times-bold', 10.79, [156.0, 54.49, 161.23, 70.42]], ['maapuang;', 'times-bold', 10.79, [166.45, 54.49, 208.27, 70.42]], ['marapuang:', 'times-bold', 10.79, [218.71, 54.49, 260.53, 70.42]], ['kayu', 'times-bolditalic', 11.44, [273.6, 55.07, 293.39, 69.98]], ['==', 'times-bolditalic', 11.44, [298.34, 55.07, 303.29, 69.98]], ['dl', 'times-bolditalic', 11.44, [313.19, 55.07, 313.19, 69.98]], ['air', 'times-bolditalic', 11.44, [328.04, 55.07, 328.04, 69.98]], ['kayu', 'times-bold', 10.66, [346.55, 53.99, 369.91, 69.92]], ['maapuang', 'times-roman', 11.38, [60.25, 67.79, 104.41, 83.13]], ['dl', 'times-roman', 11.38, [109.93, 67.79, 115.45, 83.13]], ['ala;', 'times-bold', 11.09, [123.34, 67.44, 144.65, 83.37]], ['2', 'times-bold', 11.09, [149.97, 67.44, 149.98, 83.37]], ['maawang', 'times-bold', 11.09, [160.62, 67.44, 187.26, 83.37]], ['(di', 'times-roman', 11.27, [200.65, 67.34, 214.2, 82.68]], ['udaro):', 'times-roman', 11.27, [218.71, 67.34, 245.81, 82.68]], ['awan', 'times-italic', 11.84, [253.69, 68.26, 275.83, 82.3]], ['putih', 'times-italic', 11.84, [281.37, 68.26, 303.51, 82.3]], ['==', 'times-italic', 11.84, [314.58, 68.26, 314.58, 82.3]], ['di', 'times-italic', 11.84, [331.19, 68.26, 325.65, 82.3]], ['udara', 'times-italic', 11.84, [347.8, 68.26, 353.33, 82.3]], ['tertiup', 'times-italic', 11.09, [60.7, 81.71, 91.16, 95.75]], ['an', 'times-italic', 11.09, [95.51, 81.71, 99.86, 95.75]], ['gin', 'times-italic', 11.09, [108.56, 81.71, 112.91, 95.75]], ['awan', 'times-roman', 11.38, [122.9, 80.29, 142.9, 95.63]], ['putiah', 'times-roman', 11.38, [147.91, 80.29, 172.91, 95.63]], ['maawang', 'times-roman', 11.38, [182.92, 80.29, 207.92, 95.63]], ['di', 'times-roman', 11.38, [222.93, 80.29, 217.92, 95.63]], ['udaro', 'times-roman', 11.38, [237.93, 80.29, 242.93, 95.63]], ['diambuih', 'times-roman', 11.38, [267.94, 80.29, 282.94, 95.63]], ['angin;', 'times-roman', 11.38, [312.95, 80.29, 312.95, 95.63]]]   \n",
       "12                                                                                                                                                                                                                                                                                                                                                                                                                                                                                                                                                                                                                                                                                                                                                                                                                                                                                                                                                                                                                                                                                                                                                                                                                                                                                                                                                                                                                                                                                                                                                                                                                                                                                                                                                                                                                                                                                                                                                                                                                                                                                                                                                                                                                                                                                                                                                                                                                                                                                                                                                                                                                                                                                                                                                                                                                                                                                                                                                                                                                                                                                                                                                                                                                                                                                                                                                                                                                                                                                                                                                                                                                                                                                                                                                                                                                                                                                                                                                                                                                                                                                                                                                                                                                                                                                                                                                                                                                                                                                                                                                                                                                                                                                                                                                                                                                                                                                  [['terapung-apung', 'times-bold', 11.21, [60.7, 93.6, 138.7, 109.53]], ['v', 'times-bolditalic', 9.71, [141.59, 94.67, 147.54, 108.92]], ['1', 'times-roman', 11.61, [151.9, 93.25, 156.8, 108.59]], ['taapuang-apuang', 'times-roman', 11.61, [161.71, 93.25, 230.37, 108.59]], ['di', 'times-roman', 11.61, [240.19, 93.25, 240.18, 108.59]], ['tangah', 'times-roman', 11.61, [254.9, 93.25, 269.61, 108.59]], ['lauik;', 'times-roman', 11.61, [289.23, 93.25, 299.04, 108.59]], ['2', 'times-roman', 11.61, [323.56, 93.25, 303.94, 108.59]], ['ki', 'times-italic', 10.79, [332.89, 93.96, 342.73, 108.0]], ['taka-', 'times-roman', 11.03, [346.1, 92.79, 367.25, 108.13]], ['tuang-katuang:', 'times-roman', 11.09, [60.7, 106.95, 127.53, 122.29]], ['sudah', 'times-italic', 11.5, [129.34, 107.87, 153.83, 121.92]], ['tiga', 'times-italic', 11.5, [158.73, 107.87, 173.42, 121.92]], ['tahun', 'times-italic', 11.5, [183.22, 107.87, 197.91, 121.92]], ['ia', 'times-italic', 11.5, [212.61, 107.87, 207.71, 121.92]], ['==', 'times-italic', 11.5, [227.3, 107.87, 217.51, 121.92]], ['di', 'times-italic', 11.5, [241.99, 107.87, 227.31, 121.92]], ['rantau', 'times-italic', 11.5, [256.68, 107.87, 256.7, 121.92]], ['orang', 'times-italic', 11.5, [290.97, 107.87, 281.19, 121.92]], ['alah', 'times-roman', 11.15, [308.39, 106.2, 325.98, 121.54]], ['tigo', 'times-roman', 11.15, [330.37, 106.2, 343.57, 121.54]], ['taun', 'times-roman', 11.15, [352.35, 106.2, 361.16, 121.54]], ['inyo', 'times-roman', 11.33, [60.95, 120.14, 79.7, 135.48]], ['takatuang-katuang', 'times-roman', 11.33, [84.39, 120.14, 159.39, 135.48]], ['di', 'times-roman', 11.33, [168.77, 120.14, 168.77, 135.48]], ['rantau', 'times-roman', 11.33, [182.83, 120.14, 196.9, 135.48]], ['urang', 'times-roman', 11.33, [215.64, 120.14, 220.34, 135.48]]]   \n",
       "13                                                                                                                                                                                                                                                                                                                                                                                                                                                                                                                                                                                                                                                                                                                                                                                                                                                                                                                                                                                                                                                                                                                                                                                                                                                                                                                                                                                                                                                                                                                                                                                                                                                                                                                                                                                                                                                                                                                                                                                                                                                                                                                                                                                                                                                                                                                                                                                                                                                                                                                                                                                                                                                                                                                                                                                                                                                                                                                                                                                                                                                                                                                                                                                                                                                                                                                                                                                                                                                                                                                                                                                                                                                                                                                                                                                                                                                                                                                                                                                                                                                                                                                                                                                                   [['a.rah', 'times-bold', 11.09, [41.29, 142.1, 68.03, 158.03]], ['a', 'times-bolditalic', 11.9, [71.5, 143.13, 77.65, 158.04]], ['1', 'times-bolditalic', 11.9, [83.81, 143.13, 83.8, 158.04]], ['arah;', 'times-roman', 11.27, [93.84, 142.0, 116.25, 157.34]], ['tujuan:', 'times-roman', 11.27, [120.73, 142.0, 147.62, 157.34]], ['ia', 'times-italic', 11.84, [156.94, 143.37, 167.37, 157.41]], ['naik', 'times-italic', 11.84, [172.59, 143.37, 188.24, 157.41]], ['bus', 'times-italic', 11.84, [198.68, 143.37, 203.89, 157.41]], ['--', 'times-italic', 11.84, [219.55, 143.37, 214.32, 157.41]], ['Bandung', 'times-italic', 11.84, [235.2, 143.37, 250.84, 157.41]], ['inyo', 'times-roman', 11.73, [275.3, 141.75, 295.3, 157.09]], ['naiak', 'times-roman', 11.73, [300.3, 141.75, 320.3, 157.09]], ['oto', 'times-roman', 11.73, [330.3, 141.75, 335.3, 157.09]], ['arah', 'times-roman', 11.73, [350.3, 141.75, 355.3, 157.09]], ['Bandung;', 'times-roman', 11.5, [61.45, 155.2, 104.26, 170.54]], ['2', 'times-roman', 11.5, [109.61, 155.2, 109.61, 170.54]], ['mukasuik:', 'times-roman', 11.5, [120.31, 155.2, 157.77, 170.54]], ['saya', 'times-italic', 11.78, [173.3, 156.12, 194.47, 170.16]], ['tidak', 'times-italic', 11.78, [199.76, 156.12, 220.93, 170.16]], ['tahu', 'times-italic', 11.78, [231.51, 156.12, 242.1, 170.16]], ['--', 'times-italic', 11.78, [257.97, 156.12, 252.69, 170.16]], ['pembicaraanmu', 'times-italic', 11.78, [273.85, 156.12, 321.49, 170.16]], ['ambo', 'times-roman', 11.03, [344.39, 154.7, 370.54, 170.04]], ['indak', 'times-roman', 11.21, [61.45, 168.39, 85.49, 183.73]], ['tau', 'times-roman', 11.21, [90.29, 168.39, 99.91, 183.73]], ['mukasuik:', 'times-roman', 11.21, [109.52, 168.39, 143.18, 183.73]], ['saya', 'times-italic', 11.44, [155.5, 169.56, 175.46, 183.6]], ['tidak', 'times-italic', 11.44, [180.45, 169.56, 200.41, 183.6]], ['tahu', 'times-italic', 11.44, [210.39, 169.56, 220.37, 183.6]], ['--', 'times-italic', 11.44, [235.34, 169.56, 230.35, 183.6]], ['pembicaraanmu', 'times-italic', 11.44, [250.31, 169.56, 295.22, 183.6]], ['ambo', 'times-roman', 11.27, [316.1, 168.14, 337.93, 183.48]], ['indak', 'times-roman', 11.27, [343.39, 168.14, 365.22, 183.48]], ['tau', 'times-roman', 11.33, [61.2, 181.34, 75.99, 196.68]], ['mukasuik', 'times-roman', 11.33, [80.92, 181.34, 115.43, 196.68]], ['kecek', 'times-roman', 11.33, [125.29, 181.34, 140.08, 196.68]], ['kau;', 'times-roman', 11.33, [154.87, 181.34, 159.8, 196.68]]]   \n",
       "14                                                                                                                                                                                                                                                                                                                                                                                                                                                                                                                                                                                                                                                                                                                                                                                                                                                                                                                                                                                                                                                                                                                                                                                                                                                                                                                                                                                                                                                                                                                                                                                                                                                                                                                                                                                                                                                                                                                                                                                                                                               [['pengarahan', 'times-bold', 11.15, [61.7, 194.39, 119.66, 210.32]], ['n', 'times-italic', 10.73, [121.45, 195.71, 128.95, 209.76]], ['bimbiangan;', 'times-roman', 11.27, [130.55, 194.29, 183.6, 209.63]], ['tuntunan;', 'times-roman', 11.27, [188.42, 194.29, 227.0, 209.63]], ['pangarahan:', 'times-roman', 11.27, [236.64, 194.29, 280.05, 209.63]], ['anak-anak', 'times-italic', 11.44, [293.3, 195.46, 341.11, 209.51]], ['dapat', 'times-italic', 11.44, [346.42, 195.46, 367.67, 209.51]], ['membutuhkan', 'times-italic', 11.56, [61.2, 208.42, 121.72, 222.47]], ['==', 'times-italic', 11.56, [127.22, 208.42, 132.72, 222.47]], ['dr', 'times-italic', 11.56, [143.72, 208.42, 143.72, 222.47]], ['orang', 'times-italic', 11.56, [160.22, 208.42, 171.23, 222.47]], ['tuanya', 'times-italic', 11.56, [193.23, 208.42, 204.24, 222.47]], ['anak-anak', 'times-roman', 11.33, [226.3, 207.25, 272.4, 222.59]], ['sangaik', 'times-roman', 11.33, [277.52, 207.25, 308.25, 222.59]], ['mamaraluan', 'times-roman', 11.33, [318.5, 207.25, 359.47, 222.59]], ['bimbingan', 'times-roman', 11.5, [61.45, 220.45, 108.07, 235.79]], ['urang', 'times-roman', 11.5, [113.25, 220.45, 133.97, 235.79]], ['tuonyo;', 'times-roman', 11.5, [144.33, 220.45, 170.23, 235.79]], ['arahan', 'times-roman', 11.84, [61.45, 233.39, 96.98, 248.73]], ['n', 'times-italic', 10.73, [98.4, 234.56, 105.9, 248.61]], ['arahan;', 'times-roman', 11.15, [107.29, 233.39, 140.92, 248.73]], ['bimbiangan;', 'times-roman', 11.15, [145.72, 233.39, 193.76, 248.73]], ['kepala', 'times-italic', 11.27, [200.65, 234.56, 229.72, 248.61]], ['kantor', 'times-italic', 11.27, [234.56, 234.56, 258.79, 248.61]], ['itu', 'times-italic', 11.27, [268.47, 234.56, 273.32, 248.61]], ['sedang', 'times-italic', 11.27, [287.85, 234.56, 302.39, 248.61]], ['memberikan', 'times-italic', 11.27, [321.76, 234.56, 350.84, 248.61]], ['=', 'times-italic', 11.15, [62.14, 248.01, 67.32, 262.06]], ['=', 'times-italic', 11.15, [72.5, 248.01, 72.5, 262.06]], ['kpd', 'times-italic', 11.15, [82.86, 248.01, 88.04, 262.06]], ['pegawainya', 'times-italic', 11.15, [103.58, 248.01, 139.85, 262.06]], ['kapalo', 'times-roman', 11.33, [155.05, 246.59, 184.33, 261.93]], ['kantua', 'times-roman', 11.33, [189.21, 246.59, 213.61, 261.93]], ['tu', 'times-roman', 11.33, [223.37, 246.59, 223.37, 261.93]], ['sadang', 'times-roman', 11.33, [238.01, 246.59, 252.65, 261.93]], ['maagiah', 'times-roman', 11.33, [272.17, 246.59, 286.81, 261.93]], ['bimbingan', 'times-roman', 11.33, [311.21, 246.59, 330.73, 261.93]], ['ka', 'times-roman', 11.33, [360.01, 246.59, 340.49, 261.93]], ['pagawainyo', 'times-roman', 11.21, [61.45, 259.79, 116.97, 275.13]], ['ar.ca', 'times-roman', 11.61, [41.75, 281.39, 67.15, 296.73]], ['n', 'times-italic', 10.48, [69.34, 282.56, 76.5, 296.61]], ['patuang', 'times-roman', 11.44, [78.5, 281.39, 112.79, 296.73]], ['dibuek', 'times-roman', 11.44, [137.28, 281.39, 156.87, 296.73]], ['dr', 'times-roman', 11.44, [171.57, 281.39, 166.67, 296.73]], ['batu', 'times-roman', 11.44, [186.26, 281.39, 186.26, 296.73]], ['bapaek', 'times-roman', 11.44, [230.34, 281.39, 230.34, 296.73]], ['manyarupoi', 'times-roman', 11.44, [264.63, 281.39, 279.32, 296.73]], ['urang', 'times-roman', 11.44, [318.51, 281.39, 303.81, 296.73]], ['atau', 'times-roman', 11.44, [347.9, 281.39, 323.4, 296.73]], ['binatang:', 'times-roman', 11.03, [61.7, 294.39, 103.72, 309.73]], ['==', 'times-italic', 11.5, [107.29, 295.56, 120.12, 309.61]], ['Budha', 'times-italic', 11.5, [126.53, 295.56, 152.18, 309.61]], ['patuang', 'times-roman', 11.33, [157.44, 294.39, 195.14, 309.73]], ['Budha', 'times-roman', 11.33, [200.53, 294.39, 222.07, 309.73]], ['a.re.na', 'times-roman', 11.56, [41.75, 316.2, 73.66, 331.54]], ['n', 'times-italic', 10.48, [113.5, 317.17, 120.66, 331.22]], ['galanggang:', 'times-roman', 11.09, [123.34, 315.75, 178.29, 331.09]], ['sudah', 'times-italic', 11.84, [181.9, 316.92, 206.68, 330.97]], ['turun', 'times-italic', 11.84, [211.64, 316.92, 231.46, 330.97]], ['ia', 'times-italic', 11.84, [241.38, 316.92, 241.37, 330.97]], ['ke', 'times-italic', 11.84, [256.25, 316.92, 251.28, 330.97]], ['--', 'times-italic', 11.84, [271.12, 316.92, 261.19, 330.97]], ['alah', 'times-italic', 11.84, [285.99, 316.92, 281.02, 330.97]], ['turun', 'times-roman', 11.56, [305.75, 315.5, 330.69, 330.84]], ['inyo', 'times-roman', 11.56, [335.68, 315.5, 350.64, 330.84]], ['ka', 'times-roman', 11.56, [360.62, 315.5, 360.62, 330.84]], ['galanggang', 'times-roman', 11.21, [61.7, 328.7, 114.8, 344.04]]]   \n",
       "15                                                                                                                                                                                                                                                                                                                                                                                                                                                                                                                                                                                                                                                                                                                                                                                                                                                                                                                                                                                                                                                                                                                                                                                                                                                                                                                                                                                                                                                                                                                                                                                                                                                                                                                                                                                                                                                                                                                                                                                                                                                                                                                                                                                                                                                                                                                                                                                                                                                                                                                                                                                                                                                                                                                                                                                                                                                                                                                                                                                                                                                                                                                                                                                                                                                                                                                                                                                                                                                                                                                                                                                                                                                                                                                                                                                                                                                                                                                                                                                                                                                                                                                                                                                                                                                                                                                                                                                                                                                                                                                    [['ar.go.me.ter', 'times-bold', 11.27, [41.75, 350.64, 101.83, 366.57]], ['n', 'times-italic', 10.73, [162.94, 351.96, 170.44, 366.01]], ['alaik', 'times-roman', 11.84, [174.25, 350.54, 198.67, 365.88]], ['dipasang', 'times-roman', 11.84, [223.09, 350.54, 252.39, 365.88]], ['di', 'times-roman', 11.84, [267.05, 350.54, 262.16, 365.88]], ['oto', 'times-roman', 11.84, [281.7, 350.54, 276.81, 365.88]], ['(taksi)', 'times-roman', 11.84, [301.24, 350.54, 311.0, 365.88]], ['untuak', 'times-roman', 11.84, [340.31, 350.54, 340.3, 365.88]], ['manunjuakan', 'times-roman', 11.61, [61.45, 363.0, 117.08, 378.34]], ['banyak', 'times-roman', 11.61, [122.14, 363.0, 147.43, 378.34]], ['pitih', 'times-roman', 11.61, [157.54, 363.0, 172.72, 378.34]], ['aruih', 'times-roman', 11.61, [208.12, 363.0, 213.18, 378.34]], ['dibaia', 'times-roman', 11.61, [238.47, 363.0, 243.53, 378.34]], ['panumpang', 'times-roman', 11.61, [273.87, 363.0, 289.05, 378.34]], ['sasuai', 'times-roman', 11.61, [324.45, 363.0, 319.4, 378.34]], ['Jo', 'times-roman', 11.61, [359.85, 363.0, 329.52, 378.34]], ['jarak', 'times-italic', 11.33, [60.7, 377.65, 86.3, 391.08]], ['di', 'times-italic', 11.33, [111.9, 377.65, 111.9, 391.08]], ['tampuah:', 'times-italic', 11.33, [127.26, 377.65, 152.86, 391.08]], ['semua', 'times-italic', 11.61, [168.69, 377.17, 193.91, 391.22]], ['taksi', 'times-italic', 11.61, [198.96, 377.17, 219.13, 391.22]], ['di', 'times-italic', 11.61, [229.23, 377.17, 229.22, 391.22]], ['Jakarta', 'times-italic', 11.61, [244.36, 377.17, 264.53, 391.22]], ['mempunyai', 'times-italic', 11.61, [284.72, 377.17, 309.93, 391.22]], ['--', 'times-italic', 11.61, [335.17, 377.17, 320.02, 391.22]], ['sado', 'times-roman', 10.97, [348.5, 376.0, 370.3, 391.34]], ['taksi', 'times-roman', 11.38, [61.7, 388.95, 85.21, 404.29]], ['ado', 'times-roman', 11.38, [108.73, 388.95, 113.43, 404.29]], ['di', 'times-roman', 11.38, [127.54, 388.95, 122.84, 404.29]], ['Jakarta', 'times-roman', 11.38, [141.65, 388.95, 155.76, 404.29]], ['punyo', 'times-roman', 11.38, [179.27, 388.95, 179.27, 404.29]], ['argometer', 'times-roman', 11.38, [207.49, 388.95, 221.59, 404.29]]]   \n",
       "16                                                                                                                                                                                                                                                                                                                                                                                                                                                                                                                                                                                                                                                                                                                                                                                                                                                                                                                                                                                                                                                                                                                                                                                                                                                                                                                                                                                                                                                                                                                                                                                                                                                                                                                                                                                                                                                                                                                                                                                                                                                                                                                                                                                                                                                                                                                                                                                                                                                                                                                                                                                                                                                                                                                                                                                                                                                                                                                                                                                                                                                                                                                                                                                                                                                                                                                                                                                                                                                                                                                                                                                                                                                                                                                                                                                                                                                                                                                                                                                                                                                                                                                                                                                                                                                                                                                                                                                                                                                                                                                                                                                                                                                                                                                                                                                                                                                                                                                                                                                                                                                                                                                                                                  [['ar.gu', 'times-bold', 11.09, [41.75, 410.39, 65.81, 426.32]], ['.men', 'times-bold', 11.03, [66.7, 410.39, 91.38, 426.32]], ['n', 'times-italic', 10.48, [143.75, 411.71, 150.91, 425.76]], ['alasan', 'times-roman', 11.5, [154.09, 410.29, 184.75, 425.63]], ['dapek', 'times-roman', 11.5, [210.3, 410.29, 225.63, 425.63]], ['dipakai', 'times-roman', 11.5, [240.96, 410.29, 261.4, 425.63]], ['untuak', 'times-roman', 11.5, [281.84, 410.29, 292.06, 425.63]], ['mampakuaik', 'times-roman', 11.5, [317.61, 410.29, 343.16, 425.63]], ['atau', 'times-roman', 11.21, [61.89, 423.0, 81.14, 438.34]], ['manulak', 'times-roman', 11.21, [85.95, 423.0, 114.82, 438.34]], ['suatu', 'times-roman', 11.21, [124.44, 423.0, 138.88, 438.34]], ['pandapek:', 'times-roman', 11.21, [153.31, 423.0, 182.18, 438.34]], ['dia', 'times-italic', 11.38, [199.44, 424.42, 214.71, 438.47]], ['memang', 'times-italic', 11.38, [219.8, 424.42, 245.25, 438.47]], ['pandai', 'times-italic', 11.38, [255.43, 424.42, 275.79, 438.47]], ['beradu', 'times-italic', 11.38, [291.06, 424.42, 306.33, 438.47]], ['--', 'times-italic', 11.38, [326.69, 424.42, 316.51, 438.47]], ['inyo', 'times-roman', 11.21, [337.19, 423.0, 356.27, 438.34]], ['io', 'times-roman', 11.21, [361.04, 423.0, 365.81, 438.34]], ['bana', 'times-roman', 11.33, [61.7, 436.0, 81.11, 451.34]], ['pandai', 'times-roman', 11.33, [85.96, 436.0, 110.23, 451.34]], ['baadu', 'times-roman', 11.33, [119.93, 436.0, 134.49, 451.34]], ['alasan', 'times-roman', 11.33, [149.05, 436.0, 163.61, 451.34]]]   \n",
       "17                                                                                                                                                                                                                                                                                                                                                                                                                                                                                                                                                                                                                                                                                                                                                                                                                                                                                                                                                                                                                                                                                                                                                                                                                                                                                                                                                                                                                                                                                                                                                                                                                                                                                                                                                                                                                                                                                                                                                                                                                                                                                                                                                                                                                                                                                                                                                                                                                                                                                                                                                                                                                                                                                                                                                                                                                                                                                                                                                                                                                                                                                                                                                                                                                                                                                                                                                                                                                                                                                                                                                                                                                                                                                                                                                                                                                                                                                                                                                                                                                                                                                                                                                                                                                                                                                                                                                                                                                                                                                                                                                                                                                                                                                                                                                                              [['ar.gu.men.ta.si', 'times-bold', 11.15, [41.75, 457.69, 112.91, 473.62]], ['n', 'times-italic', 10.48, [181.9, 458.96, 189.06, 473.01]], ['pambarian', 'times-roman', 11.44, [192.0, 457.59, 239.04, 472.93]], ['alasan', 'times-roman', 11.44, [244.26, 457.59, 270.4, 472.93]], ['untuak', 'times-roman', 11.44, [280.85, 457.59, 301.76, 472.93]], ['mampakuaik', 'times-roman', 11.44, [317.44, 457.59, 354.02, 472.93]], ['atau', 'times-roman', 11.44, [61.89, 470.79, 80.9, 486.13]], ['manulak', 'times-roman', 11.44, [85.66, 470.79, 114.17, 486.13]], ['suatu', 'times-roman', 11.44, [123.69, 470.79, 137.94, 486.13]], ['pandapek,', 'times-roman', 11.44, [152.21, 470.79, 180.72, 486.13]], ['pandirian,', 'times-roman', 11.44, [199.74, 470.79, 228.25, 486.13]], ['atau', 'times-roman', 11.44, [252.02, 470.79, 247.26, 486.13]], ['asia', 'times-roman', 11.44, [275.79, 470.79, 266.27, 486.13]], ['pamikiaran', 'times-roman', 11.44, [299.56, 470.79, 313.8, 486.13]], ['a.rif', 'times-roman', 11.9, [41.75, 491.89, 64.98, 507.23]], ['a', 'times-italic', 11.61, [64.29, 493.31, 73.09, 507.36]], ['arih;', 'times-roman', 11.15, [72.7, 492.14, 94.49, 507.48]], ['bijaksano;', 'times-roman', 11.15, [98.85, 492.14, 138.07, 507.48]], ['cadiak', 'times-roman', 11.15, [146.79, 492.14, 164.22, 507.48]], ['pandai:', 'times-roman', 11.15, [177.3, 492.14, 194.73, 507.48]], ['orang', 'times-italic', 11.33, [210.0, 493.56, 232.83, 507.61]], ['itu', 'times-italic', 11.33, [237.4, 493.56, 246.53, 507.61]], ['sangat', 'times-italic', 11.33, [255.67, 493.56, 273.93, 507.61]], ['--', 'times-italic', 11.33, [287.63, 493.56, 283.06, 507.61]], ['urang', 'times-roman', 11.15, [295.69, 492.39, 318.87, 507.73]], ['tu', 'times-roman', 11.15, [323.5, 492.39, 328.14, 507.73]], ['sangaik', 'times-roman', 11.15, [337.41, 492.39, 360.58, 507.73]], ['bijaksano;', 'times-roman', 11.09, [61.7, 504.85, 108.34, 520.19]]]   \n",
       "18                                                                                                                                                                                                                                                                                                                                                                                                                                                                                                                                                                                                                                                                                                                                                                                                                                                                                                                                                                                                                                                                                                                                                                                                                                                                                                                                                                                                                                                                                                                                                                                                                                                                                                                                                                                                                                                                                                                                                                                                                                                                                                                                                                                                                                                                                                                                                                                                                                                                                                                                                                                                                                                                                                                                                                                                                                                                                                                                                                                                                                                                                                                                                                                                                                                                                                                                                                                                                                                                                                                                                                                                                                                                                                                                                                                                                                                                                                                                                                                                                                                                                                                                                                                                                                                                                                                                                                                                                                                                                                                                                                                                                                                                                                                                                                                                                                                                                                                                                                                                                                                                                                                                                                                                                                                                                                                                                                                                                                                                                                                                                                                                                                                                                                                                                                                                                [['kearifan', 'times-bold', 11.03, [61.45, 517.7, 102.3, 533.63]], ['n', 'times-italic', 10.66, [106.09, 519.21, 113.51, 533.26]], ['kabijaksanoan;', 'times-roman', 11.27, [116.65, 518.54, 183.99, 533.88]], ['kacadiakpandaian:', 'times-roman', 11.27, [188.8, 518.54, 265.75, 533.88]], ['dia', 'times-italic', 11.67, [275.5, 519.71, 290.83, 533.76]], ['disegani', 'times-italic', 11.67, [295.93, 519.71, 331.7, 533.76]], ['karena', 'times-italic', 11.67, [341.91, 519.71, 362.35, 533.76]], ['==nya', 'times-italic', 11.21, [60.95, 532.17, 94.21, 546.22]], ['inyo', 'times-roman', 11.38, [93.34, 531.25, 113.15, 546.59]], ['disagani', 'times-roman', 11.38, [118.1, 531.25, 152.77, 546.59]], ['urang', 'times-roman', 11.38, [162.67, 531.25, 177.53, 546.59]], ['km', 'times-roman', 11.38, [192.38, 531.25, 187.43, 546.59]], ['kabijaksanoannyo', 'times-roman', 11.38, [207.24, 531.25, 266.66, 546.59]]]   \n",
       "\n",
       "                       posisi_entry    page  \n",
       "0    [186.94, 29.39, 200.02, 44.73]       1  \n",
       "1       [30.5, 56.89, 66.02, 72.82]       1  \n",
       "2    [30.69, 104.89, 70.45, 120.82]       1  \n",
       "3   [82.09, 104.89, 141.87, 120.82]       1  \n",
       "4    [50.64, 130.55, 95.99, 146.48]       1  \n",
       "5     [30.69, 166.1, 75.96, 182.03]       1  \n",
       "6    [30.94, 214.95, 73.59, 230.29]       1  \n",
       "7     [30.94, 250.2, 50.15, 265.54]       1  \n",
       "8    [31.44, 290.77, 33.59, 299.44]       1  \n",
       "9     [31.44, 368.64, 77.8, 384.57]  [1, 2]  \n",
       "10      [40.54, 55.2, 77.49, 71.13]       2  \n",
       "11     [88.09, 54.7, 145.46, 70.63]       2  \n",
       "12      [60.7, 93.6, 138.7, 109.53]       2  \n",
       "13    [41.29, 142.1, 68.03, 158.03]       2  \n",
       "14   [61.7, 194.39, 119.66, 210.32]       2  \n",
       "15  [41.75, 350.64, 101.83, 366.57]       2  \n",
       "16   [41.75, 410.39, 65.81, 426.32]       2  \n",
       "17  [41.75, 457.69, 112.91, 473.62]       2  \n",
       "18    [61.45, 517.7, 102.3, 533.63]       2  "
      ]
     },
     "metadata": {},
     "output_type": "display_data"
    }
   ],
   "source": [
    "# tampilkan seluruh baris dan seluruh nilai pada kolom\n",
    "pd.set_option('display.max_rows', None)\n",
    "pd.set_option('display.max_colwidth', None)\n",
    "\n",
    "display(kamus)\n",
    "\n",
    "# reset option\n",
    "pd.reset_option(\"display\")"
   ]
  },
  {
   "cell_type": "code",
   "execution_count": null,
   "id": "98f9c5ec",
   "metadata": {},
   "outputs": [],
   "source": []
  }
 ],
 "metadata": {
  "kernelspec": {
   "display_name": "Python 3 (ipykernel)",
   "language": "python",
   "name": "python3"
  },
  "language_info": {
   "codemirror_mode": {
    "name": "ipython",
    "version": 3
   },
   "file_extension": ".py",
   "mimetype": "text/x-python",
   "name": "python",
   "nbconvert_exporter": "python",
   "pygments_lexer": "ipython3",
   "version": "3.9.13"
  }
 },
 "nbformat": 4,
 "nbformat_minor": 5
}
